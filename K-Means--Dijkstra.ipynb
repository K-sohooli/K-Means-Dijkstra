{
  "cells": [
    {
      "cell_type": "markdown",
      "metadata": {
        "id": "E-3R8mc9Kub_"
      },
      "source": [
        "## Assignment 01 \n",
        "1. In order to print also the computational time for each important module (0.5/10)\n",
        "2. Use 3 and 5 clusters with 1000 points (2/10)\n",
        "3. Identify and solve the problems in the above implementation (check if it will pass naive tests) (1.5/10)\n",
        "4. Create a k-Means function (similar to the above) which takes as input the k number of clusters (you do not know beforehand the number of clusters), and the m number of random points (as above). The final print should be similar to the above. Check for 1000, 10000, 100000 points for 3, 50, 100 clusters (4/10)\n",
        "5. The above k-Means misses the termination step. As soon as all the points belong to a cluster and the centroids have been calculated, we can run a 2nd iteration to create better clusters using as initial centroids the final centroids of the 1st iteration. We can continue for as many iterations we want until a termination condition will be true (eg. the Euclidean distance of the centroids from the previous iteration to the centroids of the last iteration is less than a threshold). Write a k-Means algorithm including also the iteration step described above. (2/10)"
      ]
    },
    {
      "cell_type": "markdown",
      "metadata": {
        "id": "9XMtBxuLKucB"
      },
      "source": [
        "# K-Means assignment:\n",
        "###  Phases for implementation of K-Means algorithm are as follows:\n",
        "    * preparing pseudocodes \n",
        "    * implementation of them in python \n",
        "\n",
        "## Overview\n",
        "#### K-means algorithm categorizes the items into k groups. The criteria for similarity between points in each cluster is the euclidean distance, since the input data are coordinates in two dimensional space.\n",
        "#### There are three general steps in clustering using K-means algorithm as same as any other algorithm:\n",
        "    * Initialization: initializing k random centroids\n",
        "    * Main body: Group each data point with one of the centroids based on Euclidean distance and Recalculate the position of each centroid.(means of points in each cluster)\n",
        "    * Termination: it will stop iteration after doing a defined number of iteration\n",
        "    \n",
        "### Pseudocode for this algorithm is as follows: \n",
        "    \n",
        "    input: a list of points, k(number of clusters)\n",
        " \n",
        "    #### Initializing:\n",
        "    initialize k centroids randomly. Choose k points from list of points\n",
        "    remove centroids from the list of points\n",
        "    create k empty lists (to hold points for each cluster in a separate list)\n",
        "    \n",
        "    #### Iterations(main):\n",
        "    for a given number of iterations:\n",
        "        clearing all points from clusters\n",
        "        add centroids to the coresponding clusters\n",
        "        iterate through the points:\n",
        "            calculating distance from centroids \n",
        "            find the nearest centroid to the point\n",
        "            allocate the point to the coresponding cluster\n",
        "            update the centroid that a point added to its cluster\n",
        "        \n",
        "    output: K clusters of points, K centroids for each cluster         \n",
        "                        \n",
        "#### This assignment consists of different parts befor the last part which is definition of a function to get list of points and number of clusters and return the clusters as output automatically. The parts are comming in the folowing cells, but the first step for startig is importig required libraries and then define a function to create a list of points randomly.  \n",
        "  "
      ]
    },
    {
      "cell_type": "markdown",
      "metadata": {
        "id": "5JidlMhlKucC"
      },
      "source": [
        "### Import requiered libreries"
      ]
    },
    {
      "cell_type": "code",
      "execution_count": null,
      "metadata": {
        "id": "3PLtCYA8KucC"
      },
      "outputs": [],
      "source": [
        "import random\n",
        "random.seed(42)\n",
        "import time\n",
        "import numpy as np\n",
        "from scipy.spatial import distance\n",
        "from matplotlib import pyplot as plt"
      ]
    },
    {
      "cell_type": "markdown",
      "metadata": {
        "id": "oSxsRdlRKucD"
      },
      "source": [
        "### Function for creating a list of points randomly"
      ]
    },
    {
      "cell_type": "code",
      "execution_count": null,
      "metadata": {
        "id": "r0trHiE7KucD"
      },
      "outputs": [],
      "source": [
        "# k-Means (without functions)\n",
        "\"\"\"\n",
        "    INPUT:\n",
        "    * A list points_l of m [x,y] points; x,y are real numbers, m positive integer greater than 1;\n",
        "    * The number of clusters k; k is a positive integer; k >= 2\n",
        "    * The property (properties) that we use in order to check if a point belongs to a cluster \n",
        "      (by default we use the Euclidean distance.)\n",
        "    \n",
        "    OUTPUT:\n",
        "    *A list clusters_l which contains the k lists of the points which belong to the corresponding cluster.\n",
        "\"\"\"\n",
        "random.seed(42)\n",
        "# create random n points of [x,y]: points_l\n",
        "def rand_cluster(n,c,r):\n",
        "    from random import random\n",
        "    import math\n",
        "    \"\"\"\n",
        "        Returns n random points in disk of radius r centered at point c\n",
        "    \"\"\"\n",
        "    x,y = c\n",
        "    points = []\n",
        "    for i in range(n):\n",
        "        theta = 2*math.pi*random()\n",
        "        s = r*random()\n",
        "        points.append([round(x+s*math.cos(theta),2), round(y+s*math.sin(theta),2)])\n",
        "    return points"
      ]
    },
    {
      "cell_type": "markdown",
      "metadata": {
        "id": "rz5rnbQtKucE"
      },
      "source": [
        "### Question 1. In order to print also the computational time for each important module (0.5/10)\n",
        "     It is applied when it is applicable for all parts in codes. "
      ]
    },
    {
      "cell_type": "markdown",
      "metadata": {
        "id": "Ws3p7W5oKucE"
      },
      "source": [
        "### Question 2. Use 3 and 5 clusters with 1000 points (2/10)"
      ]
    },
    {
      "cell_type": "markdown",
      "metadata": {
        "id": "ZOKN3I8JKucE"
      },
      "source": [
        "### 3 clusters with 1000 points"
      ]
    },
    {
      "cell_type": "markdown",
      "metadata": {
        "id": "GUn1BJdsKucE"
      },
      "source": [
        "### 1. Initialization Step for 3 clusters"
      ]
    },
    {
      "cell_type": "code",
      "execution_count": null,
      "metadata": {
        "scrolled": true,
        "id": "nhDObU_pKucF",
        "outputId": "e43d24b8-b760-44fd-b8bd-99e690739adc"
      },
      "outputs": [
        {
          "name": "stdout",
          "output_type": "stream",
          "text": [
            "cls0_centroid: [-0.51, -0.6]\n",
            "999\n",
            "cls1_centroid: [0.13, -0.39]\n",
            "998\n",
            "cls2_centroid: [-1.36, 2.66]\n",
            "997\n",
            "clusters: [[-0.51, -0.6]][[0.13, -0.39]][[-1.36, 2.66]]\n"
          ]
        }
      ],
      "source": [
        "# create 1000 points stored in list th_points_l\n",
        "m = 1000\n",
        "points_l = rand_cluster(m,[0,0],3)\n",
        "\n",
        "k = 3 # number of clusters\n",
        "\n",
        "# create k empty lists (clusters)\n",
        "cluster0 = []\n",
        "cluster1 = []\n",
        "cluster2 = []\n",
        "\n",
        "# randomly choose from the points_l, k points as the initial centroids of the clusters\n",
        "# 1st centroid\n",
        "cls0_centroid = random.choice(points_l)\n",
        "print(\"cls0_centroid: \" + str(cls0_centroid))\n",
        "\n",
        "# remove this elmnt from the points_l\n",
        "points_l.remove(cls0_centroid)\n",
        "print(len(points_l)) #it should be m-1\n",
        "\n",
        "# 2nd centroid\n",
        "cls1_centroid = random.choice(points_l)\n",
        "print(\"cls1_centroid: \" + str(cls1_centroid))\n",
        "\n",
        "# remove this elmnt from the points_l\n",
        "points_l.remove(cls1_centroid)\n",
        "print(len(points_l)) #it should be m-2\n",
        "\n",
        "# 3rd centroid\n",
        "cls2_centroid = random.choice(points_l)\n",
        "print(\"cls2_centroid: \" + str(cls2_centroid))\n",
        "\n",
        "# remove this elmnt from the points_l\n",
        "points_l.remove(cls2_centroid)\n",
        "print(len(points_l)) #it should be m-3\n",
        "\n",
        "# update the cluster0, cluster1 and cluster2 with the centroids\n",
        "cluster0.append(cls0_centroid)\n",
        "cluster1.append(cls1_centroid)\n",
        "cluster2.append(cls2_centroid)\n",
        "\n",
        "print(\"clusters: \" + str(cluster0) + str(cluster1) + str(cluster2))\n"
      ]
    },
    {
      "cell_type": "markdown",
      "metadata": {
        "id": "z6PyG67lKucF"
      },
      "source": [
        "### 2. Iterative Step for 3 clusters"
      ]
    },
    {
      "cell_type": "code",
      "execution_count": null,
      "metadata": {
        "collapsed": true,
        "id": "Ra7PXyL3KucG",
        "outputId": "02c5f355-b8bb-424b-81d4-5b7423139849"
      },
      "outputs": [
        {
          "name": "stdout",
          "output_type": "stream",
          "text": [
            "Cluster0: [[-0.51, -0.6], [-0.17, -2.02], [0.72, -1.97], [1.04, -1.48], [0.89, -1.63], [1.28, -1.94], [1.18, -0.7], [0.33, -1.22], [0.13, -1.61], [1.8, -1.72], [2.05, -1.97], [-0.26, -2.0], [2.73, -0.54], [1.7, -0.34], [1.93, -1.8], [1.06, -1.83], [0.89, -1.51], [0.5, -2.61], [0.99, -2.45], [1.79, -1.85], [1.6, -0.19], [1.51, -1.06], [0.94, -2.05], [1.78, -1.34], [1.43, -1.8], [0.03, -2.5], [1.15, -0.31], [1.06, -1.46], [2.84, 0.18], [1.56, -0.23], [1.2, -1.24], [0.44, -1.82], [0.89, -1.48], [0.64, -1.52], [1.97, -0.15], [1.34, -0.72], [0.93, -0.94], [2.63, -1.43], [1.28, -1.35], [2.41, 0.14], [1.96, -0.27], [0.78, -2.1], [1.24, -2.53], [2.62, 0.42], [1.19, -0.42], [2.44, -0.78], [2.57, 0.05], [2.36, 0.22], [0.54, -2.54], [0.63, -1.54], [1.65, -2.42], [1.21, -2.09], [0.87, -0.58], [2.34, 0.87], [1.13, -1.46], [0.72, -1.82], [2.05, -0.42], [0.86, -0.35], [0.78, -1.85], [1.38, -0.47], [1.35, -2.28], [1.13, -2.02], [2.4, -0.52], [1.17, -1.18], [1.0, -1.83], [0.84, -1.42], [1.48, -1.0], [1.66, -0.12], [2.15, 0.9], [1.71, -1.43], [1.47, -0.24], [2.82, -0.36], [2.13, 0.96], [0.82, -1.08], [1.27, -1.72], [1.9, -0.33], [2.0, -1.56], [1.43, -0.51], [1.17, -0.18], [2.1, -0.85], [0.63, -2.08], [0.93, 0.11], [2.18, -0.97], [2.32, -0.68], [2.35, -1.18], [1.66, -2.11], [1.96, 0.14], [1.67, -1.29], [0.76, -2.03], [2.75, 1.16], [1.15, -0.05], [1.42, 0.52]]\n",
            "-\n",
            "Cluster1: [[0.13, -0.39], [-0.05, -0.06], [-0.08, 0.04], [0.59, 0.1], [0.97, -0.27], [-0.04, -0.13], [0.61, 0.34], [-0.3, 2.79], [1.04, 1.92], [1.92, -0.13], [-0.32, 0.74], [-0.53, 0.39], [0.12, 0.08], [1.59, -0.04], [2.16, 0.16], [-0.2, 1.91], [-0.57, 1.83], [0.97, 0.0], [2.07, 0.96], [-0.56, 0.3], [0.28, 0.89], [-1.44, 0.59], [-0.93, 1.5], [1.71, 0.82], [0.09, 0.39], [1.06, 0.74], [-0.83, 0.58], [0.49, 1.25], [0.0, 2.77], [-2.14, 2.04], [-1.22, 0.35], [1.64, 0.62], [1.58, 2.41], [-1.53, 0.85], [0.61, 2.06], [1.23, 0.61], [0.57, 0.28], [1.3, 1.03], [-0.74, 0.38], [2.36, 1.21], [-0.97, 2.52], [1.57, 2.3], [-1.38, 2.43], [-0.89, 0.23], [0.57, 0.09], [1.01, 0.82], [-0.06, 2.13], [-0.14, 0.16], [-0.99, 2.34], [-0.45, 1.14], [0.88, 0.9], [0.86, 0.0], [-2.67, 0.45], [1.33, 0.79], [0.02, 0.07], [0.71, 1.96], [1.0, 0.79], [-2.31, 0.65], [0.03, 1.91], [-0.13, 0.95], [0.24, 2.07], [-1.36, 0.89], [-2.38, 1.31], [-1.35, 1.81], [-1.96, 1.09], [0.12, 0.65], [-1.05, 1.75], [-0.37, 0.08], [-1.33, 1.05], [0.91, 1.04], [0.23, 0.95], [1.61, 0.2], [1.41, 1.43], [0.06, 0.05], [2.27, 1.77], [-0.31, 2.41], [-2.02, 0.86], [-1.79, 0.4], [-1.42, 2.23], [-2.27, 0.16], [-2.37, 0.14], [0.13, 0.34], [0.26, 0.6], [0.23, 0.64], [0.06, 0.14], [0.42, 0.15], [-2.42, 0.91], [0.17, 0.61], [0.1, 0.2], [-1.46, 0.74], [-0.24, 0.01], [-0.33, 0.67], [-1.92, 0.36], [-0.58, 0.82], [-1.0, 1.82], [-1.29, 2.61], [0.41, 1.0], [-1.94, 0.79], [-0.34, 0.08], [-0.39, 2.34], [-2.46, -0.12], [-0.93, 0.27], [1.47, 0.35], [-2.85, 0.55], [-0.69, 0.65], [1.55, 1.1], [-0.3, 1.08], [0.86, 1.08], [0.72, 1.11], [0.36, 1.1], [-2.71, 0.06], [-1.62, 0.63], [-0.63, 2.15], [-1.58, 1.77], [-1.94, 0.57], [0.03, 0.19], [-0.39, 1.16], [-0.5, 1.39], [0.9, 1.02], [-0.26, 0.15], [0.14, 0.34], [2.09, 0.96], [-0.0, 0.52], [0.07, 0.14], [1.17, 0.96], [1.59, 0.89], [-0.65, 0.21], [-0.25, 0.14], [-0.32, 0.33], [-0.18, 0.32], [-1.54, 1.69], [-0.06, 0.54], [-0.01, 0.02], [-0.35, 0.25], [-1.48, 1.58], [0.14, 0.08], [-0.77, 0.29], [-0.77, 0.36], [-0.03, 0.98], [0.51, 1.02], [0.05, 0.01], [0.05, 0.04], [-0.74, 0.57], [0.75, 1.33], [-2.63, 0.87], [1.21, 0.55], [1.43, 0.53], [0.11, 0.15], [-1.19, 1.78], [0.02, 1.31], [0.61, 0.94], [-0.95, 1.52], [0.26, 0.11], [-0.87, 1.51], [-0.7, 0.83], [2.24, 1.18], [-1.14, 0.47], [-0.8, 0.29], [-0.82, 0.2], [0.24, 1.33], [1.42, 0.49], [-0.06, 0.06], [-0.01, 0.0], [0.66, 0.56], [-2.09, 1.15], [0.02, 0.43], [0.07, 1.25], [-2.03, 0.46], [0.58, 0.16], [-2.95, -0.29], [-2.39, -0.29], [1.74, 0.96], [-1.85, 0.93], [-1.57, 1.82], [1.14, 1.42], [-1.59, 1.65], [-1.56, 1.16], [-0.06, 0.78], [-0.61, 2.68], [1.74, 1.07], [-0.11, 0.16], [1.52, 1.82], [-1.64, 1.77], [0.8, 0.48], [-2.28, -0.37], [-1.47, 2.18], [1.2, 2.64], [0.35, 0.13], [-0.94, 1.91], [-0.51, -0.01], [-1.66, 0.96], [-0.71, 2.78], [-1.35, 0.54], [-0.83, 1.99], [-0.59, 1.27], [0.71, 0.5], [0.03, 2.6], [-1.49, -0.14], [-0.09, 0.12], [-2.4, 1.11], [-0.8, 0.9], [-0.55, 2.92], [-0.14, -0.0], [-1.35, 0.23], [-0.87, 1.62], [-1.37, 1.49], [-2.86, 0.46], [-1.97, 1.24], [-0.9, 1.77], [1.27, 2.42], [0.46, 2.88], [0.56, 2.04], [-0.6, 0.08], [0.1, 2.01], [1.17, 0.4], [-2.34, 1.55], [0.9, 2.75], [-1.19, 0.9], [2.3, 1.84], [-0.57, 0.12], [-0.75, 0.2], [1.72, 1.04], [-0.33, 0.67], [0.68, 0.62], [0.31, 0.34], [-1.42, 0.83], [1.49, 0.8], [-1.72, -0.06], [-0.35, -0.04], [1.29, 0.83], [-1.37, -0.11], [-1.45, 1.44], [-2.15, -0.39], [-2.42, -0.49], [-0.45, 2.78], [-0.57, 0.41], [-0.39, 0.82]]\n",
            "-\n",
            "Cluster2: [[-1.36, 2.66], [-0.17, -2.02], [0.33, 1.74], [0.72, -1.97], [1.04, -1.48], [-2.84, -0.66], [0.89, -1.63], [-0.72, -0.82], [1.28, -1.94], [0.67, -0.66], [1.18, -0.7], [-0.73, -0.3], [0.33, -1.22], [-2.74, 0.82], [-0.54, -0.0], [0.13, -1.61], [1.8, -1.72], [2.05, -1.97], [-1.63, 0.26], [0.14, -0.16], [-2.32, 0.4], [-0.26, -2.0], [-0.14, -0.05], [2.73, -0.54], [-0.64, 0.06], [-2.02, -0.74], [1.7, -0.34], [-1.68, -1.14], [0.57, -0.47], [-0.43, -0.79], [1.93, -1.8], [1.06, -1.83], [-0.01, -0.02], [-1.46, -2.41], [-0.12, -0.6], [-2.71, 0.2], [-0.09, -1.65], [0.89, -1.51], [0.51, -0.37], [0.5, -2.61], [0.99, -2.45], [0.3, -0.74], [1.79, -1.85], [0.82, -0.17], [1.6, -0.19], [0.53, -0.1], [-1.21, -0.95], [-2.1, -0.52], [1.51, -1.06], [-0.79, -1.15], [0.94, -2.05], [0.13, -0.18], [-0.01, -0.01], [-0.15, -0.02], [-2.35, -1.61], [-0.29, -1.49], [1.78, -1.34], [-0.58, -0.59], [1.43, -1.8], [0.03, -2.5], [-1.38, -1.9], [0.57, -0.19], [-0.72, -2.19], [-0.0, -0.34], [1.15, -0.31], [-0.69, -1.75], [1.06, -1.46], [0.21, -1.02], [-1.02, -0.04], [-0.35, -1.26], [0.13, -0.23], [0.32, -0.44], [2.84, 0.18], [-0.33, -0.86], [-1.25, -0.25], [-0.24, -0.78], [1.56, -0.23], [-0.8, -0.18], [-0.12, -0.36], [1.2, -1.24], [0.53, -1.08], [0.36, -0.01], [0.17, -0.65], [-1.33, -1.26], [-0.73, -0.49], [-0.4, -1.3], [0.44, -1.82], [0.1, -0.19], [-0.01, -1.71], [-0.79, -1.95], [0.89, -1.48], [-0.38, -0.71], [-1.64, -0.97], [0.64, -1.52], [1.97, -0.15], [0.04, -0.61], [-0.56, -0.45], [-0.26, -0.09], [-0.32, -1.49], [0.73, -0.09], [1.34, -0.72], [-2.56, -1.56], [-1.01, -0.25], [-0.63, -0.31], [-0.07, -2.11], [-1.27, -2.11], [0.93, -0.94], [-0.21, -1.21], [-1.5, -2.07], [0.07, -0.08], [2.63, -1.43], [-0.93, -2.54], [-2.18, -0.96], [1.28, -1.35], [2.41, 0.14], [-0.82, -0.98], [-1.55, -0.75], [1.96, -0.27], [-0.88, -2.05], [-0.83, -0.66], [-0.95, -1.94], [-1.88, -1.96], [-2.83, -0.71], [0.37, -0.67], [0.78, -2.1], [0.41, -0.1], [-0.47, -2.9], [1.24, -2.53], [2.62, 0.42], [1.19, -0.42], [0.09, -0.03], [2.44, -0.78], [-2.82, -0.81], [-1.0, -1.64], [0.17, -0.71], [0.67, -0.72], [2.57, 0.05], [2.36, 0.22], [-0.04, -1.43], [0.54, -2.54], [0.18, -0.04], [-0.57, -1.35], [-1.1, -1.22], [-0.23, -0.18], [-1.35, -1.87], [0.14, -0.24], [0.63, -1.54], [0.0, -2.6], [-0.85, -0.62], [-0.37, -0.56], [1.65, -2.42], [-0.05, -0.06], [-0.02, -0.65], [-0.38, -0.72], [-0.07, -0.12], [0.9, 0.04], [1.21, -2.09], [-1.53, -0.79], [-1.84, -1.69], [0.41, -0.61], [0.87, -0.58], [0.28, -0.65], [-1.82, -1.37], [0.21, -1.47], [-1.84, -1.83], [2.34, 0.87], [1.13, -1.46], [-2.24, -0.8], [0.72, -1.82], [-0.32, -1.94], [2.05, -0.42], [0.86, -0.35], [0.78, -1.85], [-0.62, -1.45], [1.38, -0.47], [1.35, -2.28], [0.04, -0.39], [1.13, -2.02], [-0.91, -0.2], [0.56, -0.95], [2.4, -0.52], [1.17, -1.18], [0.51, -0.69], [0.37, -0.25], [-1.4, -1.92], [1.0, -1.83], [0.84, -1.42], [1.48, -1.0], [0.2, -0.03], [1.66, -0.12], [-1.94, -2.22], [0.25, -1.0], [0.3, -2.19], [-2.34, -0.7], [2.15, 0.9], [0.01, -0.57], [0.66, -0.74], [1.71, -1.43], [1.47, -0.24], [-1.97, -1.48], [0.72, -0.77], [2.82, -0.36], [2.13, 0.96], [-1.66, -0.74], [-0.13, -1.49], [0.82, -1.08], [1.27, -1.72], [0.41, -1.47], [1.9, -0.33], [2.0, -1.56], [-0.36, -0.12], [-1.17, -1.82], [-2.28, -0.96], [-1.09, -1.34], [-0.35, -0.82], [0.39, -0.06], [-0.83, -0.44], [1.43, -0.51], [-0.8, -1.16], [-0.21, -0.07], [1.17, -0.18], [2.1, -0.85], [-0.06, -0.9], [-2.08, -0.43], [0.63, -2.08], [-1.91, -1.01], [-1.28, -1.35], [-0.04, -0.09], [0.93, 0.11], [-0.02, -0.19], [0.3, -2.14], [-0.44, -0.37], [2.18, -0.97], [-0.51, -1.02], [2.32, -0.68], [-0.23, -1.01], [-0.14, -0.39], [0.0, -0.02], [0.22, -0.15], [-0.47, -2.77], [0.39, -0.36], [2.35, -1.18], [-1.43, -0.4], [0.43, -1.65], [1.66, -2.11], [0.07, -2.86], [1.96, 0.14], [1.67, -1.29], [0.77, -0.45], [-0.34, -0.56], [0.17, -0.18], [0.76, -2.03], [-0.05, -1.73], [2.75, 1.16], [0.09, -0.04], [0.29, -2.92], [1.15, -0.05], [-0.59, -0.86], [0.89, 0.13], [0.46, -1.17], [0.62, 0.06], [-1.72, -1.22], [1.42, 0.52], [-0.11, -0.95]]\n",
            "-\n",
            "cls0_centroid: [ 1.4        -1.06923913]\n",
            "-\n",
            "cls1_centroid: [-0.26873418  0.89160338]\n",
            "-\n",
            "cls1_centroid: [ 0.14401515 -0.91090909]\n",
            "-\n",
            "number of points in cluster0: 92\n",
            "-\n",
            "number of points in cluster1: 237\n",
            "-\n",
            "number of points in cluster2: 264\n",
            "Time for clustering:  0.09456419944763184\n"
          ]
        }
      ],
      "source": [
        "st = time.time()\n",
        "\n",
        "for point in points_l:\n",
        "    if points_l==[]: # Termination Check: if there is no point in points_l, print the clusters, their centroids and the number of elements of them \n",
        "        print(\"Final Clusters: \"  + str(cluster0) + str(cluster1) + str(cluster2))\n",
        "        print(\"cls0_centroid: \" + str(cls0_centroid))\n",
        "        print(\"cls1_centroid: \" + str(cls1_centroid))\n",
        "        print(\"cls2_centroid: \" + str(cls2_centroid))\n",
        "        print(\"number of points in cluster0: \" + str(len(cluster0)))\n",
        "        print(\"number of points in cluster1: \" + str(len(cluster1)))\n",
        "        print(\"number of points in cluster2: \" + str(len(cluster2)))\n",
        "    # compute point distance from the centroid of each cluster\n",
        "    else:\n",
        "        list_d=[]\n",
        "        d0 = distance.euclidean(point, cls0_centroid)\n",
        "        list_d.append(d0)\n",
        "        d1 = distance.euclidean(point, cls1_centroid)\n",
        "        list_d.append(d1)\n",
        "        d2 = distance.euclidean(point, cls2_centroid)\n",
        "        list_d.append(d2)\n",
        "        \n",
        "        #  append the point to the cluster that the point has minimum distance with its centroid\n",
        "        if sorted(list_d)[0]==d0: \n",
        "            cluster0.append(point)\n",
        "        if sorted(list_d)[0]==d1: \n",
        "            cluster1.append(point)\n",
        "        else: \n",
        "            cluster2.append(point)\n",
        "        # remove the point from the points_l\n",
        "        points_l.remove(point)\n",
        "        # compute the new centroids for each cluster\n",
        "        cls0_centroid = np.average(cluster0, axis=0)\n",
        "        cls1_centroid = np.average(cluster1, axis=0)\n",
        "        cls2_centroid = np.average(cluster2, axis=0)\n",
        "et = time.time()\n",
        "time1 = et - st\n",
        "print(\"Cluster0: \" + str(cluster0))\n",
        "print(\"-\")\n",
        "print(\"Cluster1: \" + str(cluster1))\n",
        "print(\"-\")\n",
        "print(\"Cluster2: \" + str(cluster2))\n",
        "print(\"-\")\n",
        "print(\"cls0_centroid: \" + str(cls0_centroid))\n",
        "print(\"-\")\n",
        "print(\"cls1_centroid: \" + str(cls1_centroid))\n",
        "print(\"-\")\n",
        "print(\"cls2_centroid: \" + str(cls2_centroid))\n",
        "print(\"-\")\n",
        "print(\"number of points in cluster0: \" + str(len(cluster0)))\n",
        "print(\"-\")\n",
        "print(\"number of points in cluster1: \" + str(len(cluster1)))\n",
        "print(\"-\")\n",
        "print(\"number of points in cluster2: \" + str(len(cluster2)))\n",
        "print('Time for clustering: ',time1 )\n",
        "\n"
      ]
    },
    {
      "cell_type": "markdown",
      "metadata": {
        "id": "pUVg-dcbKucG"
      },
      "source": [
        "### 5 clusters with 1000 points"
      ]
    },
    {
      "cell_type": "markdown",
      "metadata": {
        "id": "CW-Mtub3KucH"
      },
      "source": [
        "### 1. Initialization Step for 5 clusters"
      ]
    },
    {
      "cell_type": "code",
      "execution_count": null,
      "metadata": {
        "scrolled": false,
        "id": "g3YZMhd1KucH",
        "outputId": "235f0ac0-da3f-44db-e239-de8b3546ffd8"
      },
      "outputs": [
        {
          "name": "stdout",
          "output_type": "stream",
          "text": [
            "cls0_centroid: [-0.7, 0.83]\n",
            "497\n",
            "cls1_centroid: [-1.79, 0.4]\n",
            "496\n",
            "cls2_centroid: [-1.49, -0.14]\n",
            "495\n",
            "cls3_centroid: [1.62, 2.16]\n",
            "494\n",
            "cls4_centroid: [0.32, -0.44]\n",
            "493\n",
            "clusters: [[-0.7, 0.83]][[-1.79, 0.4]][[-1.49, -0.14]][[1.62, 2.16]][[0.32, -0.44]]\n"
          ]
        }
      ],
      "source": [
        "m = 1000\n",
        "points_l = rand_cluster(m,[0,0],3) # a list of 1000 points \n",
        "\n",
        "k = 5 # number of clusters\n",
        "\n",
        "# create 5 empty lists (clusters)\n",
        "cluster0 = []\n",
        "cluster1 = []\n",
        "cluster2 = []\n",
        "cluster3 = []\n",
        "cluster4 = []\n",
        "\n",
        "# randomly choose from the points_l k points as the initial centroids of the clusters\n",
        "# 1st centroid\n",
        "cls0_centroid = random.choice(points_l)\n",
        "print(\"cls0_centroid: \" + str(cls0_centroid))\n",
        "\n",
        "# remove this elmnt from the points_l\n",
        "points_l.remove(cls0_centroid)\n",
        "print(len(points_l)) #it should be m-1\n",
        "\n",
        "# 2nd centroid\n",
        "cls1_centroid = random.choice(points_l)\n",
        "print(\"cls1_centroid: \" + str(cls1_centroid))\n",
        "\n",
        "# remove this elmnt from the points_l\n",
        "points_l.remove(cls1_centroid)\n",
        "print(len(points_l)) #it should be m-2\n",
        "\n",
        "# 3rd centroid\n",
        "cls2_centroid = random.choice(points_l)\n",
        "print(\"cls2_centroid: \" + str(cls2_centroid))\n",
        "\n",
        "# remove this elmnt from the points_l\n",
        "points_l.remove(cls2_centroid)\n",
        "print(len(points_l)) #it should be m-3\n",
        "\n",
        "# 4th centroid\n",
        "cls3_centroid = random.choice(points_l)\n",
        "print(\"cls3_centroid: \" + str(cls3_centroid))\n",
        "\n",
        "# remove this elmnt from the points_l\n",
        "points_l.remove(cls3_centroid)\n",
        "print(len(points_l)) #it should be m-4\n",
        "\n",
        "# 5th centroid\n",
        "cls4_centroid = random.choice(points_l)\n",
        "print(\"cls4_centroid: \" + str(cls4_centroid))\n",
        "\n",
        "# remove this elmnt from the points_l\n",
        "points_l.remove(cls4_centroid)\n",
        "print(len(points_l)) #it should be m-5\n",
        "\n",
        "# update the cluster0, cluster1 and cluster2 with the centroids\n",
        "cluster0.append(cls0_centroid)\n",
        "cluster1.append(cls1_centroid)\n",
        "cluster2.append(cls2_centroid)\n",
        "cluster3.append(cls3_centroid)\n",
        "cluster4.append(cls4_centroid)\n",
        "\n",
        "print(\"clusters: \" + str(cluster0) + str(cluster1) + str(cluster2) + str(cluster3) + str(cluster4) )\n"
      ]
    },
    {
      "cell_type": "markdown",
      "metadata": {
        "id": "RKSEnX5XKucI"
      },
      "source": [
        "### 2. Iterative Step for 5 clusters"
      ]
    },
    {
      "cell_type": "code",
      "execution_count": null,
      "metadata": {
        "collapsed": true,
        "id": "5-RwXNSGKucI",
        "outputId": "330805b6-8d7f-4cc8-9254-278024dc2641"
      },
      "outputs": [
        {
          "name": "stdout",
          "output_type": "stream",
          "text": [
            "Cluster0: [[-0.7, 0.83], [-0.91, 2.06], [-0.27, 2.79], [-0.97, 2.52], [-0.99, 2.34], [0.24, 2.07], [-2.38, 1.31], [-1.35, 1.81], [-2.02, 0.86], [-1.42, 2.23], [-1.46, 0.74], [-2.41, 1.43], [0.16, 2.73], [-0.0, 2.54], [-0.91, 0.97], [-0.75, 0.93], [-1.48, 1.58], [-1.19, 1.78], [-0.87, 1.51], [-0.0, 1.92], [0.07, 1.25], [-1.85, 0.93], [-1.56, 1.16], [-1.64, 1.77], [-1.47, 2.18], [-1.66, 0.96], [-0.83, 1.99], [-0.59, 1.27], [0.03, 2.6], [-0.8, 0.9], [-0.55, 2.92], [-1.37, 1.49], [-2.34, 1.55], [-0.45, 2.78], [-1.61, 1.59], [-1.45, 0.87], [-2.15, 1.32], [-0.45, 2.9], [-1.41, 0.94], [-2.15, 0.95], [-1.24, 1.94], [-0.3, 1.12]]\n",
            "-\n",
            "Cluster1: [[-1.79, 0.4], [-2.78, -0.4], [-2.26, -1.91], [-1.21, -0.95], [-2.1, -0.52], [-2.67, 0.45], [-2.35, -1.61], [-1.38, -1.9], [-2.27, 0.16], [-1.33, -1.26], [-1.92, 0.36], [-1.24, -2.26], [-2.65, -0.85], [-2.2, -1.4], [-1.22, -1.41], [-1.84, -1.83], [-2.34, -0.7], [-2.95, -0.29], [-1.97, -1.48], [-1.66, -0.74], [-2.28, -0.37], [-2.28, -0.96], [-2.86, 0.46], [-1.28, -1.35], [-1.43, -0.4], [-1.37, -0.11], [-2.92, 0.08], [-2.68, -1.11], [-1.49, -0.12], [-1.86, -0.5], [-0.92, -1.6]]\n",
            "-\n",
            "Cluster2: [[-1.49, -0.14], [-0.53, -0.59], [0.5, -2.61], [0.99, -2.45], [0.3, -0.74], [0.94, -2.05], [1.78, -1.34], [0.03, -2.5], [1.15, -0.31], [1.06, -1.46], [-0.35, -1.26], [0.17, -0.65], [-0.4, -1.3], [-0.01, -1.71], [0.89, -1.48], [0.74, -1.3], [0.44, -1.07], [1.55, -2.06], [0.93, -0.96], [1.65, -1.18], [0.65, -1.29], [1.22, -2.44], [-0.08, -1.58], [0.63, -1.54], [0.0, -2.6], [1.65, -2.42], [0.21, -1.47], [1.13, -1.46], [0.72, -1.82], [-0.62, -1.45], [2.28, -1.06], [-0.23, -1.57], [0.25, -1.0], [0.66, -0.74], [0.82, -1.08], [0.41, -1.47], [2.0, -1.56], [1.43, -0.51], [2.1, -0.85], [2.35, -1.18], [1.66, -2.11], [1.67, -1.29], [-0.05, -1.73], [1.26, -2.61], [1.8, -1.96], [0.64, -2.04]]\n",
            "-\n",
            "Cluster3: [[1.62, 2.16], [2.31, 0.05], [2.36, 1.21], [0.88, 0.9], [0.91, 1.04], [1.41, 1.43], [0.9, 1.39], [0.79, 1.94], [1.72, 0.79], [0.97, 1.26], [1.73, 0.55], [2.52, -0.54], [1.6, 0.14], [0.55, 0.44], [2.18, 1.53], [0.76, 0.33], [0.9, 0.04], [0.51, 1.02], [0.75, 1.33], [1.43, 0.53], [0.61, 0.94], [2.24, 1.18], [1.36, 1.62], [1.66, -0.12], [2.15, 0.9], [1.47, -0.24], [2.82, -0.36], [1.14, 1.42], [0.93, 0.11], [1.27, 2.42], [0.56, 2.04], [1.17, 0.4], [1.96, 0.14], [1.49, 0.8], [1.15, -0.05], [0.89, 0.13], [0.87, 2.11], [2.8, 0.27], [0.77, 2.63], [0.57, 0.81], [2.73, 0.57], [1.89, 2.28]]\n",
            "-\n",
            "Cluster4: [[0.32, -0.44], [-2.78, -0.4], [-0.91, 2.06], [-0.27, 2.79], [-2.26, -1.91], [0.23, 0.26], [-0.53, -0.59], [-0.97, 2.52], [0.5, -2.61], [0.99, -2.45], [0.3, -0.74], [-0.89, 0.23], [0.82, -0.17], [0.53, -0.1], [-1.21, -0.95], [-2.1, -0.52], [-0.99, 2.34], [0.86, 0.0], [-2.67, 0.45], [0.94, -2.05], [0.13, -0.18], [-0.01, -0.01], [-0.15, -0.02], [-2.35, -1.61], [1.78, -1.34], [-0.58, -0.59], [0.24, 2.07], [-2.38, 1.31], [-1.35, 1.81], [0.12, 0.65], [-0.37, 0.08], [0.03, -2.5], [-1.38, -1.9], [-0.0, -0.34], [1.15, -0.31], [1.06, -1.46], [-1.02, -0.04], [-0.35, -1.26], [-2.02, 0.86], [-1.42, 2.23], [-2.27, 0.16], [-0.33, -0.86], [-0.24, -0.78], [0.26, 0.6], [0.23, 0.64], [-0.12, -0.36], [0.06, 0.14], [0.42, 0.15], [0.17, -0.65], [-1.33, -1.26], [0.1, 0.2], [-0.4, -1.3], [-1.46, 0.74], [-0.01, -1.71], [-0.24, 0.01], [0.89, -1.48], [-1.92, 0.36], [-1.24, -2.26], [-0.91, 0.26], [-1.2, -0.33], [-2.65, -0.85], [0.74, -1.3], [-1.09, -0.36], [-2.41, 1.43], [-0.44, 0.03], [0.44, -1.07], [-2.2, -1.4], [-0.26, -0.38], [1.55, -2.06], [0.93, -0.96], [0.16, 2.73], [1.65, -1.18], [-0.0, 2.54], [0.88, -0.04], [-1.22, -1.41], [-0.56, -0.74], [0.18, 0.35], [0.65, -1.29], [1.22, -2.44], [-0.02, -0.46], [-0.91, 0.97], [-0.75, 0.93], [-0.05, -0.04], [0.17, 0.62], [-0.04, -0.07], [-0.08, -1.58], [0.12, -0.04], [-1.19, 0.16], [-0.23, -0.18], [-0.65, 0.21], [-0.32, 0.33], [0.63, -1.54], [0.0, -2.6], [-0.37, -0.56], [1.65, -2.42], [-0.06, 0.54], [-0.35, 0.25], [-1.48, 1.58], [-0.38, -0.72], [-0.77, 0.36], [0.05, 0.01], [0.05, 0.04], [0.41, -0.61], [0.28, -0.65], [0.21, -1.47], [-1.84, -1.83], [1.13, -1.46], [0.72, -1.82], [-1.19, 1.78], [0.26, 0.11], [-0.87, 1.51], [0.86, -0.35], [-0.62, -1.45], [0.04, -0.39], [-1.14, 0.47], [-0.91, -0.2], [-0.82, 0.2], [-0.0, 1.92], [0.07, -0.82], [-0.05, 0.06], [2.28, -1.06], [-0.23, -1.57], [-0.32, 0.09], [0.07, 1.25], [0.25, -1.0], [-2.34, -0.7], [-2.95, -0.29], [0.66, -0.74], [-1.97, -1.48], [-1.85, 0.93], [-1.66, -0.74], [-1.56, 1.16], [-0.06, 0.78], [0.82, -1.08], [-0.11, 0.16], [0.41, -1.47], [-1.64, 1.77], [-2.28, -0.37], [-1.47, 2.18], [0.35, 0.13], [2.0, -1.56], [-0.51, -0.01], [-2.28, -0.96], [-1.66, 0.96], [-0.35, -0.82], [-0.83, 1.99], [-0.59, 1.27], [0.03, 2.6], [1.43, -0.51], [-0.8, -1.16], [-0.8, 0.9], [-0.55, 2.92], [2.1, -0.85], [-1.35, 0.23], [-0.06, -0.9], [-1.37, 1.49], [-2.86, 0.46], [-1.28, -1.35], [-0.02, -0.19], [-0.44, -0.37], [-0.51, -1.02], [-0.23, -1.01], [-0.14, -0.39], [-2.34, 1.55], [0.22, -0.15], [0.39, -0.36], [2.35, -1.18], [-1.43, -0.4], [-0.75, 0.2], [1.66, -2.11], [-0.33, 0.67], [1.67, -1.29], [0.31, 0.34], [-0.34, -0.56], [-0.35, -0.04], [-1.37, -0.11], [-0.05, -1.73], [0.09, -0.04], [-0.59, -0.86], [-0.45, 2.78], [0.62, 0.06], [-0.57, 0.41], [-0.11, -0.95], [0.16, 0.89], [-2.92, 0.08], [-1.61, 1.59], [-2.68, -1.11], [0.16, -0.23], [-1.49, -0.12], [-1.45, 0.87], [1.26, -2.61], [-1.86, -0.5], [-2.15, 1.32], [-0.92, -1.6], [-0.45, 2.9], [0.37, 0.25], [-1.41, 0.94], [0.02, -0.28], [-2.15, 0.95], [1.8, -1.96], [0.43, 0.23], [-1.24, 1.94], [-1.07, 0.06], [0.64, -2.04], [0.01, 0.01], [-1.15, -0.41], [-0.3, 1.12]]\n",
            "-\n",
            "cls0_centroid: [-1.08214286  1.67452381]\n",
            "-\n",
            "cls1_centroid: [-1.98387097 -0.77806452]\n",
            "-\n",
            "cls2_centroid: [ 0.75869565 -1.47804348]\n",
            "-\n",
            "cls3_centroid: [1.41190476 0.89380952]\n",
            "-\n",
            "cls4_centroid: [-0.40294686 -0.15449275]\n",
            "number of points in cluster0: 42\n",
            "-\n",
            "number of points in cluster1: 31\n",
            "-\n",
            "number of points in cluster2: 46\n",
            "-\n",
            "number of points in cluster3: 42\n",
            "-\n",
            "number of points in cluster4: 207\n",
            "Time for clustering:  0.03903818130493164\n"
          ]
        }
      ],
      "source": [
        "st = time.time()\n",
        "\n",
        "# Termination Check: if there is no point in points_l, print the clusters, \n",
        "# their centroids and the number of elmnts of them\n",
        "for point in points_l:\n",
        "    if points_l==[]:\n",
        "        print(\"Final Clusters: \"+ str(cluster0) + str(cluster1) + str(cluster2)+ str(cluster3) + str(cluster4))\n",
        "        print(\"cls0_centroid: \" + str(cls0_centroid))\n",
        "        print(\"cls1_centroid: \" + str(cls1_centroid))\n",
        "        print(\"cls2_centroid: \" + str(cls2_centroid))\n",
        "        print(\"cls3_centroid: \" + str(cls3_centroid))\n",
        "        print(\"cls4_centroid: \" + str(cls4_centroid))\n",
        "        \n",
        "        print(\"number of points in cluster0: \" + str(len(cluster0)))\n",
        "        print(\"number of points in cluster1: \" + str(len(cluster1)))\n",
        "        print(\"number of points in cluster2: \" + str(len(cluster2)))\n",
        "        print(\"number of points in cluster3: \" + str(len(cluster3)))\n",
        "        print(\"number of points in cluster4: \" + str(len(cluster4)))\n",
        "\n",
        "    # compute point distance from the centroid of each cluster\n",
        "    else:\n",
        "        list_d=[]\n",
        "        d0 = distance.euclidean(point, cls0_centroid)\n",
        "        list_d.append(d0)\n",
        "        d1 = distance.euclidean(point, cls1_centroid)\n",
        "        list_d.append(d1)\n",
        "        d2 = distance.euclidean(point, cls2_centroid)\n",
        "        list_d.append(d2)\n",
        "        d3 = distance.euclidean(point, cls3_centroid)\n",
        "        list_d.append(d3)\n",
        "        d4 = distance.euclidean(point, cls4_centroid)\n",
        "        list_d.append(d4)\n",
        "    # the point belongs to the cluster of minimum distance\n",
        "        if sorted(list_d)[0]==d0: \n",
        "            cluster0.append(point)\n",
        "        if sorted(list_d)[0]==d1: \n",
        "            cluster1.append(point)\n",
        "        if sorted(list_d)[0]==d2: \n",
        "            cluster2.append(point)\n",
        "        if sorted(list_d)[0]==d3: \n",
        "            cluster3.append(point)\n",
        "        else: \n",
        "            cluster4.append(point)\n",
        "        # remove the point from the points_l\n",
        "        points_l.remove(point)\n",
        "        # compute the new centroids for each cluster\n",
        "        cls0_centroid = np.average(cluster0, axis=0)\n",
        "        cls1_centroid = np.average(cluster1, axis=0)\n",
        "        cls2_centroid = np.average(cluster2, axis=0)\n",
        "        cls3_centroid = np.average(cluster3, axis=0)\n",
        "        cls4_centroid = np.average(cluster4, axis=0)\n",
        "    \n",
        "et = time.time()\n",
        "time1 = et - st\n",
        "print(\"Cluster0: \" + str(cluster0))\n",
        "print(\"-\")\n",
        "print(\"Cluster1: \" + str(cluster1))\n",
        "print(\"-\")\n",
        "print(\"Cluster2: \" + str(cluster2))\n",
        "print(\"-\")\n",
        "print(\"Cluster3: \" + str(cluster3))\n",
        "print(\"-\")\n",
        "print(\"Cluster4: \" + str(cluster4))\n",
        "print(\"-\")\n",
        "print(\"cls0_centroid: \" + str(cls0_centroid))\n",
        "print(\"-\")\n",
        "print(\"cls1_centroid: \" + str(cls1_centroid))\n",
        "print(\"-\")\n",
        "print(\"cls2_centroid: \" + str(cls2_centroid))\n",
        "print(\"-\")\n",
        "print(\"cls3_centroid: \" + str(cls3_centroid))\n",
        "print(\"-\")\n",
        "print(\"cls4_centroid: \" + str(cls4_centroid))\n",
        "print(\"number of points in cluster0: \" + str(len(cluster0)))\n",
        "print(\"-\")\n",
        "print(\"number of points in cluster1: \" + str(len(cluster1)))\n",
        "print(\"-\")\n",
        "print(\"number of points in cluster2: \" + str(len(cluster2)))\n",
        "print(\"-\")\n",
        "print(\"number of points in cluster3: \" + str(len(cluster3)))\n",
        "print(\"-\")\n",
        "print(\"number of points in cluster4: \" + str(len(cluster4)))\n",
        "print('Time for clustering: ',time1 )"
      ]
    },
    {
      "cell_type": "markdown",
      "metadata": {
        "id": "0sC0pxx7KucK"
      },
      "source": [
        "### Question 3. Identify and solve the problems in the above implementation (check if it will pass naive tests) (1.5/10)"
      ]
    },
    {
      "cell_type": "markdown",
      "metadata": {
        "id": "iBu3seywKucK"
      },
      "source": [
        "1- Random choose of centroides hardly could lead to a proper clustering. for instance in case of that some of them or even all of them being absolutly close to each other.\n",
        " It could be ameliorated with updating each centroid after adding a point to a cluster. It means having the average of points in clusters as centroid. another solution could be seting the centroids after visualizing and choose them in a logical way. \\\n",
        "2- Choosing an inappropriate value for K will lead to an error. \n",
        " it could be handeled with if statements like that one in the upcoming codes. "
      ]
    },
    {
      "cell_type": "markdown",
      "metadata": {
        "id": "8msu6agZKucK"
      },
      "source": [
        "### Question 4. Create a k-Means function (similar to the above) which takes as input the k number of clusters (you do not know beforehand the number of clusters), and the m number of random points (as above). The final print should be similar to the above. Check for 1000, 10000, 100000 points for 3, 50, 100 clusters (4/10)"
      ]
    },
    {
      "cell_type": "code",
      "execution_count": null,
      "metadata": {
        "scrolled": true,
        "id": "h8Eo-qnTKucL"
      },
      "outputs": [],
      "source": [
        "def K_means(K,m):\n",
        "    \n",
        "    points = rand_cluster(m,[0,0],3) # create m points stored in list points\n",
        "    \n",
        "    # 1- initilizing\n",
        "    \n",
        "    # if statements in order to handle inapropriate number for number of clusters\n",
        "    if K<0:\n",
        "        K=int(-K)\n",
        "    elif K==0:\n",
        "        print('K is zero and it has to be an integer')\n",
        "        pass     \n",
        "    else:\n",
        "        K=int(K)\n",
        "    \n",
        "    centroids = random.sample( points , k=K) # randomly choose from the list of points, k points as the initial centroids of the clusters\n",
        "    #print(\"first centroids: \" + str(centroids))\n",
        "        \n",
        "    for centroid in centroids: # remove centroids from list of points\n",
        "        points.remove(centroid)\n",
        "    print(\"number of points after choosing centroids: \", len(points))\n",
        "    \n",
        "    clusters=[]\n",
        "    for k in range(K):  # make a list for each cluster\n",
        "        clusters.append([])\n",
        "   \n",
        "    for cluster in clusters:  # update the clusters with the centroids\n",
        "        cluster_idx=clusters.index(cluster)\n",
        "        cluster.append(centroids[cluster_idx])\n",
        "        \n",
        "    # 2- Iterative Step \n",
        "    st = time.time() # start of time for calculating interval time of iterative step\n",
        "    \n",
        "    for point in points: #Termination Check: if there is no point in points\n",
        "        if points == []:\n",
        "            break\n",
        "            \n",
        "        else: # compute distance from each point and all centroids\n",
        "            distances=[]\n",
        "            for centroid in centroids:\n",
        "                d=distance.euclidean(point, centroid)\n",
        "                distances.append(d)\n",
        "            idx_min_d=distances.index(sorted(distances)[0]) \n",
        "            clusters[idx_min_d].append(point)  # assign the point to a cluster \n",
        "            centroids[idx_min_d] =list(np.average(clusters[idx_min_d], axis=0)) # update the centroid for updated cluster\n",
        "        \n",
        "    et = time.time()\n",
        "    time1 = et - st\n",
        "    for k in range(K):\n",
        "        #print(\"cluster{}: \".format(k) , clusters[k])\n",
        "        print(\"centroid{}: \".format(k) , centroids[k])\n",
        "        print(\"number of points in each cluster{}: \".format(k) , str(len(clusters[k])))\n",
        "    print('Iteration Time :', time1)\n",
        "    \n",
        "#\n",
        "    "
      ]
    },
    {
      "cell_type": "code",
      "execution_count": null,
      "metadata": {
        "collapsed": true,
        "id": "8tk9RUx_KucL",
        "outputId": "7c21dcef-5ada-4fcd-f3e8-34f5d0a235fd"
      },
      "outputs": [
        {
          "name": "stdout",
          "output_type": "stream",
          "text": [
            "997\n",
            "first centroids: [[0.9, 0.71], [0.31, -0.78], [-0.44, -0.46]]\n",
            "cluster0:  [[0.9, 0.71], [0.98, 2.08], [2.15, 0.37], [2.31, 1.07], [0.58, 0.7], [0.02, 1.99], [0.92, 1.59], [0.39, 2.21], [0.2, 1.1], [-0.78, 2.65], [2.14, 1.28], [1.77, 1.25], [2.05, 0.59], [1.02, 0.15], [1.86, 1.52], [-0.37, 2.08], [1.52, 1.32], [0.95, 1.79], [0.83, 0.75], [0.74, 0.9], [0.43, 0.75], [0.97, 2.33], [0.39, 1.08], [0.84, 1.47], [0.66, 0.14], [-0.56, 2.27], [0.25, 1.25], [0.04, 2.62], [0.77, 0.16], [1.44, 2.56], [-0.45, 1.66], [1.48, 1.69], [-0.34, 1.94], [0.59, 0.77], [0.04, 2.53], [-0.34, 1.61], [1.74, 1.87], [2.77, 0.28], [0.75, 1.15], [0.9, 0.6], [1.73, 0.99], [0.24, 0.15], [2.05, 1.29], [0.88, 0.67], [-0.35, 1.09], [1.54, 0.7], [0.55, 2.63], [0.24, 0.28], [0.03, 1.93], [0.02, 1.8], [0.5, 1.75], [0.44, 1.09], [0.66, 1.25], [0.59, 2.7], [-0.49, 2.08], [0.55, 0.81], [-0.48, 1.22], [0.1, 2.77], [1.37, 1.22], [1.88, 0.68], [1.49, 0.11], [1.99, 1.82], [2.42, 0.88], [0.24, 0.41], [1.05, 0.31], [0.03, 2.75], [-1.05, 2.24], [0.26, 1.53], [1.15, 0.34], [1.17, 0.71], [0.05, 1.1], [1.64, 2.27], [1.61, 0.24], [1.0, 0.06], [0.82, 2.83], [0.29, 2.52], [-0.66, 2.47], [1.06, 0.83], [0.56, 2.51], [1.27, 1.71], [0.85, 0.27], [2.17, 0.89], [0.1, 0.59], [2.67, 1.36], [0.62, 1.83], [2.03, 1.97], [2.63, 0.87], [0.98, 0.6], [1.14, 0.14], [0.01, 0.72], [0.33, 0.63], [-0.92, 2.02], [0.41, 0.16], [1.21, 1.01], [-1.29, 2.63], [-0.87, 1.93], [0.4, 0.87], [0.92, 0.49], [-0.81, 1.73], [0.52, 2.01], [0.62, 1.07], [-1.55, 2.52], [0.94, 0.33], [0.51, 1.84], [1.76, 1.56], [-0.18, 1.92], [1.27, 0.37], [-0.21, 2.5], [0.08, 0.89], [1.67, 0.37], [0.14, 0.56], [1.43, 0.87], [2.09, 0.16], [0.34, 0.29], [1.84, 1.44], [-0.17, 1.96], [0.57, 1.07], [1.36, 0.43], [-0.13, 1.11], [-0.94, 2.35], [-0.7, 2.12], [1.12, 0.71], [1.03, 0.34], [0.35, 1.05], [0.07, 1.46], [-0.14, 2.49], [2.44, 0.79], [0.12, 0.66], [0.52, 1.88], [1.11, 2.13], [0.3, 1.8], [-0.5, 1.48], [-0.42, 2.01], [-0.16, 0.96], [-0.33, 1.94], [0.59, 1.44], [0.95, 1.73], [0.12, 0.66], [0.12, 0.34], [1.74, 2.42], [1.61, 2.03], [-1.47, 2.57], [1.28, 1.98], [0.39, 2.6], [1.99, 2.23], [1.39, 2.34], [0.47, 2.92], [1.95, 1.58], [-0.04, 2.11], [0.57, 1.98], [1.26, 0.93], [-0.48, 2.3], [0.28, 0.18], [1.93, 0.99], [1.91, 1.7], [1.25, 1.48], [-1.27, 2.36], [1.47, 1.61], [2.17, 1.66], [1.81, 0.76], [1.47, 1.99], [1.17, 0.63], [1.61, 0.37], [-1.13, 2.0], [1.62, 1.14], [2.11, 1.67], [-0.02, 0.59], [1.86, 1.76], [0.53, 2.42], [0.37, 0.94], [1.91, 1.87], [-1.15, 2.38], [-0.66, 2.32], [1.17, 1.38], [-0.86, 2.03], [0.54, 2.07], [1.43, 1.58], [-0.25, 2.34], [0.31, 1.92], [2.58, 1.3], [0.81, 0.21], [2.7, 0.69], [-0.75, 2.25], [-0.77, 2.74], [-0.09, 2.17], [1.53, 0.24], [-0.56, 1.87], [2.4, 1.65], [0.68, 2.39], [1.85, 0.9], [2.13, 0.32], [0.33, 0.68], [2.23, 1.06], [-0.55, 2.73], [0.42, 2.2], [-0.53, 1.83], [-0.79, 2.54], [0.55, 2.15], [0.35, 0.43], [1.51, 1.33], [1.81, 0.89], [-0.0, 0.59], [0.08, 0.85], [0.53, 0.25], [0.98, 1.39], [0.46, 0.82], [-0.47, 2.43], [0.76, 0.18], [1.0, 1.12], [0.92, 0.59], [0.3, 0.37], [2.21, 0.57], [0.09, 0.79], [0.2, 2.0], [-0.33, 2.2], [0.67, 0.35], [0.19, 1.53], [0.99, 1.51], [1.53, 1.32], [0.3, 0.4], [1.02, 1.79], [1.03, 0.48], [-0.07, 2.3], [1.0, 0.79], [0.73, 1.51], [0.3, 2.33], [0.67, 0.42], [-0.66, 2.82], [2.17, 0.82], [0.67, 1.32], [0.8, 2.21], [-0.19, 1.18], [0.43, 2.86], [1.14, 1.03], [-0.08, 1.61], [-0.06, 1.15], [-0.07, 0.86], [0.41, 0.85], [0.34, 1.69], [0.92, 2.04], [0.04, 0.8], [0.33, 2.48], [2.53, 1.36], [-1.08, 2.47], [1.09, 1.14], [1.02, 0.21], [0.3, 0.73], [-0.35, 2.85], [0.8, 2.26], [1.78, 2.0], [-0.59, 1.34], [-0.02, 2.58], [0.33, 0.55], [-0.07, 2.52], [1.84, 1.27], [-0.07, 1.08], [-0.7, 1.36], [1.62, 0.87]]\n",
            "centroid0:  [0.6663178294573645, 1.4022480620155033]\n",
            "number of points in each cluster0:  258\n",
            "Time : 0.2719590663909912\n",
            "cluster1:  [[0.31, -0.78], [0.59, -0.22], [0.74, -2.38], [0.56, -1.94], [2.31, -1.21], [2.06, -0.41], [0.68, -1.65], [1.45, -0.02], [-0.13, -1.04], [2.01, -0.95], [-0.21, -2.64], [0.64, 0.02], [0.49, -1.66], [0.49, -1.53], [0.86, -2.62], [0.47, -0.22], [1.39, -0.43], [-0.33, -1.29], [0.19, -0.63], [0.08, -1.32], [-0.17, -1.95], [0.17, -0.2], [0.23, -0.26], [0.24, -0.58], [-0.16, -2.06], [1.18, -1.4], [0.53, -2.38], [0.58, -1.61], [1.47, -0.45], [1.98, -1.44], [0.64, -2.22], [-0.9, -2.47], [0.16, -0.23], [1.88, -0.33], [-0.83, -2.41], [0.34, -1.14], [2.43, -0.49], [0.64, -2.61], [1.28, -0.07], [2.73, -0.07], [0.67, -0.61], [1.85, -1.87], [0.04, -1.29], [1.33, -1.6], [1.02, -2.42], [-0.03, -2.76], [-0.13, -1.05], [-0.15, -0.84], [1.51, -2.15], [0.2, -0.69], [1.13, -0.38], [0.14, -1.26], [2.57, -1.39], [0.69, -0.21], [0.41, 0.03], [0.34, -0.7], [1.54, -1.57], [1.86, -0.29], [0.39, -2.65], [0.47, -0.26], [0.7, -2.02], [1.86, -1.81], [0.14, -0.92], [0.48, -2.17], [2.95, -0.53], [0.36, -2.17], [0.06, -1.13], [-0.07, -0.92], [0.42, -0.07], [1.05, -0.53], [0.48, -0.85], [0.38, -0.14], [0.16, -0.22], [0.32, -0.85], [-0.51, -1.74], [1.17, -0.23], [0.22, -0.47], [2.45, -0.76], [0.1, -0.35], [0.23, -0.1], [0.1, -0.26], [1.39, -1.99], [0.69, -0.45], [1.06, -0.97], [0.22, -0.71], [1.63, -0.06], [-0.33, -1.4], [0.2, -1.01], [0.51, -1.32], [-0.19, -2.28], [1.64, -0.56], [1.16, -0.13], [2.73, -1.18], [-0.3, -1.01], [2.38, -0.8], [1.08, -2.7], [0.84, -2.46], [-0.56, -1.91], [-0.15, -1.3], [2.11, 0.02], [0.22, -1.69], [0.66, -1.71], [2.4, -0.57], [0.78, -0.71], [0.42, -1.68], [0.04, -0.68], [2.74, -1.05], [1.66, -1.31], [1.21, -0.2], [0.84, -1.68], [1.41, -0.2], [2.01, -0.44], [1.58, -0.67], [0.44, -0.05], [1.28, -0.42], [0.48, -0.16], [0.2, -0.4], [-0.35, -2.4], [0.29, -0.07], [0.58, -2.54], [1.92, -1.8], [1.5, -1.43], [1.29, -1.6], [0.67, -0.12], [0.14, -0.95], [-0.24, -1.8], [1.05, -0.63], [-0.3, -1.17], [0.3, -1.54], [0.43, -0.43], [1.81, -0.95], [0.12, -0.63], [2.0, -0.42], [2.0, -0.75], [-0.21, -0.8], [2.02, -1.56], [3.0, 0.14], [2.46, -0.53], [1.87, -0.58], [1.52, -1.9], [1.01, -0.67], [-0.15, -1.74], [2.45, -0.08], [-0.75, -1.76], [-0.26, -1.66], [2.42, -1.48], [1.59, -1.16], [0.87, -0.91], [0.84, -0.73], [2.31, -1.85], [0.25, -1.71], [0.07, -0.38], [1.6, 0.05], [-0.35, -2.83], [1.77, -1.43], [2.2, 0.06], [1.3, -0.44], [-0.57, -2.31], [0.25, -1.85], [0.33, 0.1], [1.26, 0.07], [0.44, -2.46], [1.06, -0.18], [-0.55, -1.33], [2.22, -0.73], [1.6, -1.09], [1.01, -2.42], [0.65, -0.87], [0.77, -0.22], [-0.12, -1.11], [1.06, -1.78], [0.38, -0.33], [2.52, -0.29], [0.33, -1.8], [1.72, -2.01], [-0.38, -2.65], [1.01, -0.86], [2.6, 0.2], [-0.11, -0.66], [2.52, -0.72], [-0.21, -1.43], [1.43, -1.15], [2.8, 0.2], [0.01, -0.96], [2.22, -0.27], [1.2, 0.13], [1.09, -2.11], [1.86, -0.44], [1.3, -1.07], [1.03, -2.31], [1.07, 0.01], [-0.06, -1.23], [2.21, 0.06], [0.53, -2.68], [0.12, -0.28], [1.16, -1.01], [0.91, -1.37], [-1.07, -2.55], [0.53, -0.08], [-0.56, -2.21], [1.99, -0.75], [2.04, -0.21], [0.13, -0.6], [0.61, -2.0], [0.49, -2.0], [-0.02, -0.61], [1.75, -1.89], [-0.04, -0.59], [-0.09, -0.57], [-0.41, -1.52], [1.51, -0.42], [0.11, -0.47], [0.86, -0.75], [0.1, -0.33], [0.2, -1.53], [0.23, -1.58], [-0.99, -2.3], [1.61, -1.54], [1.04, -0.65], [0.62, -0.88], [-0.71, -1.67], [0.46, 0.09], [0.74, -2.44], [2.54, -0.56], [2.62, 0.18], [-0.1, -0.63], [2.12, -1.43], [0.02, -2.97], [1.02, -2.69], [0.47, -2.08], [0.46, -0.37], [-0.19, -1.87], [-0.38, -2.65], [1.11, -1.54], [0.67, -1.6], [0.08, -0.63], [1.27, -1.0], [0.72, 0.05], [2.87, -0.66], [-0.91, -2.08], [0.3, -0.32], [-0.32, -2.8], [1.86, -0.37], [0.66, -0.11], [0.97, -0.89], [0.81, -1.81], [1.37, -0.73], [-0.34, -2.44], [0.61, -0.21], [1.58, -0.84], [-0.99, -2.27], [1.47, -1.04], [1.15, -1.11], [1.88, -0.78], [1.48, -1.48], [2.1, -1.37], [0.21, -0.13], [0.41, -1.16], [0.23, -0.27], [0.29, -0.09], [0.58, -1.75], [0.83, -2.33], [-0.45, -2.76], [2.55, 0.17], [1.41, -0.66], [0.26, -0.04], [-0.79, -2.64], [0.52, 0.02], [0.2, -0.72], [-1.12, -2.44], [0.94, -1.1], [0.16, -0.64], [-0.72, -2.29], [0.52, -0.24], [-0.06, -0.7], [0.55, -0.91], [0.07, -0.35], [1.79, -2.25], [0.64, -0.91], [1.26, -1.17], [0.14, -1.53], [1.49, -1.79], [2.02, 0.11], [0.02, -1.1], [-0.96, -2.25], [-0.44, -2.37], [-0.1, -1.42], [1.26, 0.08], [0.28, 0.09], [0.85, -0.11], [0.21, -1.32], [1.3, -1.42], [1.14, -0.55], [0.2, -0.13]]\n",
            "centroid1:  [0.7821768707483, -1.0882312925170081]\n",
            "number of points in each cluster1:  294\n",
            "Time : 0.2719590663909912\n",
            "cluster2:  [[-0.44, -0.46], [-0.01, 0.46], [-1.0, 0.53], [-1.7, 0.56], [-1.39, -0.79], [-0.1, 0.05], [0.28, -0.17], [-1.78, -0.75], [-1.75, -2.31], [-1.17, 2.08], [0.23, 0.18], [-1.93, -0.74], [-1.98, 0.47], [-0.17, -0.42], [-1.3, 1.96], [-1.04, -0.14], [-0.19, 0.06], [-1.65, -0.17], [-0.62, 1.12], [-2.33, 0.57], [-0.38, -0.41], [-0.65, -0.99], [-1.22, 0.4], [-0.39, 0.44], [-2.89, 0.19], [-0.45, 1.07], [-0.27, 0.21], [-0.82, 1.1], [-1.7, -1.08], [-0.28, 0.66], [-1.42, -0.98], [-1.29, 0.68], [-2.68, -0.64], [-1.9, -1.77], [-1.81, -0.74], [-1.24, 0.8], [-2.12, -0.93], [-1.53, 0.05], [-0.72, -0.35], [-2.86, -0.8], [-2.19, -0.59], [-1.66, 0.81], [-1.75, -0.36], [-0.15, 0.09], [-0.12, -0.38], [-0.33, 0.27], [-1.27, -1.39], [-0.16, 0.16], [-1.84, 1.29], [-1.41, 0.41], [-2.27, -1.28], [-0.97, 0.03], [0.01, -0.14], [-1.76, -1.79], [-0.09, -0.13], [-1.53, -1.55], [0.05, 0.23], [-1.3, -0.87], [-0.02, 0.01], [-0.2, 0.3], [-0.68, 0.1], [-1.28, -1.58], [-0.38, -0.31], [-0.38, 0.51], [-0.99, -0.88], [-2.14, 1.02], [0.08, -0.03], [-1.43, -1.87], [-0.55, 0.48], [-0.14, -0.16], [0.03, -0.02], [-0.61, 0.73], [-1.91, 1.64], [-1.44, 0.78], [0.22, -0.02], [-0.04, -0.02], [-1.57, 1.11], [-0.45, -0.11], [0.21, 0.12], [-1.96, -1.18], [-1.14, -1.56], [-0.29, -0.44], [-0.89, 1.27], [-1.56, 1.62], [-0.66, 1.11], [-0.78, -0.12], [-1.53, 0.04], [-0.16, -0.31], [-0.0, -0.01], [0.02, -0.03], [0.1, -0.03], [-0.38, -0.56], [-0.32, -0.16], [-0.07, -0.14], [-0.59, 0.64], [-2.29, -0.69], [-1.37, -1.57], [-2.53, 1.39], [-0.02, 0.13], [-2.3, 1.4], [-2.17, 0.58], [-1.33, -0.74], [-0.77, -0.9], [-0.16, -0.1], [-0.21, -0.33], [-0.67, 0.2], [0.04, -0.32], [-0.14, 0.33], [-1.45, 1.8], [-1.33, 0.41], [-1.55, -0.57], [0.25, 0.17], [-1.67, 1.2], [-2.36, -1.42], [-1.98, 0.89], [-1.15, 0.03], [-0.95, 0.47], [-0.42, 0.15], [-1.4, -1.22], [-0.9, -1.2], [-1.68, 0.94], [-0.88, -0.39], [-0.01, 0.08], [-0.07, -0.05], [-1.09, 1.37], [0.05, 0.48], [-2.32, -0.5], [-1.12, 1.38], [-0.39, -0.18], [-0.51, -0.14], [0.16, 0.04], [-0.05, -0.04], [-0.99, 0.14], [-1.82, -1.59], [-0.29, 0.45], [-0.12, -0.41], [-0.14, 0.16], [-0.87, -0.52], [-0.94, -1.12], [-2.47, -1.01], [-0.81, -0.7], [-1.24, -2.11], [-1.59, 1.52], [-0.15, 0.51], [-2.29, -1.13], [-0.2, -0.24], [-0.99, 0.02], [-1.05, -1.92], [-0.02, 0.03], [-1.39, 1.91], [-0.03, -0.14], [-1.17, 0.48], [-1.76, 1.75], [-2.29, 0.72], [0.06, 0.01], [-0.02, 0.31], [-1.45, 2.23], [0.12, 0.19], [-1.78, 0.82], [-1.02, -0.81], [-2.62, -0.93], [-1.92, -0.49], [-0.08, 0.28], [-1.29, 1.03], [-0.16, 0.01], [0.26, 0.01], [-0.29, 0.04], [-2.64, 0.49], [-0.85, 0.72], [-0.41, 0.38], [-0.42, -0.18], [-0.1, -0.27], [-1.19, -2.11], [-1.95, 1.17], [0.03, 0.18], [-1.19, 1.02], [-2.02, 1.57], [-1.7, -0.18], [0.23, 0.06], [-0.25, -0.55], [-0.79, -0.54], [-2.43, -0.83], [-2.73, -0.34], [-2.0, -1.23], [-1.6, -0.71], [-1.28, -0.62], [-1.5, -1.38], [-0.97, 0.69], [-1.25, 2.03], [-1.54, 0.15], [-0.12, 0.12], [0.05, -0.19], [-0.47, -0.22], [0.09, 0.04], [-1.16, 0.27], [-2.72, 0.96], [-1.63, 0.26], [-1.4, 2.09], [0.07, 0.04], [-2.58, -0.22], [-0.39, 0.06], [-0.63, 0.17], [-1.25, -1.23], [-1.65, -0.67], [-1.0, 0.12], [0.01, 0.17], [-0.79, 0.54], [0.05, 0.06], [-0.89, 0.01], [-1.18, 1.78], [-2.79, 0.43], [-0.57, 0.7], [-0.82, -0.32], [-2.19, 0.41], [-1.19, -0.71], [0.12, 0.11], [-1.16, -1.3], [-1.03, -0.97], [-0.67, -1.44], [-2.23, 1.36], [-1.63, 2.47], [0.1, 0.22], [-0.07, 0.16], [-0.6, 0.19], [-1.18, 0.52], [-1.29, 0.62], [-0.05, -0.01], [-0.12, 0.28], [-0.92, -0.02], [0.13, 0.05], [-1.56, -0.2], [-1.88, 0.83], [-2.25, 0.14], [0.02, -0.05], [0.02, 0.06], [-0.37, -0.01], [-1.36, 1.36], [-0.12, -0.08], [-0.35, 0.13], [-1.51, -1.47], [-2.35, 1.32], [-1.85, -0.13], [-1.83, 0.03], [-0.41, 0.26], [-2.61, -0.81], [0.0, 0.04], [-1.32, -0.67], [-2.82, 0.79], [-0.01, 0.15], [-0.57, -1.15], [0.02, -0.02], [-0.19, 0.29], [-1.11, 0.8], [-1.25, 0.17], [-1.7, 0.19], [-1.7, 0.69], [-1.46, 0.16], [-2.2, -0.35], [-2.05, -0.25], [-0.96, -0.88], [-0.99, -1.65], [-1.41, -0.05], [-0.5, 0.01], [-0.41, 0.73], [-1.65, -0.07], [-1.77, 1.69], [-0.24, -0.12], [-0.95, 0.01], [-0.77, -1.13], [-1.34, 2.08], [-1.74, -1.26], [-0.89, 1.03], [-1.6, -1.79], [-1.07, -0.33], [-2.46, 0.12], [0.01, -0.14], [-1.35, -1.5], [-1.7, 0.47], [-2.89, -0.08], [-1.23, -0.43], [-2.39, -1.41], [-0.19, -0.49], [-1.0, -1.52], [-1.59, 0.89], [-0.26, -0.7], [-0.82, 0.62], [-0.62, -0.22], [-1.84, -0.5], [-1.62, -0.67], [-1.23, -2.38], [-2.57, -0.56], [-0.03, 0.02], [0.16, 0.06], [0.11, 0.15], [-1.04, -0.28], [-1.77, 0.54], [-0.76, -1.5], [-1.17, 0.99], [-0.05, -0.13], [-0.92, 0.85], [0.16, -0.03], [-0.63, 0.24], [-1.42, -1.59], [-1.19, 1.3], [-2.8, 0.93], [-0.03, -0.36], [-0.04, 0.48], [0.01, -0.01], [-2.75, 0.59], [-1.9, -1.33], [-1.78, -1.79], [-0.21, -0.07], [-1.17, -0.32], [-1.55, 2.15], [-0.51, -0.85], [-1.05, -0.96], [-2.09, -0.85], [-0.2, -0.28], [-0.41, 0.59], [-1.73, -2.15], [0.0, 0.12], [-1.46, -0.08], [-0.11, 0.22], [-0.44, -0.45], [-2.25, 0.97], [0.21, 0.05], [-1.16, 0.37], [-0.47, 1.07], [0.01, 0.01], [-0.04, -0.19], [-0.0, -0.14], [-0.87, -0.02], [-1.81, 1.67], [-1.72, -2.3], [0.08, 0.1], [-1.06, -0.52], [-0.24, -0.08], [-0.56, -0.51], [-0.15, -0.07], [-1.84, -0.58], [-2.5, -1.38], [-1.26, 1.57], [-0.98, 0.09], [-1.12, -1.75], [-0.53, -0.64], [-1.29, 1.58], [-0.71, 1.25], [-2.19, 0.78], [-0.33, 0.03], [-0.15, -0.19], [-0.25, -0.37], [-2.09, 1.67], [-2.17, -1.37], [-1.55, -0.69], [-2.36, -0.27], [-2.1, 1.78], [0.09, -0.08], [-0.18, -0.25], [-1.51, -0.81], [-0.81, 0.79], [-2.3, -1.41], [-2.04, 1.37], [-1.34, 1.97], [0.02, -0.01], [-0.09, 0.44], [-0.85, 0.51], [-1.76, 0.23], [-0.74, -0.98], [0.02, 0.38], [-0.34, -0.22], [-2.66, -0.21], [-2.41, 1.63], [-1.71, -2.01], [-1.11, -0.88], [-0.65, 0.08], [-0.36, 0.23], [-2.0, -1.14], [-1.1, -1.07], [0.03, 0.04], [-2.7, -0.39], [-0.42, -0.33], [0.0, -0.28], [-1.46, -2.28], [-0.0, -0.0], [-1.15, 0.53], [-2.54, 1.22], [-2.29, 0.26], [-1.43, 1.95], [-1.13, -0.59], [-1.33, -0.94], [-0.0, 0.02], [-0.0, -0.02], [-1.54, -0.22], [-0.44, 0.44], [-0.67, -0.4], [-1.65, -0.38], [-2.27, -1.92], [-0.49, 0.37], [-1.58, -0.54], [-2.95, 0.3], [-2.05, -1.09], [-0.33, 0.25], [-2.36, -0.12], [-0.06, -0.14], [-1.46, 1.22], [-1.77, 0.32], [-1.26, 1.33], [-1.6, 1.15], [-2.09, -0.14], [-1.52, -1.34], [-1.25, 1.52], [-0.59, -1.06], [0.01, 0.04], [-2.07, -0.67], [-1.63, -0.63], [-1.41, 2.0], [-1.16, 0.34], [-1.67, -0.07], [-1.02, -0.02], [-1.06, 0.4], [-0.73, 0.07], [-1.24, 1.97], [-0.9, 0.55], [-2.05, -0.47], [-1.81, 1.33], [-0.91, 1.39], [-0.02, 0.0], [-0.08, 0.54], [-1.8, 1.35], [-2.5, 1.31], [-0.35, 0.1], [-0.94, -0.11], [-0.22, 0.21], [-1.67, 1.98], [-0.3, 0.46], [-1.12, 0.58], [-1.1, 0.79], [-2.65, -1.27], [-2.42, -0.88], [-1.09, -1.17], [-2.27, -0.86], [-0.69, 1.03], [-1.21, 1.64], [-1.36, -1.07], [-0.95, -1.31], [-2.8, 0.65], [-0.92, -0.79], [-0.52, 0.78]]\n",
            "centroid2:  [-1.051272321428571, 0.005267857142857142]\n",
            "number of points in each cluster2:  448\n",
            "Time : 0.2719590663909912\n"
          ]
        }
      ],
      "source": [
        "K_means(3,1000)"
      ]
    },
    {
      "cell_type": "code",
      "execution_count": null,
      "metadata": {
        "id": "VmR8zBDvKucM",
        "outputId": "ef44740c-3d81-4983-d7a3-ad433f63e623"
      },
      "outputs": [
        {
          "name": "stdout",
          "output_type": "stream",
          "text": [
            "9997\n",
            "first centroids: [[2.72, -0.36], [-2.22, -2.0], [2.28, -0.82]]\n",
            "cluster0:  [[2.72, -0.36], [2.16, 0.32], [2.43, 1.03], [1.6, -0.25], [2.05, -0.4], [1.02, -2.33], [2.76, 0.14], [1.35, -0.47], [1.29, 0.07], [1.12, 0.05], [0.73, -1.92], [0.45, -1.16], [1.39, -0.02], [1.58, -2.38], [2.18, 0.8], [1.27, 0.61], [1.02, -2.27], [1.66, 1.6], [1.35, 0.29], [1.41, -0.16], [2.71, 0.74], [1.97, -1.68], [1.73, 1.62], [1.56, 1.01], [2.71, -1.26], [1.17, -0.87], [1.34, -2.39], [1.91, 0.01], [2.55, 0.3], [1.21, 1.0], [2.29, 1.02], [1.8, 1.91], [1.39, 1.0], [1.02, -1.69], [2.11, 1.16], [1.55, 0.62], [1.16, -0.47], [1.33, -0.01], [0.97, -0.05], [0.68, -0.34], [1.3, -0.32], [1.78, -0.19], [2.44, 0.34], [1.04, 0.25], [0.95, -1.84], [1.76, -1.93], [2.09, 0.69], [1.49, 0.85], [1.14, 0.37], [1.3, 0.77], [1.11, 1.26], [2.1, 1.01], [1.7, 1.08], [0.9, 0.14], [1.84, -0.14], [1.32, -0.08], [2.68, 0.96], [2.33, -1.16], [1.18, -1.59], [1.31, -1.44], [1.89, -1.55], [1.64, 0.31], [1.57, -1.19], [0.98, 0.6], [1.78, -0.45], [2.68, -0.5], [0.6, -0.7], [1.97, 2.24], [2.51, -1.12], [0.91, -0.85], [2.45, -1.08], [0.75, -0.33], [2.65, -1.31], [0.99, -1.09], [2.13, 0.57], [1.68, -1.66], [1.56, -0.04], [0.65, -1.19], [1.08, -0.35], [1.45, -0.89], [1.0, -1.29], [2.65, 0.1], [1.58, 0.86], [2.49, 0.59], [1.19, 0.38], [1.17, 0.53], [1.38, 1.56], [1.45, -0.12], [0.86, -0.07], [1.39, -1.96], [1.24, -0.01], [2.06, 0.08], [2.07, -1.2], [1.87, -0.19], [0.94, -1.43], [1.49, -1.7], [1.22, 0.25], [1.79, 1.53], [1.71, -1.78], [1.88, -0.77], [1.46, 1.61], [1.88, -0.85], [1.86, 0.18], [1.66, 0.8], [1.21, 0.42], [1.65, 1.8], [1.23, -0.68], [1.19, -1.42], [1.0, -0.61], [1.14, -0.19], [1.56, -0.72], [1.89, 1.54], [2.07, 1.32], [2.06, -1.76], [2.96, 0.15], [0.47, -0.53], [2.24, -1.15], [1.69, 2.47], [1.66, 0.98], [1.09, 0.94], [2.32, -0.24], [2.7, 0.61], [2.82, 0.95], [1.72, 2.21], [2.31, -0.09], [1.6, 2.06], [2.77, 0.21], [1.99, -0.49], [2.66, 0.7], [0.63, -0.78], [1.82, -0.74], [1.46, -2.45], [1.87, 1.76], [1.35, 1.43], [1.37, -1.0], [2.63, -0.55], [1.9, -1.32], [2.08, 1.05], [2.67, 1.06], [1.54, 0.76], [1.37, -0.54], [2.35, -0.7], [0.99, -0.43], [1.35, 0.87], [1.12, 0.28], [1.51, -1.15], [1.78, 1.64], [1.24, 1.52], [2.02, 0.6], [0.88, 0.28], [2.02, -0.23], [1.23, -2.04], [1.06, -1.5], [1.69, -0.69], [1.4, -0.28], [1.86, 0.52], [1.71, -1.33], [1.23, -0.6], [0.6, -0.09], [1.45, 1.49], [0.82, -1.1], [1.37, -1.19], [2.52, -0.48], [2.2, 1.33], [1.38, -1.12], [2.94, 0.09], [1.37, 0.35], [0.86, -0.86], [0.78, -0.62], [1.25, 0.26], [1.62, -1.5], [2.67, 0.96], [0.84, 0.7], [1.94, 0.87], [1.07, -0.86], [2.36, 1.3], [1.1, -1.1], [1.59, -0.31], [0.48, -0.5], [1.83, -0.63], [0.73, -1.12], [2.27, -0.42], [1.01, 0.31], [1.9, -0.98], [1.11, -1.76], [1.07, -0.58], [2.21, 0.06], [0.98, -0.15], [1.71, -0.21], [1.11, -0.73], [1.81, 0.65], [0.77, -0.33], [1.6, 0.23], [1.31, 0.8], [0.91, -0.59], [1.53, 2.05], [2.6, -0.37], [1.86, 1.14], [1.13, 1.35], [2.2, -0.56], [1.04, 0.65], [1.07, -0.64], [1.15, -2.22], [0.79, 0.01], [2.41, -0.68], [0.98, -0.78], [2.04, 0.91], [1.28, -1.39], [1.12, 1.05], [0.91, -0.56], [1.42, -0.6], [1.87, 1.26], [0.95, -1.82], [1.55, 0.13], [1.47, -1.11], [0.77, -1.38], [1.38, -1.15], [2.05, 1.09], [1.85, 1.49], [1.83, 0.81], [0.54, -0.3], [0.45, -0.32], [1.6, -2.33], [0.99, -0.33], [0.77, -1.2], [1.47, -0.01], [1.04, 0.81], [2.62, -1.33], [2.69, 1.16], [1.14, -1.85], [1.85, 0.85], [1.13, -0.2], [2.0, 1.04], [1.27, 0.25], [0.99, -0.59], [1.57, 1.28], [0.93, -1.2], [1.82, -0.34], [2.41, 0.7], [2.64, 0.45], [0.84, 0.37], [1.11, -1.29], [0.65, -0.46], [1.13, -0.1], [2.86, 0.88], [2.16, -0.53], [0.87, -1.73], [0.65, -1.23], [1.74, -2.31], [0.99, -0.71], [2.39, 1.52], [1.68, 1.43], [1.43, -0.64], [1.36, -2.51], [0.69, -0.31], [0.53, -0.47], [1.74, 1.68], [1.29, -0.25], [0.9, -0.3], [2.57, -0.6], [1.0, -0.42], [2.88, 0.38], [1.87, 1.8], [0.73, -0.91], [0.99, -0.63], [0.76, -0.11], [2.08, 1.33], [2.12, -1.75], [2.54, 0.55], [1.25, -2.53], [1.17, -1.81], [1.76, -1.72], [0.94, -1.87], [2.45, -0.47], [2.02, -1.99], [0.5, -0.45], [2.62, -0.89], [2.44, -1.61], [0.94, 0.59], [1.19, -0.66], [1.52, -1.79], [1.76, 1.87], [0.93, -0.61], [0.93, 0.36], [2.82, -0.06], [1.76, -0.37], [2.39, -1.12], [1.82, 1.88], [1.14, -1.93], [0.76, -0.38], [1.32, -1.28], [1.19, -1.57], [0.76, 0.17], [2.78, -0.08], [1.03, 0.27], [2.17, 1.44], [1.36, -1.11], [2.39, -0.76], [0.96, -1.73], [1.93, -0.37], [0.93, -0.3], [1.65, -0.45], [1.09, -0.34], [2.53, -0.57], [2.17, 1.36], [1.07, -0.94], [1.2, -0.79], [2.07, -1.45], [1.32, 0.74], [1.5, 1.3], [0.64, -0.62], [0.39, -0.41], [1.26, 0.99], [1.76, -0.38], [1.07, -0.18], [2.53, -0.47], [1.38, -0.32], [1.12, -1.35], [1.89, 0.09], [1.28, -1.8], [2.47, 1.04], [0.86, 0.11], [0.86, -0.55], [2.42, -0.62], [1.04, -1.55], [1.01, 0.74], [0.91, -0.04], [2.63, 0.3], [1.26, -2.37], [0.58, -0.56], [1.44, 1.13], [1.49, 1.16], [1.88, -1.98], [1.65, 1.94], [1.43, -1.91], [0.81, 0.48], [0.49, -0.06], [2.11, 0.86], [1.84, -1.01], [1.78, -1.52], [0.85, -0.04], [1.38, 0.91], [1.09, -0.92], [1.33, -0.62], [2.44, -0.41], [1.04, -0.38], [1.72, -0.54], [0.91, -0.05], [2.56, 0.81], [0.5, -0.42], [0.86, -0.91], [1.9, -1.37], [0.65, -0.73], [2.58, -0.7], [1.41, -1.58], [1.2, 1.18], [2.04, 1.93], [2.48, 0.72], [1.3, 0.19], [1.09, 0.42], [1.65, 0.96], [2.8, 0.01], [0.61, -0.96], [2.13, 0.63], [1.43, 0.02], [1.64, -1.17], [2.45, 0.48], [0.5, -0.95], [0.84, 0.1], [0.95, -0.51], [1.55, 0.99], [1.75, -1.2], [0.51, -1.07], [1.17, -1.25], [0.71, 0.31], [2.08, -0.11], [1.78, -0.73], [1.2, -0.49], [0.82, -0.03], [0.5, -0.45], [1.18, 0.82], [0.94, 0.34], [1.16, -0.65], [1.86, 0.82], [1.15, 0.08], [2.17, -0.9], [0.87, 0.35], [1.75, -1.54], [1.76, 0.09], [0.8, -0.98], [1.98, -1.28], [1.09, -0.07], [0.58, 0.11], [2.51, 0.34], [0.84, -0.36], [2.96, -0.43], [1.94, -1.78], [2.12, -1.09], [0.73, -0.11], [1.77, 0.53], [2.25, 0.78], [1.78, -1.83], [2.61, -0.52], [1.4, 0.6], [1.54, -0.83], [0.64, 0.15], [1.31, -1.1], [1.03, -0.44], [1.15, 0.67], [2.2, 1.25], [0.58, 0.14], [2.26, -0.02], [0.9, 0.05], [1.03, -2.11], [1.63, 2.35], [1.97, -2.18], [1.33, 1.08], [0.83, -0.2], [0.78, -0.95], [2.6, 1.2], [1.1, 0.47], [2.23, -1.41], [1.0, -0.93], [0.47, -0.29], [0.68, -0.24], [0.56, -0.6], [1.81, -1.05], [1.87, 0.92], [2.07, 1.82], [0.4, -0.13], [0.71, 0.52], [2.02, 1.07], [1.98, 0.43], [1.26, -2.08], [0.93, -0.71], [2.32, 0.07], [1.06, 0.69], [1.01, -0.07], [2.24, 0.99], [0.6, 0.27], [0.3, -0.42], [1.74, -0.46], [2.07, -0.24], [0.7, -0.05], [1.04, 0.41], [1.59, -0.83], [2.09, -0.74], [2.51, 0.38], [2.61, 0.1], [0.64, -0.29], [1.92, 1.03], [2.56, 1.41], [1.14, 0.14], [1.38, -1.81], [1.57, -0.85], [1.5, 0.12], [2.52, -1.27], [1.1, -0.21], [2.68, 0.67], [1.98, -0.98], [2.41, -0.75], [2.31, 0.18], [1.26, -0.91], [0.36, -0.67], [1.56, -1.53], [1.62, 1.01], [1.4, 1.75], [1.08, -0.51], [1.89, 0.89], [1.28, -0.43], [1.0, -0.71], [0.34, -0.37], [2.09, 0.84], [1.75, 0.08], [2.31, -1.91], [1.0, 0.38], [1.16, 1.38], [0.57, -0.61], [2.86, -0.25], [1.12, 0.63], [2.54, -1.17], [2.56, -0.21], [1.82, -1.24], [0.36, -0.36], [1.88, -1.32], [1.75, 1.12], [1.94, -2.01], [1.88, 1.18], [2.06, -0.86], [0.82, 0.74], [1.73, -2.28], [1.49, 0.61], [1.68, -2.41], [1.74, 2.23], [0.78, -1.28], [2.12, -0.04], [2.46, 0.84], [1.64, -0.09], [2.27, -0.14], [2.17, 0.12], [0.44, -0.03], [1.22, -0.39], [1.51, -2.33], [2.41, 1.66], [1.94, -0.24], [0.71, 0.15], [1.88, -0.55], [2.01, -1.29], [1.66, 0.21], [0.43, -0.33], [2.87, 0.64], [1.43, -2.49], [0.99, -0.68], [0.66, 0.38], [1.3, -0.06], [1.79, 0.29], [1.27, 1.05], [1.76, 0.77], [0.47, -0.24], [1.1, -1.24], [0.84, -1.16], [2.47, -0.95], [1.78, -2.21], [1.24, -0.3], [2.66, -0.03], [2.35, -0.75], [1.16, -1.08], [1.97, -0.45], [1.16, -1.06], [0.82, -1.3], [1.21, -0.37], [2.08, 1.79], [1.35, 0.31], [2.67, 0.09], [1.19, 0.88], [1.33, 0.78], [0.41, -0.43], [0.39, -0.28], [1.11, -1.02], [2.24, -1.17], [2.19, -0.33], [0.74, -0.03], [2.89, 0.71], [1.15, -0.55], [1.16, 0.38], [1.03, -0.35], [1.65, 0.14], [0.64, -0.76], [1.46, 0.74], [0.6, -0.04], [1.65, -2.17], [2.65, -0.42], [2.0, -2.12], [1.72, -1.63], [0.69, 0.2], [2.07, -1.86], [0.71, -1.44], [1.04, 0.01], [1.83, 1.06], [1.76, 1.39], [1.3, -1.39], [0.48, 0.06], [0.66, 0.32], [2.45, -1.57], [1.28, 0.93], [2.46, 0.32], [0.72, 0.2], [2.81, -0.6], [1.73, 1.37], [1.77, 1.73], [1.72, 2.13], [1.27, 0.19], [2.3, 1.71], [2.04, 1.88], [2.35, -1.3], [2.18, 1.67], [0.41, -0.18], [1.58, 0.71], [0.81, -0.21], [2.52, 1.61], [2.98, 0.05], [1.67, 0.18], [2.67, -0.73], [0.98, 0.38], [1.51, -2.12], [1.58, 2.01], [2.7, -0.48], [2.05, -0.5], [1.09, -0.24], [2.25, 1.12], [1.51, 0.79], [2.21, 0.45], [1.01, -1.77], [1.18, -1.17], [1.32, -2.42], [1.54, -0.26], [1.33, -2.05], [0.83, 0.15], [1.07, 0.06], [1.95, 1.44], [0.52, -0.7], [1.51, -0.35], [0.93, -0.43], [1.13, -1.19], [2.3, -0.45], [1.21, 1.2], [2.5, 0.63], [1.07, -0.33], [2.56, 0.13], [1.16, 0.77], [2.04, -1.08], [1.0, -0.42], [2.46, 0.87], [1.96, -0.6], [2.26, 1.48], [2.34, 0.15], [2.07, -0.83], [1.56, 2.07], [2.2, 1.91], [1.35, 0.03], [1.25, -0.17], [2.79, -0.86], [1.2, -0.91], [1.41, -1.55], [1.16, -1.71], [1.86, -2.34], [1.08, 0.78], [2.69, -0.55], [1.12, 0.05], [0.58, -0.54], [1.26, -2.03], [1.01, -0.73], [0.72, -0.03], [0.57, -0.1], [1.32, 1.38], [0.52, -0.07], [1.28, -0.88], [1.04, -1.57], [0.58, -0.19], [1.09, 0.73], [2.09, 0.37], [1.73, -0.75], [1.1, 0.83], [1.24, 0.82], [0.53, 0.03], [2.87, 0.57], [1.45, -0.06], [0.52, -0.26], [0.75, -0.3], [0.64, -0.55], [1.77, 0.87], [0.98, 0.07], [1.36, -1.0], [1.92, -1.73], [2.39, 1.21], [1.83, -2.33], [0.72, -0.45], [0.66, -1.01], [2.18, -1.68], [1.88, 0.47], [2.8, -0.18], [0.53, -0.57], [1.46, -1.72], [2.21, -1.88], [1.14, 1.1], [0.96, -0.14], [1.45, 0.83], [1.38, -1.42], [2.57, 1.37], [2.57, -0.41], [1.33, -1.42], [1.58, 2.1], [0.44, -0.35], [1.95, 0.35], [0.77, 0.27], [1.59, 1.12], [0.64, -0.17], [0.6, -0.4], [1.8, 0.95], [1.08, -1.42], [1.72, -0.33], [1.9, 1.56], [0.81, -1.35], [0.76, 0.51], [1.8, -1.47], [1.68, -2.12], [2.91, 0.38], [1.22, -1.55], [1.06, -0.18], [1.84, -0.54], [2.57, -0.57], [0.93, -0.04], [1.51, 0.4], [2.33, -0.47], [1.83, -0.39], [0.87, 0.3], [0.75, 0.0], [1.26, -1.55], [0.7, 0.42], [0.59, -0.02], [1.46, 0.87], [1.96, -0.85], [1.65, 0.29], [1.22, -0.33], [2.42, 0.09], [0.98, -0.98], [0.94, -1.71], [0.54, -0.72], [1.45, 0.06], [1.81, 0.0], [0.66, -1.16], [1.43, -0.38], [1.35, 0.24], [1.46, -1.16], [2.62, 0.72], [1.37, -0.33], [1.07, -0.12], [0.93, -1.19], [1.67, -0.97], [2.09, -1.02], [0.29, -0.38], [1.31, -0.57], [1.69, 0.72], [1.91, 1.67], [2.05, 1.01], [0.85, -0.45], [1.72, -0.12], [0.85, -0.67], [0.85, -1.49], [0.67, -0.35], [2.01, -2.1], [1.54, 0.78], [1.69, -2.23], [1.96, 0.73], [1.08, 0.91], [0.69, -0.39], [1.0, 0.19], [1.77, -0.91], [0.51, -0.49], [2.55, 1.26], [1.74, -1.19], [2.83, -0.34], [1.45, 0.8], [0.77, -0.27], [1.71, -2.36], [2.35, -1.78], [1.82, -1.54], [2.15, 0.2], [1.01, 0.28], [0.66, 0.35], [0.57, -0.34], [1.72, -1.24], [0.68, -0.1], [1.84, 2.28], [2.41, -1.27], [0.62, -1.14], [0.9, 0.74], [1.77, -2.18], [0.64, 0.38], [0.77, -0.31], [0.66, -0.83], [0.31, -0.3], [1.84, -0.31], [2.48, -1.16], [1.8, 0.29], [2.13, 0.44], [0.62, -0.27], [0.45, -0.75], [1.14, 1.14], [1.26, 0.27], [1.75, 1.92], [2.37, -1.33], [1.97, 1.83], [1.42, -1.06], [2.13, 0.62], [0.44, -0.75], [2.43, -1.41], [2.32, 1.35], [0.73, 0.51], [1.39, -1.05], [0.71, -1.06], [0.63, -0.04], [0.65, -0.57], [2.58, -1.47], [2.36, -1.66], [2.5, 0.1], [0.6, 0.1], [1.6, -0.61], [0.43, -0.77], [1.64, 1.35], [0.75, -1.1], [1.96, -2.24], [1.16, -0.59], [2.17, -0.98], [1.86, 0.42], [2.45, -0.78], [1.53, 0.69], [1.66, -1.54], [1.04, 0.93], [1.81, -1.5], [2.15, 0.86], [1.74, -0.59], [2.15, 0.27], [0.44, -0.53], [1.68, 1.65], [0.88, -1.59], [0.81, 0.12], [1.65, -0.35], [1.48, 0.16], [0.97, -1.1], [1.66, 1.29], [1.79, -0.96], [2.56, -1.09], [2.67, 1.2], [0.74, -0.36], [1.91, 1.43], [1.45, 0.49], [1.24, 1.13], [1.88, -1.69], [2.73, -0.79], [1.07, -1.85], [0.9, -1.42], [1.08, 0.17], [1.07, -0.43], [1.32, 0.09], [1.6, -0.86], [0.81, 0.17], [1.15, -2.32], [2.69, -1.31], [0.36, -0.28], [1.34, 0.94], [0.58, -0.06], [1.33, -2.17], [1.46, -0.98], [1.46, -0.53], [1.13, -0.44], [1.05, -1.71], [2.27, 0.98], [1.15, 0.67], [0.82, 0.02], [1.9, 1.06], [0.4, -0.35], [2.44, 0.57], [1.15, -2.09], [1.95, 1.25], [0.79, -0.48], [2.41, 0.33], [0.38, -0.65], [2.59, -0.48], [2.19, -1.89], [0.56, -0.21], [2.22, -0.39], [2.82, -0.73], [1.59, 2.12], [1.71, -1.04], [1.04, -1.85], [1.58, 1.65], [1.55, 1.73], [1.97, -1.47], [0.81, -1.64], [1.22, -0.33], [0.7, -1.2], [1.79, 1.02], [2.08, 1.54], [1.58, -0.19], [1.62, -0.71], [0.81, 0.25], [1.06, 1.02], [0.97, 0.11], [2.03, -0.36], [1.12, -1.89], [0.99, 0.52], [1.77, 2.34], [2.45, 1.32], [2.82, 0.4], [1.86, -1.68], [0.45, -0.58], [1.72, -1.09], [1.23, 0.15], [0.97, 0.11], [0.8, 0.34], [1.74, -2.32], [1.1, -0.11], [1.65, -0.28], [0.35, -0.19], [1.71, -0.08], [2.16, -1.91], [0.94, -1.15], [0.96, -0.63], [0.92, -0.33], [1.46, -1.31], [0.29, -0.39], [0.85, -0.46], [2.39, -0.15], [1.48, -0.26], [1.39, 1.17], [1.99, 0.41], [2.0, -2.21], [1.01, -2.07], [1.03, -2.01], [2.04, -1.24], [1.19, -0.87], [1.22, -0.03], [0.57, -0.75], [0.97, -0.34], [2.32, -1.42], [1.36, -2.14], [0.8, 0.58], [1.51, 0.68], [2.03, -2.09], [1.6, 0.59], [1.77, 0.46], [2.5, 1.06], [2.03, 1.71], [0.86, -0.27], [0.5, -0.55], [2.81, -0.4], [1.39, -0.23], [1.19, -0.6], [2.84, -0.79], [1.29, -0.58], [0.56, -0.72], [1.04, -0.21], [1.9, 0.56], [1.54, 1.14], [1.5, 1.68], [2.29, 0.32], [2.15, 0.98], [1.64, -2.16], [2.31, -0.38], [1.62, -0.86], [2.25, -0.1], [1.62, -1.51], [1.71, 0.23], [2.48, 0.1], [0.67, 0.08], [1.9, -1.78], [1.78, 0.3], [1.31, -1.94], [1.75, 2.05], [1.86, -1.13], [1.64, 1.57], [1.07, 1.01], [2.39, -0.22], [1.05, 0.89], [2.41, 0.11], [0.67, -1.11], [0.52, -0.74], [2.23, 0.9], [1.32, -1.48], [2.67, -1.13], [1.9, -1.97], [1.08, 0.33], [1.0, -1.27], [1.2, 1.35], [1.36, 1.42], [1.94, 2.06], [1.0, 0.68], [1.98, -0.33], [1.7, -1.52], [0.96, -0.64], [0.57, 0.18], [2.33, 0.51], [1.01, 0.42], [0.64, -0.66], [2.26, 1.3], [2.79, -1.08], [1.0, -1.21], [1.25, -1.88], [0.84, -0.28], [2.37, -1.7], [1.1, -0.87], [1.85, 2.12], [0.75, 0.0], [1.63, -0.86], [1.01, -2.06], [2.61, 1.24], [1.58, 1.55], [0.43, -0.16], [1.51, 1.13], [2.65, 1.26], [0.87, -0.55], [1.06, 0.91], [2.39, 1.81], [1.23, -0.29], [1.52, -2.53], [1.02, -0.52], [2.27, -0.9], [2.11, -1.15], [1.31, 0.41], [0.79, -0.04], [1.44, -2.13], [1.74, 1.29], [2.28, 1.74], [2.61, 1.48], [1.47, -2.56], [0.73, 0.06], [1.82, 0.24], [0.65, -1.06], [2.25, -1.89], [2.39, -0.27], [2.27, -1.65], [0.39, -0.11], [1.89, -2.28], [2.03, 2.13], [1.39, -0.13], [1.98, 0.86], [2.77, -1.04], [2.02, -2.0], [1.83, 0.08], [2.14, 2.0], [2.41, 1.51], [1.09, -1.03], [1.8, 0.23], [1.55, -0.36], [1.15, 0.03], [2.67, 0.47], [0.54, -0.16], [1.9, -1.97], [1.64, -1.34], [0.39, -0.37], [2.26, -0.88], [2.76, -0.05], [2.58, -1.06], [2.39, -1.38], [1.27, 0.91], [1.33, 1.03], [2.31, -0.11], [0.87, -0.3], [0.87, 0.27], [2.34, 0.8], [1.55, -1.58], [2.55, -0.83], [0.55, -0.29], [0.72, 0.02], [2.95, -0.29], [0.52, -0.99], [1.23, -1.42], [1.99, -1.43], [1.2, -0.84], [0.72, -0.27], [1.17, -2.38], [1.58, -0.51], [1.41, -0.04], [0.28, -0.48], [2.1, -0.93], [0.97, -0.33], [2.63, -0.85], [0.67, 0.31], [1.8, 2.27], [1.93, 0.72], [1.01, -0.46], [1.79, -0.74], [2.93, -0.61], [0.81, -0.75], [2.4, 0.32], [0.57, -0.89], [1.18, -0.45], [1.39, -1.41], [1.52, 1.23], [0.62, 0.2], [0.86, -0.4], [1.68, -0.75], [0.56, -0.75], [0.5, -0.35], [0.59, -0.92], [1.47, -0.94], [0.67, -1.26], [1.35, 1.0], [0.37, -0.27], [2.06, -0.22], [2.41, -1.67], [2.05, 0.26], [2.29, -1.8], [1.61, -0.56], [2.23, -1.95], [2.37, -0.11], [2.66, 0.27], [0.34, -0.46], [1.27, -0.74], [2.18, 0.57], [1.45, 0.8], [2.0, 2.15], [1.13, 0.14], [0.94, -0.64], [1.96, 0.45], [2.36, -1.43], [1.72, 1.02], [1.84, 1.59], [1.0, 0.5], [1.52, 1.47], [1.81, -0.14], [0.53, 0.02], [2.01, 1.1], [0.57, -0.0], [1.66, -2.4], [2.37, 0.21], [0.97, 0.66], [1.17, 0.16], [2.68, 1.06], [0.89, 0.4], [0.92, 0.08], [1.24, 0.52], [0.65, -0.68], [2.52, -1.47], [0.68, -0.12], [1.28, 0.72], [0.77, -0.21], [1.58, 1.99], [0.69, 0.27], [0.66, -1.29], [0.87, -1.73], [1.73, -0.47], [1.6, 1.51], [1.93, 0.31], [1.12, -1.22], [2.02, 0.74], [1.0, -0.18], [1.08, -2.19], [0.66, -0.41], [0.37, -0.56], [0.63, 0.17], [1.03, -1.09], [1.78, 0.33], [2.33, 0.62], [1.77, 0.63], [1.27, -0.69], [2.19, -0.4], [2.69, -1.22], [0.48, -0.22], [1.65, 1.41], [1.67, 0.24], [1.91, 0.8], [1.57, -1.18], [2.54, -0.66], [1.63, 0.46], [1.04, -1.31], [1.78, -1.26], [2.29, -0.24], [1.56, -1.3], [0.65, 0.39], [1.8, 2.11], [0.79, -0.66], [2.57, -1.45], [1.02, -1.39], [2.35, -0.34], [0.54, -1.06], [1.18, -2.37], [1.63, -0.1], [2.07, -0.79], [0.58, -0.96], [1.45, -0.61], [1.36, -2.32], [2.56, 1.25], [0.74, -1.45], [2.01, 1.39], [1.69, 1.19], [1.45, -0.26], [1.88, 1.08], [0.91, 0.2], [1.52, -1.78], [1.23, -0.53], [1.75, -0.89], [1.68, 0.53], [0.72, -0.51], [2.33, 0.08], [1.56, 0.2], [1.12, 0.88], [2.38, -1.32], [1.12, -0.02], [1.41, 1.56], [2.64, 0.15], [1.8, 2.1], [1.54, -1.85], [1.4, 0.64], [1.69, -0.13], [0.58, -0.92], [1.21, 0.47], [1.61, -1.7], [1.98, 0.35], [1.06, -0.49], [1.48, -1.25], [2.3, 1.36], [0.79, -0.45], [1.42, -1.5], [1.24, 0.79], [1.42, -0.93], [0.71, -1.38], [1.48, 1.77], [0.57, 0.01], [2.55, -1.12], [1.22, 0.4], [1.77, -0.2], [2.39, 0.85], [1.84, -0.93], [2.09, 1.43], [1.09, -1.0], [0.67, -0.29], [1.17, -1.54], [1.66, -2.42], [2.32, 1.47], [1.74, 1.14], [1.24, -0.56], [2.71, -0.81], [2.51, -0.96], [0.99, 0.98], [1.41, -1.81], [1.62, -1.91], [1.03, 0.46], [1.38, 0.0], [2.75, -0.67], [1.3, 0.13], [1.57, -1.78], [0.68, 0.07], [1.03, -0.94], [2.55, -0.87], [0.78, -0.41], [1.32, 0.46], [0.98, -1.06], [0.44, -0.23], [0.44, -0.02], [0.65, 0.1], [2.74, -0.56], [0.88, 0.24], [0.56, -0.17], [2.36, 1.04], [1.29, 0.57], [2.76, -0.33], [1.69, -2.31], [1.87, -1.57], [0.9, -1.52], [1.32, 0.94], [0.86, 0.38], [1.0, -0.84], [0.5, -0.7], [2.08, 1.18], [1.62, 0.09], [2.38, -0.45], [0.53, 0.01], [1.97, 2.19], [0.5, -0.95], [0.77, -0.62], [1.7, 0.42], [1.84, -0.14], [1.5, 1.03], [1.19, -1.6], [1.05, 0.84], [0.58, -0.24], [0.46, -0.6], [1.24, -0.26], [2.35, 0.11], [1.2, -0.35], [1.58, 2.13], [2.62, -0.73], [1.84, -0.07], [2.28, -0.74], [2.47, -1.18], [1.29, -0.4], [2.33, -0.62], [2.81, 0.94], [2.29, 1.61], [2.6, -0.28], [2.05, 1.18], [0.68, -0.03], [1.78, -0.79], [2.54, -0.49], [2.18, 1.29], [0.49, -0.82], [0.85, 0.3], [0.4, -0.09], [2.91, 0.42], [1.91, -2.04], [0.42, -0.35], [0.9, -1.39], [1.1, -0.62], [1.68, -0.56], [1.12, 0.89], [1.0, -1.15], [0.59, 0.23], [0.73, -0.46], [1.2, -0.17], [2.9, 0.75], [0.66, -0.72], [1.76, -1.88], [1.25, -0.41], [1.13, -1.94], [1.65, -1.9], [0.79, -0.18], [1.57, 1.74], [1.65, -0.14], [1.0, -1.18], [2.65, 1.11], [2.11, 1.68], [2.7, -0.73], [1.06, -1.36], [2.46, -1.26], [2.88, 0.06], [0.58, 0.01], [1.64, -0.41], [0.55, -0.42], [0.41, -0.46], [1.83, 0.9], [1.31, -0.2], [1.46, 1.67], [1.63, -0.85], [0.67, -0.27], [1.22, 0.89], [2.09, 0.0], [2.07, -0.9], [1.25, 0.51], [0.24, -0.41], [0.51, 0.12], [0.7, -1.05], [1.12, 0.55], [1.47, 0.94], [2.09, 0.73], [2.45, 0.81], [1.51, 1.82], [2.0, 1.1], [1.01, -0.05], [1.97, 0.34], [2.4, 0.37], [0.95, 0.18], [1.92, 1.36], [0.94, -0.07], [0.59, 0.2], [2.57, -1.04], [1.88, 0.06], [0.74, 0.32], [2.28, 1.29], [1.16, -0.13], [1.17, 0.32], [0.98, 0.57], [2.02, -1.14], [1.91, 0.78], [2.0, 0.48], [2.39, 0.9], [1.9, -1.73], [1.6, -0.9], [1.76, -2.02], [0.55, 0.04], [1.24, 1.29], [0.65, -0.34], [1.59, 1.49], [1.13, 1.1], [0.92, -1.5], [1.7, -0.65], [1.91, -0.84], [0.55, -0.69], [1.62, 1.69], [2.22, 1.38], [0.46, 0.08], [0.85, -0.64], [1.52, -1.07], [2.48, -0.25], [2.33, -0.22], [1.78, -2.08], [2.45, 0.28], [1.97, -0.85], [1.18, -0.45], [1.34, -1.44], [0.93, -1.69], [1.3, -1.11], [2.56, -0.77], [1.96, 1.58], [0.68, -0.02], [1.03, 0.02], [2.69, -0.31], [2.37, 0.45], [1.37, 0.92], [1.28, -2.31], [1.29, -1.94], [0.48, -0.66], [2.06, -1.52], [0.24, -0.43], [2.18, 1.97], [1.06, -0.38], [1.83, 0.67], [1.66, 0.91], [1.98, 0.98], [1.15, 0.41], [1.36, 1.72], [1.48, 0.16], [2.19, 1.43], [2.45, -1.29], [1.69, -0.19], [1.87, -0.79], [0.98, -0.45], [0.55, -0.26], [1.04, -0.61], [2.72, -0.07], [1.34, -2.62], [2.48, 0.77], [0.59, -1.04], [1.84, -1.25], [0.97, -1.66], [1.93, -1.86], [1.21, -2.33], [0.31, -0.43], [0.68, 0.13], [2.33, 0.34], [1.36, -0.05], [0.66, -0.27], [1.44, 1.89], [0.29, -0.46], [1.0, 0.09], [2.8, -0.2], [1.54, 0.76], [1.72, 0.43], [0.47, 0.05], [1.77, -0.28], [0.75, -0.68], [0.95, -0.74], [1.82, 0.3], [0.43, -0.31], [0.85, -1.63], [1.96, -0.61], [1.8, -2.17], [1.67, 1.32], [2.74, -0.77], [1.09, 0.94], [2.45, 0.59], [1.71, 1.36], [0.89, -1.3], [0.77, -0.2], [1.19, -1.72], [2.26, -0.73], [1.04, 0.23], [0.35, -0.12], [2.04, 0.81], [0.89, -1.31], [0.65, -0.82], [0.91, 0.35], [2.64, -0.71], [2.39, -0.49], [1.67, 1.93], [1.79, 1.93], [1.84, -1.66], [0.73, 0.54], [0.93, -1.27], [1.47, -0.05], [0.67, -0.04], [1.1, 0.04], [0.49, 0.08], [1.17, 0.71], [0.91, -0.35], [1.02, 0.97], [1.9, 0.8], [2.68, -0.75], [2.11, -1.94], [0.84, -1.01], [1.94, 1.38], [1.07, -1.25], [1.17, -1.03], [1.18, -1.92], [2.31, -0.04], [1.06, -1.36], [0.25, -0.42], [2.09, -1.55], [2.42, 1.6], [2.03, -1.03], [0.54, -0.24], [1.67, 0.4], [1.82, 1.39], [1.99, 0.11], [0.45, -0.05], [0.95, -1.5], [2.12, -0.44], [1.44, 1.5], [2.38, 1.67], [2.49, -0.96], [2.79, -0.17], [0.68, 0.1], [1.63, -1.87], [1.31, 1.3], [1.02, -0.66], [0.72, -0.58], [1.22, 0.53], [0.39, -0.64], [2.02, -1.26], [0.74, -0.79], [1.67, 0.26], [0.42, -0.43], [1.15, -0.64], [1.54, 0.84], [2.88, 0.59], [1.95, 0.24], [1.19, -1.47], [2.16, 0.95], [1.77, 0.48], [1.91, -0.12], [1.34, -0.04], [2.13, 0.2], [0.42, -0.26], [2.31, 1.57], [2.61, -1.1], [1.75, -1.55], [2.23, 1.89], [2.13, -0.51], [2.71, -0.61], [1.73, -2.34], [2.41, -1.17], [0.78, -0.73], [0.52, 0.04], [1.36, 0.41], [1.39, -2.11], [1.03, 0.28], [2.6, 0.74], [2.19, 1.74], [2.08, -1.84], [1.84, 2.3], [0.56, -1.09], [0.3, -0.28], [2.25, -0.13], [0.83, 0.35], [1.5, -1.53], [0.73, 0.21], [0.49, 0.07], [0.7, -0.46], [1.67, 0.3], [1.91, -1.18], [2.36, -0.07], [1.0, -1.58], [1.64, -0.91], [1.55, -0.53], [1.17, -0.18], [1.04, -0.48], [0.86, 0.55], [1.8, 0.97], [2.31, 0.95], [1.56, -1.77], [2.25, 0.73], [1.34, -1.07], [0.69, -0.87], [1.97, 0.69], [1.53, -1.41], [0.9, 0.66], [1.49, -0.26], [1.54, -0.43], [2.12, 0.84], [0.37, -0.37], [2.4, 0.21], [1.95, 1.01], [0.43, -0.16], [2.55, 0.5], [1.04, -1.49], [0.95, 0.26], [1.52, -2.16], [2.57, 0.19], [1.54, -1.79], [2.09, -1.42], [0.75, -0.22], [2.05, 0.2], [0.94, -0.04], [1.85, 1.17], [0.96, -1.7], [2.33, 1.77], [1.97, -0.18], [1.65, 0.53], [0.45, -0.23], [1.77, 1.69], [0.69, 0.06], [1.29, -0.82], [0.61, -0.35], [1.32, 0.78], [1.38, 0.42], [1.19, -1.51], [1.18, -1.31], [1.17, -2.06], [0.58, 0.13], [0.62, -1.04], [1.69, -0.52], [2.05, 0.25], [2.13, 1.36], [0.67, -0.03], [2.31, 0.22], [1.17, 1.07], [2.36, 0.46], [0.95, -1.42], [0.37, -0.14], [1.68, -1.56], [0.27, -0.49], [2.92, 0.27], [2.52, -0.93], [1.24, 0.61], [1.33, -0.37], [1.22, -0.48], [0.94, -0.35], [0.68, -0.41], [1.67, 1.82], [1.78, 1.81], [1.6, 1.97], [0.99, -0.73], [1.31, -0.42], [0.81, -1.15], [2.54, -1.12], [1.45, 0.94], [1.81, -0.29], [1.48, -2.21], [1.89, 1.55], [2.31, 1.28], [1.61, 0.56], [1.16, 0.56], [0.74, -0.21], [1.29, 0.78], [0.82, -0.93], [2.21, -0.62], [2.3, -0.6], [1.77, -1.26], [0.7, 0.33], [1.01, 0.3], [2.31, -0.43], [2.67, -0.06], [1.37, -0.63], [2.11, -1.14], [0.96, 0.29], [1.16, 0.92], [2.45, 1.66], [0.98, 0.12], [2.13, 0.32], [1.92, -0.41], [0.83, 0.17], [1.42, -0.4], [0.78, -1.15], [1.04, 0.02], [2.44, -1.01], [1.5, 0.64], [2.86, -0.82], [2.24, -1.81], [2.69, 1.05], [1.91, -0.54], [1.47, 0.03], [1.99, -0.69], [2.0, 0.94], [1.0, -0.78], [2.29, 0.08], [1.0, 0.62], [0.76, -0.37], [1.21, -0.63], [2.74, 0.82], [1.77, -1.61], [0.32, -0.28], [1.22, 0.65], [1.99, -1.26], [1.38, 0.93], [1.02, -0.05], [1.94, -1.43], [1.27, 0.87], [0.36, -0.58], [0.98, 0.8], [1.03, -0.31], [0.61, 0.14], [2.67, 0.88], [1.46, 1.58], [1.83, 1.88], [2.25, 0.6], [1.22, -1.86], [1.48, -2.29], [0.89, -0.73], [1.33, 0.77], [1.62, 1.89], [1.12, -1.54], [1.54, -0.45], [1.76, -0.57], [1.55, 0.91], [2.9, -0.63], [2.76, -0.95], [1.49, 0.56], [2.2, 1.19], [0.92, -1.29], [1.46, -0.85], [1.89, -1.47], [1.55, -1.11], [1.02, -0.35], [0.91, 0.49], [1.44, -0.94], [2.51, -1.27], [0.8, -0.46], [0.87, 0.54], [0.3, -0.45], [0.43, -0.57], [0.78, -0.35], [2.86, -0.04], [2.28, -0.89], [1.6, 0.58], [2.03, 1.96], [1.21, -2.48], [2.34, 1.53], [1.09, -1.62], [1.74, -1.74], [2.09, 1.76], [0.99, -0.48], [2.0, -1.12], [2.55, 1.55], [0.5, -0.32], [1.45, -1.85], [1.03, -0.22], [1.55, -1.23], [1.09, 0.01], [1.97, -1.54], [2.79, 0.89], [0.54, 0.16], [1.1, 1.04], [1.57, 1.13], [2.81, -0.87], [1.26, -1.55], [0.71, -1.09], [1.48, -1.81], [1.33, -0.74], [1.07, -1.32], [0.63, -0.03], [2.2, -0.72], [1.97, 0.17], [2.02, 0.85], [1.53, 0.74], [0.89, -0.5], [1.8, 1.24], [0.78, 0.49], [1.6, -0.62], [1.14, -0.4], [1.32, 1.44], [2.02, -0.53], [1.56, -0.36], [2.6, -1.11], [1.27, -1.94], [1.69, -0.07], [1.26, 0.01], [2.35, -1.23], [2.08, 1.3], [2.16, 0.52], [1.67, -0.26], [1.36, 1.59], [2.55, -0.2], [1.98, -1.04], [2.41, 1.19], [1.59, -0.77], [0.57, -0.55], [2.72, -1.17], [0.51, -0.63], [2.68, 0.13], [0.8, 0.22], [0.4, -0.19], [1.63, -2.01], [1.62, -0.38], [1.62, -0.85], [0.74, -0.27], [0.37, -0.46], [0.69, 0.08], [2.32, 0.48], [1.95, -0.14], [1.68, 1.06], [0.73, 0.31], [0.91, -0.04], [1.44, -2.45], [1.87, -0.07], [0.65, -0.03], [0.5, -0.48], [0.26, -0.34], [2.65, 0.97], [0.8, 0.15], [2.07, -1.17], [1.55, 0.47], [1.36, 0.14], [0.67, -0.39], [1.03, -0.93], [1.67, -0.96], [1.8, -2.11], [1.03, 0.33], [0.41, -0.22], [1.38, -0.47], [2.02, 0.54], [1.65, -0.18], [2.61, 0.85], [1.59, -2.05], [2.35, -1.59], [2.55, 0.35], [0.83, -0.79], [2.63, -0.71], [0.87, -0.13], [1.5, 0.17], [0.98, -0.68], [1.7, -0.58], [0.79, -0.69], [2.1, 1.22], [1.31, 1.46], [2.5, 1.2], [2.21, -0.64], [1.54, 1.22], [1.25, -1.7], [2.21, 1.28], [2.06, 1.39], [1.59, -1.43], [0.89, -0.05], [2.29, 0.12], [0.76, 0.62], [1.68, 1.87], [2.38, 0.01], [1.29, -0.76], [0.77, -1.36], [1.54, -1.64], [1.67, 1.43], [2.54, -1.05], [0.87, -1.02], [0.56, -1.08], [0.9, -0.89], [2.05, 0.27], [2.81, 0.09], [0.33, -0.41], [1.11, -1.02], [1.58, -1.26], [0.45, -0.41], [2.67, -0.62], [0.56, -0.1], [1.03, -0.19], [2.84, 0.35], [1.3, -0.96], [1.58, 1.16], [2.23, 1.86], [2.46, -0.14], [0.38, -0.31], [1.33, 0.08], [1.21, 0.51], [1.36, 0.7], [0.89, 0.71], [0.7, -0.69], [0.49, -0.04], [0.29, -0.45], [2.63, 0.01], [1.12, -1.93], [0.82, 0.64], [0.71, -0.07], [1.7, 2.32], [0.61, 0.19], [2.89, 0.31], [1.29, -0.08], [1.71, 1.47], [0.79, -0.44], [0.39, -0.08], [1.61, -0.47], [2.22, -1.06], [1.55, -0.98], [1.41, -2.54], [1.28, -2.37], [2.09, 0.77], [2.64, -0.92], [1.96, 0.89], [0.97, -0.14], [0.92, 0.41], [2.42, 0.82], [0.89, 0.27], [1.12, 0.74], [1.8, 1.53], [2.56, -1.44], [2.17, 0.99], [2.48, 0.15], [1.96, -0.97], [1.01, -0.18], [1.22, 1.03], [0.42, -0.29], [2.15, -0.89], [1.63, -1.17], [1.77, -1.73], [0.76, -0.63], [2.03, -1.53], [1.3, -2.09], [0.98, 0.09], [2.71, -0.6], [2.36, 0.34], [0.95, -1.43], [1.42, -2.06], [1.79, -2.12], [0.45, -0.83], [2.87, 0.19], [0.92, -0.09], [1.57, 1.5], [2.89, -0.45], [0.7, -1.08], [0.7, 0.52], [1.0, -1.29], [0.76, -0.45], [1.39, -0.01], [1.81, -0.6], [2.86, -0.45], [1.95, 0.47], [1.43, 0.41], [2.24, -1.28], [0.52, 0.01], [1.62, 1.37], [1.12, -2.01], [2.88, 0.39], [2.36, -0.22], [1.36, 0.59], [1.79, 1.2], [2.17, 1.86], [2.03, -2.08], [1.44, -1.13], [1.94, 0.72], [1.55, 1.11], [1.39, 1.77], [2.58, -0.28], [0.42, -0.18], [1.74, 0.39], [0.97, -0.77], [1.13, 1.29], [1.37, 0.23], [1.25, 1.03], [2.05, -1.09], [1.39, -0.32], [0.77, 0.03], [2.45, -0.34], [1.38, 1.71], [2.02, -0.85], [1.06, -2.14], [1.25, -0.66], [1.23, 0.66], [2.88, 0.44], [1.9, 2.12], [0.5, -0.95], [1.55, -0.45], [2.13, -2.03], [1.26, -0.82], [2.22, 0.33], [2.9, -0.43], [1.17, 0.33], [2.11, -0.94], [0.57, -0.21], [2.45, -0.71], [2.04, -0.9], [2.85, -0.2], [2.43, -0.91], [2.63, 0.87], [2.06, 1.43], [2.18, 1.5], [0.95, 0.18], [1.71, -0.63], [1.71, 2.02], [1.28, 0.83], [1.72, -0.94], [1.58, 2.15], [1.63, -1.0], [0.64, -0.2], [1.92, 1.3], [1.58, -0.51], [1.02, -0.17], [1.98, 0.22], [1.37, 0.28], [1.45, 0.86], [2.13, 0.4], [1.39, 1.39], [2.12, -1.73], [2.55, -0.2], [1.84, 0.29], [0.97, 0.98], [1.13, -0.35], [1.52, -0.13], [1.21, -1.73], [2.85, -0.3], [2.56, -0.04], [2.85, 0.66], [1.19, 0.97], [2.03, 1.23], [2.01, 0.03], [1.21, -0.05], [1.4, -2.01], [0.54, -0.02], [0.89, 0.82], [1.4, -0.5], [1.77, 1.29], [0.8, -0.83], [0.61, -0.05], [1.94, 0.8], [1.06, 0.82], [0.88, -1.65], [0.7, 0.44], [0.58, -0.24], [1.24, -0.69], [2.05, -1.01], [1.91, -0.76], [1.44, 0.48], [1.58, 1.13], [1.08, -1.58], [2.74, 0.39], [0.82, -1.34], [2.04, 0.36], [1.41, 1.19], [0.46, -0.07], [1.59, -1.26], [1.28, -1.21], [0.75, -0.06], [1.01, -1.11], [1.95, 0.18], [2.06, -2.03], [1.81, -0.08], [0.45, -0.64], [1.61, -2.22], [0.31, -0.3], [1.42, -2.28], [2.78, 0.08], [2.84, -0.37], [0.37, -0.29], [1.22, -1.72], [1.15, -1.3], [2.73, 0.18], [1.29, 0.62], [2.38, -1.02], [0.81, 0.54], [0.93, -0.24], [1.25, 1.05], [1.2, 0.62], [1.18, 1.33], [0.89, 0.63], [2.31, -0.13], [1.61, 0.52], [2.66, -0.31], [1.95, 0.13], [0.31, -0.53], [1.18, -0.25], [0.94, -1.56], [0.78, 0.15], [1.37, -0.77], [1.55, 0.25], [1.17, -2.0], [0.57, 0.03], [1.87, 0.98], [2.46, 0.43], [0.41, -0.15], [1.82, 1.38], [1.28, -2.14], [0.83, -0.75], [0.52, 0.11], [1.01, 0.77], [0.33, -0.42], [0.53, 0.1], [2.42, 1.66], [1.52, 0.61], [0.92, -0.99], [1.7, -1.52], [2.13, -1.14], [2.43, 1.34], [1.57, -1.33], [0.81, -0.31], [0.28, -0.47], [0.98, -0.56], [0.67, 0.02], [2.45, 0.99], [0.97, -0.08], [2.29, 1.4], [0.86, 0.78], [1.67, -0.26], [1.75, -0.25], [2.24, 0.04], [2.26, -0.09], [2.45, -0.63], [0.53, -0.48], [0.76, 0.16], [2.35, 0.61], [2.01, -1.35], [2.01, 1.74], [0.54, -0.41], [0.69, -0.96], [1.61, 0.07], [1.79, 1.74], [2.22, 1.42], [2.19, 0.83], [1.53, -1.01], [0.96, -0.64], [0.84, -0.59], [0.61, 0.32], [0.5, -0.65], [1.75, -1.17], [0.99, -0.81], [1.69, 0.28], [0.57, -0.58], [1.91, 0.8], [0.68, -0.82], [1.2, -0.69], [1.11, -0.18], [1.24, 1.24], [1.56, -1.56], [1.54, 0.85], [1.11, -0.49], [1.42, -1.32], [2.39, 1.53], [0.65, -1.16], [1.05, -0.25], [1.0, -1.66], [0.69, 0.08], [1.97, 1.0], [1.52, 0.92], [2.77, 0.84], [0.39, -0.18], [1.99, -1.04], [2.58, -0.4], [1.71, 0.11], [0.91, -1.76], [1.26, -1.58], [2.8, 0.22], [1.09, 0.72], [0.85, 0.61], [0.7, -0.51], [0.51, -0.3], [1.24, -0.96], [0.39, -0.49], [0.89, 0.42], [0.76, -1.27], [0.64, -0.58], [1.1, 1.27], [1.99, 0.53], [1.02, 0.02], [1.09, -0.95], [0.49, -0.18], [2.38, 0.24], [1.09, -1.57], [1.63, -2.07], [0.95, 0.58], [1.55, 0.11], [0.55, -0.4], [1.2, 0.17], [2.04, 1.92], [1.64, -1.02], [1.35, 0.41], [1.02, -1.11], [0.97, -0.03], [1.99, 0.28], [0.99, -1.84], [1.81, 0.7], [1.15, 0.22], [2.07, 0.97], [2.12, 0.41], [1.98, 1.2], [0.88, -0.24], [1.8, -0.12], [0.84, 0.1], [1.93, 0.99], [1.08, 0.91], [2.0, 1.74], [1.56, 1.18], [1.74, -0.94], [1.6, -1.14], [2.16, -0.86], [0.44, -0.42], [0.54, -0.82], [1.87, -0.65], [0.44, 0.05], [0.32, -0.4], [1.26, -0.05], [0.54, 0.02], [2.57, -1.29], [0.77, -0.43], [1.03, 0.28], [1.74, -1.77], [2.88, -0.02], [1.2, 1.27], [2.26, -1.41], [0.33, -0.23], [0.73, 0.24], [0.88, -0.71], [2.71, -0.25], [1.87, -0.63], [0.79, -0.9], [1.13, -0.65], [2.29, -0.78], [1.93, -1.49], [1.21, -0.07], [2.64, 0.49], [2.08, -0.28], [0.4, -0.19], [2.17, 0.98], [1.57, -2.08], [1.19, 1.31], [0.57, -1.0], [0.38, -0.15], [0.83, -0.54], [1.91, -0.37], [1.11, -0.09], [1.7, 1.01], [1.27, 0.93], [1.66, -0.98], [0.74, 0.03], [1.37, -0.55], [1.48, 0.12], [2.66, 1.32], [1.48, 0.89], [2.35, -1.23], [2.38, 0.56], [1.04, 0.01], [0.4, -0.67], [1.41, 0.43], [0.74, 0.05], [2.27, 0.26], [1.79, -0.6], [1.13, -0.21], [2.18, 0.76], [1.31, -2.09], [0.81, 0.59], [1.3, 1.21], [0.44, -0.03], [1.5, 0.56], [1.8, -1.46], [2.34, -1.32], [1.97, 1.08], [0.76, -1.54], [1.0, 1.06], [1.15, 0.31], [2.11, 0.6], [1.63, 0.08], [1.87, 1.77], [1.95, 2.15], [1.76, -0.21], [1.92, -1.66], [1.2, -0.23], [0.3, -0.35], [0.59, 0.06], [1.32, 0.04], [1.26, 0.8], [1.06, 0.71], [2.0, 1.39], [2.74, -0.62], [0.7, -0.99], [1.25, -1.1], [1.93, 0.07], [1.87, -2.03], [1.09, -0.84], [0.44, -0.2], [1.14, -1.73], [1.14, -0.68], [2.5, 0.06], [1.27, -0.76], [1.15, -0.46], [1.17, 0.25], [1.97, -0.95], [2.37, 0.43], [1.68, 0.04], [1.07, 0.37], [1.8, 0.4], [2.13, 1.26], [0.65, -0.49], [2.26, -1.13], [0.4, -0.61], [1.39, -1.99], [1.55, 0.74], [1.12, -1.8], [0.98, -1.5], [1.59, 0.84], [1.2, -1.33], [1.04, -2.08], [1.47, -0.64], [0.84, -0.53], [2.62, -0.2], [2.43, -1.43], [0.44, -0.21], [1.33, -1.9], [1.84, 0.7], [0.86, -0.15], [0.56, -0.59], [2.01, 0.31], [1.86, 0.04], [0.4, -0.23], [0.91, -0.86], [0.79, 0.56], [1.78, -1.28], [2.55, -1.26], [2.35, 1.7], [2.01, -1.63], [0.35, -0.49], [1.18, -0.32], [1.79, 0.53], [1.33, -0.77], [1.75, 0.55], [0.64, -1.28], [0.95, 0.08], [0.59, 0.16], [1.53, -0.95], [0.57, 0.06], [1.84, 1.27], [1.57, 0.04], [1.47, -1.49], [1.27, -0.23], [0.57, -0.27], [0.78, -1.08], [1.58, -0.18], [1.8, -1.42], [1.25, 0.18], [2.63, -0.32], [1.5, -1.54], [2.14, 1.02], [2.63, -0.18], [1.32, 0.34], [2.28, -0.18], [0.29, -0.56], [1.85, -2.2], [2.17, -0.93], [1.19, -1.13], [1.62, 1.81], [1.0, -0.59], [0.57, -0.01], [1.06, -1.67], [1.14, 0.37], [1.47, -0.64], [2.5, 0.87], [2.56, -1.51], [1.77, -2.25], [0.72, -0.78], [1.03, -0.37], [1.7, -1.08], [1.65, 0.4], [1.42, 0.89], [1.75, -0.94], [2.16, 1.38], [1.29, -0.69], [2.55, -0.86], [1.76, 0.93], [1.77, -0.04], [2.91, -0.06], [1.67, 2.35], [0.96, -0.79], [2.99, 0.03], [0.36, -0.19], [2.62, 0.66], [1.21, -1.39], [1.55, 1.87], [1.78, -1.66], [2.0, 0.84], [2.29, -0.46], [0.68, -0.35], [0.21, -0.39], [0.65, 0.43], [0.96, 0.08], [2.02, 0.8], [0.63, 0.27], [2.38, 0.22], [1.21, 0.64], [1.93, 0.57], [2.59, 0.04], [2.54, 1.24], [1.25, -0.33], [2.55, -0.97], [0.97, 0.12], [0.25, -0.44], [2.93, 0.35], [0.7, -0.04], [0.39, -0.06], [1.64, 1.12], [2.02, 1.04], [2.36, -0.41], [0.49, -0.54], [0.46, -0.66], [1.07, -1.1], [1.68, -1.62], [2.63, -0.87], [0.4, -0.21], [1.14, 0.86], [2.13, -0.68], [1.29, -1.55], [1.23, -0.93], [1.4, 1.69], [2.91, -0.38], [1.8, 2.14], [1.13, -1.36], [1.19, 0.21], [2.49, -0.72], [0.67, 0.34], [0.85, 0.06], [0.89, 0.28], [0.39, -0.29], [0.38, -0.24], [1.68, -2.21], [2.83, 0.6], [1.29, -1.27], [2.22, -0.65], [0.83, -0.36], [0.89, 0.35], [2.07, 1.43], [1.01, -0.55], [2.07, 1.14], [1.71, 1.23], [1.27, 0.77], [1.67, -1.12], [2.91, 0.08], [1.08, 1.18], [0.53, -0.72], [2.42, 1.32], [2.26, 1.9], [1.25, 1.2], [2.1, -0.13], [2.55, -1.03], [0.33, -0.44], [1.0, -1.02], [1.24, -1.52], [2.45, 0.08], [2.03, 0.53], [1.05, -1.17], [1.4, -1.85], [2.61, -0.96], [2.79, 0.13], [0.99, -0.42], [0.89, 0.13], [1.62, 1.11], [0.29, -0.26], [1.67, -0.2], [1.39, -0.04], [0.62, -0.36], [2.43, 0.21], [2.02, -1.2], [0.95, 0.3], [0.83, 0.11], [0.52, -0.72], [0.84, 0.05], [0.42, -0.3], [1.12, -0.42], [1.25, 1.01], [2.68, -0.75], [1.47, 1.88], [1.67, 0.95], [0.37, -0.2], [2.46, 0.32], [1.71, -1.17], [0.72, 0.52], [0.62, -0.95], [0.55, -0.41], [1.9, -0.46], [1.76, -0.97], [1.27, -0.21], [1.8, 1.09], [1.08, 0.94], [1.87, 0.28], [0.74, 0.43], [0.37, -0.24], [0.67, 0.48], [1.68, -1.77], [1.87, -1.83], [2.65, -0.64], [0.77, -0.11], [1.21, 0.17], [1.89, 1.56], [1.19, 0.42], [0.94, 0.96], [1.34, -1.45], [0.45, -0.33], [1.75, -2.19], [2.73, 0.11], [2.14, -0.37], [1.13, 0.75], [0.43, -0.04], [1.6, 0.59], [0.59, 0.04], [1.37, -1.91], [1.54, 1.82], [1.45, -2.25], [1.59, -0.36], [1.6, -0.23], [2.32, -1.33], [1.29, -1.26], [2.92, 0.44], [0.73, -0.42], [0.29, -0.32], [1.41, 0.94], [0.47, -0.45], [0.75, 0.17], [0.77, 0.35], [0.29, -0.5], [1.37, -0.73], [1.94, 1.61], [2.34, 1.51], [2.59, 0.62], [1.54, -0.19], [2.39, 1.05], [2.25, 1.52], [1.97, 0.55], [2.36, 0.1], [0.25, -0.48], [0.89, 0.36], [0.79, -0.79], [1.38, -0.81], [1.91, -1.66], [1.6, -2.36], [2.5, -1.38], [1.97, 1.76], [1.52, 1.59], [1.23, 0.5], [1.0, -1.9], [2.21, -1.87], [1.21, -1.69], [1.86, -0.81], [0.36, -0.46], [1.12, 0.97], [0.83, -0.54], [1.93, 0.9], [1.06, -0.68], [1.53, -2.26], [0.53, -0.3], [1.42, -1.11], [1.33, 1.07], [1.21, -0.92], [1.23, -1.62], [1.48, -0.05], [1.27, 1.51], [2.07, -1.74], [1.49, -0.11], [1.16, 0.15], [0.87, 0.28], [0.86, -0.84], [1.51, -1.44], [2.04, -1.51], [0.96, -0.62], [1.22, 0.54], [2.38, -0.94], [1.32, -1.23], [1.88, -0.98], [1.96, 1.22], [1.24, 1.45], [2.27, -0.23], [2.22, 1.11], [2.2, -0.02], [1.02, -1.13], [1.12, 1.13], [1.16, -0.58], [0.46, -0.24], [0.87, 0.0], [2.45, -1.26], [0.81, -0.32], [1.1, -0.38], [1.84, 2.2], [1.7, -1.97], [2.21, 1.93], [0.76, -0.78], [2.07, 0.58], [1.59, -0.54], [0.8, -0.67], [1.57, 1.54], [1.4, 0.59], [1.18, -0.23], [0.49, -0.01], [0.73, -0.99], [1.83, -0.57], [1.35, 1.61], [1.55, -1.38], [1.07, -0.27], [1.05, 0.46], [0.36, -0.66], [2.78, 1.09], [0.51, 0.1], [1.98, -1.12], [1.26, -0.75], [1.83, 2.27], [1.77, -0.94], [0.31, -0.28], [1.03, 0.34], [2.37, -0.35], [0.84, -1.68], [1.76, 0.94], [0.91, -0.48], [2.25, 0.45], [0.7, -1.03], [2.1, -0.49], [1.82, 1.35], [0.76, 0.14], [2.15, 1.98], [1.86, 0.17], [1.6, 0.62], [2.16, 1.26], [2.7, -0.92], [0.75, -1.41], [1.81, -0.77], [0.27, -0.34], [0.85, 0.13], [0.83, -0.75], [1.9, 0.47], [1.52, 1.33], [2.36, -1.64], [0.98, 0.83], [1.43, 0.5], [0.86, 0.44], [1.93, 0.01], [2.96, 0.19], [2.33, 0.09], [1.94, 0.89], [1.44, 1.88], [0.65, 0.33], [0.75, 0.55], [1.62, 0.32], [1.48, -1.37], [0.39, -0.6], [2.41, 1.45]]\n",
            "centroid0:  [1.4950928792569655, -0.18425696594427257]\n",
            "number of points in each cluster0:  2584\n",
            "Time : 21.479488134384155\n",
            "cluster1:  [[-2.22, -2.0], [-2.48, -1.5], [-1.48, -2.4], [-1.33, -2.21], [-1.3, -1.4], [-1.45, -0.61], [0.25, -2.72], [-0.47, -2.13], [0.21, -1.55], [-0.39, -0.85], [-0.65, -0.72], [0.3, -1.39], [-0.92, -0.63], [-1.29, -1.66], [0.54, -2.2], [0.45, -1.24], [-0.09, -0.82], [0.12, -0.71], [-0.36, -1.94], [-1.74, -0.58], [-2.08, -0.34], [-2.67, 0.14], [-0.25, -1.58], [-0.69, -0.82], [-1.31, -1.06], [-2.96, -0.33], [-0.31, -0.77], [-1.57, -0.55], [-0.61, -0.35], [-0.21, -2.16], [-2.42, -1.25], [-0.74, -0.51], [-0.21, -1.72], [0.14, -1.03], [0.51, -1.14], [0.2, -1.13], [-1.25, -0.85], [-1.95, 0.15], [-0.07, -0.74], [-1.73, -0.99], [-1.37, -0.01], [-2.44, -0.02], [-1.85, -1.87], [-0.48, -0.48], [-2.32, -0.62], [-0.44, -1.51], [-0.33, -2.27], [-0.61, -0.52], [-0.63, -0.28], [-1.69, -1.31], [-0.14, -2.96], [-1.7, -1.44], [-1.31, -0.88], [-1.34, -0.18], [-1.45, -0.55], [0.51, -2.77], [-0.14, -0.59], [-0.97, -2.54], [0.62, -2.06], [-1.14, -0.17], [0.39, -1.48], [-0.24, -0.38], [-0.3, -1.22], [-1.22, -1.14], [-1.25, -2.18], [-1.59, -1.33], [-1.95, -1.33], [-2.46, -1.33], [-0.83, -0.27], [-2.06, -0.32], [-0.24, -1.87], [-1.05, -2.6], [-0.74, -0.6], [-2.95, -0.47], [-1.44, -0.6], [-1.0, -1.09], [-0.76, -2.84], [0.23, -0.89], [-0.88, -1.14], [-1.87, -1.92], [-0.98, -0.23], [0.26, -1.21], [-0.12, -2.5], [0.82, -2.54], [-0.26, -0.91], [0.48, -2.7], [-0.17, -1.56], [-1.96, -0.25], [-2.09, -1.38], [-0.58, -1.76], [-0.46, -1.96], [-2.86, -0.61], [0.05, -1.4], [-0.35, -1.35], [-0.62, -1.9], [0.64, -2.57], [0.2, -1.8], [0.98, -2.18], [0.42, -1.54], [-1.19, -1.13], [-1.98, -1.27], [0.15, -1.13], [-1.98, 0.07], [-1.15, -0.23], [-0.4, -0.86], [-2.48, -1.17], [-0.71, -2.36], [-0.35, -1.13], [-0.74, -1.21], [-0.26, -1.44], [0.44, -1.76], [-1.65, -0.1], [-2.24, -1.19], [-1.92, -0.88], [-0.16, -0.4], [-0.35, -2.93], [-1.6, -1.78], [0.26, -0.83], [-0.01, -2.18], [0.68, -1.75], [-2.55, -0.09], [0.28, -0.73], [-0.44, -1.39], [0.79, -2.46], [-0.41, -0.48], [-0.1, -1.03], [-1.42, -1.77], [-0.05, -2.26], [-1.12, -0.23], [-0.39, -1.37], [-1.86, -2.18], [-0.66, -0.97], [0.33, -2.22], [-0.17, -1.76], [-0.2, -0.5], [-1.93, -0.59], [-1.37, -1.62], [-0.25, -0.72], [-1.78, -2.12], [-2.78, 0.14], [-0.41, -0.34], [0.08, -0.65], [-1.7, -2.15], [-1.78, -2.16], [-0.41, -0.69], [-0.84, -2.58], [-1.38, -0.7], [0.46, -2.31], [-0.5, -1.09], [-1.94, -2.12], [-0.32, -0.42], [-1.48, -1.63], [-0.34, -1.75], [-0.89, -0.23], [-2.45, -0.53], [-0.68, -1.19], [-1.15, -2.36], [0.37, -1.32], [-2.4, 0.04], [0.16, -1.77], [-0.55, -1.57], [-1.54, -2.17], [0.29, -2.06], [-1.22, -0.18], [-2.85, 0.0], [-1.64, -1.68], [0.25, -1.96], [0.59, -1.97], [-0.17, -2.77], [-0.82, -0.54], [-0.2, -2.6], [-0.36, -1.86], [0.47, -1.86], [-2.98, 0.2], [-2.11, -1.37], [-0.06, -0.74], [-1.41, -0.28], [0.73, -2.35], [-0.33, -2.83], [-0.74, -2.46], [0.28, -1.08], [-2.3, -0.63], [-1.21, -2.37], [-0.8, -0.75], [-2.52, -1.39], [-0.51, -1.97], [-1.74, -1.65], [-0.49, -1.41], [-0.61, -0.63], [-0.59, -0.78], [-1.74, -1.16], [0.13, -0.5], [-0.23, -0.4], [-0.39, -1.37], [-0.82, -2.04], [-0.88, -0.29], [-0.58, -0.33], [-2.24, -1.74], [0.29, -0.82], [1.0, -2.73], [-2.0, -0.73], [-1.48, -0.83], [-2.26, -1.15], [0.06, -0.55], [-2.52, -0.71], [-2.16, -1.19], [-1.62, -0.33], [1.16, -2.52], [0.09, -1.02], [0.26, -0.61], [-0.85, -2.19], [0.07, -2.35], [-0.1, -0.72], [-2.84, -0.68], [-2.12, -0.06], [0.16, -2.11], [-0.23, -0.49], [-0.71, -0.4], [0.47, -1.87], [-0.97, -0.73], [-0.2, -0.41], [0.26, -2.36], [-2.74, -0.83], [-2.42, -0.9], [-0.31, -1.43], [-1.1, -1.74], [-1.28, -0.63], [-2.28, -1.5], [-0.59, -1.66], [-0.46, -0.9], [-2.29, -0.04], [-2.54, 0.05], [0.58, -2.45], [0.45, -1.35], [-0.53, -0.74], [0.43, -1.22], [-0.75, -2.48], [-0.57, -0.3], [-1.8, -0.38], [0.16, -1.29], [-1.72, -0.76], [-0.36, -0.83], [-1.22, -0.48], [-0.29, -0.44], [-2.09, -1.55], [-0.07, -0.42], [-0.53, -2.41], [-1.99, -1.56], [-1.48, -2.4], [-0.86, -2.2], [-1.79, -1.94], [0.13, -1.21], [-1.95, -1.46], [-0.1, -1.36], [-1.19, -1.47], [0.21, -2.53], [-0.93, -2.19], [-0.07, -0.78], [-0.95, -2.29], [0.18, -0.57], [-1.13, -1.5], [-0.26, -1.28], [-0.13, -0.56], [-2.41, -1.76], [-0.55, -1.26], [-0.83, -1.97], [-0.57, -2.13], [-1.62, -0.64], [0.06, -0.79], [0.04, -0.45], [-0.36, -1.26], [-0.37, -1.41], [-2.54, 0.11], [-2.52, -1.46], [-1.69, -0.28], [0.23, -2.02], [-0.85, -1.85], [-0.25, -2.19], [-0.6, -0.76], [0.32, -0.87], [-1.26, -2.15], [-1.46, -0.12], [-1.17, -0.49], [0.1, -2.43], [-0.98, -0.85], [-1.08, -1.14], [-0.91, -1.44], [-1.17, -0.71], [-0.9, -1.64], [-2.08, -1.59], [-0.93, -2.43], [-0.95, -1.84], [-0.77, -1.06], [-1.66, -1.69], [-0.68, -2.86], [-1.37, -0.94], [-1.56, -1.31], [0.6, -1.34], [-0.35, -1.55], [-2.82, 0.09], [-2.02, -1.51], [-1.02, -1.95], [0.68, -2.3], [-2.0, -0.19], [-0.75, -2.68], [0.57, -2.78], [-0.6, -0.8], [0.09, -0.73], [0.37, -0.95], [0.4, -1.18], [0.98, -2.66], [-1.03, -1.63], [-1.45, -1.57], [-0.83, -1.32], [-0.7, -1.51], [-2.27, -0.65], [-1.21, -1.71], [-2.25, -0.3], [0.51, -1.7], [-0.44, -2.93], [1.01, -2.79], [-2.46, -1.07], [-1.11, -1.15], [-0.87, -0.59], [-0.44, -1.97], [-0.35, -1.52], [-2.15, -1.22], [-0.59, -2.41], [-1.74, -0.29], [-0.73, -2.48], [0.62, -1.33], [-1.52, -0.75], [-1.8, -1.41], [0.61, -1.9], [-0.17, -1.93], [-2.15, -1.04], [-0.45, -1.62], [0.17, -0.72], [-0.73, -2.56], [-0.94, -0.75], [-1.27, -0.76], [0.02, -1.16], [-0.34, -0.66], [-2.22, -0.79], [0.32, -1.58], [-1.32, -0.78], [-0.83, -0.35], [-2.21, -1.84], [0.02, -1.36], [-0.69, -1.81], [-0.66, -2.19], [-2.29, -0.56], [-0.95, -1.78], [-0.91, -1.43], [-0.7, -1.54], [-0.62, -0.29], [-2.32, -0.34], [-1.27, -0.5], [-0.59, -1.27], [-0.23, -2.93], [0.63, -1.66], [-0.7, -0.71], [0.77, -2.72], [0.3, -1.83], [0.17, -1.87], [-0.82, -0.32], [0.01, -0.7], [-1.6, -1.16], [0.74, -2.53], [-0.75, -0.69], [0.14, -0.56], [-1.71, -0.85], [-0.21, -1.32], [0.03, -0.93], [-2.5, -0.11], [-1.0, -2.77], [-0.8, -0.58], [-2.55, -1.37], [-0.94, -0.84], [-0.51, -0.5], [-0.28, -2.84], [-0.2, -1.0], [-0.5, -1.02], [-1.5, -2.39], [0.24, -0.95], [0.02, -1.94], [-1.49, -0.09], [-0.32, -1.45], [-0.66, -0.85], [-1.92, -0.16], [0.62, -2.71], [-0.33, -0.75], [-0.82, -2.88], [-0.17, -2.73], [-1.72, -0.95], [0.03, -0.45], [-0.01, -1.42], [-2.35, -0.23], [0.1, -2.17], [0.26, -2.08], [-1.05, -0.4], [0.93, -2.32], [-0.48, -1.11], [0.29, -1.59], [0.61, -2.7], [-1.45, -1.1], [-0.55, -1.36], [-1.4, -0.33], [-0.36, -1.38], [-2.24, -1.71], [-1.29, -0.79], [-0.33, -0.76], [0.56, -1.48], [-0.07, -0.86], [-0.66, -2.03], [0.19, -0.49], [-0.14, -1.37], [-1.07, -0.49], [-0.61, -0.63], [-0.11, -0.64], [-2.97, 0.12], [-2.82, -0.97], [0.1, -0.97], [-0.0, -1.14], [-0.07, -2.57], [1.08, -2.28], [-1.14, -0.25], [-0.2, -0.41], [-1.36, -1.66], [0.3, -2.77], [0.72, -2.38], [-2.72, -0.73], [-0.65, -0.9], [-2.9, -0.67], [-1.28, -2.62], [-0.34, -0.93], [-1.75, -1.99], [-1.36, -1.11], [-2.0, -1.8], [0.08, -1.86], [-1.41, -1.79], [-2.91, -0.38], [-0.52, -0.69], [-2.64, -0.67], [-0.38, -0.64], [-0.83, -1.99], [-0.89, -0.72], [-2.08, -1.37], [-0.22, -2.27], [1.01, -2.16], [-0.23, -1.46], [-1.04, -0.65], [-0.27, -1.51], [-0.64, -1.84], [0.73, -1.75], [-0.93, -1.87], [-0.48, -0.62], [-1.69, -2.17], [-0.62, -0.96], [0.17, -1.02], [-1.94, -0.31], [-0.05, -0.51], [0.22, -0.51], [0.04, -0.78], [-1.31, -1.34], [-1.23, -0.73], [-2.36, -1.78], [0.2, -2.79], [1.15, -2.58], [-0.58, -0.98], [-0.41, -2.63], [-0.77, -2.32], [-0.77, -1.2], [0.35, -0.91], [-2.31, -1.12], [0.26, -0.87], [-0.77, -1.46], [-0.38, -0.62], [-2.13, -0.47], [0.18, -1.79], [-0.7, -0.89], [-0.45, -2.16], [-2.38, -0.97], [0.24, -0.63], [-1.03, -2.16], [-1.79, -0.22], [-1.34, -0.33], [0.67, -2.0], [-0.75, -0.54], [0.78, -1.95], [-1.37, -2.14], [0.02, -1.74], [0.86, -2.4], [-0.34, -1.33], [-0.29, -0.82], [-0.02, -2.21], [-1.81, -0.93], [-2.42, -1.61], [-0.85, -0.87], [0.56, -1.9], [0.45, -2.56], [-0.48, -0.67], [-0.63, -0.9], [-1.54, -0.76], [0.15, -0.52], [-2.37, -0.55], [-1.84, -1.09], [0.05, -2.9], [-0.44, -0.31], [-2.26, -0.81], [-2.36, -0.98], [-1.22, -0.35], [-2.33, -0.29], [-0.72, -1.12], [-1.85, -0.97], [-2.93, -0.42], [0.3, -0.64], [-0.52, -0.39], [-0.32, -2.97], [-0.19, -0.55], [0.78, -1.64], [-0.12, -0.91], [0.64, -1.32], [-2.07, -0.38], [-2.1, -1.68], [-0.16, -2.9], [-1.75, -0.35], [-0.45, -2.89], [-0.2, -0.72], [-1.64, -1.34], [0.45, -1.44], [0.36, -0.84], [-0.36, -2.81], [-0.07, -1.66], [-2.62, 0.12], [-2.19, -0.12], [-0.39, -1.15], [-2.04, -1.82], [-0.05, -2.14], [-0.66, -2.15], [-1.41, -1.15], [-1.54, -1.94], [-1.08, -0.99], [-0.38, -0.56], [-0.4, -0.69], [0.66, -2.04], [0.08, -0.71], [-0.45, -0.92], [0.27, -2.58], [0.26, -0.54], [-0.66, -2.34], [-0.46, -1.44], [-1.6, -1.03], [-0.56, -0.72], [-0.02, -0.64], [-0.06, -1.08], [0.29, -1.56], [-2.34, -1.42], [-0.32, -0.47], [-0.78, -2.66], [-1.7, -1.22], [-2.18, -0.96], [-0.77, -2.09], [-0.47, -0.58], [-0.87, -0.68], [-2.06, -0.66], [0.99, -2.26], [-2.86, -0.68], [0.41, -2.3], [-2.33, -0.77], [-2.11, -1.19], [0.01, -0.47], [-0.25, -1.93], [-0.35, -2.4], [-0.9, -0.69], [0.16, -1.93], [-1.23, -0.51], [-0.67, -1.76], [-2.5, -0.18], [-0.42, -0.33], [-1.77, -0.34], [-0.19, -0.41], [-0.45, -0.79], [0.43, -0.95], [-1.47, -2.38], [0.79, -1.98], [-0.54, -0.8], [0.32, -1.4], [-0.43, -1.16], [0.27, -0.96], [0.63, -1.86], [-2.41, -0.5], [-0.78, -2.1], [-0.2, -0.68], [0.37, -0.8], [-0.6, -1.9], [-0.02, -2.1], [-0.29, -0.81], [-2.13, -0.03], [-0.04, -1.68], [-1.56, -1.93], [-0.35, -0.47], [-2.02, -1.53], [-1.86, -1.3], [-1.55, -0.67], [-0.44, -2.89], [-0.52, -2.6], [0.69, -1.84], [0.06, -0.48], [-0.26, -1.94], [0.22, -0.99], [0.18, -1.15], [-1.04, -1.07], [-0.25, -0.34], [-0.63, -1.38], [-0.77, -1.7], [-1.38, -1.75], [-1.69, -2.11], [-0.31, -2.73], [-0.92, -0.68], [-0.61, -2.54], [-1.98, -0.31], [-0.18, -0.45], [-0.35, -1.0], [-0.41, -1.09], [-0.91, -1.61], [-0.08, -0.95], [-0.81, -1.1], [-1.51, -0.41], [-1.1, -0.3], [-2.02, -1.9], [-1.09, -1.49], [0.03, -2.78], [-0.64, -2.13], [0.77, -1.63], [-1.53, -1.96], [0.55, -1.64], [0.48, -1.44], [-1.6, -1.73], [-1.23, -1.29], [-0.73, -0.79], [0.52, -2.25], [-0.45, -0.69], [-1.12, -1.33], [-0.43, -1.04], [0.19, -0.5], [-1.66, -0.75], [-1.24, -1.08], [0.1, -0.93], [0.78, -2.75], [0.75, -1.71], [-1.01, -0.8], [-1.02, -0.46], [-1.76, -0.13], [-1.77, -2.29], [0.27, -1.04], [-2.97, 0.03], [0.7, -2.05], [0.31, -0.75], [-1.75, -0.93], [-0.08, -0.67], [-0.06, -0.62], [-2.54, -0.45], [0.06, -0.93], [-2.74, -0.08], [-2.33, -0.2], [-0.02, -0.72], [-0.14, -1.26], [-1.32, -0.89], [-0.81, -1.76], [-1.56, -1.47], [-0.27, -2.63], [0.23, -1.02], [-2.1, -0.04], [-2.71, -1.22], [-0.12, -1.35], [-0.28, -2.96], [-0.86, -2.01], [-0.02, -0.58], [-1.17, -2.43], [-1.15, -2.4], [-2.06, 0.01], [-0.47, -0.78], [0.06, -0.46], [-0.83, -0.96], [-0.42, -0.87], [-1.81, -0.97], [-0.85, -0.3], [-1.13, -1.18], [0.07, -1.84], [-1.63, -0.46], [-0.12, -2.02], [-0.09, -1.48], [1.08, -2.28], [-2.36, -0.71], [-1.08, -2.34], [-0.96, -0.87], [-0.36, -0.42], [0.82, -1.79], [-1.37, -0.41], [-0.58, -1.02], [-0.14, -0.82], [-0.59, -0.88], [-0.2, -1.0], [-0.51, -2.3], [-0.94, -1.45], [0.18, -2.94], [0.79, -2.05], [0.05, -1.26], [-1.98, -1.56], [-0.36, -1.07], [0.95, -2.23], [-1.38, -1.45], [-0.34, -2.71], [-0.93, -1.16], [-1.23, -1.14], [0.18, -0.88], [-0.8, -0.59], [0.04, -0.42], [-2.11, -0.64], [-1.5, -1.06], [-1.95, -0.09], [0.36, -2.41], [-2.52, -0.55], [-0.92, -2.01], [0.21, -2.08], [-2.71, -1.23], [-0.41, -0.61], [-1.43, -0.4], [-0.1, -1.07], [-0.65, -2.75], [0.17, -0.86], [-0.9, -1.3], [-0.61, -0.58], [-0.03, -0.63], [-0.62, -1.85], [-2.59, 0.08], [-2.08, -1.69], [0.66, -1.65], [0.05, -1.02], [-0.36, -2.0], [-1.42, -0.65], [-0.08, -2.77], [0.87, -2.72], [-0.98, -0.27], [0.49, -2.38], [-0.88, -0.4], [-0.72, -0.6], [0.08, -0.82], [-0.3, -0.32], [-1.03, -2.37], [-0.17, -0.76], [-0.36, -1.77], [-0.82, -1.15], [0.55, -1.43], [0.29, -1.5], [-0.9, -0.51], [-1.72, -0.04], [-1.2, -0.37], [-0.27, -2.53], [0.12, -1.08], [-0.28, -2.63], [-2.74, -0.1], [-1.04, -1.49], [-2.25, -1.05], [0.2, -1.21], [-1.69, -0.87], [0.38, -2.67], [-2.63, -0.94], [-0.02, -0.38], [-1.09, -2.76], [-2.0, -0.75], [-0.92, -0.62], [-0.67, -0.92], [-2.41, -1.49], [0.86, -2.03], [-1.71, -0.21], [0.06, -2.77], [-0.21, -0.37], [-2.32, -0.59], [-0.18, -1.55], [0.59, -2.1], [-2.32, -0.19], [-0.25, -0.91], [-1.39, -2.23], [-0.37, -0.71], [-0.09, -0.84], [-0.94, -1.11], [-0.3, -0.45], [0.34, -1.13], [-0.69, -2.0], [0.22, -1.44], [0.49, -1.38], [-0.77, -2.63], [0.18, -1.65], [-0.88, -1.29], [0.87, -2.59], [-0.29, -2.8], [-0.22, -0.33], [-0.05, -0.81], [-0.4, -2.25], [0.15, -0.56], [-0.74, -0.58], [-0.79, -1.17], [-0.62, -0.78], [1.07, -2.72], [-1.06, -0.95], [-0.29, -1.68], [-0.83, -2.11], [0.45, -1.57], [-2.57, -0.23], [0.48, -1.38], [-0.01, -1.64], [-1.83, -0.26], [-0.34, -1.52], [-0.48, -2.51], [-0.56, -1.51], [1.12, -2.35], [-0.79, -0.46], [-0.86, -0.85], [-1.96, -1.2], [-0.7, -0.46], [0.92, -2.45], [-0.7, -1.24], [0.14, -0.42], [-1.58, -0.22], [-0.66, -1.54], [-0.09, -0.64], [-2.78, -1.1], [-0.25, -0.72], [-2.06, -2.06], [-0.99, -1.09], [0.01, -2.42], [-0.23, -2.6], [-2.19, -0.02], [-0.05, -2.51], [-1.9, -0.87], [-1.27, -0.56], [-0.07, -0.55], [-2.44, -1.57], [0.25, -2.35], [-1.69, -2.11], [-0.15, -0.51], [-0.92, -0.5], [-0.85, -1.05], [-1.7, -1.83], [0.18, -0.6], [-0.47, -1.44], [-0.3, -0.47], [-0.57, -1.8], [-0.39, -0.81], [0.22, -2.69], [0.43, -2.83], [-2.76, -0.21], [0.44, -1.3], [-1.01, -2.33], [-0.81, -1.93], [-0.16, -1.26], [-0.57, -0.34], [-1.79, -1.45], [0.03, -2.74], [-0.25, -0.33], [-0.72, -1.05], [-1.21, -1.35], [0.44, -1.28], [-0.19, -1.35], [-0.29, -0.7], [0.69, -1.48], [-1.17, -1.35], [-0.05, -0.74], [-0.28, -1.88], [-1.36, -0.2], [-1.71, -2.02], [-0.01, -1.27], [0.34, -1.07], [0.15, -0.82], [-0.86, -1.6], [-2.38, -1.71], [-0.59, -2.41], [-1.62, -1.0], [-0.03, -0.63], [-0.65, -1.91], [-1.14, -1.24], [-0.35, -0.35], [-1.99, -1.59], [0.38, -2.17], [0.01, -1.25], [-0.78, -0.56], [0.07, -0.95], [-1.15, -0.26], [-0.98, -0.2], [-1.67, -2.4], [-2.19, -2.05], [-1.78, -1.29], [-2.45, -0.83], [-0.08, -0.35], [0.32, -1.91], [-1.94, -0.14], [0.49, -2.04], [-1.62, -0.74], [0.03, -0.44], [-0.15, -0.41], [-0.67, -0.39], [-0.4, -2.2], [-0.38, -0.35], [0.48, -1.89], [0.32, -1.54], [-0.61, -1.03], [-2.17, -0.48], [-0.14, -2.06], [-0.43, -0.6], [-0.51, -1.27], [-1.22, -0.68], [-2.28, -0.54], [-2.25, -1.27], [0.1, -0.58], [0.63, -1.73], [0.05, -1.8], [-1.54, -0.07], [-1.05, -1.23], [0.05, -0.64], [0.57, -2.49], [-0.36, -0.3], [-1.35, -1.94], [0.15, -0.79], [0.09, -1.21], [1.0, -2.75], [-0.18, -0.6], [-0.18, -0.87], [0.25, -0.94], [-1.04, -2.52], [-0.88, -0.7], [0.06, -0.78], [-0.23, -0.91], [-0.93, -1.9], [-2.7, -0.49], [-2.39, -0.06], [0.37, -1.43], [-1.7, -0.86], [-0.17, -1.69], [-2.35, -0.47], [0.14, -1.29], [-0.61, -0.82], [-2.05, -0.36], [0.55, -1.17], [-1.17, -1.99], [-0.95, -0.48], [-2.77, -0.71], [-0.08, -2.22], [-1.78, -1.38], [-0.72, -0.92], [-0.77, -2.15], [-0.12, -2.43], [-1.92, -1.93], [0.21, -0.97], [-1.28, -0.91], [-0.61, -0.71], [-0.3, -1.4], [-0.02, -2.56], [-0.53, -0.83], [-1.72, -0.22], [-0.92, -1.47], [-1.31, -0.64], [0.71, -1.58], [-1.18, -1.13], [0.32, -2.75], [-1.04, -1.71], [-1.81, -2.26], [-0.84, -0.28], [-0.11, -1.06], [0.34, -1.03], [-1.1, -0.22], [-1.23, -1.39], [-1.99, -1.64], [-0.88, -0.32], [1.0, -2.67], [-0.71, -0.93], [-0.06, -1.36], [-2.26, -1.34], [-0.86, -2.22], [0.04, -0.67], [-1.43, -1.09], [-1.28, -2.16], [-1.68, -1.98], [0.25, -0.68], [0.41, -2.09], [-2.33, -0.93], [-1.42, -1.06], [0.77, -2.76], [0.1, -1.08], [-1.27, -2.4], [-0.04, -1.04], [0.61, -2.48], [-1.4, -0.7], [-1.62, -1.68], [-0.33, -2.53], [0.17, -0.6], [0.21, -1.63], [-0.16, -2.5], [-0.6, -0.72], [-0.28, -1.01], [0.92, -2.52], [0.09, -2.88], [-2.37, -1.34], [-0.52, -1.6], [0.07, -1.61], [-2.15, -1.52], [-0.34, -1.56], [1.05, -2.45], [-1.91, -0.59], [-0.39, -0.52], [-1.62, -0.54], [-1.64, -0.92], [-0.04, -2.12], [0.32, -1.49], [0.64, -1.7], [-0.4, -2.11], [-1.02, -1.31], [-1.09, -1.01], [-2.57, -1.21], [-0.3, -2.12], [-1.97, -0.48], [-0.39, -0.86], [-0.25, -1.04], [-1.2, -1.04], [-0.27, -2.18], [0.03, -0.54], [-2.54, -1.28], [-0.14, -0.39], [-0.68, -0.76], [0.02, -1.57], [-2.38, -1.0], [-0.4, -0.38], [-1.39, -1.01], [-2.79, -0.67], [-2.68, -0.31], [-1.11, -0.35], [-0.96, -0.34], [0.23, -0.51], [1.02, -2.53], [-0.66, -2.43], [-0.5, -0.82], [-1.7, -0.29], [-1.16, -0.24], [-0.71, -0.58], [0.27, -2.08], [-2.3, -1.41], [-1.85, -0.51], [-0.11, -1.6], [-1.03, -2.57], [0.97, -2.3], [-1.3, -2.31], [-0.07, -0.81], [-0.46, -1.16], [-0.83, -0.85], [-0.45, -1.27], [-0.35, -0.57], [-1.17, -2.53], [0.19, -2.41], [-0.72, -0.92], [-1.64, -0.3], [-0.37, -0.35], [-2.25, -0.94], [0.04, -0.36], [-1.62, -2.2], [-0.75, -1.68], [-0.34, -0.4], [-0.4, -1.58], [-1.98, -1.84], [-2.19, -0.68], [0.29, -1.85], [-0.4, -1.09], [-0.41, -0.71], [-0.04, -1.69], [0.12, -0.58], [-0.24, -2.62], [-1.06, -2.11], [-0.25, -0.83], [-0.35, -0.32], [-1.33, -0.45], [-0.23, -0.38], [1.16, -2.54], [-0.47, -0.28], [-1.41, -2.52], [-1.91, -1.44], [0.08, -1.37], [-1.57, -1.55], [-0.33, -0.95], [0.84, -2.42], [0.26, -1.19], [-0.32, -1.63], [0.47, -2.55], [0.91, -2.44], [-0.35, -0.32], [-1.84, -1.86], [0.18, -0.68], [-1.16, -2.32], [-2.82, -0.76], [-0.65, -2.01], [-1.51, -0.99], [-0.15, -1.58], [-1.63, -2.4], [-1.79, -1.68], [-2.34, -1.45], [0.08, -0.94], [0.0, -1.26], [-0.81, -0.88], [-0.27, -0.44], [-0.46, -0.3], [0.41, -1.18], [-0.52, -1.18], [0.91, -2.43], [0.38, -1.62], [-0.88, -0.46], [-0.59, -0.39], [0.62, -1.33], [0.0, -1.87], [-2.14, -1.61], [0.21, -0.8], [-0.66, -0.73], [-1.27, -0.98], [-0.05, -0.58], [0.26, -0.81], [0.32, -1.23], [-1.68, -0.61], [-0.37, -1.31], [-0.3, -1.62], [-1.34, -1.4], [-2.41, -1.11], [-2.79, -0.4], [-1.9, -0.3], [0.14, -1.47], [-1.01, -1.83], [-0.53, -0.33], [-0.52, -1.67], [-2.67, -0.62], [-0.03, -0.84], [-1.44, -0.53], [-0.78, -0.63], [-0.89, -1.25], [-0.12, -2.62], [-0.04, -2.5], [-1.22, -2.36], [0.45, -0.99], [-2.42, -1.08], [-2.16, 0.01], [-0.26, -1.35], [-1.96, -1.36], [-1.4, -2.44], [-0.51, -0.73], [-1.87, -2.16], [0.7, -2.55], [-0.28, -0.77], [-0.54, -2.09], [-1.37, -2.54], [1.11, -2.78], [-0.69, -2.27], [-0.48, -2.18], [-1.08, -0.31], [-0.93, -0.24], [-0.78, -0.94], [-0.98, -0.54], [-0.83, -1.07], [-1.98, -0.5], [-1.5, -1.65], [-1.71, -0.21], [-0.95, -2.16], [0.28, -0.6], [-0.86, -1.05], [0.41, -1.46], [-1.21, -0.77], [-0.79, -2.46], [-0.77, -0.72], [-0.59, -2.7], [0.44, -2.53], [-0.38, -1.1], [-0.47, -1.4], [0.95, -2.55], [-1.04, -2.32], [-0.83, -2.61], [-0.17, -2.83], [-1.21, -0.51], [-0.66, -1.79], [-0.68, -1.15], [0.14, -0.54], [-0.89, -1.52], [-2.33, -0.62], [-2.58, -0.16], [-2.04, -1.61], [-0.0, -0.38], [-1.78, -1.57], [0.02, -0.47], [-0.7, -0.5], [0.19, -1.28], [-0.96, -0.22], [-0.93, -2.61], [-1.57, -1.22], [-1.26, -0.63], [-0.51, -0.55], [0.31, -2.65], [-0.42, -2.6], [-0.4, -0.47], [0.62, -2.41], [-1.47, -0.67], [1.14, -2.72], [-0.72, -0.42], [-0.72, -0.34], [-2.39, -0.82], [0.85, -2.33], [-0.18, -2.93], [-1.58, -0.86], [-0.31, -1.29], [-0.08, -1.15], [-0.86, -0.75], [-0.79, -0.21], [0.39, -1.52], [-1.88, -1.67], [-0.88, -0.69], [-0.52, -1.73], [-0.36, -1.08], [0.15, -0.6], [-0.44, -1.28], [0.36, -1.11], [-1.97, -1.42], [-1.33, -1.94], [0.22, -0.49], [0.15, -2.16], [-0.75, -0.38], [-1.44, -1.75], [0.61, -1.94], [-0.44, -2.2], [0.02, -1.57], [-2.41, 0.0], [-0.98, -0.75], [-0.28, -0.34], [-0.01, -1.95], [-0.2, -0.78], [0.4, -2.15], [-1.14, -0.53], [0.21, -0.4], [-0.73, -0.22], [-2.18, -1.97], [-1.98, -0.33], [-0.99, -2.2], [0.13, -0.72], [0.52, -1.19], [-2.02, -1.31], [-2.38, -0.86], [0.18, -0.42], [-2.87, 0.15], [-1.03, -0.64], [-0.38, -0.32], [-1.78, -2.38], [0.25, -0.52], [-1.54, -1.02], [-2.46, -0.41], [-0.61, -0.48], [-1.3, -1.65], [-0.82, -2.29], [0.26, -2.05], [-1.89, -1.03], [-1.74, -2.23], [-1.67, -0.57], [-0.65, -1.0], [-0.25, -0.94], [-1.92, -0.85], [-0.23, -1.23], [0.25, -1.88], [-0.58, -2.33], [-0.13, -1.51], [-2.62, -0.51], [-0.99, -0.85], [-1.55, -0.47], [-1.66, -1.7], [-0.54, -0.44], [-1.2, -0.36], [-2.86, -0.03], [0.53, -1.85], [-0.91, -0.37], [-1.71, -2.26], [-0.0, -0.77], [-1.11, -1.68], [0.78, -2.72], [0.23, -2.33], [-0.41, -0.73], [-0.42, -2.7], [-2.12, -2.0], [0.31, -2.96], [-2.05, -0.29], [0.05, -1.05], [-2.43, -0.19], [-1.51, -1.76], [-1.51, -2.28], [-1.4, -0.94], [-2.99, 0.11], [-0.15, -1.01], [-2.04, -1.54], [-2.49, -0.66], [0.62, -1.53], [-1.83, -0.97], [-0.44, -0.68], [-0.77, -0.21], [-1.42, -0.91], [-2.36, -1.09], [0.64, -2.24], [-0.29, -0.5], [-1.02, -0.18], [-0.89, -1.2], [-0.19, -0.35], [-0.07, -2.19], [-0.16, -0.37], [-1.74, -0.88], [-0.51, -2.44], [-0.38, -2.33], [-0.56, -1.2], [-0.77, -1.25], [0.17, -1.41], [-0.71, -0.91], [-0.27, -0.34], [-2.04, -2.11], [-1.61, -0.57], [0.07, -0.75], [0.59, -1.66], [-1.39, -1.45], [-1.89, -1.88], [-1.45, -0.3], [-1.66, -2.09], [-1.83, -1.3], [-0.37, -2.75], [-2.97, 0.2], [0.75, -2.55], [-0.21, -2.93], [-1.8, -0.87], [-0.33, -2.15], [0.17, -2.5], [-0.6, -2.58], [-2.65, -0.52], [-2.42, -1.57], [-0.85, -0.51], [-1.64, -1.11], [-2.18, -1.72], [0.75, -2.39], [0.2, -1.38], [-2.51, -0.54], [-1.1, -0.44], [-1.26, -1.73], [0.22, -0.69], [0.12, -2.42], [-1.08, -0.27], [0.52, -2.18], [-1.71, -1.32], [-1.12, -2.1], [-0.8, -1.41], [0.05, -0.45], [0.39, -0.77], [-1.19, -0.23], [-0.65, -0.27], [-0.58, -0.93], [1.02, -2.12], [-0.42, -1.83], [-1.73, -0.66], [-1.35, -1.34], [-1.49, -0.55], [-2.79, 0.03], [0.14, -1.58], [-0.61, -1.75], [-1.81, -0.87], [-0.15, -1.21], [0.38, -0.79], [0.12, -2.6], [0.6, -1.39], [-0.13, -1.1], [-1.41, -0.52], [-0.3, -1.14], [-1.28, -0.93], [-0.42, -2.32], [-1.75, -0.5], [-0.4, -0.44], [-0.48, -2.83], [-2.27, -0.07], [1.28, -2.7], [-0.23, -0.76], [-0.46, -0.44], [0.12, -0.85], [0.05, -1.22], [-1.21, -0.15], [-0.04, -2.49], [-1.59, -1.71], [-0.12, -0.33], [0.63, -1.39], [-2.24, -0.8], [-0.13, -1.58], [-1.13, -1.46], [-2.98, -0.14], [0.43, -1.13], [-1.4, -0.99], [-1.72, -1.71], [0.13, -2.23], [-1.02, -2.04], [0.36, -1.7], [-1.11, -1.29], [0.68, -2.48], [0.23, -0.63], [0.44, -2.29], [-0.87, -1.06], [-0.33, -0.41], [-0.77, -0.61], [-1.42, -2.32], [-1.58, -2.18], [-1.96, -0.25], [0.36, -0.78], [-1.19, -0.53], [0.26, -1.19], [0.13, -1.63], [-0.93, -0.46], [-1.89, -2.02], [0.25, -2.41], [-1.98, -1.21], [-0.76, -1.34], [-2.2, -1.61], [-1.88, -1.6], [-0.85, -1.58], [-0.39, -2.45], [-2.81, -0.84], [-0.88, -0.26], [-1.82, -1.2], [0.53, -1.18], [-2.72, -0.59], [-2.1, -1.32], [-2.9, -0.36], [-0.14, -1.47], [-0.21, -1.81], [-2.55, -0.64], [-0.4, -0.87], [0.0, -2.88], [-1.83, -1.14], [-0.37, -1.15], [-0.68, -0.71], [-0.86, -1.78], [-0.47, -1.12], [-1.63, -2.29], [0.11, -0.8], [-1.73, -1.34], [-0.85, -1.39], [-0.55, -1.42], [-0.14, -1.53], [-1.33, -1.41], [-1.32, -0.39], [1.01, -2.54], [-0.45, -1.25], [0.24, -1.96], [-2.03, -2.1], [-1.96, -1.93], [-2.15, -0.08], [0.4, -1.54], [-1.27, -1.61], [0.29, -1.07], [-0.89, -2.5], [-1.35, -2.23], [0.04, -1.17], [-0.14, -0.99], [-0.23, -0.45], [-0.06, -2.56], [-1.37, -0.2], [-0.17, -2.53], [0.61, -2.41], [-2.59, -0.77], [-1.1, -2.52], [-0.48, -2.75], [-0.95, -1.24], [-1.05, -2.24], [-0.69, -1.37], [-2.46, -1.29], [-2.09, -0.29], [-0.7, -0.4], [0.59, -1.3], [-1.19, -0.77], [0.47, -1.2], [0.22, -1.5], [0.35, -1.3], [-0.12, -2.0], [-0.98, -0.26], [-2.46, -1.52], [0.27, -0.91], [-0.43, -1.79], [0.36, -1.06], [0.79, -2.48], [-2.55, 0.01], [-0.28, -0.35], [-2.21, -0.21], [-2.38, -0.39], [0.9, -2.02], [-0.28, -1.36], [0.62, -2.63], [-0.02, -1.09], [-1.01, -1.04], [-1.13, -1.04], [0.32, -1.98], [-2.06, -0.73], [-0.38, -2.75], [-1.62, -2.4], [-1.51, -0.79], [-1.67, -1.47], [-0.26, -2.38], [-0.97, -1.47], [-0.45, -0.55], [-0.22, -0.7], [-2.37, -1.26], [-0.21, -2.64], [-0.71, -0.34], [0.29, -1.81], [-0.08, -0.53], [-2.56, -0.98], [0.86, -2.09], [-2.21, -1.75], [-1.71, -0.06], [-0.13, -2.11], [-1.49, -1.93], [-2.07, -1.09], [-0.22, -1.75], [-1.25, -1.81], [-0.81, -1.94], [-1.76, -1.38], [-0.24, -1.32], [-0.34, -1.96], [-1.57, -1.53], [-1.93, -0.45], [0.87, -2.16], [-0.77, -1.71], [-0.34, -1.05], [-0.1, -1.96], [0.22, -0.61], [-0.89, -1.55], [-0.56, -2.84], [-1.59, -2.19], [-0.77, -1.77], [-2.74, 0.06], [-0.71, -0.85], [-1.32, -2.69], [-2.17, -0.78], [0.45, -1.48], [-1.62, -0.17], [-2.42, -0.26], [-0.65, -1.18], [-0.55, -2.87], [-0.39, -1.33], [-1.05, -0.19], [-2.46, -0.38], [-0.44, -1.35], [-1.92, -1.21], [-1.7, -1.06], [-1.4, -0.84], [-0.5, -2.22], [-2.42, -0.03], [1.21, -2.51], [-0.36, -0.48], [-1.73, -1.1], [0.45, -1.06], [-0.82, -0.31], [-0.24, -2.89], [-0.86, -1.56], [-2.37, -1.36], [0.69, -1.47], [0.62, -1.78], [0.21, -0.67], [-0.9, -2.06], [-1.61, -0.78], [-1.83, -0.44], [-2.44, -0.13], [0.07, -1.35], [-2.77, -0.23], [-1.19, -0.57], [0.3, -0.72], [-0.81, -1.57], [0.46, -1.74], [-1.22, -2.23], [-0.18, -0.76], [0.6, -2.29], [-0.33, -0.41], [-0.61, -1.56], [-2.25, -1.26], [-1.04, -1.62], [-0.25, -0.81], [-0.89, -0.73], [-1.72, -0.03], [0.16, -0.65], [-1.56, -0.34], [-1.84, -0.02], [-1.94, -1.17], [-0.17, -1.06], [0.06, -1.8], [1.19, -2.75], [-0.51, -2.63], [0.05, -1.45], [0.05, -0.38], [0.04, -1.89], [-2.75, -0.83], [-0.33, -2.58], [-1.2, -1.08], [0.25, -0.7], [-0.97, -0.9], [-1.64, -1.42], [-0.55, -1.32], [-2.25, -0.54], [0.22, -0.58], [-0.1, -0.37], [-1.62, -1.09], [-1.71, -0.33], [-0.1, -1.67], [0.23, -0.9], [0.04, -1.02], [0.19, -0.91], [0.47, -2.37], [0.8, -2.5], [0.53, -2.51], [-0.53, -0.43], [-0.22, -0.43], [0.38, -1.23], [0.16, -1.83], [-2.33, -1.6], [0.09, -1.43], [-0.98, -0.61], [-2.75, -0.97], [-0.73, -0.83], [-2.11, -0.8], [-2.64, -0.06], [-0.58, -1.15], [-0.59, -0.83], [-0.31, -1.31], [0.23, -1.83], [-0.25, -2.92], [-0.77, -1.7], [0.06, -0.73], [-0.07, -1.47], [-1.07, -0.39], [-1.84, -1.5], [-0.49, -0.48], [-0.09, -1.54], [-0.26, -1.16], [-0.52, -0.39], [-0.47, -1.59], [0.09, -2.4], [-0.35, -0.63], [-1.39, -2.22], [-0.22, -2.4], [-1.16, -0.53], [-1.32, -0.8], [-1.83, -1.3], [1.16, -2.58], [-2.7, -1.2], [-1.54, -0.17], [-0.41, -1.08], [-1.37, -1.48], [-2.25, -0.86], [0.25, -0.83], [-2.63, -0.91], [-1.13, -1.56], [1.13, -2.59], [-0.62, -1.1], [-1.65, -2.2], [-2.09, -1.82], [-1.94, -1.26], [0.08, -1.29], [-0.84, -0.26], [-1.7, -0.77], [0.34, -1.55], [-1.62, -0.42], [-1.89, -0.24], [-0.8, -1.75], [-1.18, -1.27], [-0.2, -0.36], [-1.17, -2.22], [-0.8, -0.27], [-1.38, -1.12], [-1.15, -0.71], [0.99, -2.45], [-0.09, -0.79], [-0.92, -0.36], [-0.43, -2.32], [-2.81, -0.36], [0.22, -0.5], [-0.81, -1.99], [0.31, -1.08], [-0.91, -2.7], [-0.03, -0.68], [0.97, -2.17], [-0.9, -2.82], [0.37, -1.64], [0.16, -0.39], [-1.28, -0.58], [-1.43, -0.95], [-1.7, -0.69], [-0.18, -1.3], [-2.61, -0.4], [-2.84, -0.88], [-2.78, -0.85], [-1.74, -1.87], [-1.35, -0.9], [-0.68, -2.08], [-0.91, -1.56], [0.51, -2.78], [-0.15, -0.48], [1.15, -2.55], [0.46, -1.63], [1.05, -2.55], [-0.3, -0.72], [-1.24, -1.38], [0.2, -2.1], [-2.65, -0.88], [-0.46, -1.71], [-2.1, -2.02], [-0.64, -1.62], [-0.72, -2.16], [-1.91, -1.95], [-1.57, -0.73], [-0.74, -0.94], [-2.06, -0.62], [-0.24, -0.68], [-0.91, -1.95], [-0.78, -0.37], [-2.52, -1.41], [-0.47, -0.96], [-2.65, -0.7], [-1.25, -2.59], [0.08, -2.99], [-2.76, -1.02], [-1.48, -0.99], [-0.37, -1.61], [0.61, -2.09], [-2.7, -0.38], [-0.35, -2.03], [-1.19, -0.52], [0.22, -1.49], [-0.8, -0.5], [-0.0, -2.07], [0.65, -1.69], [-1.74, -0.09], [-1.75, -0.58], [-1.83, -0.43], [-0.24, -0.4], [-0.01, -1.57], [-0.47, -0.35], [-0.22, -0.62], [-2.55, 0.03], [-1.02, -2.25], [-0.87, -2.05], [-2.01, -1.62], [0.17, -0.77], [-2.19, -0.99], [-0.85, -2.66], [0.06, -0.76], [-0.74, -1.1], [-0.72, -1.66], [-0.68, -0.9], [-0.27, -0.75], [-2.96, 0.13], [-0.18, -2.79], [-0.32, -0.72], [0.26, -0.67], [-0.22, -1.09], [-1.25, -0.85], [0.12, -1.78], [-1.06, -0.55], [-0.6, -2.9], [-1.02, -1.42], [-2.01, -0.44], [0.23, -0.74], [-2.35, -0.43], [0.17, -2.09], [0.97, -2.24], [-1.17, -1.59], [-1.48, -2.42], [-0.13, -0.35], [-1.85, -0.34], [0.08, -0.52], [-0.33, -1.77], [0.17, -1.32], [-0.18, -0.54], [-1.81, -0.25], [0.13, -0.66], [-2.91, -0.13], [-1.85, -1.47], [-0.83, -1.7], [-0.21, -0.76], [0.01, -0.39], [-1.5, -1.7], [-0.41, -1.95], [-1.02, -2.37], [0.8, -1.67], [-1.5, -2.24], [0.36, -1.39], [-0.96, -1.28], [-0.56, -0.8], [0.43, -1.95], [0.86, -2.68], [-0.59, -0.93], [-0.32, -1.75], [-1.03, -0.31], [-1.4, -1.36], [0.02, -1.29], [-1.9, -0.39], [-1.85, -1.38], [-1.07, -2.48], [-0.3, -0.88], [0.12, -0.98], [-1.11, -2.08], [-0.36, -0.41], [-1.1, -0.45], [-1.6, -0.78], [-0.44, -1.34], [-2.15, -1.93], [-1.29, -1.46], [-0.61, -1.67], [-0.1, -0.53], [-2.07, -1.81], [-1.22, -1.16], [-0.91, -0.43], [-0.9, -0.77], [0.01, -0.73], [-0.71, -2.47], [-2.0, -0.33], [-0.93, -1.41], [-1.13, -0.88], [-0.78, -1.4], [0.2, -1.55], [-1.61, -1.72], [-2.21, -1.32], [-1.3, -1.09], [-0.09, -1.06], [-0.14, -1.38], [-1.76, -0.32], [-1.75, -1.81], [0.22, -0.42], [-0.19, -0.36], [-2.08, -0.06], [0.37, -1.13], [1.08, -2.25], [-0.66, -2.61], [-0.76, -0.35], [0.06, -2.88], [-0.65, -0.53], [0.02, -2.19], [0.06, -2.28], [-0.71, -1.88], [0.01, -0.95], [-2.01, -1.13], [0.21, -0.47], [0.74, -2.31], [0.8, -2.63], [0.26, -0.84], [0.85, -1.99], [-0.35, -0.9], [0.41, -1.75], [-1.56, -0.42], [-0.83, -1.7], [-1.96, -1.4], [-1.78, -1.05], [-2.22, -0.1], [-0.94, -0.97], [-2.84, -0.56], [0.79, -2.09], [0.83, -2.67], [-0.86, -0.61], [-1.58, -0.97], [-1.8, -1.28], [-0.01, -0.75], [-0.31, -0.72], [-1.52, -0.18], [-0.87, -0.48], [-0.85, -0.74], [-2.0, -1.7], [-0.42, -0.47], [-2.5, -1.23], [-0.36, -1.15], [-0.09, -0.45], [-0.34, -1.96], [-1.0, -1.31], [0.22, -1.09], [-2.53, -0.62], [-1.55, -0.43], [-0.93, -1.1], [0.47, -2.84], [-0.55, -0.64], [-1.65, -1.37], [-2.34, -0.48], [-2.35, -1.08], [-2.26, -1.86], [-0.02, -1.62], [-0.66, -0.72], [-0.7, -2.72], [0.11, -2.8], [-2.51, -0.92], [0.48, -1.12], [-0.03, -1.52], [-1.75, -1.99], [0.0, -2.3], [-1.22, -2.03], [-1.48, -0.38], [0.25, -2.81], [-0.74, -1.03], [-0.76, -0.81], [-1.01, -0.97], [-1.01, -1.27], [-1.32, -1.19], [-0.9, -1.66], [0.12, -1.23], [-2.52, -1.61], [-1.07, -0.99], [-1.53, -0.63], [-0.76, -0.52], [-0.33, -0.69], [-1.1, -0.52], [0.78, -2.28], [-2.11, -1.19], [0.26, -1.58], [0.13, -0.48], [-1.54, -1.86], [-2.29, -0.29], [-1.18, -0.8], [0.65, -2.67], [-0.92, -1.95], [0.07, -1.21], [-2.18, -1.43], [-1.59, -1.1], [-2.15, -0.82], [-2.45, -0.65], [-1.37, -0.64], [-1.31, -1.49], [-0.39, -0.9], [-1.48, -1.03], [0.31, -0.62], [-1.21, -1.46], [0.23, -1.59], [-0.75, -1.48], [0.18, -1.91], [-0.09, -2.19], [-0.54, -0.26], [0.48, -2.01], [-2.21, 0.05], [-2.37, -1.22], [-0.89, -0.94], [-1.33, -1.1], [0.52, -2.0], [-1.36, -0.48], [-1.41, -0.75], [-0.13, -0.47], [-0.46, -1.55], [-0.28, -1.73], [-0.26, -1.01], [-2.81, -0.35], [-0.13, -2.52], [-0.22, -1.81], [-1.74, -2.09], [-0.79, -0.44], [0.88, -2.2], [0.17, -0.59], [-2.62, 0.06], [-1.16, -0.17], [-0.29, -1.89], [0.03, -2.55], [-2.36, -1.23], [-1.44, -2.17], [-0.57, -0.34], [-2.25, -0.06], [0.04, -1.39], [-0.01, -2.31], [-0.29, -0.51], [-0.01, -0.37], [-2.5, -0.52], [-0.57, -0.75], [-2.43, -0.48], [0.76, -2.45], [0.34, -1.45], [-0.56, -1.42], [-1.38, -1.0], [-1.55, -1.43], [-1.14, -1.17], [-1.51, -2.1], [0.31, -0.65], [-1.12, -0.15], [-0.35, -1.19], [1.14, -2.51], [-1.35, -1.51], [-1.56, -0.85], [0.76, -2.67], [-1.54, -0.79], [-1.45, -1.48], [-2.29, -0.08], [-2.6, -0.63], [0.99, -2.7], [0.12, -2.51], [1.0, -2.1], [-1.27, -0.4], [-0.05, -2.89], [-1.48, -1.15], [-0.17, -1.05], [-0.93, -2.34], [0.48, -2.47], [-1.34, -0.38], [-1.88, -1.15], [-0.55, -0.28], [-0.39, -0.51], [-0.17, -0.48], [0.13, -0.7], [0.86, -2.77], [-2.65, -0.16], [-0.84, -1.23], [0.42, -0.85], [-0.1, -2.38], [0.05, -0.88], [0.62, -2.64], [-1.93, -1.19], [-0.79, -0.46], [-0.46, -0.42], [0.9, -1.96], [0.55, -1.52], [-1.21, -0.28], [-0.17, -0.34], [-0.19, -2.28], [-1.71, -1.37], [-1.48, -0.38], [-2.81, 0.15], [-1.71, -0.17], [0.53, -2.95], [-1.71, -1.77], [-1.39, -0.79], [0.32, -2.16], [-0.12, -1.85], [-0.1, -0.9], [-1.38, -0.42], [1.17, -2.67], [-2.04, -0.19], [-1.04, -0.38], [0.17, -2.88], [-0.74, -2.48], [-0.44, -2.39], [-0.44, -1.56], [-1.78, -0.15], [0.31, -2.89], [-1.09, -2.59], [-1.63, -1.7], [-1.36, -0.19], [-0.01, -0.53], [-0.26, -2.76], [0.02, -0.94], [-0.45, -2.88], [-2.23, 0.01], [-0.43, -0.44], [-0.17, -1.47], [-1.18, -0.45], [0.1, -2.25], [-0.38, -1.14], [-0.96, -0.92], [-0.91, -1.48], [-0.7, -0.83], [0.35, -0.85], [-0.08, -1.13], [-0.08, -1.07], [-0.44, -0.7], [-0.37, -1.43], [-1.36, -0.27], [-1.05, -2.12], [-2.59, -0.01], [0.75, -2.04], [0.51, -1.53], [-0.83, -2.08], [-1.18, -0.75], [-0.72, -1.02], [-0.79, -0.85], [-1.67, -1.51], [0.43, -0.89], [-2.08, -0.4], [-1.89, -0.72], [-0.31, -1.37], [0.49, -1.57], [-0.99, -1.91], [-0.43, -0.77], [0.12, -0.39], [0.14, -1.65], [0.64, -1.94], [-0.27, -0.69], [0.52, -1.04], [-1.37, -1.85], [-0.63, -1.75], [-0.13, -1.8], [0.89, -2.27], [-1.11, -0.36], [1.13, -2.39], [-1.1, -0.65], [-0.1, -2.74], [-2.42, 0.11], [0.14, -1.49], [-1.46, -1.76], [0.53, -1.28], [0.77, -2.13], [0.02, -1.44], [-0.11, -0.64], [1.09, -2.27], [-0.52, -0.4], [-2.13, -0.39], [0.44, -2.29], [-0.14, -2.87], [-0.54, -0.8], [-2.65, -0.0], [-0.85, -1.2], [-2.28, -1.81], [0.09, -0.46], [-0.55, -0.29], [-1.5, -0.69], [0.17, -0.45], [-2.05, -0.86], [0.04, -0.97], [-1.37, -1.22], [-0.21, -0.62], [-0.91, -2.83], [-0.86, -0.3], [-0.26, -1.49], [-0.87, -0.26], [-0.41, -0.28], [0.37, -2.69], [0.47, -2.79], [-1.58, -0.56], [-0.21, -0.59], [-1.88, -0.46], [0.54, -2.19], [0.01, -1.18], [-2.14, -1.88], [-2.15, -1.47], [-1.08, -1.32], [-2.75, -0.15], [-0.08, -0.41], [-1.32, -0.14], [-0.14, -2.58], [-2.04, -0.6], [0.45, -1.71], [-0.26, -2.9], [-1.66, -1.86], [-1.42, -0.89], [-1.46, -2.48], [0.47, -2.15], [-2.44, -0.47], [-2.82, -0.75], [0.11, -0.39], [0.05, -1.6], [0.13, -2.96], [0.2, -0.71], [-1.6, -0.79], [0.43, -1.76], [-0.66, -0.98], [-2.78, -0.45], [-0.63, -0.57], [-0.42, -0.38], [0.43, -1.44], [-2.71, -1.28], [0.16, -1.1], [-0.08, -0.79], [-1.68, -2.41], [-0.58, -0.32], [-0.07, -0.88], [-2.29, -0.8], [-1.43, -2.23], [-1.82, -0.2], [-1.48, -2.03], [-1.23, -1.58], [-0.81, -2.54], [0.3, -1.82], [0.18, -1.34], [-0.78, -1.03], [-1.08, -2.17], [-0.69, -1.96], [-0.05, -0.94], [-2.13, -0.86], [0.15, -1.63], [-2.55, -1.36], [-2.01, -1.13], [-1.84, -0.1], [-0.79, -1.5], [-0.85, -2.77], [0.28, -2.3], [-0.22, -2.76], [-2.41, -0.52], [-1.73, -1.12], [-1.49, -2.51], [0.29, -1.81], [-1.82, -1.65], [-0.04, -0.83], [0.55, -2.37], [-0.76, -2.22], [-0.85, -2.31], [-1.91, -2.13], [-2.55, -0.45], [0.15, -2.76], [-1.61, -0.13], [-2.68, -0.3], [-1.86, -0.61], [0.32, -2.48], [-1.74, -0.08], [-0.88, -1.09], [-1.23, -0.31], [-2.17, -1.57], [-0.97, -0.97], [-1.59, -1.82], [-1.24, -2.34], [0.37, -1.08], [-1.12, -1.56], [0.63, -1.31], [-0.08, -0.88], [-1.04, -1.68], [-1.1, -0.52], [0.86, -1.93], [0.19, -2.06], [-0.41, -1.21], [-1.29, -0.27], [-1.25, -2.63], [-0.29, -1.2], [0.46, -2.87], [-1.33, -0.59], [-0.92, -0.71], [-0.46, -0.27], [-2.27, -1.72], [0.02, -2.2], [-2.12, -0.2], [-1.66, -1.5], [-0.11, -1.98], [-0.2, -1.68], [-1.07, -1.23], [-1.87, -0.48], [-1.31, -0.62], [0.58, -1.77], [-2.66, -1.22], [0.46, -2.72], [-2.58, -0.56], [-2.64, -1.28], [0.34, -2.53], [-1.5, -2.48], [-1.81, -1.74], [-0.5, -1.32], [-1.83, -1.48], [-2.01, -2.14], [-0.97, -2.37], [-0.98, -2.71], [-0.99, -0.38], [-0.11, -2.18], [0.34, -0.9], [-0.37, -1.82], [-0.36, -0.65], [-1.39, -2.39], [-1.88, -1.44], [0.27, -2.29], [-2.74, -0.24], [-1.15, -0.33], [-0.79, -0.64], [-0.76, -1.99], [-0.34, -1.78], [-2.02, -2.13], [-0.21, -0.86], [-0.42, -2.84], [-0.23, -1.71], [0.99, -2.82], [-2.46, -1.28], [-0.06, -0.9], [-1.26, -0.46], [0.45, -1.09], [-0.53, -0.59], [-1.52, -0.92], [-0.11, -1.91], [-0.79, -0.64], [-0.87, -2.13], [-0.33, -0.45], [-0.27, -1.26], [-0.05, -2.89], [-2.0, -0.81], [-0.86, -0.59], [0.09, -1.19], [-1.69, -1.18], [0.94, -2.34], [-0.82, -1.72], [-0.73, -2.81], [-0.12, -1.09], [-1.01, -2.78], [-0.06, -0.36], [-0.98, -1.23], [-1.06, -0.55], [-0.62, -0.49], [-0.66, -1.21], [-0.04, -1.43], [-1.03, -0.79], [0.85, -1.89], [-1.14, -0.87], [0.09, -0.39], [-2.37, -1.03], [1.12, -2.57], [-1.32, -1.2], [-0.47, -2.56], [-0.67, -0.34], [-0.51, -0.46], [0.46, -1.48], [-1.25, -0.96], [-0.46, -0.88], [-0.44, -0.42], [0.71, -2.87], [0.19, -1.28], [-1.65, -1.66], [-0.32, -2.08], [-1.51, -1.83], [-1.18, -2.32], [-0.56, -0.91], [-0.38, -0.5], [-1.97, -1.2], [-0.96, -2.03], [-0.35, -1.23], [-1.58, -0.99], [0.19, -0.59], [-2.26, -1.44], [-0.34, -1.72], [-1.16, -1.61], [-0.17, -0.52], [-1.34, -0.87], [-2.69, -0.45], [-1.21, -1.52], [-0.96, -2.8], [-0.99, -0.51], [-1.43, -0.73], [-2.05, -0.2], [-1.21, -1.19], [0.17, -0.55], [-0.32, -0.65], [-0.49, -1.12], [0.29, -1.21], [-0.44, -0.98], [-1.2, -0.75], [-2.69, -0.5], [0.4, -2.48], [1.12, -2.35], [-0.17, -1.35], [0.3, -0.75], [0.29, -0.95], [-2.03, -1.65], [-0.01, -0.64], [0.24, -1.9], [0.75, -1.56], [0.02, -1.13], [-0.32, -0.84], [-2.95, -0.17], [-1.34, -0.66], [-0.43, -0.51], [-0.71, -1.09], [0.08, -0.99], [-0.72, -1.22], [-1.35, -0.28], [-2.21, -1.82], [-1.27, -0.11], [-0.41, -2.48], [0.29, -0.78], [-0.4, -0.53], [-0.09, -1.08], [-2.05, -0.65], [0.02, -0.5], [-0.36, -1.1], [-1.06, -1.61], [-0.47, -1.01], [-1.28, -1.24], [-0.1, -0.65], [-1.74, -0.03], [0.88, -2.11], [-0.93, -0.97], [-0.79, -1.46], [1.09, -2.75], [-1.84, -1.03], [-1.8, -0.52], [-0.97, -0.54], [-0.35, -0.36], [-0.47, -1.1], [-0.23, -0.49], [-1.52, -1.14], [0.38, -1.52], [0.12, -1.53], [-0.87, -1.18], [0.19, -2.89], [-1.09, -0.39], [-0.54, -0.43], [-1.33, -2.18], [-0.96, -1.55], [-1.95, -1.7], [0.53, -2.54], [0.41, -1.26], [-0.15, -2.29], [-0.96, -2.09], [-1.83, -0.29], [-1.0, -1.98], [-2.12, -0.22], [-0.58, -0.78], [-0.82, -0.85], [-1.69, -2.02], [0.63, -1.77], [-0.79, -0.4], [0.54, -1.15], [-1.99, 0.02], [-0.13, -0.46], [-0.37, -0.6], [-2.88, -0.16], [0.09, -0.62], [-1.87, -2.33], [-1.7, -0.41], [-0.08, -1.72], [-1.87, -0.54], [-0.16, -2.77], [-0.98, -0.81], [-1.73, -2.24], [0.21, -0.87], [-2.06, -1.32], [-0.07, -0.37], [-1.93, -2.17], [-0.01, -1.73], [-0.7, -0.91], [-0.07, -2.97], [-0.06, -2.75], [-1.25, -2.66], [-2.14, -0.97], [-0.45, -1.04], [0.65, -2.36], [-0.04, -1.0], [-1.37, -0.44], [-0.34, -0.81], [0.27, -1.35], [-1.76, -0.19], [0.5, -1.42], [-2.82, -0.65], [-1.92, -2.08], [-0.65, -0.7], [-1.22, -1.52], [0.86, -1.77], [-0.12, -1.69], [0.61, -1.72], [-0.06, -2.19], [-0.93, -0.53], [-0.9, -1.64], [-0.87, -1.4], [-0.38, -0.38], [0.1, -1.17], [-0.91, -0.85], [0.23, -1.09], [-0.15, -0.45], [-0.51, -0.88], [-1.94, -0.79], [-0.38, -1.16], [0.2, -2.63], [-2.36, -1.23], [-0.01, -0.46], [0.04, -1.16], [-1.72, -2.21], [0.26, -1.15], [-0.86, -0.21], [-1.68, -1.5], [0.13, -2.36], [0.49, -1.33], [-1.24, -0.29], [-0.4, -1.62], [0.27, -2.33], [-1.57, -1.96], [-0.02, -2.97], [-0.78, -0.86], [-0.3, -0.99], [-1.99, -0.07], [-1.32, -1.64], [-0.34, -1.67], [-1.26, -2.16], [-0.34, -0.51], [-0.63, -1.47], [-2.2, -0.93], [-1.0, -1.46], [-1.27, -1.94], [-2.45, -1.0], [-0.48, -1.68], [-2.39, -0.31], [-0.75, -2.19], [-2.27, -1.82], [-1.07, -0.74], [-0.61, -0.99], [1.01, -2.61], [-0.23, -0.79], [-2.69, -0.44], [-2.94, -0.12], [-2.4, -1.7], [-2.66, -0.08], [0.07, -1.08], [-2.86, -0.17], [-1.58, -1.86], [-1.39, -2.62], [-0.8, -0.29], [-1.38, -0.32], [0.01, -0.8], [-0.79, -2.69], [-2.32, -1.51], [-2.94, 0.2], [-1.13, -0.81], [-2.47, -0.64], [-1.97, -1.89], [-0.23, -0.96], [0.17, -2.28], [0.27, -0.82], [-1.66, -0.1], [-1.16, -1.84], [-0.15, -0.74], [-0.33, -1.76], [-2.72, -0.93], [-0.77, -0.5], [0.19, -1.62], [-0.21, -2.49], [-1.03, -0.78], [-1.34, -1.57], [-1.27, -1.02], [0.04, -1.11], [-1.41, -0.87], [-1.45, -1.26], [-2.73, 0.02], [-0.23, -0.89], [-0.19, -1.01], [-1.05, -0.44], [0.05, -0.66], [-0.39, -0.78], [-0.93, -0.72], [-1.07, -0.78], [0.33, -2.7], [-1.13, -0.87], [-1.28, -0.77], [-1.71, -0.89], [-0.33, -0.44], [-0.89, -0.5], [-0.17, -0.83], [-1.64, -0.89], [-0.42, -2.9], [-0.25, -2.5], [0.03, -0.59], [-2.06, -1.8], [0.1, -0.47], [-2.66, -0.81], [-1.7, -0.43], [0.65, -1.41], [-0.03, -1.36], [-1.46, -0.69], [-0.33, -0.51], [-0.51, -1.13], [-2.39, -1.13], [0.16, -0.46], [-2.97, 0.23], [-0.44, -0.83], [0.02, -1.84], [0.68, -1.59], [-0.65, -2.41], [-0.89, -0.4], [-0.98, -0.21], [-0.57, -0.4], [-0.8, -0.41], [0.2, -0.85], [-0.69, -2.08], [-0.94, -1.28], [-1.2, -2.57], [-0.06, -0.46], [-0.28, -0.91], [-0.24, -1.16], [-1.38, -1.47], [0.46, -1.19], [-0.29, -1.53], [0.12, -0.48], [-1.35, -1.6], [-0.48, -0.59], [-1.65, -1.59], [-1.53, -2.19], [-2.03, -0.4], [-1.51, -0.23], [-1.4, -1.67], [0.49, -1.91], [-0.67, -1.82], [-2.24, -1.07], [-0.14, -1.56], [-0.25, -0.41], [-0.5, -2.55], [-1.08, -0.67], [-1.29, -1.92], [-0.31, -0.96], [-0.49, -0.38], [0.92, -2.14], [0.03, -1.29], [-1.8, -0.72], [-1.3, -0.56], [-1.48, -1.76], [0.38, -1.36], [-1.59, -2.26], [-0.66, -1.31], [0.12, -2.5], [0.57, -2.65], [-1.24, -0.71], [-0.19, -1.12], [-0.83, -0.73], [-0.94, -1.82], [-2.04, -2.02], [-2.0, -1.09], [-0.5, -1.34], [-0.4, -1.97], [-2.12, -1.49], [-0.24, -1.05], [0.77, -1.92], [-0.19, -1.96], [-0.06, -2.37], [-0.94, -0.37], [-1.27, -1.78], [-0.58, -2.43], [0.76, -1.59], [-2.91, -0.49], [-0.5, -0.48], [-0.84, -0.93], [-0.96, -1.2], [0.16, -0.39], [-0.25, -0.73], [-1.47, -1.13], [-2.77, -1.05], [-0.01, -0.42], [-0.16, -1.21], [0.24, -0.6], [-1.97, -0.32], [-1.49, -2.18], [0.1, -0.47], [-0.18, -0.55], [-1.28, -1.57], [-0.65, -2.83], [-2.1, -1.22], [-2.7, -1.01], [-0.93, -0.19], [-2.58, -1.24], [-0.15, -0.52], [-0.64, -0.81], [-1.07, -0.43], [-0.97, -0.49], [-1.97, -2.24], [-0.32, -0.93], [0.8, -2.14], [0.26, -1.05], [-2.4, -0.56], [0.53, -1.31], [-1.82, -0.09], [-1.36, -1.88], [-0.5, -0.42], [0.24, -0.93], [0.09, -1.7], [-0.44, -1.27], [-0.82, -1.84], [-2.57, 0.14], [0.03, -0.56], [0.64, -2.08], [-0.96, -1.44], [-2.39, -0.8], [-0.23, -1.02], [-0.84, -0.49], [0.18, -2.23], [0.05, -0.77], [-0.66, -0.97], [-0.09, -2.82], [1.18, -2.48], [-0.36, -1.2], [-2.7, -0.99], [-0.17, -0.86], [-2.1, -0.28], [-0.45, -0.6], [-0.6, -0.75], [0.99, -2.54], [-1.35, -0.12], [-1.61, -1.48], [-2.02, -1.73], [-0.03, -0.93], [-1.25, -0.84], [-0.12, -0.61], [-0.38, -0.81], [-1.6, -0.36], [-2.15, -0.31], [-0.43, -0.51], [-1.84, -0.8], [-0.01, -1.78]]\n",
            "centroid1:  [-0.7684017923823748, -1.2702987303958164]\n",
            "number of points in each cluster1:  2678\n",
            "Time : 21.479488134384155\n",
            "cluster2:  [[2.28, -0.82], [-0.21, 1.92], [-0.18, 1.32], [0.71, -0.83], [-0.47, 0.28], [-0.07, -0.23], [0.15, 0.27], [-0.08, -0.02], [-1.83, 1.38], [0.68, 0.39], [1.1, 1.63], [0.7, -0.61], [0.01, 0.85], [-0.28, -0.28], [0.05, -0.07], [-0.65, 1.27], [-0.19, 1.32], [0.79, 1.61], [-0.59, -0.71], [-0.93, 1.33], [0.45, -1.25], [-0.52, 0.58], [-0.0, 0.0], [-0.78, 1.17], [-0.18, 0.67], [-1.43, 0.89], [-0.39, 0.3], [-0.09, -1.17], [-0.57, 0.55], [-0.63, 0.34], [-0.48, 2.18], [0.33, -0.44], [-0.47, 1.85], [-0.6, -0.55], [-0.4, -0.39], [0.15, 0.02], [-0.54, -0.12], [0.65, 0.48], [0.05, 0.45], [-1.02, 0.04], [-0.9, 2.22], [0.25, -0.96], [0.9, 2.36], [0.02, 2.31], [-2.07, 0.78], [-0.84, 1.69], [-0.75, -0.1], [-0.38, -0.46], [0.07, 0.33], [0.41, 0.72], [0.13, 0.01], [0.4, 0.25], [-0.13, -0.13], [0.1, -0.36], [0.32, 2.93], [0.73, 1.94], [-0.25, 0.31], [-0.82, 0.34], [-0.19, -0.54], [0.4, 0.96], [-0.19, -0.07], [0.5, 0.73], [-0.09, 1.1], [-0.4, 0.38], [-1.13, -0.28], [-1.48, -0.22], [-0.85, 1.73], [0.43, 1.39], [-0.04, 1.1], [-0.17, -0.13], [0.57, -0.27], [-1.45, 1.56], [0.36, -0.71], [0.2, 0.05], [-0.94, 2.67], [0.28, -0.07], [0.59, 1.47], [0.01, 1.88], [0.97, 2.03], [-0.27, 0.16], [-1.93, 0.51], [0.37, -0.34], [0.51, 1.09], [-0.25, 0.4], [-0.57, 0.76], [-1.59, 1.65], [-1.97, 0.92], [0.52, 2.24], [-1.74, 1.31], [-0.29, 0.85], [0.45, 2.53], [0.41, -0.21], [0.71, 0.84], [0.1, -0.26], [-2.23, 1.62], [0.14, -0.5], [0.15, 0.08], [0.29, 1.94], [-0.03, -0.02], [-0.04, 0.12], [-0.43, -0.11], [-0.66, -0.01], [-1.05, 0.83], [0.15, 0.86], [-0.31, 0.24], [0.06, -0.39], [0.61, 1.74], [-1.23, 2.48], [-0.93, 0.48], [-0.77, 1.61], [0.08, 0.11], [0.25, -0.54], [-1.6, 1.62], [0.2, -0.27], [0.02, -0.04], [-0.12, -0.31], [-0.06, 0.02], [0.41, 1.56], [0.45, 1.5], [-0.08, 1.45], [-0.05, -0.42], [-0.02, -0.05], [0.49, 0.14], [-0.5, 2.31], [-0.12, -0.11], [-0.01, -0.02], [-0.62, 0.52], [0.04, -0.04], [0.13, 1.13], [0.3, -0.04], [-1.04, 2.38], [-0.55, -0.11], [0.06, -0.03], [0.03, 1.59], [-0.59, 1.02], [0.57, 0.87], [-1.12, 1.5], [0.25, 2.92], [-0.09, 0.45], [0.03, 0.46], [-0.78, 1.43], [0.11, 0.4], [0.43, -0.07], [-0.69, 1.52], [0.34, -0.11], [-1.09, 2.4], [-1.13, 0.7], [0.06, -0.31], [0.91, 2.1], [0.23, 2.05], [-1.31, 1.6], [-1.49, 0.22], [-1.8, 1.82], [-0.41, 0.02], [0.03, 0.09], [0.0, -0.04], [-0.15, 1.23], [0.01, -0.2], [-0.62, 1.22], [0.02, 1.21], [-0.69, 0.64], [0.06, -0.11], [-1.75, 1.35], [-0.1, -0.11], [-0.31, 1.15], [-0.83, 2.34], [-1.23, 0.3], [-0.12, -0.11], [-0.42, -0.05], [-0.06, -0.33], [-0.13, -0.38], [-1.16, 0.7], [0.77, 1.6], [-0.72, 0.21], [0.24, 0.24], [-1.03, 0.34], [-1.69, 1.57], [0.36, -0.39], [-0.84, 2.15], [-1.77, 0.62], [0.29, 0.27], [0.55, 1.79], [-0.03, 1.38], [0.13, 1.76], [-1.22, 0.19], [0.05, 1.64], [0.07, -0.13], [1.17, 1.57], [-0.83, 2.63], [0.88, 1.81], [0.6, 1.23], [0.75, 0.5], [-0.77, 0.84], [-0.24, 1.56], [-0.25, -0.21], [-0.24, 0.31], [0.78, 1.65], [0.07, 0.0], [-0.25, -0.25], [-0.84, 1.45], [-0.02, -0.03], [0.26, 0.81], [-0.97, -0.04], [-1.18, 1.82], [-0.07, -0.06], [0.45, 0.89], [-1.06, 1.72], [-0.66, 2.07], [-0.64, 1.47], [0.53, 1.99], [-1.76, 2.31], [-0.02, 0.09], [-1.37, 1.14], [-0.71, 0.01], [-2.72, 0.85], [0.19, 0.89], [-0.07, 0.03], [-1.49, 0.16], [1.02, 2.58], [0.07, -0.42], [-2.07, 0.54], [-0.01, -0.0], [-0.22, -0.15], [-0.14, 0.03], [-0.66, 1.6], [-1.02, 2.47], [-0.25, 0.52], [-0.16, 0.94], [-0.33, 0.13], [0.49, 0.66], [-0.62, -0.05], [-0.56, 0.77], [1.33, 1.64], [-0.15, 0.72], [-0.7, 1.13], [0.97, 1.03], [-0.14, -0.28], [0.77, 1.61], [-0.94, 2.27], [-1.97, 0.57], [0.08, 0.67], [-0.09, 0.03], [-1.04, 0.16], [-0.5, 0.12], [0.22, 0.22], [-0.89, 1.73], [-1.01, 0.72], [-1.32, 2.06], [-2.17, 0.93], [-0.68, -0.2], [-0.12, -0.2], [-1.77, 0.15], [-1.62, 0.38], [0.23, -0.48], [0.2, -0.06], [-0.0, -0.0], [0.27, 0.36], [-0.52, -0.28], [-0.95, 2.67], [-2.7, 1.18], [-0.15, 0.22], [-0.32, 0.22], [-0.3, 1.07], [-0.15, -0.05], [-1.64, 2.0], [-0.48, 1.04], [-1.2, 1.11], [0.44, 1.07], [-0.19, -0.35], [0.04, 0.02], [-2.74, 1.15], [-1.18, 0.69], [-0.48, 0.24], [-1.01, 0.33], [0.71, 1.67], [0.13, 1.5], [-1.39, 0.87], [-1.97, 2.18], [-0.23, 0.05], [0.2, -0.17], [-2.19, 0.38], [0.23, -0.06], [-0.06, 0.15], [-1.3, 1.94], [-1.51, 0.3], [-2.16, 0.42], [-2.53, 1.37], [-0.17, -0.07], [-0.5, 0.09], [-0.06, 0.24], [-0.07, 0.39], [-0.5, 2.52], [0.33, 0.03], [0.81, 1.58], [0.78, 1.09], [-0.14, 0.21], [0.84, 1.23], [0.1, 1.32], [0.38, 0.33], [-0.73, 0.54], [-1.93, 0.64], [-2.51, 1.14], [-0.03, 0.29], [0.34, 0.95], [0.02, -0.03], [0.25, 0.18], [-0.62, 0.22], [-0.12, 0.57], [0.27, 0.04], [-2.75, 0.58], [-0.21, 1.26], [-0.22, 0.44], [-0.74, 0.67], [-0.12, 1.32], [-0.43, 0.02], [-0.07, -0.3], [-0.01, 1.34], [0.36, -0.27], [-2.33, 0.99], [-0.01, -0.0], [-1.69, 0.19], [0.23, -0.06], [-2.23, 0.58], [0.76, 1.95], [-0.16, 0.2], [0.37, 0.45], [-0.19, 0.01], [-2.84, 0.94], [0.16, 0.04], [0.03, -0.12], [1.03, 1.4], [0.1, -0.05], [-2.71, 0.5], [0.35, 0.38], [0.85, 1.56], [0.13, -0.29], [0.44, 2.37], [-2.18, 1.09], [-1.32, 2.61], [-0.37, -0.19], [-0.19, 0.31], [0.79, 0.97], [-2.57, 1.04], [0.29, 0.08], [0.01, -0.05], [-0.02, 0.0], [0.11, 0.24], [-2.09, 1.22], [0.52, 1.85], [0.52, 0.13], [-0.01, 0.01], [0.03, 0.35], [-0.28, -0.05], [-1.48, 1.74], [-0.64, -0.16], [-0.1, 0.57], [0.9, 1.8], [-0.28, 1.27], [-1.22, 2.08], [0.01, -0.13], [1.06, 2.11], [-0.35, 0.03], [0.64, 1.93], [-1.07, 2.08], [-0.14, 0.26], [-0.47, 0.47], [-1.43, 0.26], [0.34, -0.28], [-0.31, 0.27], [0.38, 0.15], [0.49, 0.91], [-0.39, -0.33], [-0.4, 2.15], [-0.81, 1.54], [1.02, 1.39], [0.01, -0.1], [-0.69, 0.21], [-0.03, -0.01], [0.6, 0.66], [-0.16, -0.22], [-0.91, 0.12], [-0.0, -0.07], [-2.22, 0.65], [-1.85, 0.42], [0.14, -0.16], [-0.35, 2.82], [0.06, -0.24], [0.76, 1.49], [0.83, 2.83], [0.02, 0.34], [-2.79, 0.38], [0.56, 2.16], [0.16, 1.05], [-0.22, 2.03], [-0.03, 0.19], [-0.82, 1.21], [-0.36, -0.06], [-0.86, -0.18], [0.18, -0.07], [-0.69, 2.79], [0.64, 0.53], [0.7, 0.77], [-1.81, 0.67], [-0.05, 0.18], [-0.87, 0.54], [-0.13, 0.37], [-0.09, 1.45], [-0.48, 0.14], [-0.64, 2.85], [0.01, 0.12], [-0.15, 0.35], [-0.04, 0.55], [-0.1, -0.04], [-0.42, 0.94], [-1.13, 1.16], [0.47, 0.77], [-0.44, 0.0], [-0.93, 0.25], [-0.7, 2.74], [1.02, 1.35], [0.34, -0.25], [-2.06, 1.46], [-0.26, 0.09], [-1.9, 0.68], [0.33, 0.9], [-0.76, 0.82], [-0.23, 1.03], [-2.8, 1.02], [-2.39, 1.24], [0.53, 0.32], [-2.57, 0.41], [0.2, -0.02], [0.01, -0.41], [0.45, 1.05], [-0.12, -0.04], [-0.56, 1.58], [-0.08, 0.02], [-1.93, 0.34], [-2.06, 0.11], [0.01, 0.36], [-0.51, 2.94], [-2.06, 0.31], [0.09, 0.15], [-1.12, 2.39], [0.32, 0.37], [-0.18, 1.25], [-0.39, 1.54], [-0.65, 1.95], [-0.11, -0.27], [-1.02, 1.04], [-1.47, 2.3], [0.37, 0.28], [0.1, 0.56], [0.01, -0.34], [-0.22, 0.06], [-0.93, 0.12], [-1.59, 1.86], [-0.02, -0.08], [0.27, -0.33], [0.06, 0.37], [0.16, 0.17], [0.01, -0.13], [-0.18, -0.02], [0.56, 0.52], [-0.16, 0.22], [0.8, 1.27], [-0.27, -0.13], [-0.04, -0.02], [0.12, 0.56], [-0.54, 2.65], [0.52, 0.37], [-1.18, 1.32], [-2.67, 1.06], [0.45, 0.97], [-0.47, 0.44], [0.05, 0.34], [0.37, -0.04], [0.31, 0.26], [-0.11, -0.04], [-0.16, 0.31], [-0.38, 1.76], [-1.11, 2.71], [-1.56, 0.57], [-0.65, 2.48], [0.08, 0.19], [-0.14, -0.21], [0.75, 0.94], [-0.26, -0.16], [-0.94, 1.52], [0.37, -0.02], [-0.38, 2.11], [-1.16, 0.84], [-0.83, 0.08], [0.04, -0.32], [-0.01, 1.49], [-0.28, -0.29], [0.13, 0.09], [-0.21, -0.2], [0.59, 1.9], [-0.78, 0.05], [-1.43, 2.15], [-0.45, 1.04], [-0.1, 0.02], [-0.69, 2.0], [-0.4, 0.02], [-1.15, 0.94], [-1.77, 2.34], [-0.04, 0.08], [-1.3, 1.81], [-0.16, 0.25], [-0.6, 0.89], [-1.18, 1.6], [0.03, 1.94], [-0.03, 0.05], [-0.64, 1.23], [-1.33, 1.09], [0.11, -0.28], [-0.98, 1.56], [-0.85, 0.99], [-0.84, -0.19], [-0.55, 0.39], [-0.01, -0.28], [0.16, -0.24], [-0.1, 0.17], [0.6, 2.31], [-0.58, -0.15], [-1.53, 1.08], [-2.19, 0.66], [0.02, 0.05], [-2.75, 0.57], [-1.08, -0.15], [0.27, 0.36], [-0.88, 0.38], [0.09, -0.17], [0.36, 1.19], [-0.07, 1.8], [-0.28, 0.19], [0.26, 0.69], [-0.07, -0.09], [0.22, 0.34], [-0.13, 2.41], [-0.06, 0.01], [0.16, -0.19], [-1.29, 1.49], [-0.84, 1.54], [-1.73, 1.43], [0.11, 1.26], [0.32, 0.41], [-0.05, 1.77], [-1.12, 0.07], [-1.82, 0.94], [0.11, 1.65], [-1.05, 2.68], [-1.59, 1.85], [0.06, 0.63], [-1.22, 0.22], [-1.05, -0.04], [0.15, 0.03], [0.1, -0.39], [-1.53, 1.1], [-0.1, 0.23], [0.85, 1.3], [-0.61, 1.3], [-0.47, 0.28], [0.67, 1.99], [0.59, 1.05], [-0.7, 0.34], [0.33, -0.11], [-0.16, -0.32], [-0.35, 1.44], [-0.42, 1.99], [-1.07, 0.6], [0.53, 0.69], [-0.14, 1.85], [0.4, 0.03], [-0.92, 1.86], [-0.01, 0.29], [0.26, 2.71], [-0.0, -0.14], [-0.04, 1.86], [-0.38, 1.12], [-2.0, 2.11], [-0.1, 1.51], [0.64, 0.7], [-0.42, -0.08], [0.1, 0.09], [-1.03, 2.47], [-1.19, 2.73], [0.05, -0.15], [0.41, 0.55], [0.25, -0.28], [0.21, 0.46], [-0.82, -0.04], [-0.2, 0.12], [0.06, -0.05], [-1.39, 1.09], [0.14, 0.2], [-2.75, 0.82], [-0.01, -0.01], [0.04, 0.14], [0.2, 0.07], [-0.43, 0.32], [1.22, 2.0], [-0.49, 2.2], [-0.21, -0.3], [-1.29, 0.07], [-0.16, -0.36], [-0.11, 0.05], [-0.76, 1.17], [0.33, 2.03], [0.83, 1.23], [-0.33, 1.27], [0.23, 0.31], [-0.88, -0.13], [0.22, 0.07], [0.31, 0.09], [-0.25, 0.13], [-0.02, 0.76], [0.23, 0.49], [-0.2, 0.16], [-0.27, 2.89], [0.89, 2.06], [0.35, 0.01], [0.68, 1.26], [-1.85, 0.15], [-0.72, 0.56], [0.03, 0.03], [0.04, 0.03], [0.49, 1.88], [0.33, 0.84], [-1.38, 0.32], [0.49, 0.07], [1.21, 1.72], [0.51, 1.63], [0.08, -0.13], [-0.37, 1.41], [-1.77, 0.15], [-0.84, 0.45], [-1.23, 0.71], [-1.2, 1.72], [0.37, 0.96], [0.07, 0.65], [-0.22, -0.33], [-0.57, 2.06], [-0.46, 2.2], [-0.19, -0.34], [0.57, 1.73], [0.04, 0.14], [-0.3, 0.37], [0.19, 0.04], [-1.68, 0.78], [0.49, 0.46], [-0.05, 1.02], [-0.09, 0.11], [1.2, 1.68], [-1.27, 0.52], [0.18, -0.28], [0.06, -0.11], [0.48, 0.73], [-1.42, 0.55], [-0.03, -0.3], [-1.16, 0.47], [-0.26, -0.01], [-1.58, 1.63], [-1.28, 1.53], [1.31, 1.84], [-0.6, 0.32], [-1.16, 0.74], [-0.06, 0.07], [0.02, 0.02], [0.14, -0.1], [-0.34, 1.16], [-0.75, 2.1], [0.02, -0.01], [-0.29, 1.56], [-0.58, 0.2], [-0.49, 0.33], [-0.04, 0.11], [-1.1, 1.88], [-0.02, -0.38], [0.04, 0.07], [0.13, 2.32], [0.14, 0.12], [-1.31, 1.35], [-0.09, 0.11], [-0.22, -0.3], [-0.66, 2.11], [-2.82, 0.86], [-0.51, 2.3], [0.01, 0.98], [-0.19, 0.23], [0.16, 0.09], [-1.05, 0.37], [-1.18, -0.14], [-0.13, 1.49], [-1.17, 0.61], [0.23, 0.3], [-0.09, -0.38], [0.47, 0.43], [-2.21, 0.37], [-0.3, 0.2], [-0.11, -0.05], [0.64, 0.91], [-2.36, 0.21], [1.11, 1.38], [0.75, 0.73], [-2.13, 0.33], [-1.38, -0.04], [-1.28, 0.42], [-0.59, 0.38], [-1.28, 0.99], [0.66, 1.74], [-0.14, -0.07], [-0.51, -0.24], [-2.66, 0.41], [0.02, 0.05], [-2.27, 0.83], [-2.22, 1.31], [-0.32, 0.7], [0.22, 0.2], [0.21, 0.38], [-0.01, 0.27], [-0.43, 1.14], [0.9, 1.61], [-0.04, 0.07], [-0.53, 1.12], [-0.51, 1.01], [0.17, -0.32], [0.66, 2.16], [0.14, 0.12], [-1.19, 0.27], [-1.22, 0.12], [0.27, 2.64], [-0.35, 2.87], [-0.41, 1.15], [0.84, 2.78], [-2.07, 2.11], [-2.43, 1.26], [-0.0, 0.0], [-2.43, 0.55], [-0.71, 2.83], [-1.78, 0.2], [-1.13, 1.52], [-0.29, 0.23], [1.07, 1.28], [-0.24, 1.27], [-0.85, 1.86], [-0.43, 0.65], [0.08, 2.95], [-0.75, 1.16], [-0.04, -0.03], [-2.3, 1.39], [-0.14, -0.19], [-1.47, 1.95], [1.02, 2.07], [-0.01, -0.02], [-2.73, 0.65], [-0.62, 0.23], [-0.71, 2.03], [0.15, 1.47], [-0.55, 0.64], [0.15, 0.57], [-1.65, 0.06], [0.35, 0.15], [0.73, 1.9], [-0.74, -0.16], [0.15, -0.05], [-1.47, 1.74], [-0.22, 1.24], [-0.01, 0.0], [0.08, 0.23], [-0.07, -0.03], [-0.2, 0.1], [0.0, 0.49], [-0.7, 1.74], [-0.0, 0.32], [0.07, 1.02], [-0.23, -0.12], [0.09, 0.04], [-0.98, 2.34], [0.35, 0.15], [-0.6, 1.78], [-0.21, 0.19], [-0.94, 0.28], [0.11, 0.29], [-0.17, -0.11], [-0.05, 1.26], [0.1, 2.39], [-2.65, 1.13], [0.56, 0.74], [-0.61, 0.92], [-0.07, -0.15], [0.2, 0.57], [-1.09, 1.68], [0.71, 1.16], [0.03, -0.12], [0.0, 0.01], [0.12, 0.68], [-1.09, 1.94], [0.15, 0.53], [0.08, 0.04], [0.65, 0.58], [0.6, 1.65], [0.01, -0.13], [1.22, 2.36], [-0.5, -0.18], [0.05, -0.03], [0.08, -0.32], [0.15, 2.42], [0.4, 0.17], [0.41, 1.06], [-1.27, 1.28], [0.6, 1.49], [0.06, 0.24], [-1.96, 0.36], [-0.94, 0.21], [-1.46, 1.48], [-0.14, 1.19], [0.75, 2.48], [-0.73, 0.56], [-0.38, -0.13], [-1.04, 1.41], [-1.82, 0.4], [-1.25, 0.63], [-2.03, 1.31], [-0.47, 1.05], [0.3, 0.63], [0.17, 0.12], [0.32, 0.93], [-0.8, 2.31], [-1.0, 0.69], [-1.51, 0.27], [-0.54, 0.41], [-2.31, 0.57], [-0.22, 0.52], [0.34, 1.31], [-0.34, -0.18], [0.03, -0.01], [-0.67, 1.06], [-0.03, 0.06], [-0.91, 1.65], [0.33, 1.12], [-0.55, -0.12], [-2.56, 0.8], [0.26, 0.17], [-0.09, -0.03], [0.08, 0.19], [0.21, 1.97], [0.16, 0.07], [-0.51, -0.06], [0.18, 0.28], [0.26, -0.29], [0.36, 1.25], [0.43, 0.02], [-1.67, 0.43], [-0.54, 1.76], [0.01, 2.7], [0.28, 0.15], [-0.72, 0.23], [-1.39, -0.05], [-0.03, 0.02], [-1.05, 1.99], [-0.2, 0.02], [-0.69, -0.22], [0.03, 0.05], [-0.41, 0.51], [0.44, 2.04], [-0.06, 0.15], [-0.5, 0.51], [0.71, 1.88], [0.49, 2.6], [0.25, 0.44], [-0.28, 0.16], [-0.79, 1.49], [0.23, 0.58], [0.47, 0.44], [-0.32, 0.41], [-0.77, 0.55], [-1.06, 0.88], [-0.57, 1.7], [0.3, -0.03], [-1.06, 2.33], [-1.0, 0.11], [-1.42, 1.29], [0.19, 1.75], [-0.8, 2.06], [-0.13, 0.44], [0.03, 0.11], [-0.4, 0.73], [-0.36, 0.63], [-0.58, 1.19], [0.52, 0.25], [-0.28, -0.32], [0.08, 0.26], [-0.82, 2.01], [0.02, 0.53], [0.01, 0.86], [-1.81, 0.61], [-0.32, 2.32], [-0.4, 0.3], [-1.41, 0.55], [1.25, 1.79], [-0.06, 1.39], [-1.08, 0.32], [-0.17, -0.13], [0.92, 1.07], [0.32, 0.47], [-1.92, 0.13], [-1.27, 1.12], [0.45, 1.23], [-0.09, 2.74], [-2.06, 0.15], [0.0, 0.1], [-1.96, 0.56], [-0.05, 1.81], [-1.41, 1.05], [0.48, 1.18], [-0.94, 2.75], [-0.44, 1.15], [-1.06, 2.77], [0.0, -0.0], [-1.49, 1.5], [0.18, 0.52], [0.51, 0.2], [-0.3, 1.09], [-0.17, 1.01], [-0.14, -0.27], [0.29, -0.02], [-0.02, -0.0], [-1.0, 0.17], [-1.0, 0.48], [-0.15, 0.26], [-2.02, 0.56], [-1.26, 1.36], [-0.48, 0.29], [0.02, -0.05], [-0.09, 0.11], [-1.71, 0.62], [-1.49, 1.08], [-0.16, 0.56], [0.97, 1.22], [-0.38, -0.01], [-0.33, 0.11], [0.54, 2.19], [-0.14, -0.23], [-1.97, 0.85], [1.49, 2.36], [0.14, 0.76], [-2.66, 0.4], [0.29, 0.28], [-1.42, 1.3], [0.2, 0.17], [-0.0, -0.0], [-0.46, 0.99], [0.21, 1.17], [-1.74, 0.49], [1.21, 1.58], [0.37, -0.02], [-2.46, 0.34], [-2.11, 0.07], [-2.1, 2.06], [-1.24, 2.15], [0.54, 2.13], [0.63, 1.32], [-2.3, 1.86], [-1.06, 1.73], [-1.23, 1.0], [-0.43, 2.04], [0.87, 2.42], [-0.31, 0.24], [0.21, 0.35], [0.4, 0.52], [0.07, 0.14], [-2.06, 0.15], [-1.47, 1.46], [0.18, 0.17], [-2.0, 0.14], [-0.07, -0.0], [-0.33, 2.21], [-1.92, 0.19], [-1.57, 0.69], [0.15, 0.11], [0.97, 2.24], [-1.55, 0.11], [0.09, -0.36], [0.28, 0.27], [0.13, 0.47], [-1.09, -0.04], [0.0, -0.0], [-0.89, 2.7], [-0.97, 1.29], [0.07, 0.29], [0.34, 0.83], [-0.24, 0.3], [-0.16, -0.16], [-0.04, 1.14], [-1.86, 0.94], [-0.21, -0.05], [-1.37, 1.42], [-0.4, 0.22], [0.33, 0.17], [-0.65, 0.76], [-0.38, 2.58], [0.0, 0.03], [-2.08, 2.03], [-0.23, 0.22], [1.36, 2.49], [-0.8, 0.66], [0.02, 0.02], [-0.46, -0.04], [0.8, 0.81], [-0.01, -0.16], [1.21, 2.7], [-0.21, 1.27], [-0.78, 0.52], [0.2, 0.13], [0.09, 0.15], [-1.53, 0.2], [0.08, 2.22], [0.04, 0.22], [-0.81, 0.77], [0.0, 1.62], [0.04, -0.35], [-0.27, 0.84], [0.51, 2.15], [-0.59, -0.27], [-0.95, 2.63], [-1.14, 1.45], [-0.5, 0.93], [0.42, 0.98], [0.21, 0.31], [-0.47, 0.04], [-0.71, 0.55], [-0.49, 0.24], [0.12, -0.3], [-2.33, 0.95], [0.56, 0.9], [-0.99, 0.43], [0.04, 0.11], [-1.76, 1.37], [0.45, 1.36], [-1.45, 0.79], [-1.04, 2.04], [-0.25, 0.21], [0.05, 0.04], [0.84, 1.24], [-0.8, 0.35], [-2.27, 0.2], [0.01, 0.46], [-0.75, -0.05], [1.25, 2.7], [0.05, 0.39], [-0.2, -0.18], [-0.66, 1.78], [0.12, 1.0], [-1.52, 0.2], [-0.1, 0.84], [-0.74, 1.01], [-0.06, 0.13], [0.15, 0.04], [-2.68, 0.48], [0.45, 0.33], [-0.1, 0.27], [-1.35, 1.41], [0.29, 1.12], [0.3, -0.25], [-0.02, -0.36], [-1.2, 1.82], [-0.02, -0.13], [0.59, 1.54], [-0.04, 2.63], [-2.04, 0.68], [0.17, -0.11], [-2.44, 1.36], [-0.07, -0.0], [0.09, 0.1], [-1.64, 1.23], [1.14, 1.94], [-1.75, 1.56], [-0.66, 0.48], [0.19, 0.44], [0.42, 2.05], [-2.04, 0.59], [-0.9, -0.14], [0.39, 2.09], [-0.49, -0.17], [0.43, 0.11], [-0.3, 2.35], [-1.54, 1.0], [-0.08, 0.15], [0.56, 2.84], [1.29, 2.61], [-1.45, 1.32], [0.15, 0.79], [0.25, 2.16], [-1.84, 1.99], [0.45, 0.3], [1.03, 2.37], [0.55, 1.36], [0.52, 1.06], [-0.16, -0.13], [0.37, 0.21], [-0.03, -0.03], [-1.12, 1.8], [0.43, 1.38], [0.52, 0.85], [0.09, 0.14], [0.71, 0.54], [1.18, 1.57], [0.4, 2.61], [-1.99, 1.76], [0.15, -0.3], [0.16, 0.29], [-1.15, 1.44], [0.01, 0.0], [-1.67, 1.37], [0.48, 1.05], [-0.54, 1.15], [0.03, 1.26], [-1.6, 0.03], [-1.3, 1.16], [-1.53, 0.82], [0.12, 2.48], [0.39, 0.14], [-0.06, 0.06], [0.06, -0.07], [-0.16, 0.18], [0.18, -0.41], [0.92, 2.03], [-0.38, 1.18], [-1.22, 2.0], [1.47, 2.19], [-0.03, -0.0], [-0.42, 0.22], [0.37, -0.05], [0.44, 1.8], [0.11, 0.54], [-0.92, 0.19], [1.23, 2.07], [0.18, 0.15], [-0.19, -0.05], [-0.6, 1.54], [-0.06, -0.07], [-0.35, 2.91], [0.03, -0.13], [-1.12, 2.6], [-0.24, 1.17], [0.77, 2.12], [-0.09, -0.28], [-1.86, 1.22], [1.03, 1.43], [-1.3, 1.19], [0.81, 1.13], [0.21, -0.18], [-1.64, 1.98], [-2.42, 1.12], [0.47, 1.77], [0.41, 0.21], [0.14, -0.4], [0.24, 0.15], [-1.09, 2.58], [0.44, 0.71], [-0.17, 0.2], [1.0, 2.09], [-0.07, 1.42], [-0.1, 2.63], [-2.09, 1.5], [0.34, -0.19], [-1.7, 1.88], [-0.21, 2.62], [0.08, 2.46], [-0.12, 0.46], [-0.18, 0.13], [-1.06, 0.9], [-0.25, 0.06], [0.31, 0.94], [-1.23, 2.73], [-2.1, 0.18], [-0.83, 0.12], [0.45, 0.11], [-1.89, 0.36], [-0.04, 0.08], [-1.29, 0.6], [-0.24, 1.89], [0.18, 0.1], [-0.74, 0.5], [-0.15, 2.49], [-1.23, 1.89], [0.54, 0.9], [-1.25, 0.69], [-0.19, -0.13], [-1.32, 2.65], [0.81, 1.12], [-1.3, 0.87], [0.19, -0.33], [-2.76, 0.91], [0.54, 0.38], [-0.48, -0.14], [-0.75, 0.73], [-0.04, -0.02], [0.02, -0.04], [-0.89, 0.56], [0.03, -0.34], [0.58, 1.15], [0.79, 1.6], [-0.79, 0.33], [0.11, -0.29], [-1.26, 0.79], [-0.09, -0.05], [-0.31, 1.22], [0.23, 1.34], [-0.43, 0.4], [-0.37, 0.07], [-2.1, 1.28], [0.14, 0.84], [-0.62, 0.37], [0.46, 0.04], [-1.73, 1.74], [-1.47, 2.48], [-0.28, 0.11], [-0.11, 1.66], [0.21, -0.11], [-1.65, 1.5], [0.93, 1.0], [0.17, 2.69], [-0.47, 1.54], [0.07, 2.34], [-0.26, -0.18], [-0.54, 2.63], [-1.62, 1.92], [-1.14, 0.93], [0.22, 0.03], [0.22, -0.06], [-1.06, 2.51], [1.21, 1.87], [0.07, 0.01], [-0.46, -0.03], [0.23, -0.26], [0.2, 0.96], [0.41, 2.14], [-2.84, 0.33], [-0.96, 1.35], [-0.61, 2.15], [-1.54, 0.04], [-0.47, 0.34], [0.96, 1.82], [-1.37, 1.09], [-2.64, 0.2], [-1.99, 1.03], [-0.13, -0.14], [0.05, 0.09], [-0.67, 2.39], [-0.05, 0.07], [0.41, 0.88], [-1.62, 1.68], [0.69, 0.66], [-2.33, 0.51], [-1.36, 1.19], [-0.3, -0.05], [-0.32, 1.8], [-2.0, 1.07], [-0.4, 0.87], [0.79, 2.28], [-0.33, 0.18], [0.47, 0.86], [-1.28, 1.16], [-0.42, 1.88], [0.26, 0.12], [-0.35, 2.23], [-1.35, 0.98], [-0.71, 1.69], [-1.64, 1.3], [-2.44, 0.72], [0.36, -0.07], [-1.3, 1.32], [0.14, 0.03], [0.31, 0.02], [-0.91, 1.85], [-0.47, 0.2], [0.98, 2.52], [-1.84, 1.99], [0.07, -0.32], [0.21, -0.07], [-0.88, 1.61], [0.2, 0.36], [-0.37, 0.09], [-1.15, 0.69], [-0.08, 0.89], [0.04, 0.01], [0.52, 2.4], [0.12, 0.29], [0.45, 1.71], [-0.44, 0.13], [0.21, 1.07], [0.32, 0.77], [0.47, 0.79], [-0.76, 0.23], [0.23, -0.11], [-0.41, 0.19], [-1.52, -0.02], [-0.33, 1.16], [-1.3, 0.05], [0.1, 0.04], [-0.02, 0.2], [0.55, 0.4], [-0.24, 0.19], [-0.07, 0.61], [-0.42, 1.74], [-0.03, -0.28], [-0.91, 0.13], [-0.08, 0.19], [1.04, 2.49], [0.02, 0.03], [-0.99, 0.16], [0.35, 0.71], [-0.74, 0.05], [0.22, 0.38], [-0.07, 1.46], [-0.03, 0.03], [-1.28, 1.7], [-0.28, -0.19], [0.94, 1.16], [0.08, 2.22], [-2.73, 0.9], [-0.78, -0.13], [-0.97, 0.79], [-1.02, 1.53], [-1.25, 0.55], [-0.7, 2.82], [-0.44, 0.09], [-0.57, 2.33], [0.12, 0.01], [-0.37, 1.74], [-1.79, 0.84], [-0.5, 0.69], [-0.21, -0.12], [0.28, 1.39], [-1.49, 1.93], [0.29, -0.06], [-0.06, 0.9], [-0.63, 1.57], [0.13, 0.39], [-1.87, 1.85], [-0.38, 0.16], [-0.88, 0.34], [-1.26, 0.25], [-1.08, 0.59], [-0.24, 0.69], [-0.38, -0.03], [-0.61, 2.18], [-0.94, 0.75], [0.15, 0.05], [-0.15, 0.25], [-0.36, 1.4], [-0.09, 0.16], [-0.01, -0.16], [0.12, 0.42], [0.34, 2.0], [-1.11, 2.75], [-0.13, -0.32], [0.21, 0.2], [0.4, 1.36], [0.34, 0.13], [-2.43, 1.66], [1.06, 1.95], [-0.5, 1.94], [-0.1, -0.3], [-1.1, 0.64], [-0.03, -0.01], [-0.63, 1.83], [-1.23, 1.72], [-0.15, 0.12], [-0.41, 2.25], [-0.39, 1.12], [-1.01, 0.99], [-0.38, -0.06], [-1.29, 2.56], [-1.07, 1.51], [-0.11, 0.08], [0.26, 0.18], [0.23, 2.69], [1.23, 2.38], [0.24, 0.72], [-0.79, 0.33], [0.15, 0.46], [0.62, 1.63], [0.7, 2.33], [-1.37, 0.9], [0.5, 0.24], [-1.04, 0.17], [0.13, 0.15], [-1.01, 0.5], [0.21, 0.1], [0.51, 0.47], [0.46, 2.78], [-0.06, -0.2], [-1.2, -0.0], [-0.07, 1.0], [0.01, -0.11], [0.1, 0.03], [-0.83, 0.38], [0.16, 0.02], [-0.15, -0.05], [-1.16, 0.55], [0.85, 1.0], [-0.39, 0.43], [-0.16, 0.07], [0.2, 1.75], [0.32, 2.22], [0.09, -0.21], [0.38, 0.39], [-0.48, 1.75], [-0.36, 0.05], [-0.23, 2.08], [-0.16, -0.0], [0.12, 0.39], [-1.7, 1.76], [-0.33, 0.1], [-0.1, 0.0], [-0.2, 1.13], [0.12, -0.22], [-0.33, 1.8], [-0.1, 0.09], [0.15, 0.53], [-0.14, 0.07], [-0.55, 1.53], [-0.04, 0.06], [-1.96, 0.96], [-0.02, -0.17], [-1.67, 0.39], [0.6, 0.98], [0.03, 0.03], [-1.46, 1.14], [-1.28, 1.51], [-0.29, -0.23], [-0.05, 0.53], [-1.28, 0.31], [-2.83, 0.61], [-2.51, 0.31], [0.04, 0.17], [0.5, 0.21], [0.26, -0.28], [-0.11, -0.1], [0.09, 0.08], [-0.11, -0.06], [-0.04, -0.18], [-0.1, 2.03], [-0.14, 0.19], [-1.44, 0.53], [0.08, 0.97], [-1.7, 1.78], [-1.66, 0.97], [-1.09, 2.1], [-0.62, 1.05], [0.07, 0.11], [0.55, 2.43], [-2.2, 2.03], [0.2, 0.11], [-0.15, -0.03], [-1.55, 0.27], [-0.75, 0.29], [0.03, 0.73], [-2.16, 0.62], [0.54, 0.48], [-0.68, 0.81], [-1.19, 0.4], [-0.36, -0.21], [-0.06, 0.86], [-0.1, 0.23], [-2.59, 1.4], [0.03, -0.03], [0.57, 0.54], [-0.74, 0.96], [-0.83, 1.06], [-1.13, 0.73], [-0.4, 0.06], [0.93, 2.1], [-1.41, 0.57], [-0.92, 1.42], [-0.42, 0.86], [0.19, 0.39], [-0.22, -0.2], [-0.08, 0.35], [-0.2, 1.3], [0.67, 2.42], [0.0, -0.08], [-0.72, 0.33], [-0.04, -0.35], [-0.14, 0.19], [-0.71, 1.35], [-0.31, 1.87], [-1.04, 2.3], [0.41, 0.02], [-2.02, 1.99], [1.42, 1.99], [0.83, 2.49], [-0.0, -0.01], [0.14, 0.52], [-0.69, 0.39], [-1.28, 1.2], [-0.22, 0.66], [-0.38, 1.4], [-0.9, 1.13], [0.28, 0.19], [-0.67, 2.83], [-0.91, 1.77], [-0.14, 0.31], [-0.6, 0.37], [-0.39, 1.47], [-0.07, 0.95], [-1.03, 0.84], [-2.2, 1.63], [-0.25, 2.17], [-1.31, 2.07], [-0.44, 1.15], [-0.45, -0.22], [0.51, 1.81], [-0.87, 1.59], [0.09, -0.26], [-0.39, 0.45], [0.89, 1.34], [-0.32, 0.56], [0.06, 0.01], [0.29, -0.11], [-1.17, 0.87], [0.5, 0.75], [0.29, 2.3], [0.01, 0.82], [0.19, 0.11], [-0.04, 0.02], [1.28, 1.8], [-0.69, 1.38], [0.23, 0.76], [-0.07, 0.27], [-2.71, 0.28], [-0.72, -0.15], [-0.88, 0.69], [-0.31, -0.09], [0.47, 2.89], [-0.56, 0.42], [-1.16, 1.23], [0.42, 0.29], [0.0, 0.42], [0.25, 2.29], [-0.01, 0.93], [-0.24, 0.38], [-0.74, 1.53], [-0.01, 0.01], [-0.75, 1.8], [-0.93, 1.91], [0.24, -0.01], [-1.61, 1.6], [1.18, 1.91], [0.66, 1.13], [0.12, -0.02], [-0.46, 0.23], [-0.72, 0.53], [-0.81, 0.35], [-1.35, 1.41], [0.99, 1.22], [0.52, 1.77], [-0.01, 1.39], [1.04, 1.18], [0.01, -0.03], [-0.39, 0.23], [-0.21, 0.52], [-0.09, 0.16], [-0.46, 0.09], [-0.99, 1.35], [0.28, 1.87], [-0.05, 1.62], [-0.13, -0.2], [1.26, 1.79], [-0.15, 0.77], [-1.12, 2.03], [1.16, 2.05], [0.27, -0.02], [1.34, 2.26], [-1.2, 2.41], [-1.85, 0.74], [-0.7, 1.33], [-0.83, 0.81], [-0.92, 0.15], [-2.36, 0.15], [-0.96, 0.41], [-1.96, 0.43], [0.97, 2.02], [-0.02, -0.0], [-0.1, 0.26], [-0.52, 0.56], [-0.13, 0.02], [-2.59, 0.44], [0.08, 0.02], [0.85, 0.93], [0.1, -0.14], [-0.12, -0.14], [-0.04, -0.03], [-0.86, 1.94], [-0.1, 0.59], [-0.52, -0.02], [-0.61, 0.83], [0.2, 0.18], [0.23, 1.1], [0.05, 2.51], [0.82, 2.11], [0.11, 0.12], [0.6, 0.73], [0.08, 0.56], [-0.58, 2.01], [-0.13, 1.46], [-1.22, 1.06], [0.52, 2.04], [-1.39, 2.0], [-0.07, 1.4], [0.34, 0.07], [1.12, 1.36], [-0.79, 0.82], [-0.09, -0.05], [0.02, -0.02], [-0.88, 0.48], [-0.18, -0.24], [-0.55, 0.12], [-1.66, 0.47], [-1.1, 0.48], [-0.71, 0.72], [-1.26, -0.06], [-0.07, 0.05], [0.68, 0.73], [-0.84, 2.14], [0.0, 0.0], [-0.08, 0.23], [0.05, 0.61], [0.62, 0.39], [-1.01, 1.02], [-0.79, 1.17], [0.02, -0.29], [-0.17, 0.13], [-2.22, 0.16], [-0.69, 0.75], [0.24, 0.59], [-0.94, 0.4], [-0.25, 1.13], [0.05, -0.09], [1.06, 1.75], [0.01, -0.03], [-0.72, 1.56], [-1.02, 0.91], [-2.87, 0.25], [-1.89, 1.34], [-0.25, 0.73], [-0.99, 1.02], [-0.82, 1.38], [-1.56, 1.77], [-1.51, 1.35], [0.59, 0.82], [0.79, 2.31], [-1.79, 1.98], [-0.46, 0.76], [0.46, 0.97], [-0.07, 0.09], [0.25, 0.14], [-0.75, 0.35], [0.09, 2.48], [-2.17, 1.99], [-0.08, 1.96], [-0.32, 0.14], [0.28, 0.73], [-0.51, 1.46], [-2.25, 0.39], [-2.07, 0.86], [-0.17, 1.21], [0.55, 0.58], [-0.28, 0.6], [-0.55, 1.03], [0.03, -0.02], [-0.56, 0.88], [-1.3, 0.47], [-0.0, 0.1], [-0.35, 0.51], [-0.25, 0.91], [-0.04, -0.08], [-0.77, 1.04], [0.07, -0.0], [-0.7, 0.04], [0.54, 0.37], [0.21, 0.43], [-1.0, 0.71], [-0.21, 0.24], [-2.41, 0.56], [-2.63, 0.87], [0.38, 0.78], [-0.5, 0.12], [-1.61, 1.02], [-0.31, -0.28], [0.0, 1.71], [-0.27, 0.05], [-1.53, 1.62], [-1.78, 1.92], [1.27, 2.51], [-0.72, 2.59], [0.37, 1.33], [0.06, 1.81], [-1.35, 2.41], [0.75, 1.17], [0.02, -0.0], [0.14, -0.16], [-0.68, 0.39], [-0.07, -0.02], [-2.16, 0.26], [-0.32, 1.15], [-1.41, 1.63], [-0.34, 0.16], [0.48, 0.63], [0.39, 0.33], [-0.87, 0.53], [0.07, 0.28], [-0.14, -0.17], [0.03, 0.78], [-0.37, 1.28], [-0.16, 0.64], [-0.75, 0.79], [-0.73, 2.74], [1.04, 1.59], [-1.3, 0.2], [-0.62, 2.14], [-0.3, 1.11], [-0.05, -0.06], [0.22, 0.88], [-0.26, 0.39], [-1.83, 1.84], [-0.51, 0.05], [-0.52, -0.08], [0.03, -0.03], [-0.25, 0.63], [-0.41, 2.3], [-0.85, 1.08], [0.08, 0.6], [0.01, 0.77], [-0.26, -0.09], [0.92, 2.32], [-0.18, -0.03], [0.25, 1.74], [-0.8, 1.73], [0.12, 0.33], [0.51, 0.3], [-0.62, -0.17], [-1.7, 0.14], [-0.0, 0.0], [-0.53, 0.02], [-0.27, 1.66], [-0.48, 1.23], [-0.95, 0.07], [0.1, 0.17], [-0.83, 0.38], [0.96, 2.13], [-0.96, -0.01], [-0.3, -0.06], [-0.57, 1.74], [-0.42, -0.2], [1.28, 1.91], [0.61, 0.79], [-1.36, 1.78], [-1.21, 0.4], [-0.98, 0.78], [0.01, -0.06], [-0.68, 0.69], [-0.56, -0.22], [0.33, 1.47], [0.2, -0.25], [0.04, 0.98], [-2.15, 0.28], [-2.86, 0.55], [-0.84, 0.07], [-0.18, 1.09], [0.3, -0.15], [-1.05, 2.08], [-0.39, 0.23], [0.53, 0.73], [0.08, 0.25], [0.05, 1.72], [-0.86, -0.17], [-2.5, 0.89], [0.56, 1.29], [-0.97, 0.24], [-0.08, 2.24], [0.35, 0.05], [-1.01, 0.63], [-0.14, 0.01], [-0.05, -0.0], [-0.09, 0.04], [0.15, -0.22], [-0.23, 1.33], [-0.13, -0.18], [-0.7, 0.34], [0.34, 1.99], [-0.64, 1.22], [1.33, 1.9], [0.15, 0.52], [-0.44, 0.84], [0.08, 0.62], [-0.42, 1.2], [-0.37, 2.78], [0.22, 1.04], [-2.32, 0.93], [-0.94, 0.94], [-0.98, 0.92], [-0.5, 0.37], [-1.79, 1.67], [0.44, 0.29], [-0.23, 0.52], [-0.49, 0.59], [-2.08, 1.51], [-1.73, 2.25], [0.25, -0.0], [-2.81, 0.51], [-0.3, 1.92], [-0.19, 0.38], [0.01, 1.69], [0.32, 0.34], [-0.86, 0.9], [0.28, 0.43], [1.1, 2.4], [0.38, 0.31], [-0.92, 0.01], [-0.09, 0.96], [0.08, -0.07], [0.02, 0.04], [0.22, -0.17], [0.34, -0.02], [-2.92, 0.45], [-2.66, 0.52], [-1.22, 1.38], [0.22, 0.62], [0.04, 0.24], [0.24, -0.21], [0.08, 0.55], [0.86, 0.93], [0.09, -0.04], [0.18, 0.39], [0.51, 0.82], [-1.05, 1.57], [-0.62, 0.19], [0.62, 0.57], [-1.4, 2.29], [-0.08, 2.42], [-1.64, 0.13], [-0.85, 1.3], [0.48, 0.49], [-0.32, 0.09], [-2.72, 1.15], [-1.19, -0.04], [0.86, 2.37], [0.01, 0.05], [-0.37, -0.27], [0.35, 2.82], [0.4, 0.29], [1.63, 2.31], [-0.51, 2.83], [0.17, -0.04], [-0.36, 0.23], [0.11, 2.36], [0.87, 2.35], [-0.44, 2.64], [-1.89, 0.7], [0.0, -0.03], [0.69, 0.63], [-1.95, 0.36], [-0.11, 0.36], [-0.41, 2.94], [-1.97, 1.81], [-1.69, 1.98], [-0.41, 2.13], [-0.12, 0.75], [-1.26, -0.06], [0.26, 0.15], [-1.77, 0.06], [-0.16, -0.27], [-1.11, 1.1], [-0.31, -0.16], [-1.04, 0.56], [-0.04, -0.07], [-0.07, -0.03], [0.28, -0.1], [-0.05, 2.45], [-1.63, 2.43], [0.01, 1.34], [-0.53, 1.08], [-1.42, 1.99], [-0.93, 1.6], [0.35, 2.46], [-0.56, 0.01], [-0.59, 0.53], [-0.15, 0.3], [-1.67, 1.25], [0.09, 0.26], [-0.65, 0.45], [-2.2, 1.67], [-0.47, 1.65], [-0.11, 0.04], [-0.22, 1.47], [0.02, 0.68], [-2.17, 1.33], [-0.09, 1.11], [-0.46, 0.97], [0.03, 1.61], [-0.93, 0.14], [-0.14, -0.07], [-2.63, 1.12], [0.8, 1.48], [-0.16, -0.06], [-1.5, 2.13], [1.22, 1.64], [-2.11, 0.12], [0.29, 1.32], [-0.83, 1.5], [1.0, 1.27], [0.01, 1.8], [0.82, 1.77], [-0.36, 0.01], [-0.93, 0.79], [-0.16, 0.24], [-1.3, 1.68], [0.48, 1.1], [0.43, 2.93], [0.18, -0.02], [-0.35, 0.36], [0.2, 1.02], [1.46, 1.98], [0.11, 0.02], [-0.33, 0.81], [-0.32, 0.44], [-1.81, 0.03], [-0.33, 0.11], [-0.48, 0.54], [-0.89, 0.61], [-0.58, -0.17], [-0.57, 1.21], [0.91, 2.68], [-1.17, 0.58], [0.06, 0.04], [-0.12, -0.02], [1.09, 2.68], [-0.53, -0.08], [-1.44, 1.52], [0.25, -0.16], [-0.05, -0.21], [0.18, 0.59], [-0.03, -0.04], [0.07, -0.11], [0.46, 0.57], [-1.51, 0.8], [0.74, 2.53], [-0.71, 0.43], [-1.8, 0.13], [-0.22, -0.26], [0.4, 0.9], [-1.29, 0.96], [-0.37, 1.67], [0.28, 0.23], [-0.38, 0.0], [0.53, 0.44], [0.1, 1.84], [-0.4, 0.16], [-0.1, -0.07], [0.24, 0.59], [-0.71, 1.55], [-0.35, 0.49], [0.5, 0.72], [0.51, 0.21], [0.68, 1.85], [-2.42, 0.98], [-1.35, 0.86], [0.19, 0.24], [0.12, 1.14], [0.3, 1.86], [-0.2, -0.09], [-0.37, 1.81], [-2.13, 0.7], [-1.67, 2.45], [-2.65, 0.77], [0.92, 1.32], [-0.28, 0.33], [0.85, 1.08], [0.17, 1.19], [-1.91, 1.09], [-1.09, 0.4], [-0.64, 0.74], [-1.75, 1.29], [0.18, 0.63], [0.21, 0.54], [-1.62, 1.05], [0.1, 0.41], [-0.78, 2.37], [-0.45, -0.15], [-1.16, 1.03], [0.56, 1.2], [0.67, 1.0], [-1.19, 0.74], [0.26, -0.29], [0.02, 0.01], [0.1, -0.12], [0.37, 0.52], [-1.38, 0.81], [-2.13, 0.77], [0.75, 0.86], [-0.37, 0.35], [0.16, -0.14], [0.6, 0.68], [-0.35, 0.28], [-0.92, 1.93], [0.24, -0.08], [-0.44, 0.25], [-0.29, 1.53], [0.13, -0.09], [0.06, 0.92], [-1.23, 0.41], [-1.55, 2.37], [-0.8, 0.06], [-0.64, 1.39], [0.11, -0.3], [1.36, 1.98], [0.04, 0.0], [-2.54, 0.64], [0.07, -0.31], [0.7, 2.13], [0.24, 0.13], [0.01, -0.0], [0.23, 0.07], [-0.68, 1.44], [-0.59, 0.09], [0.34, 0.8], [0.51, 0.21], [0.14, 0.41], [0.5, 0.26], [-1.29, 2.68], [1.0, 1.62], [-0.86, -0.04], [-2.21, 1.1], [-0.02, 2.26], [0.17, 0.07], [-1.23, 1.82], [-0.01, -0.04], [-0.01, -0.26], [-1.32, 1.56], [-0.09, -0.18], [-0.2, 2.51], [-2.12, 0.68], [-1.49, 0.18], [-0.11, -0.07], [-0.84, 1.11], [-2.69, 0.66], [-2.63, 0.61], [-0.41, 0.13], [0.41, 0.06], [-1.21, 2.71], [0.6, 0.82], [-0.95, 2.71], [-0.65, -0.21], [-2.16, 0.18], [-2.59, 1.16], [1.56, 2.45], [-0.86, 0.13], [0.26, 2.82], [1.03, 1.59], [0.28, 0.27], [-0.43, 2.13], [-1.99, 2.13], [-0.54, 0.31], [-0.32, 0.62], [0.13, 0.36], [-0.83, 1.71], [-0.06, 0.01], [-0.29, -0.02], [-2.22, 0.73], [0.5, 0.65], [-1.26, 2.67], [0.01, -0.03], [-0.03, 0.43], [0.02, -0.24], [-2.66, 0.6], [1.13, 1.5], [0.02, -0.32], [-0.12, 0.82], [0.2, 0.33], [0.36, -0.1], [-0.64, 0.69], [-0.78, 0.6], [0.05, -0.09], [-0.35, 1.66], [0.13, 0.14], [0.41, 0.19], [0.21, 2.25], [-1.92, 1.18], [-1.63, 0.08], [-0.37, 0.28], [-0.33, 0.11], [0.13, 1.93], [-0.15, -0.06], [0.05, 0.46], [-1.0, 2.03], [-0.03, -0.05], [-0.11, -0.04], [-0.02, -0.01], [-1.82, 1.99], [0.33, 0.55], [0.32, 0.51], [-0.36, 0.69], [0.63, 0.58], [-0.46, 0.31], [0.53, 1.63], [-0.02, 1.53], [-0.24, 0.6], [0.42, 0.91], [-1.75, 1.43], [0.28, 0.15], [0.09, 0.0], [0.03, 0.01], [-0.0, 0.0], [-2.06, 0.74], [0.28, -0.07], [-1.31, 1.43], [-0.59, 0.6], [0.35, 0.08], [0.86, 1.07], [0.31, -0.18], [-2.55, 0.74], [0.26, 1.16], [-0.08, 0.08], [-1.27, 0.58], [0.02, 0.04], [0.23, 0.77], [0.78, 1.91], [-0.06, 0.26], [-1.65, 1.82], [1.21, 1.61], [-2.41, 1.58], [0.63, 0.81], [-0.05, 1.65], [-0.97, 0.07], [-0.73, 0.99], [0.0, -0.32], [0.0, 0.0], [0.34, 0.27], [0.06, 1.22], [0.09, 0.01], [0.4, 0.38], [0.03, -0.21], [-0.06, 2.85], [-0.95, 0.51], [-1.72, 1.2], [-0.36, 1.11], [0.33, 1.24], [-0.09, -0.08], [-0.09, 0.01], [-0.04, 0.08], [-1.2, 1.08], [0.11, 0.02], [-2.71, 0.21], [-1.61, 0.26], [-2.16, 0.63], [0.16, 2.95], [0.26, 1.2], [0.38, 0.02], [-1.39, -0.02], [0.45, 0.74], [-0.16, 0.29], [1.41, 2.08], [0.46, 1.38], [0.02, -0.13], [0.42, 0.93], [0.18, 1.32], [0.34, 0.25], [-1.4, 1.56], [-0.3, 1.64], [-0.17, 0.09], [-0.23, 2.84], [-0.75, 0.94], [0.26, -0.26], [0.9, 1.46], [-0.02, 0.2], [-1.44, 0.87], [0.05, 0.44], [0.18, 0.01], [0.08, -0.33], [0.54, 1.32], [-0.29, 0.04], [-1.45, 1.23], [0.23, 0.3], [0.04, 2.26], [0.12, 0.78], [0.2, 0.04], [1.17, 1.52], [-0.81, 0.86], [-2.36, 0.54], [-1.02, 2.66], [-1.16, -0.08], [-0.85, 1.3], [-0.09, 0.81], [-0.37, 1.49], [-1.05, 2.51], [-0.53, 0.75], [-0.67, 0.42], [-1.76, 0.91], [-0.58, 1.98], [-1.05, 1.24], [-1.03, 2.16], [-0.45, -0.26], [0.79, 1.77], [-0.74, 0.01], [-0.81, 0.08], [1.1, 1.45], [-0.05, 2.9], [-2.85, 0.83], [-0.54, -0.25], [-1.15, 0.17], [0.4, 0.37], [-1.55, 1.84], [-0.28, 1.62], [-0.27, 2.34], [0.75, 2.57], [-0.03, -0.01], [-0.98, 1.6], [-0.22, 1.27], [0.23, 1.84], [0.96, 1.35], [-0.27, 0.6], [0.54, 1.77], [0.26, -0.08], [-0.18, 1.45], [0.25, 1.36], [0.26, 0.45], [0.06, 0.32], [0.07, 0.92], [-0.48, 0.42], [0.2, 0.15], [-0.66, 1.35], [-0.48, 1.12], [0.01, 0.87], [0.22, 1.79], [-0.07, 0.01], [-0.64, 0.94], [-2.17, 0.12], [0.23, -0.14], [-0.02, 0.69], [-2.0, 2.22], [-0.5, 0.07], [-1.5, 1.72], [0.23, 0.07], [-0.69, 2.48], [-0.49, 2.7], [0.12, 0.93], [-0.69, -0.09], [0.13, 0.09], [0.74, 1.47], [0.21, 2.41], [0.72, 2.01], [0.28, 0.13], [1.6, 2.29], [0.0, 0.03], [-0.06, -0.01], [-0.17, -0.0], [0.1, 0.11], [0.22, 0.33], [0.01, 0.53], [0.57, 0.47], [-1.28, 1.0], [-1.3, 0.89], [-1.1, 1.44], [-1.26, 0.83], [0.48, 1.73], [-0.6, 0.66], [-0.8, 0.79], [-0.24, 0.55], [-0.24, 0.69], [-1.35, 0.55], [-1.36, 0.29], [-0.13, 0.08], [-1.48, 1.28], [-1.64, 0.73], [-0.94, 1.22], [-2.77, 0.4], [-0.35, 0.46], [-0.07, -0.01], [-1.97, 1.37], [-1.81, 0.46], [-0.03, 0.15], [-0.37, -0.04], [-1.35, 0.55], [0.01, -0.11], [-0.18, -0.08], [-1.43, 1.38], [-2.01, 0.8], [-0.05, 0.42], [0.24, -0.14], [-0.88, 0.79], [0.0, -0.0], [-0.14, 1.44], [-0.24, 0.01], [-2.61, 0.68], [-0.09, 1.67], [-0.97, 1.74], [-0.39, 2.79], [-0.91, 2.77], [0.15, -0.01], [-0.12, 2.47], [0.56, 2.81], [-0.45, 0.1], [-1.45, 1.69], [-0.87, 0.48], [0.43, 0.24], [-2.77, 0.33], [-0.09, 0.02], [0.33, -0.14], [0.24, 2.63], [0.53, 0.83], [-0.18, 0.17], [-0.28, 0.01], [-1.38, 1.53], [-0.11, -0.05], [0.57, 1.03], [0.32, -0.01], [-0.04, 0.19], [-0.04, -0.09], [-0.96, 1.18], [-0.57, 2.04], [-1.97, 1.41], [0.28, 2.94], [-0.36, 0.91], [0.03, 0.45], [0.13, 0.2], [-0.3, -0.18], [0.13, 0.18], [-0.34, 0.15], [-0.1, 0.02], [0.32, 0.48], [0.09, 0.04], [0.58, 1.38], [0.66, 0.73], [-1.09, 2.52], [-2.96, 0.24], [0.11, 1.81], [-0.01, 0.01], [-2.46, 0.27], [-0.63, -0.0], [-0.98, 1.72], [-2.07, 0.6], [0.0, -0.13], [-0.61, 1.06], [-2.6, 0.42], [-0.71, 1.63], [-0.86, 0.28], [-0.07, -0.09], [0.35, 2.69], [-0.02, 0.8], [-0.12, -0.02], [-1.03, 0.78], [-0.36, 2.42], [-0.62, 1.69], [0.45, 1.93], [-0.08, 0.34], [0.28, 2.95], [-0.58, -0.17], [-0.09, -0.22], [0.39, 0.05], [-2.34, 1.38], [0.14, 0.47], [-0.59, 1.51], [-0.2, -0.06], [0.01, -0.01], [0.15, 2.33], [0.33, -0.07], [-0.35, 0.11], [-0.36, 0.08], [-0.7, 0.93], [1.06, 2.63], [0.54, 0.87], [1.02, 2.79], [-0.63, 0.99], [0.01, -0.31], [0.13, 0.55], [-0.0, -0.2], [-2.31, 0.08], [-1.46, 1.25], [0.04, 0.12], [-0.01, 0.0], [-1.82, 2.34], [-2.17, 1.27], [0.3, 0.27], [-0.07, -0.07], [-0.94, 2.28], [-0.69, 2.48], [-0.06, 1.14], [0.58, 0.84], [-0.19, 0.12], [-0.22, -0.04], [-0.32, 0.84], [-1.0, 1.89], [-0.19, 0.22], [-0.09, 1.0], [0.56, 2.33], [0.1, 0.82], [-0.48, 1.58], [-0.79, 2.57], [0.0, -0.12], [0.2, 0.07], [-1.06, 0.21], [0.07, -0.24], [0.95, 1.7], [-0.03, -0.04], [0.42, 2.08], [1.39, 2.51], [0.02, -0.0], [-0.81, -0.12], [0.63, 1.52], [-1.46, 1.0], [0.02, 2.57], [0.89, 0.89], [0.27, 0.71], [0.38, 0.4], [-0.23, -0.28], [0.57, 2.82], [0.32, 0.03], [0.12, 0.42], [-1.68, 1.05], [0.57, 1.82], [0.28, 1.02], [-0.02, 1.3], [1.27, 1.97], [-0.6, -0.09], [0.66, 0.55], [-0.11, 0.52], [0.02, -0.2], [-0.87, 0.26], [0.1, 0.59], [-1.3, 0.16], [-0.12, 1.11], [-0.01, 0.3], [-0.45, 1.13], [-0.01, 0.73], [-0.97, 1.83], [0.71, 0.58], [-0.71, 0.89], [-1.16, 2.29], [-1.42, 1.78], [-1.53, 0.71], [-0.11, -0.29], [-2.55, 1.56], [0.06, 0.28], [-0.11, 2.75], [-2.5, 1.61], [0.22, -0.17], [0.63, 0.42], [-0.82, 0.12], [1.13, 1.97], [0.22, 1.71], [-0.46, -0.17], [0.87, 2.31], [0.01, 0.13], [1.07, 2.24], [0.29, 0.84], [-0.07, -0.06], [-1.52, 1.69], [-1.88, 0.86], [-0.37, 0.36], [0.41, 0.24], [-1.92, 0.84], [1.08, 1.85], [-2.38, 0.72], [0.29, 1.32], [1.18, 2.22], [-0.89, 0.32], [0.29, 0.84], [0.11, -0.36], [0.06, -0.14], [1.12, 2.38], [-0.21, -0.06], [-0.24, -0.06], [-0.28, -0.04], [-0.12, 1.64], [0.06, -0.12], [-2.51, 0.15], [-0.08, -0.25], [0.79, 1.06], [-1.68, 0.89], [-1.98, 0.5], [0.03, 0.01], [-0.21, -0.13], [1.05, 2.66], [-0.87, -0.02], [-0.13, 0.46], [-0.43, -0.13], [-0.36, 1.52], [-0.09, -0.09], [-0.09, 0.08], [-0.07, 0.03], [-0.01, -0.0], [-0.05, 0.73], [-0.58, 0.85], [-1.0, 1.18], [0.48, 0.65], [0.13, 0.96], [-0.09, 0.09], [-2.17, 1.37], [0.01, -0.05], [0.08, 0.18], [-0.02, 0.14], [0.84, 0.82], [0.19, -0.32], [-0.14, 2.57], [1.25, 2.55], [-1.13, -0.11], [0.11, 0.16], [-0.14, 0.49], [0.4, 0.61], [-1.88, 1.04], [-1.47, 1.6], [-0.63, -0.11], [-0.85, 2.17], [-1.38, 1.78], [0.27, 2.01], [-1.1, 1.73], [-0.78, 2.77], [0.06, -0.04], [-0.71, 0.44], [-0.44, 1.67], [1.28, 2.65], [-1.43, 2.54], [-2.44, 0.53], [0.19, 2.74], [0.59, 2.22], [-1.52, 1.96], [-0.05, 0.94], [0.07, 0.42], [0.23, 0.17], [0.56, 1.69], [0.25, 1.19], [-0.3, 0.61], [-0.55, 1.03], [-1.46, 0.36], [-1.38, 0.91], [0.31, 0.06], [0.06, -0.33], [-1.02, 0.99], [-0.62, 2.87], [-0.01, 0.0], [-1.6, 1.75], [0.12, 0.13], [-0.08, 0.2], [-0.66, -0.17], [-1.14, 0.86], [1.04, 1.9], [-0.22, -0.01], [-0.96, 0.3], [-0.24, 0.14], [-0.77, 1.26], [-1.03, 0.8], [0.04, -0.13], [0.13, 0.01], [1.04, 2.78], [-0.6, -0.08], [-2.05, 1.68], [-0.92, 0.26], [-0.01, -0.3], [0.3, 0.59], [0.7, 1.57], [-2.53, 0.23], [-1.5, 0.77], [-0.73, 2.8], [0.68, 0.61], [-0.39, 0.6], [-0.53, 0.35], [0.22, 0.22], [-1.42, 1.51], [-0.17, -0.09], [-0.42, 1.67], [-0.73, 0.22], [0.16, -0.21], [-0.43, -0.06], [1.02, 1.35], [-0.64, 2.23], [-1.53, 0.72], [0.16, -0.04], [-0.05, -0.05], [-0.43, -0.17], [-2.33, 1.32], [0.36, 1.65], [-0.05, -0.02], [-1.66, 1.09], [1.2, 1.58], [0.35, 1.65], [0.11, -0.27], [-0.39, 0.93], [0.32, -0.17], [-0.36, 0.27], [0.0, -0.0], [-2.3, 1.92], [-0.46, 0.39], [0.51, 0.28], [0.03, -0.07], [0.83, 1.69], [0.58, 1.65], [-1.16, 0.43], [0.15, 0.83], [-0.79, 0.3], [1.12, 1.83], [-0.4, 0.13], [-2.12, 1.48], [-0.93, 1.38], [0.18, -0.08], [0.01, -0.07], [-0.23, 2.9], [0.43, 1.29], [0.34, 0.21], [-2.72, 0.57], [-0.6, 0.14], [-0.1, -0.21], [0.59, 0.97], [0.25, 1.24], [-0.58, 1.28], [-0.41, 0.4], [-2.53, 0.87], [0.85, 1.51], [-0.04, 0.12], [-0.03, 0.15], [-1.95, 0.61], [-1.54, 0.0], [0.19, -0.11], [0.46, 0.35], [0.77, 1.44], [0.13, 1.27], [-1.84, 0.88], [-1.94, 1.31], [-0.0, 0.01], [-0.24, -0.06], [1.61, 2.51], [0.13, 0.18], [-0.56, 1.06], [-1.72, 0.48], [-1.65, 0.78], [-0.4, 1.59], [0.09, -0.07], [-0.05, 0.09], [-0.1, 0.38], [-0.28, 1.33], [-0.33, 0.42], [-0.45, 0.37], [-0.36, 2.31], [0.19, -0.04], [-1.6, 0.05], [-0.34, 0.3], [1.42, 2.06], [-0.74, 1.57], [-2.25, 0.09], [-0.0, -0.0], [-0.11, 0.03], [-0.06, 0.54], [-0.33, 0.26], [0.29, 0.68], [0.49, 2.78], [-0.28, -0.14], [-0.65, 0.44], [0.89, 2.11], [1.24, 2.55], [-2.23, 1.87], [1.34, 2.5], [0.37, 2.05], [-1.01, 1.52], [-0.12, -0.28], [-0.05, 0.06], [-0.04, -0.02], [-0.63, 1.32], [0.09, 0.57], [-0.25, -0.26], [-0.14, 0.01], [0.23, 0.89], [-0.62, 1.21], [-0.46, 0.87], [-1.77, 1.98], [0.1, 1.28], [0.08, -0.11], [-0.2, -0.26], [-1.78, 0.5], [0.97, 1.06], [-0.05, 0.39], [0.21, 0.35], [-1.18, 2.12], [-0.84, 0.32], [0.73, 1.28], [-0.53, 0.86], [0.17, 0.35], [-0.9, 0.44], [0.1, -0.09], [0.25, 1.93], [0.32, 2.86], [0.02, 0.01], [-0.05, 0.09], [0.54, 1.82], [-0.51, -0.19], [-1.31, 1.18], [-1.81, 0.6], [-2.66, 1.03], [0.55, 0.96], [0.73, 2.78], [0.76, 1.44], [0.07, 0.18], [0.13, 0.41], [0.01, -0.02], [-0.09, 0.26], [-0.02, 0.02], [0.62, 0.39], [-0.04, 0.48], [-1.53, 0.28], [-0.96, 0.12], [-1.87, 1.78], [-2.58, 0.78], [-1.29, 1.03], [0.55, 1.2], [0.75, 2.24], [-0.24, 0.46], [-0.67, -0.22], [0.98, 1.7], [0.48, 1.6], [-0.45, 1.17], [-1.93, 0.13], [0.47, 2.38], [-0.7, 2.74], [-0.06, 2.43], [-2.34, 0.81], [0.2, 0.48], [0.15, 0.07], [0.06, 2.7], [-1.55, 0.31], [-0.34, 0.0], [-2.68, 0.16], [-0.81, 1.54], [0.02, 0.45], [-1.89, 1.43], [1.23, 2.35], [-0.16, 1.65], [-0.37, 0.51], [-1.07, 1.11], [0.76, 1.75], [-0.14, 0.11], [0.25, 0.8], [-0.89, 2.62], [0.15, 0.13], [0.54, 2.12], [0.44, 0.06], [-0.04, 0.06], [-0.47, 1.36], [0.65, 1.72], [0.0, 0.01], [-1.22, 0.71], [0.44, 1.73], [0.09, 0.11], [0.27, 0.37], [0.09, 0.34], [-1.36, 0.35], [-0.09, -0.14], [0.29, 0.18], [-0.32, 0.22], [0.15, 0.33], [-0.92, 0.42], [-2.53, 0.73], [-0.06, 0.3], [-0.51, 2.31], [0.64, 0.78], [-0.09, 0.38], [0.11, -0.17], [-0.05, 0.0], [0.61, 0.56], [-0.96, 0.5], [-0.51, 0.97], [-0.97, 2.6], [0.02, 0.08], [0.01, -0.08], [-0.96, 0.51], [0.36, 0.59], [-0.18, 0.01], [-0.15, -0.11], [-2.35, 1.08], [0.59, 0.6], [-0.43, 0.65], [0.38, 2.1], [-0.17, 0.73], [-0.88, 0.92], [0.35, 0.65], [-0.32, 0.04], [-0.3, 0.13], [0.08, 0.02], [-0.28, -0.1], [-1.84, 1.36], [0.41, 0.26], [0.05, 0.07], [0.04, 0.12], [-0.71, 0.22], [-0.67, 0.16], [0.13, 0.07], [-0.81, -0.16], [-0.75, 2.28], [0.96, 1.88], [0.66, 1.45], [-1.15, 0.58], [-0.0, 0.09], [0.01, 0.01], [0.63, 1.91], [-2.02, 1.42], [-0.03, 1.31], [-1.94, 1.53], [-1.05, 0.73], [-0.37, 0.92], [0.04, -0.15], [0.54, 0.53], [0.19, -0.07], [-0.0, 0.01], [0.01, 2.99], [-0.73, 2.38], [-1.44, 1.11], [-0.97, 0.61], [0.53, 0.38], [-0.03, 0.14], [-0.79, 0.1], [0.05, 0.52], [-0.24, 0.49], [-2.69, 1.25], [-0.04, -0.07], [-1.51, 0.32], [0.13, 0.24], [0.45, 0.16], [-0.04, -0.07], [-0.42, 0.14], [-0.14, 0.39], [-1.31, -0.06], [-0.28, 0.05], [-0.19, 0.17], [-0.23, -0.16], [-0.15, -0.2], [1.46, 2.24], [-2.4, 1.25], [1.28, 1.77], [-2.2, 1.77], [-0.08, -0.13], [-0.94, 0.49], [-0.57, 2.62], [-0.57, 0.98], [0.8, 1.75], [0.01, 0.79], [-0.06, -0.05], [-0.9, 0.27], [0.03, 0.01], [-0.28, -0.11], [-1.4, 1.8], [-0.36, -0.1], [-0.08, 1.44], [-1.63, 0.58], [-1.67, 0.85], [0.55, 2.43], [0.5, 0.4], [-1.6, 2.47], [-0.27, -0.1], [-1.23, 2.16], [-0.14, 0.41], [0.21, 0.21], [-0.04, 0.09], [0.3, 0.81], [-0.15, 0.11], [-0.09, 1.61], [-1.61, 0.39], [0.2, 0.14], [-0.2, 1.54], [-1.02, 2.47], [-0.07, 0.94], [-0.18, -0.28], [-0.08, -0.16], [-1.35, 1.6], [-1.53, 1.41], [-0.13, 0.17], [-0.49, 1.13], [-0.78, -0.07], [-0.12, 0.12], [-0.15, 0.01], [-0.13, 0.39], [0.38, 0.79], [-0.8, 0.79], [-1.37, 0.59], [-0.0, 0.04], [-0.97, 0.5], [-0.28, 0.6], [0.39, 0.07], [0.5, 1.15], [-0.05, -0.15], [-0.8, 0.61], [0.2, 0.48], [-0.79, 2.78], [-1.19, 0.2], [-0.24, 0.2], [0.94, 1.91], [-1.16, -0.12], [0.04, -0.01], [-1.53, 0.25], [-1.69, 1.3], [0.38, -0.02], [-2.21, 0.81], [-2.81, 0.99], [-0.66, 0.43], [1.25, 2.09], [0.14, -0.08], [-0.68, -0.12], [0.14, 1.03], [0.0, -0.14], [-0.14, 1.54], [-0.14, 0.34], [-1.46, 1.72], [0.13, -0.04], [-0.38, 1.04], [0.36, 0.47], [0.24, -0.23], [0.1, -0.23], [-2.15, 0.88], [-0.52, 1.85], [0.11, 0.19], [-2.12, 0.34], [-0.1, -0.15], [-0.56, 0.48], [-0.07, -0.07], [0.28, 2.14], [-0.43, -0.01], [-0.85, 0.14], [-0.29, 0.43], [-0.07, 2.75], [-2.22, 1.09], [0.4, 1.56], [-0.13, 0.15], [-0.36, -0.25], [-1.45, 0.41], [1.5, 2.2], [-0.07, -0.17], [-0.35, -0.19], [-0.82, 0.11], [-0.39, 0.13], [-0.08, 0.08], [-0.56, 0.51], [-0.3, 2.7], [-0.41, -0.27], [0.16, 1.7], [-1.18, 0.0], [0.04, -0.03], [-0.31, 0.14], [-1.15, 0.14], [0.25, 0.02], [-0.32, 1.07], [-1.98, 1.07], [0.31, 0.87], [0.01, -0.05], [0.46, 1.01], [-0.21, 0.09], [-2.68, 1.14], [0.03, 0.02], [-0.08, 0.25], [-0.49, 2.37], [-0.29, -0.08], [-1.54, 0.3], [1.02, 1.24], [0.98, 1.53], [0.04, -0.21], [-0.98, 0.47], [0.06, -0.04], [-0.31, -0.21], [-1.61, 1.98], [-0.02, -0.01], [-0.28, 0.31], [-0.48, 0.81], [-2.04, 0.57], [-0.52, 1.73], [0.06, -0.28], [0.19, 0.38], [-0.5, 0.72], [-2.5, 0.22], [-0.98, 2.12], [-1.67, 1.85], [-0.01, -0.05], [-0.02, -0.19], [-2.24, 1.64], [0.1, 0.4], [0.21, 0.44], [0.27, 0.01], [0.02, 0.41], [-1.02, 0.56], [-0.18, 0.02], [-1.0, 1.36], [0.48, 0.29], [0.03, 0.09], [-0.02, 0.04], [-0.41, 0.78], [0.52, 0.57], [-1.88, 1.14], [-0.42, -0.04], [-2.38, 0.39], [0.09, -0.23], [0.1, 0.54], [-0.87, 0.18], [0.13, 2.61], [0.92, 1.29], [-0.68, 0.46], [-0.11, -0.03], [-0.52, 0.25], [-0.28, 0.62], [-0.34, 0.23], [-1.26, 0.45], [-0.03, 0.15], [-1.19, 1.43], [-0.66, 0.87], [-0.49, 0.37], [1.01, 2.26], [-1.15, 1.99], [0.23, -0.19], [0.26, 0.15], [-0.79, 2.72], [-0.07, -0.15], [-0.48, 0.51], [-0.08, -0.24], [0.0, 0.0], [0.35, 0.2], [-0.87, 0.36], [0.12, -0.13], [0.69, 1.05], [0.29, 0.16], [0.48, 2.11], [1.08, 2.41], [-0.06, 0.06], [0.27, 2.24], [0.03, 0.01], [-2.24, 1.79], [0.01, -0.04], [-1.37, 0.66], [-0.96, 1.58], [-1.44, 1.76], [0.04, 1.12], [-0.4, -0.18], [-0.14, 0.16], [-2.47, 1.19], [0.08, -0.16], [-0.13, 0.02], [-0.79, 0.11], [-0.48, 0.48], [-1.82, 1.78], [0.54, 0.82], [0.38, 1.86], [0.1, -0.19], [0.27, 1.11], [-0.09, 2.7], [0.13, 0.29], [-0.54, -0.13], [0.52, 0.21], [1.4, 1.91], [-0.91, 2.4], [0.12, 0.02], [-0.73, -0.05], [1.57, 2.21], [0.08, 0.4], [-2.45, 0.78], [0.17, -0.2], [-0.45, 0.23], [0.12, 2.01], [-1.07, 1.14], [-0.07, 0.02], [-0.0, -0.0], [-0.26, 0.09], [-0.27, 0.4], [0.54, 1.17], [0.29, -0.08], [0.5, 0.93], [0.27, 1.08], [-0.23, -0.08], [-2.08, 0.39], [0.15, 0.04], [0.14, 1.6], [0.35, 1.61], [-2.01, 1.99], [-0.47, 2.85], [-0.06, 0.15], [1.11, 1.97], [0.08, 0.14], [-0.01, 0.83], [-0.83, 0.07], [0.09, 0.38], [0.38, 0.02], [-0.03, -0.03], [0.09, 2.15], [0.19, 0.21], [-0.07, 0.12], [-0.01, 0.59], [-1.33, 1.97], [0.3, 2.47], [-1.03, 0.29], [0.24, -0.16], [-0.39, -0.09], [0.06, 0.03], [0.94, 1.53], [-2.29, 1.34], [-1.11, 0.21], [1.21, 1.89], [-0.35, -0.07], [0.09, -0.18], [-0.37, 0.32], [0.1, 0.34], [-1.5, 0.12], [-1.12, 1.24], [-1.71, 1.86], [-2.19, 0.55], [-0.85, 0.67], [-0.28, 0.81], [-2.67, 1.23], [0.25, 0.62], [-0.02, 0.01], [-0.37, 0.11], [0.2, 0.35], [0.26, -0.24], [-0.12, 0.42], [0.26, 1.21], [-1.09, 1.63], [1.18, 1.66], [0.43, 0.58], [-0.92, 2.28], [0.31, 0.97], [0.03, 0.4], [0.43, 1.01], [0.12, 0.77], [0.72, 2.34], [-0.93, 0.63], [-2.14, 0.45], [-0.12, 0.99], [-1.69, 0.51], [-0.27, 2.3], [0.07, 1.11], [-2.53, 0.45], [-2.19, 1.74], [0.19, -0.04], [0.22, 0.81], [-1.1, 1.17], [-1.25, 2.53], [-2.82, 0.85], [0.72, 0.84], [-0.11, 1.15], [0.04, 2.69], [-0.3, 0.9], [-0.78, 2.01], [0.43, 2.27], [0.43, 2.85], [-0.02, -0.05], [0.23, 0.28], [-1.11, 1.21], [-0.09, 0.46], [-1.89, 2.21], [-0.49, 2.64], [-2.48, 1.11], [-0.06, -0.13], [-1.93, 0.03], [1.0, 1.66], [0.03, -0.07], [0.23, 1.31], [-1.66, 0.5], [-0.79, 0.57], [0.53, 1.3], [-0.09, -0.11], [0.17, -0.08], [0.07, 0.02], [1.48, 2.1], [0.17, 0.35], [-0.35, 0.89], [0.06, 0.05], [-0.92, 2.75], [0.6, 1.77], [-0.27, 0.37], [0.85, 2.01], [-1.2, 1.79], [0.16, 0.69], [0.94, 1.68], [-2.05, 0.34], [0.19, 1.27], [-0.27, 0.05], [1.39, 2.15], [-0.22, 0.2], [-0.47, 0.03], [0.5, 2.84], [0.11, 0.25], [-0.96, 0.13], [0.73, 2.82], [0.43, 2.03], [1.64, 2.34], [-0.78, 2.89], [-1.69, 2.45], [1.25, 2.59], [-0.94, 0.64], [0.13, 2.69], [0.06, -0.19], [-0.28, 2.03], [-0.31, 0.02], [0.13, 1.45], [-1.02, 2.36], [0.22, 1.14], [-0.14, 0.1], [0.32, 2.46], [-1.08, 0.18], [0.03, -0.13], [-0.71, 1.55], [-1.94, 0.94], [-0.05, 0.02], [0.25, -0.11], [0.23, 0.94], [0.57, 1.31], [0.41, 0.0], [-0.03, 1.3], [0.02, 0.04], [-1.41, 0.95], [-0.64, -0.09], [0.75, 1.27], [-0.24, 0.02], [-0.04, -0.08], [-1.61, 0.25], [-1.51, 2.02], [0.21, 0.18], [1.08, 2.65], [0.1, 0.1], [0.15, 0.14], [-1.13, 0.1], [-2.66, 0.75], [-2.12, 0.27], [-0.73, 1.86], [-1.1, 0.48], [-0.78, 0.69], [-0.04, -0.09], [0.06, -0.08], [-0.88, 0.59], [-0.31, 0.12], [0.11, 0.61], [-0.28, 0.39], [0.66, 1.05], [0.24, 0.87], [-2.17, 1.72], [-1.12, 0.67], [-0.3, 0.95], [-0.2, 2.7], [-0.27, 0.72], [-0.22, 1.33], [0.39, 2.61], [0.09, 0.11], [-0.59, 1.11], [0.0, 0.31], [-0.35, -0.17], [-0.12, -0.32], [-0.13, 0.02], [-1.25, 2.39], [-0.57, -0.07], [-0.97, 1.03], [0.52, 0.52], [-0.83, 0.37], [0.19, -0.38], [0.23, 0.26], [0.64, 1.63], [-2.19, 1.03], [-0.57, 0.69], [-0.06, 0.98], [-0.19, 0.16], [0.28, 1.6], [-1.83, 1.92], [-0.16, 0.53], [-0.53, 0.14], [-1.64, 1.09], [-1.66, 0.53], [1.38, 1.98], [-2.66, 0.21], [0.1, -0.15], [0.32, 2.36], [1.27, 2.09], [-0.42, 0.34], [0.13, 0.38], [0.04, 0.41], [0.8, 0.9], [0.15, 0.75], [-0.2, 0.04], [-1.23, 0.6], [0.03, -0.01], [-1.81, 0.25], [0.14, -0.1], [-0.19, 1.09], [0.32, 0.61], [-2.74, 0.73], [0.25, 0.42], [0.13, -0.12], [0.05, -0.3], [-0.02, 0.32], [-1.39, 2.21], [0.43, 0.18], [-1.71, 1.5], [-0.15, 0.75], [0.03, -0.23], [0.15, 0.36], [0.12, 0.07], [0.22, -0.03], [-2.07, 0.2], [-0.01, 1.06], [0.26, -0.2], [0.42, 0.31], [-0.51, -0.19], [0.2, 0.27], [0.91, 1.82], [-0.0, -0.0], [-0.57, -0.14], [-2.54, 0.95], [-0.01, 0.06], [1.3, 2.23], [-1.05, -0.05], [0.76, 1.9], [-1.87, 0.04], [-0.28, 0.64], [1.1, 2.54], [-2.35, 0.39], [0.58, 0.91], [0.71, 1.03], [0.5, 0.7], [0.09, 0.45], [-0.94, 2.07], [-1.28, 0.54], [-2.08, 1.35], [0.12, -0.04], [-0.72, 0.7], [-0.09, 1.54], [0.5, 0.35], [0.01, -0.12], [-0.23, 1.59], [1.35, 2.05], [-0.57, 1.91], [-0.16, -0.06], [-0.33, 0.85], [1.22, 2.5], [0.06, -0.35], [-0.36, 0.15], [-0.15, 0.52], [-0.4, 0.17], [0.49, 0.25], [-0.07, 0.18], [-0.39, 1.79], [0.18, -0.2], [-0.36, 2.04], [0.4, 0.28], [-0.11, -0.32], [-0.16, -0.05], [0.0, 0.01], [0.41, 1.11], [0.01, -0.01], [0.31, 0.66], [-0.69, -0.13], [-0.46, -0.16], [-2.11, 1.2], [1.11, 2.05], [0.02, -0.19], [-1.53, 0.48], [-2.25, 1.02], [0.6, 1.22], [0.02, 1.66], [0.32, -0.07], [0.2, 0.65], [-0.23, -0.19], [0.85, 2.04], [-0.03, -0.19], [-2.1, 0.31], [-1.15, 0.13], [-0.02, -0.01], [-0.24, 2.3], [-1.16, 0.42], [-1.46, 0.37], [-2.24, 1.25], [-0.6, 1.89], [0.88, 1.82], [0.69, 0.95], [-1.94, 2.1], [-0.93, 0.68], [1.25, 2.29], [-0.25, -0.13], [-0.27, 0.55], [-0.83, 1.6], [-0.12, 0.39], [0.04, -0.05], [-0.16, 1.42], [-1.11, 1.49], [0.19, -0.28], [-0.84, 0.2], [-2.73, 0.73], [-0.66, 1.0], [-0.09, 0.94], [1.2, 2.2], [0.88, 1.06], [-0.69, 0.53], [-0.15, -0.11], [-0.74, -0.16], [-0.51, -0.25], [-0.06, -0.11], [-1.99, 0.22], [-0.69, -0.18], [-0.55, 0.69], [0.47, 1.23], [-2.15, 0.27], [0.35, 0.04], [-1.22, 0.22], [-0.07, -0.08], [-2.4, 1.17], [0.5, 0.48], [-0.11, -0.07], [-1.99, 0.2], [-0.64, 0.64], [0.41, 0.1], [0.06, -0.35], [-1.32, 0.56], [-0.51, 1.17], [1.23, 2.54], [0.77, 1.66], [-0.32, 0.56], [-0.08, 0.03], [-1.44, 0.01], [-1.24, 1.04], [-0.13, 0.26], [0.0, 0.02], [-0.51, 2.13], [0.1, 0.49], [-1.56, 1.22], [-2.73, 0.48], [-0.46, 0.11], [-0.71, -0.21], [-0.55, 0.79], [0.84, 1.54], [-0.7, 1.92], [-1.22, 1.76], [-0.47, 1.13], [-0.17, 0.19], [-0.5, 1.32], [-0.26, 0.33], [-1.47, 0.6], [-1.04, 0.26], [-0.75, 2.3], [-0.66, 2.62], [0.29, 0.96], [-1.6, 0.12], [0.06, 0.37], [0.05, 0.24], [0.13, 1.93], [-0.1, 0.05], [-1.58, 0.26], [1.24, 2.44], [-1.41, 0.18], [-0.87, 0.38], [0.5, 0.21], [-0.86, 0.31], [-0.92, 1.76], [-2.4, 0.26], [-0.3, -0.02], [-0.3, -0.13], [-1.28, 0.65], [-0.69, 2.52], [-1.06, 0.4], [1.27, 2.07], [-0.17, -0.1], [-0.23, 0.58], [-1.4, 1.07], [0.28, 2.78], [-1.32, 0.84], [-0.23, 0.8], [-0.66, 2.15], [-1.56, 0.64], [0.41, 0.14], [-1.63, 0.63], [-0.49, 1.54], [-0.23, 0.07], [-0.25, -0.04], [0.38, 1.46], [0.19, 0.16], [0.08, 2.96], [-1.61, 0.08], [-0.43, 2.72], [-1.63, 0.58], [-0.3, 0.32], [0.07, -0.26], [-0.03, -0.05], [0.1, 1.75], [0.17, 0.05], [-0.03, -0.13], [-1.24, 2.33], [-0.65, 2.04], [0.06, 0.2], [-1.16, 1.74], [-0.87, 0.83], [0.2, -0.12], [0.19, 0.7], [-1.92, 2.13], [-0.7, 0.23], [-0.56, 0.04], [-1.5, 2.16], [-1.59, 1.27], [0.39, 0.11], [-0.72, -0.04], [-1.37, 0.12], [-2.03, 1.08], [-0.01, 0.01], [-0.01, 0.21], [0.31, 0.07], [0.45, 1.54], [-0.67, 0.43], [-0.39, -0.12], [0.02, -0.0], [0.79, 0.98], [-2.47, 1.31], [-0.31, -0.02], [-1.52, 0.46], [-0.14, 2.26], [-0.32, 1.81], [-0.78, 0.23], [-1.23, 2.61], [0.97, 1.11], [-2.55, 0.77], [0.01, -0.1], [-0.21, 0.59], [-1.57, -0.04], [0.12, 0.69], [-1.89, 1.29], [-2.36, 0.78], [0.87, 2.32], [0.15, 0.35], [0.53, 0.59], [0.06, 0.1], [-0.15, 1.96], [1.25, 2.29], [-0.02, 0.01], [0.01, -0.2], [-0.23, 1.68], [0.6, 0.94], [-0.11, -0.14], [-1.84, 0.2], [-2.21, 0.35], [0.1, 0.21], [-0.9, 0.02], [0.54, 0.68], [-0.25, 2.66], [-0.28, 0.16], [0.07, -0.14], [0.41, 1.07], [-1.88, 0.86], [0.31, 1.39], [0.71, 0.97], [0.95, 2.71], [-0.03, -0.01], [-1.77, 0.4], [0.28, 0.05], [0.04, 1.0], [-0.2, -0.18], [0.0, -0.1], [-0.46, 0.14], [-0.09, 0.08], [0.03, 0.07], [0.33, -0.0], [1.2, 2.1], [0.01, 0.16], [0.18, 0.4], [-0.03, -0.04], [-0.35, 0.54], [-0.53, 0.09], [0.79, 1.75], [-0.17, 0.23], [-0.33, -0.08], [0.31, 0.07], [-0.3, -0.15], [0.24, -0.13], [-1.88, 1.28], [-0.4, 1.77], [-1.27, 0.17], [-2.92, 0.68], [-0.16, 1.36], [-1.83, 0.75], [0.08, 0.06], [-0.66, 2.45], [0.89, 0.96], [0.41, 0.43], [-0.32, 0.61], [-0.36, 2.81], [0.46, 0.11], [0.47, 2.86], [-0.7, 0.44], [0.82, 1.98], [0.2, 0.01], [1.12, 1.93], [0.03, 0.04], [0.0, -0.0], [0.17, 0.63], [0.05, 0.02], [-0.74, -0.09], [-0.55, 2.07], [-0.59, 0.41], [0.01, 0.01], [0.26, 0.25], [0.02, -0.07], [-1.69, 1.5], [0.95, 1.14], [-1.24, 1.05], [-0.04, 0.73], [0.0, 0.36], [0.24, -0.07], [-0.83, 1.81], [-0.09, 1.5], [-1.06, 2.72], [0.29, 0.72], [0.02, -0.03], [-0.63, 0.74], [0.08, 1.24], [-0.0, 1.75], [-0.4, 0.18], [0.17, 0.06], [1.01, 1.23], [-0.21, -0.0], [-0.07, 0.97], [0.45, 0.51], [0.33, 0.87], [0.05, -0.0], [-0.13, 0.46], [-0.81, 1.43], [0.27, -0.22], [0.08, 0.15], [-0.06, 0.03], [0.38, -0.04], [-0.94, 0.46], [-0.15, 1.59], [-1.05, 1.06], [-2.04, 0.97], [0.39, 2.41], [-0.18, 0.5], [0.81, 1.04], [-0.76, 2.36], [-0.01, 0.02], [0.42, 0.57], [-1.23, 0.07], [1.37, 2.46], [-0.8, 0.68], [0.22, 0.32], [-2.4, 0.92], [-0.23, 1.86], [-2.45, 0.42], [-1.45, -0.01], [-0.14, 0.41], [0.24, 2.58], [-0.44, 1.18], [0.19, 0.27], [-0.69, 0.31], [-1.07, 1.35], [1.37, 2.57], [-0.51, 2.4], [0.03, -0.3], [0.55, 1.56], [0.07, 0.67], [-0.82, -0.15], [0.04, -0.04], [1.4, 2.23], [-0.74, 1.83], [-0.44, 2.37], [1.01, 2.39], [-0.83, 2.07], [-0.01, -0.0], [0.13, -0.08], [0.24, 0.21], [0.06, -0.31], [-0.02, 0.02], [0.45, 0.42], [-0.62, 0.26], [0.41, 0.01], [-2.24, 0.46], [0.3, -0.11], [-0.36, 0.02], [0.33, 0.96], [0.2, 1.33], [-2.26, 1.26], [0.02, -0.01], [-0.7, 0.79], [1.3, 2.11], [-0.09, 0.07], [-0.03, -0.05], [-0.81, 1.03], [-1.48, 1.69], [-0.96, 1.99], [0.22, 1.07], [-0.62, 2.49], [-0.66, -0.01], [-0.28, 0.63], [0.66, 0.88], [-1.6, 1.82], [-0.54, 2.07], [0.06, 2.0], [0.18, 1.64], [-0.24, 1.48], [-0.18, 2.98], [-2.46, 0.15], [0.02, 1.01], [1.44, 2.12], [0.17, 1.14], [1.34, 1.94], [-2.03, 0.88], [-1.23, 0.65], [0.68, 0.83], [-0.08, 0.03], [0.71, 2.38], [-1.06, 0.24], [-2.96, 0.36], [-0.92, 0.08], [0.01, 0.05], [0.52, 1.22], [-0.97, -0.02], [-0.53, 0.14], [-1.14, 2.01], [-1.25, 0.98], [0.61, 1.42], [-0.04, 0.13], [-0.65, 0.38], [-0.44, 0.43], [-0.2, 0.03], [-1.15, 1.85], [-0.36, 0.21], [-1.68, 1.12], [-1.6, 1.27], [0.93, 1.86], [-0.06, 1.04], [-1.71, 0.28], [-1.2, 2.26], [-0.7, 0.33], [-2.1, 0.68], [-1.02, 0.0], [-0.04, 1.31], [-0.44, -0.07], [0.26, 0.57], [-2.05, 1.45], [-0.59, 0.17], [0.49, 0.19], [0.39, 0.31], [-0.61, 2.44], [-1.37, 0.94], [-2.47, 1.5], [-0.21, 2.03], [-0.29, 2.47], [-2.2, 0.78], [0.18, 0.53], [0.06, 0.33], [-0.24, 1.31], [-0.3, -0.23], [-1.62, 0.07], [-0.08, 0.12], [-0.34, 0.16], [-1.14, 0.53], [-0.79, 0.61], [1.22, 2.28], [-0.21, 2.24], [-0.06, -0.04], [0.04, -0.05], [0.03, 0.01], [-0.07, -0.3], [-0.09, -0.05], [0.42, 2.66], [-0.33, 0.47], [0.01, 0.02], [0.53, 0.93], [-1.63, 2.43], [0.15, 1.0], [-1.02, 1.9], [-1.25, 0.85], [0.81, 2.18], [0.17, 0.46], [0.66, 1.09], [-1.28, 1.84], [0.54, 0.49], [-0.59, 0.01], [-0.92, 0.11], [-0.33, 0.35], [0.29, -0.03], [0.8, 0.88], [-0.69, 0.08], [-2.3, 1.65], [-0.84, 1.82], [-0.0, 0.31], [-2.18, 0.73], [1.21, 1.87], [-0.79, -0.17], [0.77, 1.97], [-0.34, 0.74], [-0.27, -0.16], [0.19, 2.52], [0.89, 1.08], [0.16, 0.23], [-0.07, 2.39], [-1.21, 2.52], [-0.53, 1.54], [-1.29, 0.06], [0.2, 0.59], [0.05, 0.51], [-0.65, 0.85], [-0.13, -0.12], [-1.15, 1.81], [-0.41, 2.62], [-0.76, 1.31], [-0.56, 1.18], [0.01, -0.05], [-1.19, -0.06], [0.45, 0.8], [0.49, 2.29], [0.23, 0.42], [0.43, 0.96], [-1.44, 1.91], [-1.57, 0.54], [0.86, 2.11], [-0.13, 0.85], [0.79, 0.89], [-0.19, 2.49], [-1.38, 2.1], [0.07, 0.19], [0.57, 0.33], [-0.41, 0.44], [-0.3, -0.27], [-0.41, 1.33], [-0.01, 0.01], [-0.11, 0.01], [-0.97, 0.71], [0.08, -0.14], [-0.51, 0.41], [0.07, 0.52], [-0.04, 0.27], [0.72, 2.5], [0.39, 1.17], [0.39, 0.46], [0.61, 1.27], [-1.25, 0.18], [0.08, -0.05], [-0.01, 0.88], [-0.1, -0.09], [-0.22, 1.27], [-0.82, 1.29], [-2.79, 1.08], [-0.17, 0.52], [0.18, 0.91], [0.03, -0.23], [-0.66, 0.02], [-1.32, 1.93], [-0.59, 0.49], [1.33, 2.26], [0.39, 2.5], [0.72, 1.37], [-1.01, -0.01], [-0.65, 0.53], [-0.77, 1.6], [-0.77, -0.16], [-0.82, 0.4], [-2.76, 0.79], [-0.82, -0.12], [-1.15, 0.32], [-1.15, 1.15], [-1.86, 0.59], [-0.05, 1.24], [-2.0, 0.42], [-0.53, 0.45], [0.2, -0.04], [0.18, 0.04], [-2.65, 0.81], [1.26, 2.19], [-1.06, 1.8], [-0.65, 0.58], [0.11, 1.23], [0.07, -0.07], [0.01, 0.8], [-1.36, 0.7], [0.29, 1.15], [0.22, 0.5], [-2.18, 1.37], [0.45, 2.23], [0.35, 1.2], [-0.82, 2.3], [-1.19, 0.14], [-0.13, 0.39], [-1.77, 1.26], [0.07, 0.17], [0.04, -0.03], [0.87, 2.27], [-0.47, -0.11], [0.34, 0.32], [0.03, 0.27], [-0.28, 0.74], [-0.73, 0.49], [-0.07, 0.04], [-0.39, 0.37], [-0.01, 0.0], [-0.1, 1.82], [1.57, 2.56], [0.31, 2.72], [0.01, -0.01], [-0.09, 0.66], [-0.04, 2.32], [0.0, 0.0], [0.12, 0.11], [-0.38, -0.27], [-0.09, -0.09], [0.19, -0.05], [0.24, 0.38], [1.44, 2.45], [-0.9, 1.44], [-0.04, 0.22], [-0.28, -0.18], [-1.16, 0.2], [0.1, 0.01], [0.03, 0.04], [-0.13, 0.64], [-0.79, 1.35], [-0.59, 1.88], [-0.86, 0.87], [0.27, 0.03], [-0.72, 0.19], [1.12, 2.49], [0.0, 1.13], [0.0, -0.0], [-0.28, 0.28], [-0.24, -0.0], [-1.9, 2.09], [-0.36, 2.61], [-0.44, -0.03], [-1.29, 1.72], [-1.43, 0.45], [-0.82, -0.09], [0.01, 0.11], [-1.14, 0.79], [-1.47, 0.96], [0.62, 1.06], [-0.02, -0.02], [-0.19, 0.11], [-2.68, 0.8], [1.55, 2.26], [-0.62, -0.19], [-0.54, 0.17], [-0.23, 0.7], [-0.14, -0.02], [0.5, 0.34], [-0.56, -0.1], [0.02, -0.25], [-0.04, 0.14], [0.07, 0.35], [0.69, 2.33], [-0.46, 0.01], [1.27, 1.99], [0.51, 0.19], [-0.36, 0.6], [-1.64, 0.81], [-0.19, 2.71], [-2.23, 1.6], [0.1, -0.01], [0.07, 2.8], [-1.16, 0.39], [1.31, 1.88], [0.36, 0.34], [0.03, 0.22], [0.68, 1.86], [-0.49, 1.11], [-1.93, 0.05], [-0.4, 0.55], [0.61, 0.8], [-0.17, -0.12], [0.46, 1.38], [0.03, 0.12], [-0.16, 0.53], [-0.81, 2.88], [-0.21, 1.33], [-0.0, -0.0], [-0.17, 1.28], [-2.7, 0.99], [-0.33, 0.19], [0.45, 2.92], [-1.01, 2.1], [0.27, -0.04], [0.81, 1.4], [-0.46, 0.66], [-2.17, 1.95], [-0.15, 0.03], [0.02, -0.03], [-1.01, 2.48], [0.61, 0.56], [-0.51, -0.15], [0.02, -0.07], [0.29, 1.11], [-0.01, -0.12], [-0.02, -0.06], [-1.52, 0.55], [0.56, 0.79], [0.16, 0.59], [0.18, 2.15], [0.11, 0.12], [1.09, 2.75], [-0.79, 2.43], [-1.52, -0.03], [-0.12, 0.05], [-2.89, 0.31], [-0.1, -0.07], [-0.15, -0.32], [-0.09, -0.26], [0.16, -0.18], [0.8, 2.44], [0.72, 0.93], [-0.16, 1.0], [0.47, 0.14], [-0.45, 0.33], [-0.73, 0.51], [-1.97, 0.57], [-0.7, 1.66], [-0.02, 0.0], [-0.81, 0.12], [-0.55, 2.17], [-2.09, 1.13], [0.82, 0.9], [0.02, 2.11], [-1.91, 2.22], [0.75, 0.88], [0.25, 1.14], [-0.81, 0.58], [-0.02, 0.01], [0.2, -0.17], [0.18, -0.01], [0.25, 0.32], [-1.08, 0.28], [-1.76, 0.36], [0.04, 0.33], [-0.12, 0.09], [-1.42, 1.99], [-0.88, 0.04], [-1.06, 2.19], [0.62, 0.73], [-0.17, 0.84], [-0.74, 1.35], [0.03, 0.03], [-0.37, 0.51], [-2.16, 1.45], [0.87, 1.19], [-0.94, 0.03], [-0.03, 0.02], [-0.46, 1.18], [-0.84, 0.29], [-2.44, 1.31], [0.06, -0.18], [-0.08, -0.0], [-0.42, 0.42], [-0.75, 1.08], [0.36, 0.15], [-0.01, 0.23], [0.03, 0.98], [-0.74, 0.28], [-0.16, 0.03], [0.22, -0.1], [0.22, 0.97], [0.33, 0.91], [-0.02, -0.01], [-0.06, -0.14], [0.29, 0.67], [-2.16, 0.36], [-0.71, -0.19], [-0.45, -0.19], [0.03, 0.57], [-0.03, 0.12], [-1.0, 2.06], [0.19, 0.46], [-0.7, 0.12], [-0.08, -0.11], [0.04, 0.55], [0.2, -0.01], [-0.17, 0.61], [-0.58, 1.89], [0.02, -0.02], [-0.11, 0.23], [0.82, 0.83], [-1.91, 0.8], [0.36, -0.09], [0.11, 0.45], [-0.64, 0.13], [0.73, 1.32], [-0.63, 1.78], [-0.05, 0.15], [-2.24, 0.38], [-1.28, -0.05], [-0.98, 0.54], [-0.43, 0.21], [-2.0, 1.36], [-2.36, 1.63], [-0.1, 1.23], [-0.19, 1.77], [-0.65, -0.09], [-0.37, 0.86], [-0.6, 0.25], [0.45, 0.49], [0.24, 0.18], [-0.67, 2.72], [0.01, 0.05], [-2.12, 0.68], [0.38, 0.44], [-0.77, 2.36], [-1.11, 0.83], [-1.47, -0.04], [0.93, 0.98], [-0.11, 0.1], [0.67, 2.06], [-0.77, 2.11], [-0.28, 0.22], [0.09, -0.15], [-0.3, 0.26], [-0.26, 1.48], [-0.99, 2.03], [-0.93, 1.15], [-0.04, 1.29], [0.16, 0.01], [-1.0, -0.15], [-0.39, -0.08], [-0.91, 0.54], [-0.21, 0.41], [-0.15, 2.3], [-0.12, 0.41], [0.05, -0.0], [-0.44, 0.28], [-0.09, -0.02], [-0.02, -0.03], [-2.52, 0.24], [-2.51, 0.21], [-0.24, 0.39], [-0.07, 0.62], [-0.62, 0.52], [-0.0, 0.06], [-1.29, 2.12], [0.01, -0.14], [0.91, 1.61], [-0.25, 1.94], [0.05, -0.12], [0.03, 0.27], [-0.48, 2.48], [-0.05, 0.11], [0.7, 0.61], [-0.3, 2.71], [-0.47, -0.07], [-0.82, 1.74], [-0.43, -0.2], [-1.26, 0.69], [0.74, 1.61], [-1.47, 0.29], [-0.12, 0.42], [-0.8, 0.74], [-0.5, 0.79], [0.23, 0.33], [-1.33, 0.22], [0.28, 2.02], [-0.1, -0.05], [-2.23, 1.07], [-0.83, 0.45], [0.46, 1.5], [0.38, 1.49], [-0.12, 0.16], [-0.17, 0.01], [-0.13, 1.53], [-1.34, 0.84], [1.04, 1.45], [-0.13, 0.23], [0.96, 1.41], [-1.49, 1.28], [0.35, 0.08], [-0.38, 0.11], [-0.44, 0.05], [-0.33, 2.09], [-0.13, 0.04], [-0.03, -0.13], [-1.38, 0.08], [-0.82, 1.06], [0.22, -0.21], [-0.91, 1.67], [-2.52, 1.0], [-1.21, 1.51], [-0.03, 0.13], [-1.03, 1.13], [0.74, 2.82], [-0.35, 0.86], [-0.15, 0.02], [0.27, -0.15], [0.39, 0.56], [0.34, -0.02], [0.1, 0.05], [-1.27, 0.41], [0.33, 2.9], [-0.96, 1.2], [-0.25, 2.92], [0.08, -0.18], [0.08, 0.4], [-0.28, 0.59], [0.08, 0.52], [-0.02, -0.21], [-1.27, 1.82], [0.02, -0.07], [-0.61, 0.13], [-0.3, 1.11], [-0.75, 0.14], [0.16, 0.33], [-0.94, 0.36], [-1.37, 0.93], [0.23, -0.19], [-0.21, 1.42], [-0.06, -0.17], [0.42, 1.4], [-0.07, 0.02], [-1.65, 1.12], [0.01, -0.09], [0.15, -0.32], [-0.35, 0.11], [-2.45, 1.47], [-0.42, 2.4], [0.22, -0.31], [-0.21, 1.75], [0.34, 1.27], [-0.59, 0.31], [-0.94, 0.51], [-0.02, -0.28], [-0.89, 1.69], [-0.2, 1.19], [-0.01, 0.08], [0.38, 0.63], [0.12, -0.15], [-0.4, 1.12], [-1.69, 2.03], [0.13, -0.3], [-1.09, 0.98], [0.45, 0.47], [-1.69, 2.13], [-1.35, 1.25], [-0.89, 1.51], [0.3, 0.46], [-0.04, 0.13], [0.54, 2.52], [-1.3, 2.61], [0.73, 2.71], [1.15, 2.48], [0.0, 0.0], [-0.71, 0.14], [0.08, 0.75], [-0.73, 0.87], [-0.02, -0.25], [-0.08, 0.17], [0.02, -0.02], [0.06, 1.49], [-0.26, 0.11], [0.72, 1.97], [0.53, 0.32], [0.24, 0.14], [-1.23, 0.14], [-0.31, 0.94], [-0.15, 0.05], [0.09, 2.42], [0.96, 2.01], [0.1, 0.01], [0.06, 0.15], [-0.99, 1.67], [-0.02, -0.29], [0.02, -0.08], [-0.09, 0.06], [-0.31, 0.71], [-2.18, 1.55], [0.61, 2.14], [0.26, 0.31], [0.07, 0.08], [-0.07, -0.12], [-1.41, 1.37], [-0.1, -0.09], [-0.03, 0.92], [0.05, 0.3], [0.07, 0.52], [0.47, 1.03], [1.2, 1.84], [-0.07, 2.5], [-0.72, 0.45], [0.64, 0.65], [-0.9, -0.0], [-0.01, 0.01], [-0.13, 1.53], [-0.73, 0.34], [-1.26, 0.52], [-0.69, 0.12], [-1.92, 1.31], [-0.27, 0.46], [-2.14, 1.92], [-0.69, 0.72], [1.29, 1.98], [-0.25, 0.76], [0.01, 2.55], [-1.7, 1.34], [0.8, 2.61], [0.76, 1.14], [-0.64, -0.2], [-0.38, 2.79], [-0.38, 1.6], [-1.29, -0.0], [-0.04, -0.07], [-1.88, 0.35], [0.26, 0.13], [-0.3, -0.0], [0.46, 1.31], [0.07, 0.01], [-1.03, 0.97], [1.25, 2.15], [0.29, 0.01], [-1.65, 0.19], [-0.32, -0.16], [-0.47, 0.35], [-0.52, 0.2], [-2.28, 1.54], [0.12, 0.3], [0.03, -0.02], [-1.36, 1.05], [0.33, -0.01], [-0.65, 0.59], [-1.8, 0.46], [-1.92, 0.61], [-2.27, 1.41], [0.16, 0.97], [-0.08, -0.06], [0.31, -0.09], [-1.36, 1.88], [-0.24, 1.74], [0.02, -0.24], [0.12, 0.81], [-0.2, 1.42], [0.11, 0.08], [-0.21, 2.18], [-0.65, 0.03], [-0.3, -0.09], [-1.35, 0.92], [0.01, 0.43], [-0.13, 2.68], [-0.03, 0.47], [0.16, 0.08], [-2.93, 0.41], [0.27, -0.13], [0.12, 0.39], [-0.93, 2.37], [0.4, 0.04], [0.23, 0.15], [0.95, 1.1], [-1.51, 0.23], [-0.88, 0.05], [-1.64, 0.79], [0.17, 2.36], [-1.84, 0.01], [-0.17, 0.73], [0.6, 0.85], [0.16, -0.16], [0.22, 2.75], [0.03, 0.15], [-0.63, 0.42], [-0.28, 0.42], [-1.01, 2.04], [-0.94, 0.02], [0.37, 0.19], [-0.95, 1.11], [-1.59, 0.34], [-1.62, 0.81], [0.31, 0.06], [-0.73, 1.14], [0.28, 1.05], [-0.17, -0.2], [0.67, 1.01], [-0.52, 0.58], [-0.13, -0.21], [-0.39, 2.49], [-0.47, 0.26], [-2.28, 0.82], [0.01, -0.01], [-1.51, 0.97], [0.1, -0.28], [0.28, 0.32], [-0.5, 0.09], [-0.33, -0.0], [-1.41, 1.91], [0.36, 0.58], [-0.51, -0.17], [-1.14, 1.42], [-0.08, -0.05], [-0.02, 0.12], [-0.27, -0.21], [-1.64, 1.68], [-0.05, 0.07], [1.0, 2.73], [0.98, 1.66], [-0.47, 1.86], [0.02, 0.38], [-0.58, 1.75], [0.26, -0.27], [-0.39, 1.62], [0.25, 0.06], [-0.05, -0.04], [0.18, 1.02], [-0.02, -0.07], [-0.3, -0.18], [0.41, 0.53], [-0.31, 1.7], [-0.29, 0.36], [0.2, 0.02], [-0.68, 0.18], [0.2, -0.15], [-0.55, 1.21], [0.56, 0.37], [-0.11, -0.18], [0.42, 0.51], [-1.18, 0.16], [-0.74, 2.2], [-1.17, 2.36], [0.9, 2.04], [-0.0, 0.01], [0.24, 0.05], [-0.34, 0.78], [-1.87, 1.66], [0.26, 0.42], [-0.69, 0.21], [0.28, 0.61], [-0.1, 0.09], [0.23, 0.35], [0.62, 0.66], [-1.36, 0.89], [-0.46, 0.56], [0.55, 1.09], [0.01, -0.0], [0.07, 0.37], [-0.06, 0.08], [0.54, 2.46], [-0.75, 2.22], [0.01, -0.02], [0.73, 1.02], [-0.07, -0.13], [0.44, 1.8], [-1.46, 0.1], [-0.0, -0.0], [0.36, 0.26], [-1.54, 0.08], [-1.97, 2.14], [-0.79, 2.03], [-0.52, 2.28], [0.46, 0.53], [-2.7, 0.54], [-0.22, -0.05], [-0.43, 0.76], [-2.2, 0.81], [0.65, 0.6], [-1.13, 0.61], [0.5, 0.19], [-2.64, 0.49], [-0.33, 0.18], [-0.71, 1.48], [-0.19, 0.12], [-0.03, -0.18], [0.14, 0.15], [-1.27, 0.18], [-0.21, 0.35], [0.46, 1.38], [0.37, 0.18], [-0.33, 1.5], [-2.35, 1.41], [0.54, 0.76], [0.09, 0.01], [-1.41, 2.33], [0.09, 2.09], [0.21, 0.75], [-1.11, 1.64], [-1.14, -0.02], [-0.29, -0.25], [-2.87, 0.39], [-0.07, -0.3], [-0.34, 0.53], [-0.12, -0.02], [-0.79, 0.38], [-2.36, 1.09], [-1.64, 1.77], [-0.42, 0.95], [-2.5, 0.17], [-0.82, 0.32], [-0.44, 0.22], [0.01, 0.01], [-0.33, 0.2], [-1.28, 0.73], [-0.03, 0.06], [-2.17, 0.85], [-0.12, 2.63], [0.15, -0.16], [-1.65, 0.07], [-2.56, 0.6], [-1.82, 1.85], [-0.5, 1.9], [-0.59, 0.16], [0.06, 1.33], [-1.77, 1.28], [0.2, 0.01], [1.43, 2.01], [-0.81, -0.02], [-0.58, 0.49], [0.64, 2.17], [-1.2, 0.63], [-0.06, -0.03], [-1.8, 1.22], [-1.88, 1.74], [-0.03, -0.15], [0.03, 0.15], [0.32, 0.0], [-0.58, 1.02], [-2.33, 0.37], [-0.05, -0.17], [-0.03, 0.19], [-2.22, 1.5], [-1.1, 1.74], [-0.21, -0.23], [-0.65, -0.06], [-0.35, 0.89], [-0.59, -0.02], [-0.03, -0.03], [-0.35, 0.77], [-0.75, 0.24], [-1.5, 1.02], [0.6, 2.02], [-0.29, 0.13], [-1.16, -0.12], [-0.23, 0.12], [-0.8, 0.7], [-1.46, 2.55], [0.15, 0.55], [-1.0, 1.27], [-0.42, 0.17], [-0.75, 0.8], [0.05, 0.74], [-0.85, -0.05], [-1.51, 1.28], [-0.78, -0.2], [-1.47, 0.74], [-0.26, 0.4], [-0.01, 0.21], [-1.53, 1.61], [-0.1, 0.3], [0.17, 2.41], [-0.56, 0.12], [0.43, 2.56], [-0.42, -0.0], [0.75, 2.22], [0.19, 0.11], [-0.1, 0.57], [-1.15, 1.61], [-1.33, 0.46], [-1.52, 1.49], [-2.12, 0.93], [-1.12, 0.78], [-0.52, 1.75], [0.01, -0.05], [1.31, 2.1], [-0.08, 0.41], [-1.54, 1.76], [1.04, 2.29], [0.07, 1.87], [0.06, 0.01], [0.01, 0.15], [-0.22, -0.26], [-0.01, -0.29], [0.1, 0.02], [-1.37, 0.98], [-0.64, 1.38], [-0.27, 0.05], [-0.01, 0.73], [-1.62, 0.99], [0.03, 0.47], [0.2, -0.19], [-0.39, 0.2], [-0.92, -0.11], [-0.77, -0.19], [0.01, 0.01], [-0.75, 1.6], [0.11, 0.42], [0.23, 0.67], [0.01, 0.04], [0.14, -0.09], [0.15, 0.04], [0.01, 0.01], [-0.13, -0.03], [0.25, 2.08], [-0.18, 0.99], [0.88, 1.85], [-1.26, 0.99], [-1.04, -0.13], [-0.45, 1.3], [-0.01, 0.0], [-1.24, 1.76], [0.11, -0.0], [-0.96, 1.34], [0.55, 2.27], [0.09, 2.58], [-2.54, 1.15], [-0.1, 0.41], [-0.62, 0.33], [-0.05, 0.07], [-1.43, 0.13], [-2.59, 0.35], [-0.16, 0.21], [0.69, 1.07], [-1.42, 0.61], [-0.01, -0.03], [-0.16, -0.2], [-1.94, 1.5], [0.8, 1.44], [-0.29, -0.13], [-0.83, 1.67], [-0.45, 0.06], [-0.8, 1.62], [-0.89, 0.02], [-0.54, -0.17], [0.05, -0.32], [-1.74, 0.19], [-0.16, 0.22], [-0.24, -0.05], [-0.12, -0.02], [0.33, 0.74], [-0.15, 0.03], [0.01, 0.05], [0.37, 0.46], [1.12, 1.54], [0.06, -0.09], [-0.27, 1.69], [0.09, 0.35], [0.03, -0.03], [0.41, 0.05], [-0.04, 0.52], [-1.6, 1.41], [-2.33, 0.45], [-0.96, 2.67], [-1.95, 1.27], [-0.15, 0.0], [-1.98, 1.85], [-0.94, 2.66], [0.19, 0.97], [-1.49, 0.71], [-1.59, 2.08], [0.71, 2.13], [-0.07, 0.59], [-0.64, 2.13], [0.38, 2.79], [-0.99, 1.31], [-0.43, 0.21], [-1.28, 0.74], [-1.08, 0.47], [-0.29, 0.89], [1.46, 2.13], [-0.01, -0.0], [0.09, 2.32], [0.11, 2.92], [-1.62, 0.76], [-0.84, 1.37], [-1.41, 1.8], [-0.17, 1.38], [-0.0, -0.02], [-0.81, 0.22], [-0.75, 1.75], [0.01, -0.0], [-0.08, -0.03], [-0.89, 0.47], [0.33, -0.01], [0.39, 0.1], [-0.0, -0.01], [0.07, -0.0], [0.67, 1.55], [-0.39, 0.95], [-0.77, 0.18], [0.07, 0.67], [0.34, 0.25], [-0.4, 2.58], [-0.45, 0.32], [-0.77, 0.19], [-0.4, 0.38], [-0.16, -0.29], [0.1, 0.57], [-0.76, 2.76], [-0.14, 2.27], [-1.42, 1.77], [0.26, 1.34], [0.37, 0.42], [0.41, 1.26], [-2.25, 1.98], [0.17, 0.2], [-0.59, 1.3], [0.14, 2.37], [0.18, 1.85], [-0.11, 0.19], [-0.04, 0.09], [-0.89, 1.62], [-0.36, -0.23], [0.34, 2.39], [0.51, 2.29], [-0.37, 0.96], [-0.1, -0.14], [-1.67, 1.79], [-0.89, 0.64], [0.98, 1.94], [0.6, 0.48], [-2.26, 0.41], [-1.31, 0.5], [-0.15, -0.12], [-0.15, 2.68], [0.22, -0.13], [1.63, 2.45], [-0.35, 0.04], [-1.72, 1.12], [-0.37, 0.08], [0.11, 0.47], [-0.1, -0.23], [0.25, 1.84], [0.99, 1.48], [0.04, 1.7], [0.28, 1.35], [0.06, -0.34], [0.4, 0.07], [-1.01, 1.47], [-0.41, 0.42], [-0.03, 0.95], [-1.74, 1.69], [0.06, 1.48], [-0.09, 0.14], [-1.14, 0.35], [0.18, 2.33], [-0.25, 1.8], [-1.73, 1.13], [-0.28, -0.07], [-0.38, -0.12], [0.07, 0.13], [0.0, -0.3], [0.04, 1.13], [0.18, 0.24], [-0.46, 0.54], [0.72, 2.07], [-0.73, 0.1], [-0.03, 0.03], [-0.5, 1.37]]\n",
            "centroid2:  [-0.36350358801182, 0.7894660194174757]\n",
            "number of points in each cluster2:  4738\n",
            "Time : 21.479488134384155\n"
          ]
        }
      ],
      "source": [
        "K_means(3,10000)"
      ]
    },
    {
      "cell_type": "code",
      "execution_count": null,
      "metadata": {
        "id": "78WUS2CxKucM",
        "outputId": "ce65ab2e-0fe9-4670-c6b5-c36554a1887c"
      },
      "outputs": [
        {
          "name": "stdout",
          "output_type": "stream",
          "text": [
            "first centroids: [[-1.53, 0.39], [-1.22, -2.19], [-1.51, -0.08]]\n",
            "number of points after choosing centroids:  99997\n",
            "centroid0:  [0.8349137716700952, 0.4911441357954944]\n",
            "number of points in each cluster0:  44243\n",
            "centroid1:  [-0.07158928571428551, -1.4112584033613378]\n",
            "number of points in each cluster1:  28560\n",
            "centroid2:  [-1.274887671434345, 0.6882553222781952]\n",
            "number of points in each cluster2:  27197\n",
            "Iteration Time : 728.7703230381012\n"
          ]
        }
      ],
      "source": [
        "K_means(3,100000)"
      ]
    },
    {
      "cell_type": "code",
      "execution_count": null,
      "metadata": {
        "collapsed": true,
        "id": "y9TzUslsKucN",
        "outputId": "ce4d5459-b987-4034-e27a-e0ada577a5ac"
      },
      "outputs": [
        {
          "name": "stdout",
          "output_type": "stream",
          "text": [
            "first centroids: [[-0.11, -1.19], [-0.65, 0.98], [2.0, 1.24], [2.46, -0.11], [-0.34, -0.17], [-1.35, -1.23], [1.07, -0.05], [-1.17, -2.03], [-2.7, 0.85], [-2.36, 0.51], [1.6, 2.11], [-0.13, 0.72], [-0.16, -2.44], [1.51, 2.19], [0.57, 0.76], [-0.01, -2.56], [-0.17, 1.07], [-1.79, -0.56], [0.56, -2.36], [1.97, 0.5], [0.79, 0.14], [1.64, -1.78], [-0.22, 0.02], [-0.03, -0.02], [1.05, 1.07], [-0.41, 0.79], [-2.42, -0.62], [-0.18, 0.36], [-0.54, 1.77], [0.65, -0.81], [-1.56, 0.89], [0.53, 1.42], [-0.77, -2.05], [1.25, 0.35], [-0.24, -2.07], [1.05, -0.62], [0.93, -2.2], [-0.27, -0.64], [-1.97, 0.32], [-1.33, 0.93], [-1.85, 2.1], [-1.36, -2.59], [1.9, -0.71], [0.44, -1.85], [0.36, -0.59], [-0.4, -1.66], [-1.76, 0.97], [0.84, 1.0], [-1.85, -1.85], [-0.81, -0.04]]\n",
            "number of points after choosing centroids:  950\n",
            "centroid0:  [0.1733333333333333, -1.1016666666666666]\n",
            "number of points in each cluster0:  18\n",
            "centroid1:  [-0.8140000000000001, 0.6424999999999998]\n",
            "number of points in each cluster1:  20\n",
            "centroid2:  [2.0314285714285716, 1.4021428571428574]\n",
            "number of points in each cluster2:  14\n",
            "centroid3:  [2.6428571428571432, 0.024999999999999998]\n",
            "number of points in each cluster3:  14\n",
            "centroid4:  [-0.4689473684210526, -0.3857894736842106]\n",
            "number of points in each cluster4:  19\n",
            "centroid5:  [-1.174642857142857, -0.8025]\n",
            "number of points in each cluster5:  28\n",
            "centroid6:  [1.14375, 0.016250000000000004]\n",
            "number of points in each cluster6:  8\n",
            "centroid7:  [-1.1345454545454545, -1.6572727272727272]\n",
            "number of points in each cluster7:  11\n",
            "centroid8:  [-2.595, 1.085]\n",
            "number of points in each cluster8:  8\n",
            "centroid9:  [-2.524705882352942, 0.38941176470588235]\n",
            "number of points in each cluster9:  17\n",
            "centroid10:  [1.69, 2.1875]\n",
            "number of points in each cluster10:  8\n",
            "centroid11:  [0.08999999999999998, 0.6996296296296298]\n",
            "number of points in each cluster11:  27\n",
            "centroid12:  [-0.39000000000000007, -2.64125]\n",
            "number of points in each cluster12:  8\n",
            "centroid13:  [0.855909090909091, 2.410909090909091]\n",
            "number of points in each cluster13:  22\n",
            "centroid14:  [0.4714285714285714, 0.5766666666666665]\n",
            "number of points in each cluster14:  21\n",
            "centroid15:  [0.1875, -2.71]\n",
            "number of points in each cluster15:  4\n",
            "centroid16:  [-0.4988235294117647, 1.5723529411764707]\n",
            "number of points in each cluster16:  17\n",
            "centroid17:  [-1.8711764705882357, -0.8135294117647058]\n",
            "number of points in each cluster17:  17\n",
            "centroid18:  [0.7370000000000001, -2.3489999999999998]\n",
            "number of points in each cluster18:  10\n",
            "centroid19:  [2.0862499999999993, 0.5129166666666667]\n",
            "number of points in each cluster19:  24\n",
            "centroid20:  [0.6725, 0.1392857142857143]\n",
            "number of points in each cluster20:  28\n",
            "centroid21:  [1.972, -1.4915000000000003]\n",
            "number of points in each cluster21:  20\n",
            "centroid22:  [-0.24088235294117652, -0.055]\n",
            "number of points in each cluster22:  34\n",
            "centroid23:  [0.054799999999999995, 0.024800000000000003]\n",
            "number of points in each cluster23:  75\n",
            "centroid24:  [1.2942857142857145, 1.4138095238095238]\n",
            "number of points in each cluster24:  21\n",
            "centroid25:  [-0.345, 0.9204999999999999]\n",
            "number of points in each cluster25:  20\n",
            "centroid26:  [-2.597272727272727, -0.520909090909091]\n",
            "number of points in each cluster26:  11\n",
            "centroid27:  [-0.3444, 0.3544]\n",
            "number of points in each cluster27:  25\n",
            "centroid28:  [-0.1696153846153846, 2.2946153846153843]\n",
            "number of points in each cluster28:  26\n",
            "centroid29:  [0.8219047619047618, -1.0571428571428574]\n",
            "number of points in each cluster29:  21\n",
            "centroid30:  [-1.6366666666666667, 0.8266666666666668]\n",
            "number of points in each cluster30:  9\n",
            "centroid31:  [0.4800000000000001, 1.4535714285714285]\n",
            "number of points in each cluster31:  14\n",
            "centroid32:  [-0.8028571428571428, -1.992857142857143]\n",
            "number of points in each cluster32:  7\n",
            "centroid33:  [1.3262499999999997, 0.648125]\n",
            "number of points in each cluster33:  16\n",
            "centroid34:  [-0.11666666666666664, -2.05]\n",
            "number of points in each cluster34:  9\n",
            "centroid35:  [1.172, -0.6083333333333332]\n",
            "number of points in each cluster35:  30\n",
            "centroid36:  [1.2915, -2.1854999999999998]\n",
            "number of points in each cluster36:  20\n",
            "centroid37:  [-0.21, -0.7648387096774194]\n",
            "number of points in each cluster37:  31\n",
            "centroid38:  [-1.7134482758620693, 0.20413793103448274]\n",
            "number of points in each cluster38:  29\n",
            "centroid39:  [-1.0757142857142858, 1.1750000000000003]\n",
            "number of points in each cluster39:  14\n",
            "centroid40:  [-1.2584999999999997, 2.2444999999999995]\n",
            "number of points in each cluster40:  20\n",
            "centroid41:  [-1.2659999999999998, -2.478666666666667]\n",
            "number of points in each cluster41:  15\n",
            "centroid42:  [1.963928571428572, -0.6042857142857143]\n",
            "number of points in each cluster42:  28\n",
            "centroid43:  [0.541, -1.6954999999999998]\n",
            "number of points in each cluster43:  20\n",
            "centroid44:  [0.28055555555555567, -0.37722222222222224]\n",
            "number of points in each cluster44:  36\n",
            "centroid45:  [-0.45217391304347837, -1.505217391304348]\n",
            "number of points in each cluster45:  23\n",
            "centroid46:  [-1.9300000000000002, 1.515]\n",
            "number of points in each cluster46:  20\n",
            "centroid47:  [0.8293333333333331, 0.8966666666666667]\n",
            "number of points in each cluster47:  15\n",
            "centroid48:  [-1.9977777777777779, -1.6133333333333333]\n",
            "number of points in each cluster48:  18\n",
            "centroid49:  [-0.977333333333333, -0.045333333333333344]\n",
            "number of points in each cluster49:  30\n",
            "Iteration Time : 0.3228459358215332\n"
          ]
        }
      ],
      "source": [
        "K_means(50, 1000)"
      ]
    },
    {
      "cell_type": "code",
      "execution_count": null,
      "metadata": {
        "collapsed": true,
        "id": "K4qBWJy8KucN",
        "outputId": "4eea44d3-ef54-413b-e414-66417860b9b5"
      },
      "outputs": [
        {
          "name": "stdout",
          "output_type": "stream",
          "text": [
            "first centroids: [[0.68, -0.96], [0.01, 0.29], [0.73, 0.74], [0.56, 1.74], [-0.04, -0.02], [0.21, -0.26], [-0.13, -1.87], [-0.02, 0.16], [-0.23, 0.15], [-0.76, -1.26], [1.43, 1.22], [0.06, -0.03], [0.16, -0.05], [-0.51, 1.12], [-0.38, -0.69], [2.02, -0.43], [-0.84, -0.73], [0.28, -0.52], [0.06, -0.23], [-2.17, -1.77], [2.22, -0.98], [0.86, 1.52], [-1.81, -0.58], [-0.55, -1.86], [-1.61, 1.92], [-1.21, 1.16], [-0.67, 1.29], [0.57, 0.54], [-0.06, -1.22], [1.67, 1.5], [-0.13, -2.97], [2.34, -0.39], [-0.18, 0.5], [-1.12, 0.8], [0.23, 0.17], [2.03, 1.8], [-2.37, 0.82], [-0.94, -2.34], [-1.39, -2.2], [1.83, -2.34], [1.64, 1.67], [0.52, -0.19], [-0.1, -0.11], [-1.42, -1.22], [0.26, 0.58], [-0.63, -0.04], [-0.81, 0.32], [-1.83, -1.96], [1.16, -2.52], [0.35, -0.85]]\n",
            "number of points after choosing centroids:  9950\n",
            "centroid0:  [1.175863453815261, -1.0365863453815254]\n",
            "number of points in each cluster0:  249\n",
            "centroid1:  [0.227969543147208, 0.40979695431472074]\n",
            "number of points in each cluster1:  197\n",
            "centroid2:  [0.7979096045197737, 1.0080790960451975]\n",
            "number of points in each cluster2:  177\n",
            "centroid3:  [0.0251417004048583, 2.5561538461538453]\n",
            "number of points in each cluster3:  247\n",
            "centroid4:  [-0.09650000000000002, 0.005416666666666666]\n",
            "number of points in each cluster4:  240\n",
            "centroid5:  [0.33677165354330696, -0.2524409448818898]\n",
            "number of points in each cluster5:  127\n",
            "centroid6:  [0.3193749999999999, -1.8032812500000004]\n",
            "number of points in each cluster6:  192\n",
            "centroid7:  [-0.041973094170403576, 0.23968609865470838]\n",
            "number of points in each cluster7:  223\n",
            "centroid8:  [-0.38034482758620686, 0.179655172413793]\n",
            "number of points in each cluster8:  203\n",
            "centroid9:  [-0.9899435028248591, -1.2799999999999991]\n",
            "number of points in each cluster9:  177\n",
            "centroid10:  [2.356714285714286, 0.6656666666666669]\n",
            "number of points in each cluster10:  210\n",
            "centroid11:  [0.01924198250728863, -0.026239067055393597]\n",
            "number of points in each cluster11:  343\n",
            "centroid12:  [0.17355555555555557, -0.019722222222222224]\n",
            "number of points in each cluster12:  180\n",
            "centroid13:  [-0.5530165289256198, 1.2433884297520665]\n",
            "number of points in each cluster13:  242\n",
            "centroid14:  [-0.45217194570135744, -0.6726244343891398]\n",
            "number of points in each cluster14:  221\n",
            "centroid15:  [1.7735294117647054, -0.33832579185520345]\n",
            "number of points in each cluster15:  221\n",
            "centroid16:  [-1.0788000000000002, -0.5502999999999999]\n",
            "number of points in each cluster16:  200\n",
            "centroid17:  [0.5524757281553399, -0.5225728155339809]\n",
            "number of points in each cluster17:  206\n",
            "centroid18:  [0.05604395604395605, -0.4501648351648349]\n",
            "number of points in each cluster18:  182\n",
            "centroid19:  [-2.39686274509804, -0.9337908496732027]\n",
            "number of points in each cluster19:  153\n",
            "centroid20:  [2.188315217391305, -1.1906521739130433]\n",
            "number of points in each cluster20:  184\n",
            "centroid21:  [0.6304182509505717, 1.7242205323193924]\n",
            "number of points in each cluster21:  263\n",
            "centroid22:  [-1.74510752688172, -0.11505376344086024]\n",
            "number of points in each cluster22:  186\n",
            "centroid23:  [-0.47058823529411775, -1.6619852941176474]\n",
            "number of points in each cluster23:  136\n",
            "centroid24:  [-1.3124336283185838, 2.1317699115044255]\n",
            "number of points in each cluster24:  226\n",
            "centroid25:  [-2.061114754098361, 1.2790163934426217]\n",
            "number of points in each cluster25:  305\n",
            "centroid26:  [-0.5223880597014925, 1.9175124378109458]\n",
            "number of points in each cluster26:  201\n",
            "centroid27:  [0.8042307692307685, 0.426971153846154]\n",
            "number of points in each cluster27:  208\n",
            "centroid28:  [-0.08569892473118275, -1.064677419354838]\n",
            "number of points in each cluster28:  186\n",
            "centroid29:  [1.523548387096774, 0.7401843317972351]\n",
            "number of points in each cluster29:  217\n",
            "centroid30:  [0.14700636942675158, -2.6215286624203844]\n",
            "number of points in each cluster30:  157\n",
            "centroid31:  [2.5944654088050316, -0.29987421383647805]\n",
            "number of points in each cluster31:  159\n",
            "centroid32:  [-0.21235897435897433, 0.6639487179487179]\n",
            "number of points in each cluster32:  195\n",
            "centroid33:  [-1.3736330935251797, 0.6745683453237412]\n",
            "number of points in each cluster33:  278\n",
            "centroid34:  [0.5011363636363639, 0.04937500000000001]\n",
            "number of points in each cluster34:  176\n",
            "centroid35:  [1.9750884955752224, 1.5868584070796454]\n",
            "number of points in each cluster35:  226\n",
            "centroid36:  [-2.5375221238938055, 0.19681415929203538]\n",
            "number of points in each cluster36:  226\n",
            "centroid37:  [-0.7199350649350651, -2.50331168831169]\n",
            "number of points in each cluster37:  154\n",
            "centroid38:  [-1.3721804511278195, -2.1024812030075197]\n",
            "number of points in each cluster38:  133\n",
            "centroid39:  [1.7422222222222232, -1.851041666666666]\n",
            "number of points in each cluster39:  144\n",
            "centroid40:  [1.2124999999999997, 2.3094999999999994]\n",
            "number of points in each cluster40:  180\n",
            "centroid41:  [1.076356275303643, -0.14129554655870433]\n",
            "number of points in each cluster41:  247\n",
            "centroid42:  [-0.2586666666666666, -0.21657142857142858]\n",
            "number of points in each cluster42:  210\n",
            "centroid43:  [-1.641275167785235, -0.9793959731543627]\n",
            "number of points in each cluster43:  149\n",
            "centroid44:  [0.20504716981132082, 0.9761792452830189]\n",
            "number of points in each cluster44:  212\n",
            "centroid45:  [-0.7572037914691941, -0.09052132701421796]\n",
            "number of points in each cluster45:  211\n",
            "centroid46:  [-0.7606091370558373, 0.5274111675126901]\n",
            "number of points in each cluster46:  197\n",
            "centroid47:  [-1.933457943925233, -1.729906542056075]\n",
            "number of points in each cluster47:  107\n",
            "centroid48:  [1.078333333333333, -2.215500000000001]\n",
            "number of points in each cluster48:  180\n",
            "centroid49:  [0.45528662420382177, -1.0266242038216553]\n",
            "number of points in each cluster49:  157\n",
            "Iteration Time : 3.51278018951416\n"
          ]
        }
      ],
      "source": [
        "K_means(50, 10000)"
      ]
    },
    {
      "cell_type": "code",
      "execution_count": null,
      "metadata": {
        "id": "PAu1uzYzKucO",
        "outputId": "7ae3d32a-b1f5-4725-b3db-162d8c74dd93"
      },
      "outputs": [
        {
          "name": "stdout",
          "output_type": "stream",
          "text": [
            "first centroids: [[-2.07, -1.61], [0.23, 2.08], [0.2, 0.05], [0.82, -0.59], [-0.33, -1.33], [-0.53, 0.25], [-0.49, 0.67], [0.37, 0.01], [0.11, 0.08], [2.76, 0.56], [0.3, 2.59], [-0.08, -0.17], [-0.01, -0.35], [-1.57, 1.2], [-0.48, -2.7], [-1.94, 1.19], [0.91, -0.15], [0.07, -1.05], [-1.41, 1.46], [-2.01, -1.31], [0.76, -0.62], [-0.48, 1.37], [1.74, 0.5], [0.11, 0.27], [-1.29, -1.08], [-0.14, -0.55], [0.71, -1.97], [-0.46, 1.68], [0.19, -0.28], [1.47, -1.21], [-1.95, -1.52], [-0.22, -1.1], [1.2, -1.19], [1.6, -1.03], [-0.51, -0.22], [-0.24, -0.07], [-0.77, 2.22], [-0.58, 1.11], [2.07, -0.72], [-0.37, 0.18], [-0.77, 1.55], [-2.41, 1.12], [0.49, -1.16], [-0.99, -0.53], [-0.44, 1.46], [0.06, -2.42], [0.32, -0.01], [0.18, 2.67], [0.73, 2.22], [-1.13, 1.15]]\n",
            "number of points after choosing centroids:  99950\n",
            "centroid0:  [-1.5627386634844866, -2.043579952267305]\n",
            "number of points in each cluster0:  1676\n",
            "centroid1:  [0.7398626373626389, 1.5081501831501827]\n",
            "number of points in each cluster1:  2184\n",
            "centroid2:  [0.3350091675834252, 0.2518225155848915]\n",
            "number of points in each cluster2:  2727\n",
            "centroid3:  [1.1355058246474603, -0.6457449417535263]\n",
            "number of points in each cluster3:  1631\n",
            "centroid4:  [-0.47392536608408153, -1.733462446858761]\n",
            "number of points in each cluster4:  2117\n",
            "centroid5:  [-1.456655172413795, 0.1723922413793103]\n",
            "number of points in each cluster5:  2320\n",
            "centroid6:  [-0.5088769716088332, 0.7241261829652995]\n",
            "number of points in each cluster6:  1585\n",
            "centroid7:  [0.8116840536512666, 0.6851564828614001]\n",
            "number of points in each cluster7:  2684\n",
            "centroid8:  [-0.02996768060836498, 0.05315019011406839]\n",
            "number of points in each cluster8:  5260\n",
            "centroid9:  [2.423201641867625, 0.8901693175987699]\n",
            "number of points in each cluster9:  1949\n",
            "centroid10:  [0.934534300055772, 2.350033463469047]\n",
            "number of points in each cluster10:  1793\n",
            "centroid11:  [0.13241508152173923, -0.09703464673913043]\n",
            "number of points in each cluster11:  2944\n",
            "centroid12:  [-0.17026044005388397, -0.29149977548271244]\n",
            "number of points in each cluster12:  2227\n",
            "centroid13:  [-1.6975564681724868, 1.012156057494867]\n",
            "number of points in each cluster13:  1461\n",
            "centroid14:  [-0.6826384752829059, -2.483394877903511]\n",
            "number of points in each cluster14:  1679\n",
            "centroid15:  [-2.335492187500004, 1.2706093750000025]\n",
            "number of points in each cluster15:  1280\n",
            "centroid16:  [1.439113982464235, 0.026008306414397823]\n",
            "number of points in each cluster16:  2167\n",
            "centroid17:  [0.159765702891326, -1.1379760717846452]\n",
            "number of points in each cluster17:  2006\n",
            "centroid18:  [-1.7334779356768883, 1.9197756170531044]\n",
            "number of points in each cluster18:  1337\n",
            "centroid19:  [-2.269460062472108, -0.44570281124498057]\n",
            "number of points in each cluster19:  2241\n",
            "centroid20:  [0.6189267461669509, -0.719636570130607]\n",
            "number of points in each cluster20:  1761\n",
            "centroid21:  [-0.52618578465869, 1.1974876847290619]\n",
            "number of points in each cluster21:  1421\n",
            "centroid22:  [1.59175857577073, 0.7591359096830228]\n",
            "number of points in each cluster22:  2303\n",
            "centroid23:  [-0.04865168539325842, 0.48227126805778353]\n",
            "number of points in each cluster23:  2492\n",
            "centroid24:  [-1.3286128364389267, -1.2730486542443067]\n",
            "number of points in each cluster24:  1932\n",
            "centroid25:  [-0.20454811919882732, -0.6665608207132366]\n",
            "number of points in each cluster25:  2047\n",
            "centroid26:  [1.2959169938306216, -2.22543466068424]\n",
            "number of points in each cluster26:  1783\n",
            "centroid27:  [-0.30120760959470666, 2.095343258891643]\n",
            "number of points in each cluster27:  1209\n",
            "centroid28:  [0.29137272323411767, -0.39610839626832517]\n",
            "number of points in each cluster28:  2251\n",
            "centroid29:  [2.1372760800842987, -1.4970231822971545]\n",
            "number of points in each cluster29:  1898\n",
            "centroid30:  [-2.2495782073813646, -1.269490333919158]\n",
            "number of points in each cluster30:  1707\n",
            "centroid31:  [-0.5910640443772059, -1.0259152798789701]\n",
            "number of points in each cluster31:  1983\n",
            "centroid32:  [1.2493785310734473, -1.3372994350282452]\n",
            "number of points in each cluster32:  1770\n",
            "centroid33:  [1.8671649791542608, -0.6828171530673025]\n",
            "number of points in each cluster33:  1679\n",
            "centroid34:  [-0.7561740331491683, -0.2346823204419889]\n",
            "number of points in each cluster34:  2172\n",
            "centroid35:  [-0.3345428840716315, 0.005918944392082938]\n",
            "number of points in each cluster35:  2122\n",
            "centroid36:  [-1.004014869888476, 2.453947955390334]\n",
            "number of points in each cluster36:  1345\n",
            "centroid37:  [0.1749591934709552, 0.9677052328372556]\n",
            "number of points in each cluster37:  2083\n",
            "centroid38:  [2.5133422939068084, -0.2202284946236558]\n",
            "number of points in each cluster38:  2232\n",
            "centroid39:  [-0.6393866794441776, 0.29925251557259264]\n",
            "number of points in each cluster39:  2087\n",
            "centroid40:  [-0.9991322033898296, 1.6544135593220297]\n",
            "number of points in each cluster40:  1475\n",
            "centroid41:  [-2.4667972472207524, 0.39043409211222896]\n",
            "number of points in each cluster41:  1889\n",
            "centroid42:  [0.5179478827361574, -1.68242128121607]\n",
            "number of points in each cluster42:  1842\n",
            "centroid43:  [-1.235065565808644, -0.5803254006799402]\n",
            "number of points in each cluster43:  2059\n",
            "centroid44:  [-0.03757700205338809, 1.5880287474332666]\n",
            "number of points in each cluster44:  1461\n",
            "centroid45:  [0.3029144942648594, -2.513378519290923]\n",
            "number of points in each cluster45:  1918\n",
            "centroid46:  [0.7357573322619527, -0.032583366813981524]\n",
            "number of points in each cluster46:  2489\n",
            "centroid47:  [0.05666424945612767, 2.6266860043509737]\n",
            "number of points in each cluster47:  1379\n",
            "centroid48:  [1.710650195058517, 1.7373125270914602]\n",
            "number of points in each cluster48:  2307\n",
            "centroid49:  [-1.1299327628361855, 0.8412836185819085]\n",
            "number of points in each cluster49:  1636\n",
            "Iteration Time : 83.71979475021362\n"
          ]
        }
      ],
      "source": [
        "K_means(50, 100000)"
      ]
    },
    {
      "cell_type": "code",
      "execution_count": null,
      "metadata": {
        "collapsed": true,
        "id": "yiMfT-owKucO",
        "outputId": "49cca1d5-aadc-4f96-dcc1-649c898ebb7a"
      },
      "outputs": [
        {
          "name": "stdout",
          "output_type": "stream",
          "text": [
            "first centroids: [[2.0, -0.36], [2.27, 1.06], [0.1, -0.17], [0.81, -0.91], [1.71, -0.02], [-0.58, -0.97], [2.32, 1.36], [0.36, -1.76], [0.81, 0.73], [0.07, 2.61], [-2.34, 0.01], [2.61, 0.32], [-1.05, 2.34], [0.32, 0.6], [-0.08, 0.76], [0.71, 0.09], [0.64, 1.51], [-0.48, 1.31], [1.16, 1.61], [-0.45, -0.25], [0.03, 0.02], [-1.24, 0.32], [0.27, 1.69], [2.79, -0.85], [0.18, 0.94], [-0.39, 0.21], [0.02, 2.23], [0.36, -0.81], [1.72, 1.34], [2.12, -1.73], [-0.52, -1.13], [-0.03, 1.34], [-0.78, 1.01], [-0.71, 0.77], [-0.97, -1.05], [-2.82, 0.37], [-1.31, -0.4], [2.45, -0.61], [1.71, -0.8], [2.1, 0.71], [-1.09, 1.64], [-0.02, -0.02], [0.01, 0.46], [-0.2, 0.78], [-0.0, 0.51], [-2.26, -0.39], [-0.24, 0.31], [-0.89, 0.16], [0.56, 1.24], [-0.86, 0.46], [-0.08, -1.17], [-1.11, 0.32], [-0.83, -0.42], [2.61, 0.98], [2.14, 0.59], [2.66, 1.17], [-0.25, -0.66], [1.9, 0.15], [2.35, 0.02], [-0.01, 0.09], [-1.0, 1.42], [-1.27, 2.45], [1.65, 2.22], [-1.49, -0.56], [0.86, -0.2], [-0.45, -0.69], [-0.06, 0.04], [1.29, 0.12], [-0.73, 0.76], [-0.3, 1.74], [0.66, 2.36], [-1.09, 0.17], [0.1, -2.59], [0.7, -1.2], [0.14, -0.18], [-1.31, 0.78], [0.2, 0.34], [1.8, -2.0], [1.92, -0.66], [-0.01, -0.02], [0.94, -0.55], [1.12, -0.7], [1.43, 1.25], [1.02, -2.82], [0.08, 0.22], [-0.5, -2.17], [-0.27, 2.37], [-0.84, -0.14], [-0.36, -0.22], [-0.17, 1.53], [-0.33, 0.4], [-0.9, -1.38], [2.7, -0.28], [-0.65, -0.43], [-0.09, 0.06], [-0.51, 1.31], [0.25, -0.06], [0.96, -0.96], [0.86, 1.84], [-0.27, 0.34]]\n",
            "number of points after choosing centroids:  900\n",
            "centroid0:  [2.0450000000000004, -0.33666666666666667]\n",
            "number of points in each cluster0:  6\n",
            "centroid1:  [2.31, 0.8799999999999999]\n",
            "number of points in each cluster1:  5\n",
            "centroid2:  [0.008421052631578945, -0.2910526315789474]\n",
            "number of points in each cluster2:  19\n",
            "centroid3:  [0.8114285714285715, -0.7957142857142857]\n",
            "number of points in each cluster3:  7\n",
            "centroid4:  [1.516923076923077, -0.10846153846153847]\n",
            "number of points in each cluster4:  13\n",
            "centroid5:  [-0.9466666666666668, -0.9420000000000001]\n",
            "number of points in each cluster5:  15\n",
            "centroid6:  [2.1033333333333335, 1.6355555555555554]\n",
            "number of points in each cluster6:  9\n",
            "centroid7:  [0.4930769230769231, -2.0899999999999994]\n",
            "number of points in each cluster7:  13\n",
            "centroid8:  [0.9688888888888889, 0.8200000000000001]\n",
            "number of points in each cluster8:  9\n",
            "centroid9:  [0.03, 2.7566666666666664]\n",
            "number of points in each cluster9:  6\n",
            "centroid10:  [-2.5606250000000004, -0.5343749999999999]\n",
            "number of points in each cluster10:  16\n",
            "centroid11:  [2.5850000000000004, 0.21833333333333335]\n",
            "number of points in each cluster11:  6\n",
            "centroid12:  [-0.866, 2.1820000000000004]\n",
            "number of points in each cluster12:  10\n",
            "centroid13:  [0.5152631578947369, 0.6178947368421052]\n",
            "number of points in each cluster13:  19\n",
            "centroid14:  [-0.05111111111111112, 0.8233333333333334]\n",
            "number of points in each cluster14:  9\n",
            "centroid15:  [0.8159999999999998, 0.21800000000000003]\n",
            "number of points in each cluster15:  5\n",
            "centroid16:  [0.7324999999999999, 1.585]\n",
            "number of points in each cluster16:  4\n",
            "centroid17:  [-0.45714285714285713, 1.1385714285714286]\n",
            "number of points in each cluster17:  7\n",
            "centroid18:  [1.124, 1.487]\n",
            "number of points in each cluster18:  10\n",
            "centroid19:  [-0.4985714285714286, -0.23142857142857146]\n",
            "number of points in each cluster19:  7\n",
            "centroid20:  [0.060625000000000005, 0.018125000000000002]\n",
            "number of points in each cluster20:  16\n",
            "centroid21:  [-1.6516666666666668, 0.365]\n",
            "number of points in each cluster21:  18\n",
            "centroid22:  [0.24571428571428575, 1.7514285714285713]\n",
            "number of points in each cluster22:  7\n",
            "centroid23:  [2.8299999999999996, -0.7066666666666667]\n",
            "number of points in each cluster23:  3\n",
            "centroid24:  [0.258, 1.02]\n",
            "number of points in each cluster24:  10\n",
            "centroid25:  [-0.44, 0.07363636363636364]\n",
            "number of points in each cluster25:  11\n",
            "centroid26:  [0.08, 2.2971428571428576]\n",
            "number of points in each cluster26:  7\n",
            "centroid27:  [0.35615384615384615, -0.7846153846153846]\n",
            "number of points in each cluster27:  13\n",
            "centroid28:  [1.7066666666666666, 1.298888888888889]\n",
            "number of points in each cluster28:  9\n",
            "centroid29:  [1.983, -1.6730000000000005]\n",
            "number of points in each cluster29:  10\n",
            "centroid30:  [-0.477, -1.1229999999999998]\n",
            "number of points in each cluster30:  10\n",
            "centroid31:  [-0.098, 1.1780000000000002]\n",
            "number of points in each cluster31:  10\n",
            "centroid32:  [-0.728, 1.0639999999999998]\n",
            "number of points in each cluster32:  5\n",
            "centroid33:  [-0.5742857142857144, 0.7199999999999999]\n",
            "number of points in each cluster33:  7\n",
            "centroid34:  [-1.7608000000000004, -1.5832000000000002]\n",
            "number of points in each cluster34:  25\n",
            "centroid35:  [-2.4100000000000006, 0.5223076923076923]\n",
            "number of points in each cluster35:  13\n",
            "centroid36:  [-1.3587500000000003, -0.39125]\n",
            "number of points in each cluster36:  8\n",
            "centroid37:  [2.2827272727272727, -1.010909090909091]\n",
            "number of points in each cluster37:  11\n",
            "centroid38:  [1.56, -1.0114285714285713]\n",
            "number of points in each cluster38:  7\n",
            "centroid39:  [1.854285714285714, 0.8328571428571429]\n",
            "number of points in each cluster39:  7\n",
            "centroid40:  [-1.2415384615384615, 1.8369230769230769]\n",
            "number of points in each cluster40:  13\n",
            "centroid41:  [-0.012142857142857141, -0.010714285714285714]\n",
            "number of points in each cluster41:  14\n",
            "centroid42:  [0.11, 0.44333333333333336]\n",
            "number of points in each cluster42:  6\n",
            "centroid43:  [-0.245, 0.6625]\n",
            "number of points in each cluster43:  4\n",
            "centroid44:  [0.06714285714285714, 0.6085714285714285]\n",
            "number of points in each cluster44:  7\n",
            "centroid45:  [-2.082, -0.20733333333333334]\n",
            "number of points in each cluster45:  15\n",
            "centroid46:  [-0.17714285714285713, 0.2771428571428572]\n",
            "number of points in each cluster46:  7\n",
            "centroid47:  [-0.89, 0.16]\n",
            "number of points in each cluster47:  1\n",
            "centroid48:  [0.5912499999999999, 1.1887500000000002]\n",
            "number of points in each cluster48:  8\n",
            "centroid49:  [-0.842, 0.42000000000000004]\n",
            "number of points in each cluster49:  5\n",
            "centroid50:  [0.0745, -1.4355]\n",
            "number of points in each cluster50:  20\n",
            "centroid51:  [-1.1266666666666667, 0.49]\n",
            "number of points in each cluster51:  9\n",
            "centroid52:  [-0.972857142857143, -0.5578571428571429]\n",
            "number of points in each cluster52:  14\n",
            "centroid53:  [2.7133333333333334, 0.9533333333333333]\n",
            "number of points in each cluster53:  3\n",
            "centroid54:  [2.1, 0.51]\n",
            "number of points in each cluster54:  2\n",
            "centroid55:  [2.686666666666667, 1.16]\n",
            "number of points in each cluster55:  3\n",
            "centroid56:  [-0.07416666666666666, -0.68125]\n",
            "number of points in each cluster56:  24\n",
            "centroid57:  [1.7683333333333333, 0.26666666666666666]\n",
            "number of points in each cluster57:  6\n",
            "centroid58:  [2.1683333333333334, 0.049999999999999996]\n",
            "number of points in each cluster58:  6\n",
            "centroid59:  [-0.07466666666666669, 0.13333333333333336]\n",
            "number of points in each cluster59:  15\n",
            "centroid60:  [-1.0771428571428572, 1.4600000000000002]\n",
            "number of points in each cluster60:  7\n",
            "centroid61:  [-1.8781249999999996, 1.8862500000000002]\n",
            "number of points in each cluster61:  16\n",
            "centroid62:  [1.5390909090909093, 2.2772727272727273]\n",
            "number of points in each cluster62:  11\n",
            "centroid63:  [-1.5140000000000002, -0.7120000000000001]\n",
            "number of points in each cluster63:  10\n",
            "centroid64:  [0.8206666666666665, -0.15333333333333332]\n",
            "number of points in each cluster64:  15\n",
            "centroid65:  [-0.5566666666666666, -0.7283333333333334]\n",
            "number of points in each cluster65:  6\n",
            "centroid66:  [-0.06999999999999999, 0.02285714285714286]\n",
            "number of points in each cluster66:  7\n",
            "centroid67:  [1.226, 0.3986666666666666]\n",
            "number of points in each cluster67:  15\n",
            "centroid68:  [-0.74, 0.81]\n",
            "number of points in each cluster68:  2\n",
            "centroid69:  [-0.2814285714285714, 1.874285714285714]\n",
            "number of points in each cluster69:  7\n",
            "centroid70:  [0.5750000000000001, 2.5129999999999995]\n",
            "number of points in each cluster70:  10\n",
            "centroid71:  [-1.14375, 0.0875]\n",
            "number of points in each cluster71:  8\n",
            "centroid72:  [-0.05230769230769232, -2.5069230769230773]\n",
            "number of points in each cluster72:  13\n",
            "centroid73:  [0.6983333333333334, -1.2474999999999998]\n",
            "number of points in each cluster73:  12\n",
            "centroid74:  [0.2581818181818181, -0.41181818181818175]\n",
            "number of points in each cluster74:  11\n",
            "centroid75:  [-1.5393750000000002, 1.0318749999999999]\n",
            "number of points in each cluster75:  16\n",
            "centroid76:  [0.3788888888888889, 0.24222222222222228]\n",
            "number of points in each cluster76:  9\n",
            "centroid77:  [1.4386666666666668, -2.056]\n",
            "number of points in each cluster77:  15\n",
            "centroid78:  [2.0077777777777777, -0.7944444444444445]\n",
            "number of points in each cluster78:  9\n",
            "centroid79:  [-0.008, -0.08866666666666666]\n",
            "number of points in each cluster79:  15\n",
            "centroid80:  [0.7707142857142858, -0.4707142857142857]\n",
            "number of points in each cluster80:  14\n",
            "centroid81:  [1.1077777777777778, -0.6844444444444444]\n",
            "number of points in each cluster81:  9\n",
            "centroid82:  [1.47375, 1.42375]\n",
            "number of points in each cluster82:  8\n",
            "centroid83:  [0.8333333333333334, -2.606666666666667]\n",
            "number of points in each cluster83:  9\n",
            "centroid84:  [0.11400000000000002, 0.191]\n",
            "number of points in each cluster84:  10\n",
            "centroid85:  [-0.7620000000000001, -2.365]\n",
            "number of points in each cluster85:  20\n",
            "centroid86:  [-0.635, 2.6375]\n",
            "number of points in each cluster86:  8\n",
            "centroid87:  [-0.9789999999999999, -0.156]\n",
            "number of points in each cluster87:  10\n",
            "centroid88:  [-0.2845454545454546, -0.19000000000000003]\n",
            "number of points in each cluster88:  11\n",
            "centroid89:  [-0.14250000000000002, 1.4900000000000002]\n",
            "number of points in each cluster89:  4\n",
            "centroid90:  [-0.41200000000000003, 0.328]\n",
            "number of points in each cluster90:  5\n",
            "centroid91:  [-0.8513333333333334, -1.5913333333333333]\n",
            "number of points in each cluster91:  15\n",
            "centroid92:  [2.7116666666666664, -0.25166666666666665]\n",
            "number of points in each cluster92:  6\n",
            "centroid93:  [-0.5857142857142857, -0.40714285714285714]\n",
            "number of points in each cluster93:  7\n",
            "centroid94:  [-0.20857142857142857, 0.030000000000000002]\n",
            "number of points in each cluster94:  14\n",
            "centroid95:  [-0.625, 1.4324999999999999]\n",
            "number of points in each cluster95:  4\n",
            "centroid96:  [0.3519047619047619, -0.052380952380952375]\n",
            "number of points in each cluster96:  21\n",
            "centroid97:  [1.1464285714285716, -1.1292857142857142]\n",
            "number of points in each cluster97:  14\n",
            "centroid98:  [0.8160000000000001, 2.0119999999999996]\n",
            "number of points in each cluster98:  5\n",
            "centroid99:  [-0.2125, 0.4325000000000001]\n",
            "number of points in each cluster99:  8\n",
            "Iteration Time : 0.5597009658813477\n"
          ]
        }
      ],
      "source": [
        "K_means(100, 1000)"
      ]
    },
    {
      "cell_type": "code",
      "execution_count": null,
      "metadata": {
        "id": "M_nnyZLTKucO",
        "outputId": "3d6f8dda-6cbf-49b0-bb8f-797f2d4f55c2"
      },
      "outputs": [
        {
          "name": "stdout",
          "output_type": "stream",
          "text": [
            "first centroids: [[0.28, 1.4], [-2.78, 0.52], [2.3, 0.1], [-0.61, -2.4], [2.64, -0.6], [1.72, -0.03], [0.23, 0.23], [-1.26, -0.33], [0.7, -1.27], [0.1, 2.22], [0.48, -2.56], [1.16, 0.67], [1.19, -2.38], [-0.01, -0.02], [-0.4, -2.32], [-0.17, -0.05], [-1.2, -1.12], [-0.12, -2.12], [0.33, -0.58], [-0.21, -1.46], [0.33, -0.37], [-2.17, 0.64], [0.39, -0.71], [-0.01, 0.01], [0.04, 0.01], [0.36, 1.12], [-1.64, -0.14], [-2.58, -0.97], [-1.58, -1.87], [-1.14, 0.49], [-1.41, 1.69], [-0.42, -2.26], [-0.24, -1.38], [-1.4, -0.05], [-0.57, -1.61], [0.92, 1.32], [-0.57, 2.47], [0.28, 0.99], [-1.77, -1.51], [-1.38, 0.54], [-1.29, -2.07], [-2.56, 1.42], [-1.17, 1.33], [-0.27, 0.28], [0.47, 0.66], [0.91, 2.38], [-0.88, -1.02], [-2.02, -0.04], [0.02, 0.16], [-0.11, 0.18], [-0.62, 0.83], [-0.14, 0.1], [-0.17, -0.11], [2.53, -1.51], [-0.14, -0.22], [-2.64, 0.23], [0.03, -0.01], [-0.15, 2.52], [0.29, 0.83], [0.68, -0.05], [0.03, 2.52], [-2.38, 0.81], [-0.29, -0.48], [0.56, 1.51], [-1.21, -0.45], [1.65, 1.36], [2.18, -0.75], [0.04, 0.72], [-0.2, -0.42], [-0.21, -2.88], [1.28, 2.26], [-0.82, -1.81], [0.42, -0.26], [-1.6, -0.44], [0.45, 0.41], [-0.63, 2.28], [2.88, -0.42], [0.98, -0.26], [-1.32, -0.2], [1.46, -1.58], [2.2, -1.3], [-1.5, 1.63], [-2.27, -1.22], [-1.44, -0.08], [1.12, 2.32], [0.08, -1.3], [0.41, -0.02], [-1.48, 0.62], [-0.85, -0.54], [1.52, 1.6], [1.16, 0.81], [0.28, 1.61], [-0.16, -0.17], [0.75, -2.18], [1.83, 1.76], [-1.01, 0.94], [1.64, 2.46], [2.35, 0.66], [0.12, 2.04], [-0.05, -2.94]]\n",
            "number of points after choosing centroids:  9900\n",
            "centroid0:  [0.43412500000000004, 1.4188749999999994]\n",
            "number of points in each cluster0:  80\n",
            "centroid1:  [-2.673492063492063, 0.8563492063492065]\n",
            "number of points in each cluster1:  63\n",
            "centroid2:  [2.190000000000001, 0.13666666666666663]\n",
            "number of points in each cluster2:  123\n",
            "centroid3:  [-0.9172580645161288, -2.5532258064516125]\n",
            "number of points in each cluster3:  62\n",
            "centroid4:  [2.546206896551724, -0.6089655172413795]\n",
            "number of points in each cluster4:  87\n",
            "centroid5:  [1.4884523809523813, -0.005535714285714289]\n",
            "number of points in each cluster5:  168\n",
            "centroid6:  [0.22733333333333328, 0.33508333333333346]\n",
            "number of points in each cluster6:  120\n",
            "centroid7:  [-0.8899999999999995, -0.35436781609195395]\n",
            "number of points in each cluster7:  87\n",
            "centroid8:  [0.9426890756302517, -1.4399159663865542]\n",
            "number of points in each cluster8:  119\n",
            "centroid9:  [0.2567948717948718, 2.0805128205128214]\n",
            "number of points in each cluster9:  78\n",
            "centroid10:  [0.6165454545454546, -2.7100000000000004]\n",
            "number of points in each cluster10:  55\n",
            "centroid11:  [1.020422535211268, 0.40950704225352125]\n",
            "number of points in each cluster11:  142\n",
            "centroid12:  [1.413455882352941, -2.203161764705882]\n",
            "number of points in each cluster12:  136\n",
            "centroid13:  [0.005901639344262295, -0.1298360655737705]\n",
            "number of points in each cluster13:  122\n",
            "centroid14:  [-0.2321875, -2.4040624999999998]\n",
            "number of points in each cluster14:  32\n",
            "centroid15:  [-0.21105263157894735, -0.06456140350877193]\n",
            "number of points in each cluster15:  114\n",
            "centroid16:  [-1.2136893203883496, -1.3083495145631068]\n",
            "number of points in each cluster16:  103\n",
            "centroid17:  [-0.043625000000000004, -1.951125]\n",
            "number of points in each cluster17:  80\n",
            "centroid18:  [0.325984251968504, -0.6817322834645669]\n",
            "number of points in each cluster18:  127\n",
            "centroid19:  [-0.10623376623376628, -1.5042857142857147]\n",
            "number of points in each cluster19:  77\n",
            "centroid20:  [0.14566929133858264, -0.33992125984251964]\n",
            "number of points in each cluster20:  127\n",
            "centroid21:  [-2.1943939393939402, 0.4975757575757575]\n",
            "number of points in each cluster21:  66\n",
            "centroid22:  [0.5293421052631581, -0.9886184210526316]\n",
            "number of points in each cluster22:  152\n",
            "centroid23:  [-0.05085427135678385, 0.015376884422110557]\n",
            "number of points in each cluster23:  199\n",
            "centroid24:  [0.0352694610778443, 0.021017964071856278]\n",
            "number of points in each cluster24:  167\n",
            "centroid25:  [0.119056603773585, 1.089433962264151]\n",
            "number of points in each cluster25:  53\n",
            "centroid26:  [-1.7394827586206902, 0.1579310344827587]\n",
            "number of points in each cluster26:  58\n",
            "centroid27:  [-2.52537037037037, -0.7503703703703701]\n",
            "number of points in each cluster27:  108\n",
            "centroid28:  [-1.8232098765432097, -1.8911111111111107]\n",
            "number of points in each cluster28:  81\n",
            "centroid29:  [-0.8259836065573775, 0.4190163934426229]\n",
            "number of points in each cluster29:  122\n",
            "centroid30:  [-1.2079487179487178, 1.946794871794871]\n",
            "number of points in each cluster30:  78\n",
            "centroid31:  [-0.4968181818181818, -2.0625]\n",
            "number of points in each cluster31:  44\n",
            "centroid32:  [-0.13375, -1.0884027777777776]\n",
            "number of points in each cluster32:  144\n",
            "centroid33:  [-1.1058823529411759, 0.1377647058823529]\n",
            "number of points in each cluster33:  85\n",
            "centroid34:  [-0.6104123711340205, -1.4361855670103096]\n",
            "number of points in each cluster34:  97\n",
            "centroid35:  [0.8720155038759687, 1.1162015503875968]\n",
            "number of points in each cluster35:  129\n",
            "centroid36:  [-1.0980219780219775, 2.476263736263735]\n",
            "number of points in each cluster36:  91\n",
            "centroid37:  [0.3877551020408164, 0.9967346938775512]\n",
            "number of points in each cluster37:  49\n",
            "centroid38:  [-1.7508080808080797, -1.291515151515152]\n",
            "number of points in each cluster38:  99\n",
            "centroid39:  [-1.4659550561797756, 0.5341573033707864]\n",
            "number of points in each cluster39:  89\n",
            "centroid40:  [-1.307931034482758, -2.133448275862069]\n",
            "number of points in each cluster40:  87\n",
            "centroid41:  [-2.2935, 1.559166666666667]\n",
            "number of points in each cluster41:  60\n",
            "centroid42:  [-0.8416363636363636, 1.4876363636363639]\n",
            "number of points in each cluster42:  110\n",
            "centroid43:  [-0.452076923076923, 0.4373076923076924]\n",
            "number of points in each cluster43:  130\n",
            "centroid44:  [0.5910000000000002, 0.6534000000000003]\n",
            "number of points in each cluster44:  100\n",
            "centroid45:  [0.692207792207792, 2.5054545454545454]\n",
            "number of points in each cluster45:  77\n",
            "centroid46:  [-0.602289156626506, -0.9896385542168676]\n",
            "number of points in each cluster46:  83\n",
            "centroid47:  [-2.2383529411764713, -0.21317647058823527]\n",
            "number of points in each cluster47:  85\n",
            "centroid48:  [0.07508196721311476, 0.17737704918032787]\n",
            "number of points in each cluster48:  122\n",
            "centroid49:  [-0.10388888888888888, 0.3993650793650791]\n",
            "number of points in each cluster49:  126\n",
            "centroid50:  [-0.5523188405797101, 0.946159420289855]\n",
            "number of points in each cluster50:  138\n",
            "centroid51:  [-0.2766129032258064, 0.13177419354838715]\n",
            "number of points in each cluster51:  124\n",
            "centroid52:  [-0.6745569620253163, -0.010316455696202539]\n",
            "number of points in each cluster52:  158\n",
            "centroid53:  [2.079277108433736, -1.7768674698795173]\n",
            "number of points in each cluster53:  83\n",
            "centroid54:  [-0.1556122448979591, -0.2822448979591836]\n",
            "number of points in each cluster54:  98\n",
            "centroid55:  [-2.7419230769230754, 0.08987179487179486]\n",
            "number of points in each cluster55:  78\n",
            "centroid56:  [0.1718604651162791, -0.06410852713178296]\n",
            "number of points in each cluster56:  129\n",
            "centroid57:  [-0.36053333333333326, 2.6582666666666666]\n",
            "number of points in each cluster57:  75\n",
            "centroid58:  [0.2651515151515152, 0.6942424242424243]\n",
            "number of points in each cluster58:  66\n",
            "centroid59:  [0.8450000000000004, -0.19487654320987652]\n",
            "number of points in each cluster59:  162\n",
            "centroid60:  [0.2582456140350877, 2.6691228070175432]\n",
            "number of points in each cluster60:  57\n",
            "centroid61:  [-2.1238157894736838, 1.0698684210526312]\n",
            "number of points in each cluster61:  76\n",
            "centroid62:  [-0.41742857142857154, -0.6091428571428572]\n",
            "number of points in each cluster62:  140\n",
            "centroid63:  [0.8087499999999999, 1.7561363636363632]\n",
            "number of points in each cluster63:  88\n",
            "centroid64:  [-1.3191249999999997, -0.5881249999999997]\n",
            "number of points in each cluster64:  80\n",
            "centroid65:  [1.7382795698924738, 1.1958064516129032]\n",
            "number of points in each cluster65:  93\n",
            "centroid66:  [1.838521126760565, -0.6556338028169013]\n",
            "number of points in each cluster66:  142\n",
            "centroid67:  [-0.07842592592592593, 0.7187962962962963]\n",
            "number of points in each cluster67:  108\n",
            "centroid68:  [-0.06553719008264462, -0.5867768595041325]\n",
            "number of points in each cluster68:  121\n",
            "centroid69:  [-0.3651020408163265, -2.8089795918367346]\n",
            "number of points in each cluster69:  49\n",
            "centroid70:  [1.18, 2.0439999999999996]\n",
            "number of points in each cluster70:  60\n",
            "centroid71:  [-0.822857142857143, -1.8597402597402597]\n",
            "number of points in each cluster71:  77\n",
            "centroid72:  [0.46992366412213754, -0.3186259541984732]\n",
            "number of points in each cluster72:  131\n",
            "centroid73:  [-1.7410989010989002, -0.7550549450549453]\n",
            "number of points in each cluster73:  91\n",
            "centroid74:  [0.6015384615384614, 0.2684615384615385]\n",
            "number of points in each cluster74:  117\n",
            "centroid75:  [-0.5268354430379745, 2.0901265822784807]\n",
            "number of points in each cluster75:  79\n",
            "centroid76:  [2.7798795180722884, 0.03602409638554217]\n",
            "number of points in each cluster76:  83\n",
            "centroid77:  [1.120151515151515, -0.6649999999999999]\n",
            "number of points in each cluster77:  198\n",
            "centroid78:  [-1.249622641509434, -0.13886792452830188]\n",
            "number of points in each cluster78:  53\n",
            "centroid79:  [1.5741860465116277, -1.4212403100775197]\n",
            "number of points in each cluster79:  129\n",
            "centroid80:  [2.3311392405063294, -1.199493670886076]\n",
            "number of points in each cluster80:  79\n",
            "centroid81:  [-1.7802325581395342, 1.7786821705426357]\n",
            "number of points in each cluster81:  129\n",
            "centroid82:  [-2.287710843373495, -1.466024096385542]\n",
            "number of points in each cluster82:  83\n",
            "centroid83:  [-1.636987951807229, -0.21903614457831333]\n",
            "number of points in each cluster83:  83\n",
            "centroid84:  [1.2682608695652176, 2.4986956521739128]\n",
            "number of points in each cluster84:  46\n",
            "centroid85:  [0.31742857142857134, -1.5695238095238093]\n",
            "number of points in each cluster85:  105\n",
            "centroid86:  [0.3828070175438597, 0.03815789473684212]\n",
            "number of points in each cluster86:  114\n",
            "centroid87:  [-1.5183636363636368, 1.089454545454546]\n",
            "number of points in each cluster87:  110\n",
            "centroid88:  [-0.9298837209302329, -0.85]\n",
            "number of points in each cluster88:  86\n",
            "centroid89:  [1.4255384615384612, 1.5533846153846147]\n",
            "number of points in each cluster89:  65\n",
            "centroid90:  [1.4810256410256413, 0.7494017094017092]\n",
            "number of points in each cluster90:  117\n",
            "centroid91:  [-0.14819819819819827, 1.3209909909909905]\n",
            "number of points in each cluster91:  111\n",
            "centroid92:  [-0.4627999999999999, -0.24367999999999998]\n",
            "number of points in each cluster92:  125\n",
            "centroid93:  [0.6576068376068378, -2.089230769230768]\n",
            "number of points in each cluster93:  117\n",
            "centroid94:  [2.2294117647058824, 1.5321176470588234]\n",
            "number of points in each cluster94:  85\n",
            "centroid95:  [-1.0235294117647065, 0.9423529411764706]\n",
            "number of points in each cluster95:  102\n",
            "centroid96:  [1.7855844155844156, 2.0583116883116883]\n",
            "number of points in each cluster96:  77\n",
            "centroid97:  [2.4561538461538457, 0.8053846153846155]\n",
            "number of points in each cluster97:  130\n",
            "centroid98:  [-0.06804123711340207, 1.7756701030927833]\n",
            "number of points in each cluster98:  97\n",
            "centroid99:  [0.10746031746031744, -2.673650793650794]\n",
            "number of points in each cluster99:  63\n",
            "Iteration Time : 6.144841432571411\n"
          ]
        }
      ],
      "source": [
        "K_means(100, 10000)"
      ]
    },
    {
      "cell_type": "code",
      "execution_count": null,
      "metadata": {
        "id": "yy58z4XeKucO",
        "outputId": "e0eecf94-137a-4f65-d8f8-073985af8d24"
      },
      "outputs": [
        {
          "name": "stdout",
          "output_type": "stream",
          "text": [
            "first centroids: [[0.19, -1.47], [-2.03, 0.52], [-2.48, -0.57], [-1.24, 1.37], [0.02, 0.04], [-0.27, 2.92], [-1.17, -0.35], [-0.93, -1.2], [-0.29, -0.49], [1.65, 0.41], [2.4, -0.33], [-0.22, 0.38], [-0.28, 0.54], [-0.19, -0.25], [0.04, -0.08], [-0.27, 1.43], [-1.11, 0.47], [-0.08, 0.02], [0.37, 1.98], [0.22, 0.13], [0.06, 0.0], [-1.42, -0.56], [-2.03, 1.15], [0.12, -0.13], [0.25, 0.58], [0.16, -0.81], [1.42, 1.35], [-1.42, -1.51], [2.27, -1.7], [0.54, -0.12], [0.63, 0.54], [1.83, -0.49], [-2.35, 0.16], [0.73, -1.08], [0.79, 1.26], [1.48, 0.25], [-0.11, -2.47], [-1.61, 2.06], [-0.71, 2.06], [-0.37, 0.92], [0.01, -0.02], [-0.26, -0.02], [-0.87, 0.13], [0.43, 0.26], [-0.38, -0.52], [0.45, -2.54], [-0.66, 0.3], [0.45, -1.18], [-0.72, -0.48], [-1.47, 0.62], [0.07, 2.86], [-1.12, 1.05], [-0.41, 1.51], [2.1, 0.28], [1.92, -0.45], [-2.67, -1.15], [1.76, -2.08], [0.97, 0.22], [2.51, -0.78], [1.74, -0.11], [0.27, 0.27], [-0.01, -2.21], [0.29, 1.36], [-0.58, 0.02], [2.82, -0.1], [1.03, 0.87], [-0.29, -0.05], [-1.95, -1.05], [-0.56, 0.2], [-0.38, -0.43], [-0.0, -0.86], [1.08, 2.25], [-0.42, -0.84], [0.52, 0.62], [0.92, -1.36], [-2.43, 0.17], [-1.22, -1.83], [-0.04, 2.28], [-1.57, 0.48], [-1.19, 1.72], [0.03, -0.05], [-0.78, -1.58], [1.76, 1.76], [-0.15, -0.15], [0.81, 0.2], [-2.62, -0.92], [-0.37, 0.02], [0.0, 0.37], [1.09, 1.89], [-1.62, -0.46], [-0.67, 0.18], [-0.29, 1.22], [1.66, 0.69], [-2.26, 0.91], [-0.86, 0.2], [0.23, 1.01], [0.14, 0.16], [-0.98, -0.06], [-0.39, -0.37], [0.76, 0.88]]\n",
            "number of points after choosing centroids:  99900\n",
            "centroid0:  [0.2145900321543405, -1.5583279742765257]\n",
            "number of points in each cluster0:  1244\n",
            "centroid1:  [-2.112660443407232, 0.5287514585764291]\n",
            "number of points in each cluster1:  857\n",
            "centroid2:  [-2.680073349633253, -0.347114914425428]\n",
            "number of points in each cluster2:  818\n",
            "centroid3:  [-1.4614968152866223, 1.3803715498938414]\n",
            "number of points in each cluster3:  942\n",
            "centroid4:  [0.004344422700587091, 0.15151663405088045]\n",
            "number of points in each cluster4:  1022\n",
            "centroid5:  [-0.2484162436548219, 2.686365482233504]\n",
            "number of points in each cluster5:  985\n",
            "centroid6:  [-0.9811919698870787, -0.3467001254705144]\n",
            "number of points in each cluster6:  797\n",
            "centroid7:  [-1.0251039861351805, -1.1627469670710586]\n",
            "number of points in each cluster7:  1154\n",
            "centroid8:  [-0.05751004016064264, -0.6680923694779116]\n",
            "number of points in each cluster8:  996\n",
            "centroid9:  [1.919944690265492, 0.3048119469026552]\n",
            "number of points in each cluster9:  904\n",
            "centroid10:  [2.503271604938269, -0.35623456790123453]\n",
            "number of points in each cluster10:  972\n",
            "centroid11:  [-0.19264029438822453, 0.31423183072677074]\n",
            "number of points in each cluster11:  1087\n",
            "centroid12:  [-0.32931979695431446, 0.60043654822335]\n",
            "number of points in each cluster12:  985\n",
            "centroid13:  [0.012454545454545461, -0.3853818181818177]\n",
            "number of points in each cluster13:  1100\n",
            "centroid14:  [0.1389910714285713, -0.19942857142857093]\n",
            "number of points in each cluster14:  1120\n",
            "centroid15:  [-0.5366221142162808, 1.50831105710814]\n",
            "number of points in each cluster15:  823\n",
            "centroid16:  [-1.1849999999999978, 0.6226846590909086]\n",
            "number of points in each cluster16:  704\n",
            "centroid17:  [-0.10498027613412211, 0.05366863905325444]\n",
            "number of points in each cluster17:  1014\n",
            "centroid18:  [0.40988326848249035, 1.8812970168612162]\n",
            "number of points in each cluster18:  771\n",
            "centroid19:  [0.3352702702702702, 0.04184362934362941]\n",
            "number of points in each cluster19:  1036\n",
            "centroid20:  [0.13659147869674163, 0.004369256474519629]\n",
            "number of points in each cluster20:  1197\n",
            "centroid21:  [-1.362688821752267, -0.5220342396777448]\n",
            "number of points in each cluster21:  993\n",
            "centroid22:  [-2.383846153846154, 1.3387837837837833]\n",
            "number of points in each cluster22:  962\n",
            "centroid23:  [0.40784206411258767, -0.25809225957779547]\n",
            "number of points in each cluster23:  1279\n",
            "centroid24:  [0.01265524625267667, 0.7722912205567452]\n",
            "number of points in each cluster24:  934\n",
            "centroid25:  [0.3832321699544763, -0.6252124430956003]\n",
            "number of points in each cluster25:  1318\n",
            "centroid26:  [1.545092592592593, 1.4076543209876555]\n",
            "number of points in each cluster26:  972\n",
            "centroid27:  [-1.3790376984126975, -1.579523809523809]\n",
            "number of points in each cluster27:  1008\n",
            "centroid28:  [1.9311717171717202, -1.6349629629629634]\n",
            "number of points in each cluster28:  1485\n",
            "centroid29:  [0.8185935397039042, -0.40844549125168256]\n",
            "number of points in each cluster29:  1486\n",
            "centroid30:  [0.7958693467336686, 0.566512562814071]\n",
            "number of points in each cluster30:  995\n",
            "centroid31:  [1.3980197044334968, -0.5758916256157641]\n",
            "number of points in each cluster31:  1015\n",
            "centroid32:  [-2.1502458100558663, -0.1631731843575417]\n",
            "number of points in each cluster32:  895\n",
            "centroid33:  [1.1944790928419553, -1.069270021261517]\n",
            "number of points in each cluster33:  1411\n",
            "centroid34:  [0.8559344262295099, 1.3928415300546455]\n",
            "number of points in each cluster34:  915\n",
            "centroid35:  [1.345433300876339, 0.44172346640701066]\n",
            "number of points in each cluster35:  1027\n",
            "centroid36:  [-0.49920430107526814, -2.5999641577060957]\n",
            "number of points in each cluster36:  1395\n",
            "centroid37:  [-1.7687009590235432, 1.9840191804707958]\n",
            "number of points in each cluster37:  1147\n",
            "centroid38:  [-1.0505096660808424, 2.4108787346221474]\n",
            "number of points in each cluster38:  1138\n",
            "centroid39:  [-0.4333197139938716, 0.9826046986721146]\n",
            "number of points in each cluster39:  979\n",
            "centroid40:  [0.004617325483599663, -0.0021951219512195094]\n",
            "number of points in each cluster40:  2378\n",
            "centroid41:  [-0.24590594744121685, 0.08485477178423241]\n",
            "number of points in each cluster41:  723\n",
            "centroid42:  [-0.8875987361769349, 0.031658767772511816]\n",
            "number of points in each cluster42:  633\n",
            "centroid43:  [0.614, 0.08724423963133639]\n",
            "number of points in each cluster43:  1085\n",
            "centroid44:  [-0.41711340206185593, -0.755113402061856]\n",
            "number of points in each cluster44:  970\n",
            "centroid45:  [0.527799401197604, -2.590815868263476]\n",
            "number of points in each cluster45:  1336\n",
            "centroid46:  [-0.7514114832535895, 0.6836961722488032]\n",
            "number of points in each cluster46:  836\n",
            "centroid47:  [0.6160249415432585, -1.0583943881527678]\n",
            "number of points in each cluster47:  1283\n",
            "centroid48:  [-0.8420421052631586, -0.7615157894736848]\n",
            "number of points in each cluster48:  950\n",
            "centroid49:  [-1.5281672394043524, 0.7560022909507437]\n",
            "number of points in each cluster49:  873\n",
            "centroid50:  [0.761657334826428, 2.648421052631581]\n",
            "number of points in each cluster50:  893\n",
            "centroid51:  [-0.9400499500499505, 1.1352047952047954]\n",
            "number of points in each cluster51:  1001\n",
            "centroid52:  [-0.31421288014311266, 2.049803220035778]\n",
            "number of points in each cluster52:  1118\n",
            "centroid53:  [2.4635517568850913, 0.7925451092117762]\n",
            "number of points in each cluster53:  1053\n",
            "centroid54:  [1.871671361502348, -0.8556901408450707]\n",
            "number of points in each cluster54:  1065\n",
            "centroid55:  [-2.1156325301204797, -1.6885943775100407]\n",
            "number of points in each cluster55:  996\n",
            "centroid56:  [1.3703988397389422, -2.219702683103697]\n",
            "number of points in each cluster56:  1379\n",
            "centroid57:  [1.219522918615529, -0.12887745556594954]\n",
            "number of points in each cluster57:  1069\n",
            "centroid58:  [2.482689075630251, -1.0223214285714282]\n",
            "number of points in each cluster58:  952\n",
            "centroid59:  [1.7993267108167752, -0.166633554083885]\n",
            "number of points in each cluster59:  906\n",
            "centroid60:  [0.37795056642636443, 0.3549742533470648]\n",
            "number of points in each cluster60:  971\n",
            "centroid61:  [0.10455818022747158, -2.1066754155730556]\n",
            "number of points in each cluster61:  1143\n",
            "centroid62:  [0.2420519159456122, 1.5113349814585906]\n",
            "number of points in each cluster62:  809\n",
            "centroid63:  [-0.681735537190082, -0.14535537190082637]\n",
            "number of points in each cluster63:  605\n",
            "centroid64:  [2.675513784461154, 0.1921177944862156]\n",
            "number of points in each cluster64:  798\n",
            "centroid65:  [1.1606355511420046, 0.9489175769612712]\n",
            "number of points in each cluster65:  1007\n",
            "centroid66:  [-0.4394660194174757, -0.15119741100323628]\n",
            "number of points in each cluster66:  618\n",
            "centroid67:  [-1.8290271493212655, -1.1180090497737551]\n",
            "number of points in each cluster67:  884\n",
            "centroid68:  [-0.51606106870229, 0.19403053435114484]\n",
            "number of points in each cluster68:  655\n",
            "centroid69:  [-0.2976744186046511, -0.38861627906976715]\n",
            "number of points in each cluster69:  860\n",
            "centroid70:  [0.10521000893655043, -1.043610366398571]\n",
            "number of points in each cluster70:  1119\n",
            "centroid71:  [1.5637898686679172, 2.186332082551594]\n",
            "number of points in each cluster71:  1066\n",
            "centroid72:  [-0.36933388157894703, -1.2149095394736835]\n",
            "number of points in each cluster72:  1216\n",
            "centroid73:  [0.4086108048511579, 0.6625578831312006]\n",
            "number of points in each cluster73:  907\n",
            "centroid74:  [0.9088756983240235, -1.6985474860335181]\n",
            "number of points in each cluster74:  1432\n",
            "centroid75:  [-2.665130151843817, 0.42277657266811314]\n",
            "number of points in each cluster75:  922\n",
            "centroid76:  [-1.3786164488854737, -2.256902382782476]\n",
            "number of points in each cluster76:  1301\n",
            "centroid77:  [0.3781428571428569, 2.3343246753246794]\n",
            "number of points in each cluster77:  770\n",
            "centroid78:  [-1.695129411764704, 0.1186117647058823]\n",
            "number of points in each cluster78:  850\n",
            "centroid79:  [-1.0052440290758047, 1.7751713395638615]\n",
            "number of points in each cluster79:  963\n",
            "centroid80:  [-0.0421896551724138, -0.12526724137931042]\n",
            "number of points in each cluster80:  1160\n",
            "centroid81:  [-0.6217069892473117, -1.7884274193548388]\n",
            "number of points in each cluster81:  1488\n",
            "centroid82:  [2.1821435228331785, 1.5472693383038219]\n",
            "number of points in each cluster82:  1073\n",
            "centroid83:  [-0.20659217877094938, -0.1461899441340781]\n",
            "number of points in each cluster83:  895\n",
            "centroid84:  [0.9424258474576277, 0.16381355932203379]\n",
            "number of points in each cluster84:  944\n",
            "centroid85:  [-2.4708533916849023, -0.9544748358862158]\n",
            "number of points in each cluster85:  914\n",
            "centroid86:  [-0.39649425287356305, 0.0615134099616858]\n",
            "number of points in each cluster86:  522\n",
            "centroid87:  [0.03978439425051336, 0.47284394250513323]\n",
            "number of points in each cluster87:  974\n",
            "centroid88:  [1.0451734693877557, 1.9087857142857165]\n",
            "number of points in each cluster88:  980\n",
            "centroid89:  [-1.7746575342465758, -0.6450114155251141]\n",
            "number of points in each cluster89:  876\n",
            "centroid90:  [-0.6482909604519763, 0.3721751412429381]\n",
            "number of points in each cluster90:  708\n",
            "centroid91:  [-0.16100381194409152, 1.343621346886913]\n",
            "number of points in each cluster91:  787\n",
            "centroid92:  [1.8191067761806958, 0.8823203285420957]\n",
            "number of points in each cluster92:  974\n",
            "centroid93:  [-1.951078561917444, 1.0940079893475372]\n",
            "number of points in each cluster93:  751\n",
            "centroid94:  [-1.0039024390243907, 0.3116097560975612]\n",
            "number of points in each cluster94:  615\n",
            "centroid95:  [0.18225536992840072, 1.0671718377088295]\n",
            "number of points in each cluster95:  838\n",
            "centroid96:  [0.14483412322274883, 0.2453791469194313]\n",
            "number of points in each cluster96:  844\n",
            "centroid97:  [-1.3022969543147214, 0.04748730964467008]\n",
            "number of points in each cluster97:  788\n",
            "centroid98:  [-0.5996792189679212, -0.4358158995815897]\n",
            "number of points in each cluster98:  717\n",
            "centroid99:  [0.6076342857142859, 1.014034285714285]\n",
            "number of points in each cluster99:  875\n",
            "Iteration Time : 84.98595905303955\n"
          ]
        }
      ],
      "source": [
        "K_means(100, 100000)"
      ]
    },
    {
      "cell_type": "markdown",
      "metadata": {
        "id": "471KSXscKucO"
      },
      "source": [
        "### Question 5. The above k-Means misses the termination step. As soon as all the points belong to a cluster and the centroids have been calculated, we can run a 2nd iteration to create better clusters using as initial centroids the final centroids of the 1st iteration. We can continue for as many iterations we want until a termination condition will be true (eg. the Euclidean distance of the centroids from the previous iteration to the centroids of the last iteration is less than a threshold). Write a k-Means algorithm including also the iteration step described above. (2/10)\n",
        "* In following function parameter of iteration is added to the previous function. Therefore, after getting centroid and updating after assigning each new point to a cluster (get average of points in each cluster as centroid)  it keeps iteration. In new iteration the initial centroids are the final centroids of previous iteration. It will continue until the end of number of iterations(defined by user).    In this way, the centroids keep updating and adjusting. So, the final centroids will be determined more resonably. Hence, clusters would be defined more precisely and more discreted."
      ]
    },
    {
      "cell_type": "code",
      "execution_count": null,
      "metadata": {
        "colab": {
          "base_uri": "https://localhost:8080/",
          "height": 1000
        },
        "id": "3qF6yDo6KucP",
        "outputId": "9be56ab8-ac3a-443e-f078-9835a1428ade"
      },
      "outputs": [
        {
          "output_type": "stream",
          "name": "stdout",
          "text": [
            "first centroids: [[-0.17, -2.02], [-0.1, 0.66], [-0.96, -1.32], [0.01, -0.02]]\n",
            "final Centroids:  [[0.908, -1.6900000000000002], [-0.18999999999999997, 1.4566666666666666], [-2.84, -0.6600000000000001], [0.2314285714285714, 0.02857142857142857]]\n",
            "Time : 0.11067032814025879\n"
          ]
        },
        {
          "output_type": "display_data",
          "data": {
            "text/plain": [
              "<Figure size 432x288 with 1 Axes>"
            ],
            "image/png": "[encoded data removed]"
          },
          "metadata": {
            "needs_background": "light"
          }
        },
        {
          "output_type": "display_data",
          "data": {
            "text/plain": [
              "<Figure size 432x288 with 1 Axes>"
            ],
            "image/png": "[encoded data removed]"
          },
          "metadata": {
            "needs_background": "light"
          }
        },
        {
          "output_type": "display_data",
          "data": {
            "text/plain": [
              "<Figure size 432x288 with 1 Axes>"
            ],
            "image/png": "[encoded data removed]"
          },
          "metadata": {
            "needs_background": "light"
          }
        },
        {
          "output_type": "display_data",
          "data": {
            "text/plain": [
              "<Figure size 432x288 with 1 Axes>"
            ],
            "image/png": "[encoded data removed]"
          },
          "metadata": {
            "needs_background": "light"
          }
        }
      ],
      "source": [
        "def K_means(K,m,iterations):\n",
        "    \n",
        "    random.seed(42)\n",
        "    points=rand_cluster(m,[0,0],3) # create m points stored in list points\n",
        "    if K<0:\n",
        "        K=int(-K)\n",
        "    elif K==0:\n",
        "        print('K is zero and it has to be an integer')\n",
        "        pass     \n",
        "    else:\n",
        "        K=int(K)\n",
        "    \n",
        "    # 1- initilizing\n",
        "    clusters=[]\n",
        "    \n",
        "    centroids = random.sample(points , k=K) # randomly choose from the points k points as the initial centroids of the clusters\n",
        "    print(\"first centroids: \" + str(centroids))\n",
        "        \n",
        "    for centroid in centroids:\n",
        "        points.remove(centroid)\n",
        "    #print(\"number of points after choosing centroids: \", len(points))\n",
        "    \n",
        "    for k in range(K):  # make a list for each cluster\n",
        "        clusters.append([])\n",
        "   \n",
        "   \n",
        "    # 2- Iterative Step \n",
        "    st = time.time() # start time for iteration\n",
        "     ## make iterations with centroids from the prevoius iteration\n",
        "    for iteration in range(iterations): # this lop will be terminated when the \n",
        "    \n",
        "        for cluster in clusters:\n",
        "            cluster.clear()\n",
        "            cluster_idx=clusters.index(cluster)\n",
        "            cluster.append(centroids[cluster_idx])\n",
        "        for point in points: #Termination Check: it be terminated when distance calculation of all points in points list finish. \n",
        "            distances=[]\n",
        "            for centroid in centroids:\n",
        "                d=distance.euclidean(point, centroid)  # compute point distance from the centroid of each cluster\n",
        "                distances.append(d)\n",
        "                \n",
        "            idx_min_d=distances.index(sorted(distances)[0]) # finding the index of cluster that the point belongs to\n",
        "            clusters[idx_min_d].append(point)\n",
        "            \n",
        "            centroids[idx_min_d] = list(np.average(clusters[idx_min_d], axis=0)) # updating the centroid of cluster which has just been updated\n",
        "            #print('centroids', centroids)\n",
        "               \n",
        "    et = time.time() #  end of iteration time \n",
        "    time1 = et - st # time calculation for iteration\n",
        "    \n",
        "    #for k in range(K):\n",
        "        #print(\"cluster{}: \".format(k) , clusters[k])\n",
        "        #print(\"centroid{}: \".format(k) , centroids[k])\n",
        "        #print(\"number of points in cluster{}: \".format(k) , str(len(clusters[k])))\n",
        "    print('final Centroids: ', centroids)\n",
        "    print('Time :', time1)\n",
        "    \n",
        "    ## visulizing clusters\n",
        "    color=['red','blue','black','yellow']\n",
        "    for k in range(K):\n",
        "        data=np.array(clusters[k])\n",
        "        x, y = data.T\n",
        "        plt.xlim(-5,5)\n",
        "        plt.ylim(-5,5)\n",
        "        plt.scatter(x,y,edgecolors=color[k])\n",
        "        plt.show()\n",
        "\n",
        "       \n",
        "K_means(4,20,100)\n",
        "    "
      ]
    },
    {
      "cell_type": "code",
      "execution_count": null,
      "metadata": {
        "id": "BbyZbk6SKucP"
      },
      "outputs": [],
      "source": [
        ""
      ]
    },
    {
      "cell_type": "markdown",
      "metadata": {
        "id": "dZD8ZickKucP"
      },
      "source": [
        "## Assignment 02\n",
        "\n",
        "0. modify it accordingly (not mandatory)\n",
        "1. Create a flowchart of Dijkstra's algorithm (not mandatory)\n",
        "2. Write down Dijkstra's algorithm (+ pseudocode) and implement it \n",
        "3. Apply it to the above G1 and G2 graphs (Input: a graph G, the Origin node and the Destination node; Output: the shortest path from Dijkstra's algorithm (similar to the ouput of nx.ijkstra_path)"
      ]
    },
    {
      "cell_type": "markdown",
      "metadata": {
        "id": "WiAaC_D4KucP"
      },
      "source": [
        "## Dijkstra's Algorithm"
      ]
    },
    {
      "cell_type": "markdown",
      "metadata": {
        "id": "dzdKTrvsKucQ"
      },
      "source": [
        "## Question 2. Write down Dijkstra's algorithm (+ pseudocode) and implement it "
      ]
    },
    {
      "cell_type": "markdown",
      "metadata": {
        "id": "4vy2jsR5KucQ"
      },
      "source": [
        "### In Dijkstra's algorithm the followings are considering:\n",
        "1. The motivation for Dijkstra's algorithm is finding the shortest path between two points.\n",
        "2. The cost for a path that connects two nodes is calculated by adding weights of edges in that path\n",
        "3. The shortest path is the path with minimum cost\n",
        "\n",
        "* Input: A list of nodes , a list of edges ,a list of weights (coresponding to each edge), origin(starter node), destination(end node)\n",
        "* output: shortest path from origin to destination, cost of path\n",
        "\n",
        "#### Considering the above Input the bellow steps are followed to get the output:\n",
        "Step1: Define a function to return a matrix represented all nodes and weights coresponding to each edge. \\\n",
        "Step2: Define a function to convert the matrix in previous step to a dictionary. It is worth mentioning that this step could be skipped but it was easer to deal with a dictionary instead of a matrix. \\\n",
        " Step3: Define a function to return the dictionary of visited points. this is the main part. \\\n",
        "Step4: Define a function to display the shortest path beween origin and destination as well as its cost. \n",
        "\n",
        "These four steps will be iluustrated in following cells."
      ]
    },
    {
      "cell_type": "markdown",
      "metadata": {
        "id": "r5HbBqzAKucQ"
      },
      "source": [
        "### Step 1: Define a function to return a matrix represented all nodes and weights coresponding to each edge\n"
      ]
    },
    {
      "cell_type": "code",
      "execution_count": null,
      "metadata": {
        "id": "T-xScc2uKucQ"
      },
      "outputs": [],
      "source": [
        "def matrix_of_graph(nodes,edges,weight):\n",
        "    '''\n",
        "    define a matix for graph. all parameters should be a list \n",
        "    '''\n",
        "    array=np.zeros((len(nodes),len(nodes))) # define a zero array whith the shape that in both dimention is equal to number of nodes\n",
        "                        \n",
        "    for edge in edges: #  replace zores in the array where there are edges\n",
        "        array[nodes.index(edge[0]),nodes.index(edge[1])]=weight[edges.index(edge)]\n",
        "    array = array + array.transpose()\n",
        "    return array"
      ]
    },
    {
      "cell_type": "markdown",
      "metadata": {
        "id": "qVByfu9hKucQ"
      },
      "source": [
        "### Step 2: Define a function to convert the matrix in previous step to a dictionary.\n"
      ]
    },
    {
      "cell_type": "code",
      "execution_count": null,
      "metadata": {
        "id": "I-bpynB-KucQ"
      },
      "outputs": [],
      "source": [
        "array=matrix_of_graph(nodes,edges,weight)\n",
        "\n",
        "def dictionary_of_graph(array, nodes):\n",
        "    '''\n",
        "    define a dictionary for graph. Parameters are array from previous step and list of nodes.  \n",
        "    '''\n",
        "    d={} # define a dictionary \n",
        "    for node in nodes:\n",
        "        d[node]={}\n",
        "        \n",
        "    for node in nodes: ## fill dictionary with edges and corresponding nodes\n",
        "        for n in nodes:\n",
        "            if array[nodes.index(node),nodes.index(n)]!=0:\n",
        "                d[node][n]={}\n",
        "                d[node][n]['w']=array[nodes.index(node),nodes.index(n)]\n",
        "    return d"
      ]
    },
    {
      "cell_type": "markdown",
      "metadata": {
        "id": "H-Tr8Uk4KucQ"
      },
      "source": [
        "### Step3: Define a function to return the dictionary of visited points. this is the main part. \n",
        "#### Inputs: graph dictionary from previous step, origin node\n",
        "#### Output: dictionary of visited point. The keys of this dictionary is nodes and it's values is a list of its cost and previous neighbour.\n",
        "1. Initializing:\n",
        "* Creating visiting dictionary for nodes that their cost is updated\n",
        "* Creating unvisited dictionary for all nodes  \n",
        "* Set a large value as cost for all of the nodes except origin node which assign to zero. the reason for a very large cost is to ilustrating that it is not visited yet.\n",
        "* set the previous node for all nodes as None \n",
        "2. Main part:\n",
        "* Pick the point which has the lowest cost. For first time it is origin ,since its cost is zero. It becomes the Current State Node(CSP).\n",
        "* Examine nodes in neighbourhood of CSP ,those which are not in visited dictionary.\n",
        "* Calculating new cost for neighbour. update the cost if it is smaller than the previous one. cost of each node is equal to the cost of previous node plus weight of the edge conecting these two nodes. \n",
        "* Update the prvious node of the node that it's cost updated in previous step. \n",
        "* when all neighbours of a node examined, that node could be removed from the unvisited dictionary and adding to visited dictionary with its cost and previous node.\n",
        "* All steps in Main part repeated until the length of dictionary of unvisited point become zero.\n",
        "3. return visited dictionary \n",
        "4. Termination condition is when the unvisited dictionary is zero. it means all of them are visited. "
      ]
    },
    {
      "cell_type": "markdown",
      "metadata": {
        "id": "SAWS_7tvKucR"
      },
      "source": [
        "### Pseudocode "
      ]
    },
    {
      "cell_type": "markdown",
      "metadata": {
        "id": "RguL6zfTKucR"
      },
      "source": [
        "    input:graph dictionary from previous step, origin node \n",
        "    Output: dictionary of visited point; The keys of this dictionary is nodes and it's values is a list of its cost and previous neighbour.\n",
        "### Initializing \n",
        "    set the visited Dictionary \n",
        "    set the unvisited Dictionary \n",
        "    For each node in graph: \n",
        "         Add node to the unvisited Dictionary with distance of alarge number and previous node of None \n",
        "    Set the origin node's distance to 0 in the unvisited Dictionary\n",
        "### main part\n",
        "    While the unvisited Dictionary is not empty:# Termination condition\n",
        "        Set current node to the node with the lowest cost from the unvisited Dictionary\n",
        "        Copy cost and previous values for current node from the unvisited Dictionary to the visited Dictionary\n",
        "        Remove the current node from the unvisited Dictionary\n",
        "        \n",
        "        For each neighbour of current node:\n",
        "            If neighbour is not in the visited Dictionary\n",
        "                Calculate new cost = weight of edge + cost of current node\n",
        "                If new cost is less than neighbour's cost in unvisited Dictionary\n",
        "                    Update the neighbour's cost to become the new cost\n",
        "                    Update the neighbour's previous node to become the current node\n",
        "\n",
        "    Return the visited dictionary"
      ]
    },
    {
      "cell_type": "markdown",
      "metadata": {
        "id": "w_8YQBlfKucR"
      },
      "source": [
        "### Implementation"
      ]
    },
    {
      "cell_type": "code",
      "execution_count": null,
      "metadata": {
        "id": "dPuSO28OKucR"
      },
      "outputs": [],
      "source": [
        "graph=dictionary_of_graph(array, nodes)\n",
        "\n",
        "def dijkstra_shortest_path(graph,start_node):\n",
        "    # 1-Initializing\n",
        "    unvisited={}\n",
        "    visited={}\n",
        "    for key in graph: # set the cost of all nodes equal to a large number and its previous node equal to None\n",
        "        if key==start_node:\n",
        "            unvisited[key]=[0, None]\n",
        "        else:\n",
        "            unvisited[key]=[1000, None]\n",
        "            \n",
        "    while True:\n",
        "        if len(unvisited) !=0: # Termination condition \n",
        "            current_min_value=min([unvisited[key][0] for key in unvisited]) # finding minimum value in unvisited dictionary\n",
        "            CSP=[key for key in unvisited if unvisited[key][0]==current_min_value][0] # this zero is for taking out the value from the list \n",
        "            neighbours=set(graph[CSP]) # finding neighbours \n",
        "            for neighbour in neighbours:\n",
        "                if neighbour not in visited:\n",
        "                    cost= unvisited[CSP][0]+ graph[CSP][neighbour]['w'] # neighbour cost\n",
        "                    if cost<unvisited[neighbour][0]:\n",
        "                        unvisited[neighbour][0]=cost # replace the cost of neighbour with new cost if new one is smaller\n",
        "                        unvisited[neighbour][1]=CSP\n",
        "            visited[CSP]=unvisited[CSP] # add the current state point to visited dictionary\n",
        "            unvisited.pop(CSP) # remove the currrent state point from unvisited dictionary\n",
        "        else:\n",
        "            break\n",
        "    return visited "
      ]
    },
    {
      "cell_type": "markdown",
      "metadata": {
        "id": "KvjoeEkNKucR"
      },
      "source": [
        "### Step4: Define a function to display the shortest path beween origin and destination as well as its cost."
      ]
    },
    {
      "cell_type": "markdown",
      "metadata": {
        "id": "mt_3AtLyKucR"
      },
      "source": [
        "### Pseudocode "
      ]
    },
    {
      "cell_type": "markdown",
      "metadata": {
        "id": "06JKucZMKucR"
      },
      "source": [
        "Input: origin node, visited dictionary from previous function, destination node \\\n",
        "Output: Path from origin node to destination node\n",
        "        \n",
        "    for each key in visited\n",
        "        if key is not origin   \n",
        "            current = key        \n",
        "            path = current\n",
        "            while current is not origin # Termination condition \n",
        "                previous = visited[current][PREVIOUS]  \n",
        "                path = previous + path                        \n",
        "                current = visited[current][PREVIOUS]  \n",
        "            if key is destination \n",
        "                print(\"Path from origin to destination)\n",
        "                print(cost)\n",
        "                \n",
        "        \n"
      ]
    },
    {
      "cell_type": "markdown",
      "metadata": {
        "id": "9O7aiF3GKucS"
      },
      "source": [
        "### Implementation"
      ]
    },
    {
      "cell_type": "code",
      "execution_count": null,
      "metadata": {
        "id": "HACKMpErKucS"
      },
      "outputs": [],
      "source": [
        "visited=dijkstra_shortest_path(graph,'A')\n",
        "def display_shortest_paths(start_node,visited,destination):\n",
        "    \n",
        "    for key in visited:\n",
        "        if key!= start_node:\n",
        "            current=key\n",
        "            path=current\n",
        "            while current!=start_node:\n",
        "                previous=visited[current][1] # Get value of previous node\n",
        "                path=previous+path # Add value to path \n",
        "                current=visited[current][1]\n",
        "            if key==destination:\n",
        "                print(\"path for: \" + key) \n",
        "                print(path)\n",
        "                print(\"cost: \" ,visited[key][0])\n",
        "            \n",
        "\n"
      ]
    },
    {
      "cell_type": "markdown",
      "metadata": {
        "id": "qdp0t3TtKucS"
      },
      "source": [
        "## Question 3. Apply it to G1 and G2 graphs (Input: a graph G, the Origin node and the Destination node; Output: the shortest path from Dijkstra's algorithm (similar to the ouput of nx.ijkstra_path)"
      ]
    },
    {
      "cell_type": "code",
      "execution_count": null,
      "metadata": {
        "id": "j4KR7zc9KucS",
        "outputId": "b2dfc6fd-7996-4e46-901d-7db82b030bde"
      },
      "outputs": [
        {
          "name": "stdout",
          "output_type": "stream",
          "text": [
            "path for: D\n",
            "ABD\n",
            "cost:  5.0\n"
          ]
        }
      ],
      "source": [
        "# G1\n",
        "nodes_G1=['A', 'B','C', 'D']\n",
        "edges_G1=[('A', 'B'), ('A', 'C'), ('B', 'C'), ('B', 'D'), ]\n",
        "weights_G1=[2,2,5,3]\n",
        "\n",
        "array_G1=matrix_of_graph(nodes_G1,edges_G1,weights_G1)\n",
        "graph_G1=dictionary_of_graph(array_G1, nodes_G1)\n",
        "visited_G1=dijkstra_shortest_path(graph_G1,'A')\n",
        "display_shortest_paths('A',visited_G1,'D')"
      ]
    },
    {
      "cell_type": "code",
      "execution_count": null,
      "metadata": {
        "id": "VK6fEXqBKucS",
        "outputId": "6ca29c70-dc6b-41bb-9cd4-3bba5021b5c9"
      },
      "outputs": [
        {
          "name": "stdout",
          "output_type": "stream",
          "text": [
            "path for: D\n",
            "ACD\n",
            "cost:  3.0\n"
          ]
        }
      ],
      "source": [
        "# G2\n",
        "nodes_G2=['A', 'B','C', 'D']\n",
        "edges_G2=[('A', 'B'), ('A', 'C'), ('B', 'C'), ('B', 'D'),('C','D')]\n",
        "weight_G2=[2,2,5,3,1]\n",
        "\n",
        "array_G2 = matrix_of_graph(nodes_G2,edges_G2,weight_G2)\n",
        "graph_G2 = dictionary_of_graph(array_G2, nodes_G2)\n",
        "visited_G2 = dijkstra_shortest_path(graph_G2,'A')\n",
        "display_shortest_paths('A',visited_G2,'D')"
      ]
    },
    {
      "cell_type": "code",
      "execution_count": null,
      "metadata": {
        "id": "X6iAgTn2KucS"
      },
      "outputs": [],
      "source": [
        ""
      ]
    }
  ],
  "metadata": {
    "kernelspec": {
      "display_name": "Python 3 (ipykernel)",
      "language": "python",
      "name": "python3"
    },
    "language_info": {
      "codemirror_mode": {
        "name": "ipython",
        "version": 3
      },
      "file_extension": ".py",
      "mimetype": "text/x-python",
      "name": "python",
      "nbconvert_exporter": "python",
      "pygments_lexer": "ipython3",
      "version": "3.9.7"
    },
    "colab": {
      "name": "2087665_Kheiry_Sohooli_Notebook.ipynb",
      "provenance": [],
      "collapsed_sections": []
    }
  },
  "nbformat": 4,
  "nbformat_minor": 0
}